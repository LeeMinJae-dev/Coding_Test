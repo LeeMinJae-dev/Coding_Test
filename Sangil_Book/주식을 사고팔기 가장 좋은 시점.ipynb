{
 "cells": [
  {
   "cell_type": "code",
   "execution_count": 89,
   "id": "e3df2abb",
   "metadata": {},
   "outputs": [],
   "source": [
    "prices = [8,7,1,5,3,6,7,4]"
   ]
  },
  {
   "cell_type": "code",
   "execution_count": 90,
   "id": "85d1c9a3",
   "metadata": {},
   "outputs": [],
   "source": [
    "def maxProfit(prices: [int]) -> int:\n",
    "    profit = 0\n",
    "    min_price = sys.maxsize\n",
    "    \n",
    "    for price in prices:\n",
    "        min_price = min(min_price, price)\n",
    "        profit = max(profit, price - min_price)\n",
    "    return profit   "
   ]
  },
  {
   "cell_type": "code",
   "execution_count": 91,
   "id": "2bc8d0cd",
   "metadata": {
    "scrolled": true
   },
   "outputs": [
    {
     "name": "stdout",
     "output_type": "stream",
     "text": [
      "8\n",
      "7\n",
      "1\n",
      "5\n",
      "3\n",
      "6\n",
      "7\n",
      "4\n"
     ]
    },
    {
     "data": {
      "text/plain": [
       "6"
      ]
     },
     "execution_count": 91,
     "metadata": {},
     "output_type": "execute_result"
    }
   ],
   "source": [
    "maxProfit(prices)"
   ]
  },
  {
   "cell_type": "code",
   "execution_count": 65,
   "id": "937e5967",
   "metadata": {},
   "outputs": [],
   "source": [
    "price1 = [7,6,4,3,1]"
   ]
  },
  {
   "cell_type": "code",
   "execution_count": null,
   "id": "085614b6",
   "metadata": {},
   "outputs": [],
   "source": []
  }
 ],
 "metadata": {
  "kernelspec": {
   "display_name": "Python 3",
   "language": "python",
   "name": "python3"
  },
  "language_info": {
   "codemirror_mode": {
    "name": "ipython",
    "version": 3
   },
   "file_extension": ".py",
   "mimetype": "text/x-python",
   "name": "python",
   "nbconvert_exporter": "python",
   "pygments_lexer": "ipython3",
   "version": "3.8.8"
  }
 },
 "nbformat": 4,
 "nbformat_minor": 5
}
