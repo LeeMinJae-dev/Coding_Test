{
 "cells": [
  {
   "cell_type": "code",
   "execution_count": 1,
   "id": "cb16f0a2",
   "metadata": {},
   "outputs": [],
   "source": [
    "height = [[7,0],[4,4],[7,1],[5,0],[6,1],[5,2]]"
   ]
  },
  {
   "cell_type": "code",
   "execution_count": 48,
   "id": "0f5691e9",
   "metadata": {},
   "outputs": [],
   "source": [
    "import heapq\n",
    "def reconstruct_line(height : [[int]])-> [[int]]:\n",
    "    heap = []\n",
    "    for person in height:\n",
    "        heapq.heappush(heap, (-person[0],person[1]))\n",
    "        \n",
    "    result = []\n",
    "    \n",
    "    while heap:\n",
    "        person = heapq.heappop(heap)\n",
    "        result.insert(person[1], [-person[0], person[1]])\n",
    "    \n",
    "    return result"
   ]
  },
  {
   "cell_type": "code",
   "execution_count": 49,
   "id": "b9f4e62e",
   "metadata": {},
   "outputs": [
    {
     "data": {
      "text/plain": [
       "[[5, 0], [7, 0], [5, 2], [6, 1], [4, 4], [7, 1]]"
      ]
     },
     "execution_count": 49,
     "metadata": {},
     "output_type": "execute_result"
    }
   ],
   "source": [
    "reconstruct_line(height)"
   ]
  },
  {
   "cell_type": "code",
   "execution_count": 45,
   "id": "31a0d5ed",
   "metadata": {},
   "outputs": [],
   "source": [
    "heap = []"
   ]
  },
  {
   "cell_type": "code",
   "execution_count": 26,
   "id": "01f89c58",
   "metadata": {},
   "outputs": [],
   "source": [
    "heapq.heappush(heap,[-5,2])"
   ]
  },
  {
   "cell_type": "code",
   "execution_count": 27,
   "id": "74747188",
   "metadata": {},
   "outputs": [
    {
     "data": {
      "text/plain": [
       "[[-7, 0], [-6, 1], [-7, 1], [-4, 4], [-5, 0], [-5, 2]]"
      ]
     },
     "execution_count": 27,
     "metadata": {},
     "output_type": "execute_result"
    }
   ],
   "source": [
    "heap"
   ]
  },
  {
   "cell_type": "code",
   "execution_count": 28,
   "id": "f7612d80",
   "metadata": {},
   "outputs": [],
   "source": [
    "result = []"
   ]
  },
  {
   "cell_type": "code",
   "execution_count": 41,
   "id": "234724d0",
   "metadata": {},
   "outputs": [],
   "source": [
    "result.insert(1, [7,0])"
   ]
  },
  {
   "cell_type": "code",
   "execution_count": 42,
   "id": "6d6fc037",
   "metadata": {},
   "outputs": [
    {
     "data": {
      "text/plain": [
       "[[5, 0], [7, 0], [6, 1], [7, 1], [4, 4], [5, 2]]"
      ]
     },
     "execution_count": 42,
     "metadata": {},
     "output_type": "execute_result"
    }
   ],
   "source": [
    "result"
   ]
  },
  {
   "cell_type": "code",
   "execution_count": null,
   "id": "bbd4b607",
   "metadata": {},
   "outputs": [],
   "source": []
  }
 ],
 "metadata": {
  "kernelspec": {
   "display_name": "Python 3",
   "language": "python",
   "name": "python3"
  },
  "language_info": {
   "codemirror_mode": {
    "name": "ipython",
    "version": 3
   },
   "file_extension": ".py",
   "mimetype": "text/x-python",
   "name": "python",
   "nbconvert_exporter": "python",
   "pygments_lexer": "ipython3",
   "version": "3.8.8"
  }
 },
 "nbformat": 4,
 "nbformat_minor": 5
}
