{
 "cells": [
  {
   "cell_type": "code",
   "execution_count": 34,
   "id": "f96b7d44",
   "metadata": {},
   "outputs": [],
   "source": [
    "def Assign_Cookies(g : [int], s : [int]) -> int:\n",
    "    g.sort()\n",
    "    s.sort()\n",
    "    \n",
    "    child = cookie = 0\n",
    "    \n",
    "    while child < len(g) and cookie < len(s):\n",
    "        if s[cookie] >= g[child]:\n",
    "            child += 1\n",
    "        cookie += 1\n",
    "       \n",
    "\n",
    "            \n",
    "    return child\n",
    "            \n",
    "    \n",
    "    \n",
    "    \n",
    "    "
   ]
  },
  {
   "cell_type": "code",
   "execution_count": 35,
   "id": "25db2280",
   "metadata": {},
   "outputs": [],
   "source": [
    "g = [10,9,8,7]\n",
    "s = [5,6,7,8]"
   ]
  },
  {
   "cell_type": "code",
   "execution_count": 36,
   "id": "51b782d9",
   "metadata": {},
   "outputs": [
    {
     "data": {
      "text/plain": [
       "2"
      ]
     },
     "execution_count": 36,
     "metadata": {},
     "output_type": "execute_result"
    }
   ],
   "source": [
    "Assign_Cookies(g, s)"
   ]
  },
  {
   "cell_type": "code",
   "execution_count": null,
   "id": "5a79fcc4",
   "metadata": {},
   "outputs": [],
   "source": []
  }
 ],
 "metadata": {
  "kernelspec": {
   "display_name": "Python 3",
   "language": "python",
   "name": "python3"
  },
  "language_info": {
   "codemirror_mode": {
    "name": "ipython",
    "version": 3
   },
   "file_extension": ".py",
   "mimetype": "text/x-python",
   "name": "python",
   "nbconvert_exporter": "python",
   "pygments_lexer": "ipython3",
   "version": "3.8.8"
  }
 },
 "nbformat": 4,
 "nbformat_minor": 5
}
