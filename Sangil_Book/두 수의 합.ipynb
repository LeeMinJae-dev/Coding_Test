{
 "cells": [
  {
   "cell_type": "code",
   "execution_count": 40,
   "id": "e12740d3",
   "metadata": {},
   "outputs": [],
   "source": [
    "nums = [3,2,3]\n",
    "target = 6"
   ]
  },
  {
   "cell_type": "code",
   "execution_count": 45,
   "id": "c7275843",
   "metadata": {},
   "outputs": [],
   "source": [
    "def solution(nums:[int], target:int)-> [int]:\n",
    "    dic = {}\n",
    "    for i, num in enumerate(nums):\n",
    "        \n",
    "        if target - num in dic:\n",
    "            return [i, dic[target - num]]\n",
    "            print(dic)\n",
    "        dic[num] = i\n",
    "        \n",
    "        \n",
    "        "
   ]
  },
  {
   "cell_type": "code",
   "execution_count": 46,
   "id": "e78e6d07",
   "metadata": {},
   "outputs": [
    {
     "data": {
      "text/plain": [
       "[2, 0]"
      ]
     },
     "execution_count": 46,
     "metadata": {},
     "output_type": "execute_result"
    }
   ],
   "source": [
    "solution(nums, target)"
   ]
  },
  {
   "cell_type": "code",
   "execution_count": null,
   "id": "bb5d5133",
   "metadata": {},
   "outputs": [],
   "source": []
  }
 ],
 "metadata": {
  "kernelspec": {
   "display_name": "Python 3",
   "language": "python",
   "name": "python3"
  },
  "language_info": {
   "codemirror_mode": {
    "name": "ipython",
    "version": 3
   },
   "file_extension": ".py",
   "mimetype": "text/x-python",
   "name": "python",
   "nbconvert_exporter": "python",
   "pygments_lexer": "ipython3",
   "version": "3.8.8"
  }
 },
 "nbformat": 4,
 "nbformat_minor": 5
}
