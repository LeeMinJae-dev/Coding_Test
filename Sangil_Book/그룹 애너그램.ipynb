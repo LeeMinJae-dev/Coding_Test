{
 "cells": [
  {
   "cell_type": "code",
   "execution_count": 63,
   "id": "2f7ce288",
   "metadata": {},
   "outputs": [],
   "source": [
    "import collections\n",
    "def groupAnagrams(strs: [str]) -> [str]:\n",
    "    dic = collections.defaultdict(list)\n",
    "    for i in range(len(strs)):\n",
    "        dic[\"\".join(sorted(list(strs[i])))].append(strs[i])\n",
    "    return dic\n",
    "        "
   ]
  },
  {
   "cell_type": "code",
   "execution_count": 64,
   "id": "8d1d603e",
   "metadata": {},
   "outputs": [
    {
     "data": {
      "text/plain": [
       "defaultdict(list,\n",
       "            {'aet': ['eat', 'tea', 'ate'],\n",
       "             'ant': ['tan', 'nat'],\n",
       "             'abt': ['bat']})"
      ]
     },
     "execution_count": 64,
     "metadata": {},
     "output_type": "execute_result"
    }
   ],
   "source": [
    "groupAnagrams(strs)"
   ]
  },
  {
   "cell_type": "code",
   "execution_count": 3,
   "id": "b287a95f",
   "metadata": {},
   "outputs": [],
   "source": [
    "strs = [\"eat\",\"tea\",\"tan\",\"ate\",\"nat\",\"bat\"]"
   ]
  },
  {
   "cell_type": "code",
   "execution_count": 77,
   "id": "288e2d0d",
   "metadata": {},
   "outputs": [],
   "source": [
    "dic = collections.defaultdict(set)"
   ]
  },
  {
   "cell_type": "code",
   "execution_count": 78,
   "id": "a5d62819",
   "metadata": {},
   "outputs": [
    {
     "data": {
      "text/plain": [
       "set()"
      ]
     },
     "execution_count": 78,
     "metadata": {},
     "output_type": "execute_result"
    }
   ],
   "source": [
    "dic['b']"
   ]
  },
  {
   "cell_type": "code",
   "execution_count": 79,
   "id": "23601c91",
   "metadata": {},
   "outputs": [
    {
     "data": {
      "text/plain": [
       "defaultdict(set, {'b': set()})"
      ]
     },
     "execution_count": 79,
     "metadata": {},
     "output_type": "execute_result"
    }
   ],
   "source": [
    "dic"
   ]
  },
  {
   "cell_type": "code",
   "execution_count": null,
   "id": "bc704124",
   "metadata": {},
   "outputs": [],
   "source": []
  }
 ],
 "metadata": {
  "kernelspec": {
   "display_name": "Python 3",
   "language": "python",
   "name": "python3"
  },
  "language_info": {
   "codemirror_mode": {
    "name": "ipython",
    "version": 3
   },
   "file_extension": ".py",
   "mimetype": "text/x-python",
   "name": "python",
   "nbconvert_exporter": "python",
   "pygments_lexer": "ipython3",
   "version": "3.8.8"
  }
 },
 "nbformat": 4,
 "nbformat_minor": 5
}
