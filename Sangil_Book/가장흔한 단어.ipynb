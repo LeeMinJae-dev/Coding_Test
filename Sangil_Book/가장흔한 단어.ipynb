{
 "cells": [
  {
   "cell_type": "code",
   "execution_count": 14,
   "id": "77c4ab2b",
   "metadata": {},
   "outputs": [],
   "source": [
    "paragraph = \"Bob hit a ball, the hit BAll\""
   ]
  },
  {
   "cell_type": "code",
   "execution_count": 2,
   "id": "f2557bc5",
   "metadata": {},
   "outputs": [],
   "source": [
    "a = [1,1,2,3,4]"
   ]
  },
  {
   "cell_type": "code",
   "execution_count": 5,
   "id": "c3012c8c",
   "metadata": {},
   "outputs": [],
   "source": [
    "import collections"
   ]
  },
  {
   "cell_type": "code",
   "execution_count": 10,
   "id": "8e8d62e9",
   "metadata": {},
   "outputs": [
    {
     "data": {
      "text/plain": [
       "[(1, 2)]"
      ]
     },
     "execution_count": 10,
     "metadata": {},
     "output_type": "execute_result"
    }
   ],
   "source": [
    "collections.Counter(a).most_common(1)"
   ]
  },
  {
   "cell_type": "code",
   "execution_count": 54,
   "id": "d744fd67",
   "metadata": {},
   "outputs": [],
   "source": [
    "import re\n",
    "\n",
    "def mostCommonWord(paragraph: str, banned: [str]) -> str:\n",
    "    words = [word for word in re.sub(r'[^\\w]',\" \", paragraph)\n",
    "             .lower().split() if word not in banned]\n",
    "    return collections.Counter(words).most_common(1)[0][0]"
   ]
  },
  {
   "cell_type": "code",
   "execution_count": 55,
   "id": "7c1b23cf",
   "metadata": {},
   "outputs": [
    {
     "data": {
      "text/plain": [
       "'ball'"
      ]
     },
     "execution_count": 55,
     "metadata": {},
     "output_type": "execute_result"
    }
   ],
   "source": [
    "mostCommonWord(paragraph, banned)"
   ]
  },
  {
   "cell_type": "code",
   "execution_count": 17,
   "id": "a97bd31f",
   "metadata": {},
   "outputs": [],
   "source": [
    "banned = [\"hit\"]"
   ]
  },
  {
   "cell_type": "code",
   "execution_count": null,
   "id": "2b0c97f3",
   "metadata": {},
   "outputs": [],
   "source": [
    "'as'.isal"
   ]
  }
 ],
 "metadata": {
  "kernelspec": {
   "display_name": "Python 3",
   "language": "python",
   "name": "python3"
  },
  "language_info": {
   "codemirror_mode": {
    "name": "ipython",
    "version": 3
   },
   "file_extension": ".py",
   "mimetype": "text/x-python",
   "name": "python",
   "nbconvert_exporter": "python",
   "pygments_lexer": "ipython3",
   "version": "3.8.8"
  }
 },
 "nbformat": 4,
 "nbformat_minor": 5
}
