{
 "cells": [
  {
   "cell_type": "code",
   "execution_count": 19,
   "id": "98a3a509",
   "metadata": {},
   "outputs": [],
   "source": [
    "\n",
    "def solution(s:list)-> list:\n",
    "    s.reverse()\n",
    "        \n",
    "    "
   ]
  },
  {
   "cell_type": "code",
   "execution_count": 20,
   "id": "29a47172",
   "metadata": {},
   "outputs": [],
   "source": [
    "s = ['h','e','l','l','o']"
   ]
  },
  {
   "cell_type": "code",
   "execution_count": 22,
   "id": "14272584",
   "metadata": {},
   "outputs": [],
   "source": [
    "solution(s)"
   ]
  },
  {
   "cell_type": "code",
   "execution_count": 23,
   "id": "59ef5420",
   "metadata": {},
   "outputs": [
    {
     "data": {
      "text/plain": [
       "['o', 'l', 'l', 'e', 'h']"
      ]
     },
     "execution_count": 23,
     "metadata": {},
     "output_type": "execute_result"
    }
   ],
   "source": [
    "s"
   ]
  },
  {
   "cell_type": "code",
   "execution_count": null,
   "id": "8f08155d",
   "metadata": {},
   "outputs": [],
   "source": []
  }
 ],
 "metadata": {
  "kernelspec": {
   "display_name": "Python 3",
   "language": "python",
   "name": "python3"
  },
  "language_info": {
   "codemirror_mode": {
    "name": "ipython",
    "version": 3
   },
   "file_extension": ".py",
   "mimetype": "text/x-python",
   "name": "python",
   "nbconvert_exporter": "python",
   "pygments_lexer": "ipython3",
   "version": "3.8.8"
  }
 },
 "nbformat": 4,
 "nbformat_minor": 5
}
