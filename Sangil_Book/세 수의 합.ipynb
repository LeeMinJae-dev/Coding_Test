{
 "cells": [
  {
   "cell_type": "code",
   "execution_count": 49,
   "id": "fa938f27",
   "metadata": {},
   "outputs": [],
   "source": [
    "nums = [-2,0,0,2,2]"
   ]
  },
  {
   "cell_type": "code",
   "execution_count": 53,
   "id": "8426af70",
   "metadata": {},
   "outputs": [],
   "source": [
    "def solution(nums: [int])->[[int]]:\n",
    "    nums.sort()\n",
    "    result = []\n",
    "    for i in range(len(nums)-2):\n",
    "        if i>0 and nums[i] == nums[i-1]:\n",
    "            continue\n",
    "        left = i+1\n",
    "        right = len(nums)-1\n",
    "       \n",
    "        while left < right:\n",
    "            zero = nums[i] + nums[left] + nums[right]\n",
    "            print(zero, i)\n",
    "            if zero < 0:\n",
    "                left+=1\n",
    "            elif zero >0:\n",
    "                right-=1\n",
    "            else:\n",
    "                result.append([nums[i], nums[left], nums[right]])\n",
    "                while left<right and nums[left] == nums[left+1]:\n",
    "                    left+=1\n",
    "                while left<right and nums[left] == nums[right-1]:\n",
    "                    right-=1\n",
    "                left+=1\n",
    "                right-=1\n",
    "        \n",
    "    return result\n",
    "    "
   ]
  },
  {
   "cell_type": "code",
   "execution_count": 54,
   "id": "ea364485",
   "metadata": {},
   "outputs": [
    {
     "name": "stdout",
     "output_type": "stream",
     "text": [
      "[-2, 0, 0, 2, 2]\n"
     ]
    }
   ],
   "source": [
    "print(sorted(nums))"
   ]
  },
  {
   "cell_type": "code",
   "execution_count": 55,
   "id": "db247a05",
   "metadata": {},
   "outputs": [
    {
     "name": "stdout",
     "output_type": "stream",
     "text": [
      "0 0\n",
      "2 1\n",
      "2 1\n"
     ]
    },
    {
     "data": {
      "text/plain": [
       "[[-2, 0, 2]]"
      ]
     },
     "execution_count": 55,
     "metadata": {},
     "output_type": "execute_result"
    }
   ],
   "source": [
    "solution(nums)"
   ]
  },
  {
   "cell_type": "code",
   "execution_count": null,
   "id": "df294f78",
   "metadata": {},
   "outputs": [],
   "source": []
  }
 ],
 "metadata": {
  "kernelspec": {
   "display_name": "Python 3",
   "language": "python",
   "name": "python3"
  },
  "language_info": {
   "codemirror_mode": {
    "name": "ipython",
    "version": 3
   },
   "file_extension": ".py",
   "mimetype": "text/x-python",
   "name": "python",
   "nbconvert_exporter": "python",
   "pygments_lexer": "ipython3",
   "version": "3.8.8"
  }
 },
 "nbformat": 4,
 "nbformat_minor": 5
}
