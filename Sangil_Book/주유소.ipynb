{
 "cells": [
  {
   "cell_type": "code",
   "execution_count": 1,
   "id": "33be2db9",
   "metadata": {},
   "outputs": [],
   "source": [
    "gas = [5,1,2,3,4]\n",
    "\n",
    "cost =[4,4,1,5,1]"
   ]
  },
  {
   "cell_type": "code",
   "execution_count": 22,
   "id": "035f3e9f",
   "metadata": {},
   "outputs": [],
   "source": [
    "def gas_station(gas : [int], cost : [int])-> int:\n",
    "    road = []\n",
    "\n",
    "    if sum(gas) < sum(cost):\n",
    "        return -1\n",
    "    \n",
    "    start, fuel = 0,0\n",
    "    for i in range(len(gas)):\n",
    "        if gas[i]+fuel < cost[i]:\n",
    "            start = i+1\n",
    "            fuel = 0\n",
    "        else:\n",
    "            fuel = fuel + gas[i]-cost[i]\n",
    "    return start\n",
    "            \n",
    "        \n",
    "       \n",
    "        \n",
    "            \n",
    "            \n",
    "         \n",
    "    \n",
    "    "
   ]
  },
  {
   "cell_type": "code",
   "execution_count": 23,
   "id": "b24de3d9",
   "metadata": {},
   "outputs": [
    {
     "data": {
      "text/plain": [
       "4"
      ]
     },
     "execution_count": 23,
     "metadata": {},
     "output_type": "execute_result"
    }
   ],
   "source": [
    "gas_station(gas, cost)"
   ]
  },
  {
   "cell_type": "code",
   "execution_count": 148,
   "id": "0787a6e9",
   "metadata": {},
   "outputs": [
    {
     "name": "stderr",
     "output_type": "stream",
     "text": [
      "UsageError: Line magic function `%5` not found.\n"
     ]
    }
   ],
   "source": [
    "%5"
   ]
  },
  {
   "cell_type": "code",
   "execution_count": null,
   "id": "c4c74ee8",
   "metadata": {},
   "outputs": [],
   "source": []
  },
  {
   "cell_type": "code",
   "execution_count": null,
   "id": "bf33262d",
   "metadata": {},
   "outputs": [],
   "source": []
  }
 ],
 "metadata": {
  "kernelspec": {
   "display_name": "Python 3",
   "language": "python",
   "name": "python3"
  },
  "language_info": {
   "codemirror_mode": {
    "name": "ipython",
    "version": 3
   },
   "file_extension": ".py",
   "mimetype": "text/x-python",
   "name": "python",
   "nbconvert_exporter": "python",
   "pygments_lexer": "ipython3",
   "version": "3.8.8"
  }
 },
 "nbformat": 4,
 "nbformat_minor": 5
}
