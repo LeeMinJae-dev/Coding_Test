{
 "cells": [
  {
   "cell_type": "code",
   "execution_count": 16,
   "id": "6b619fe2",
   "metadata": {},
   "outputs": [],
   "source": [
    "\n",
    "def solution(s:list)-> list:\n",
    "    s.reverse()\n",
    "        \n",
    "    "
   ]
  },
  {
   "cell_type": "code",
   "execution_count": 17,
   "id": "5e5fff61",
   "metadata": {},
   "outputs": [],
   "source": [
    "s = ['h','e','l','l','o']"
   ]
  },
  {
   "cell_type": "code",
   "execution_count": null,
   "id": "c574ed36",
   "metadata": {},
   "outputs": [],
   "source": []
  }
 ],
 "metadata": {
  "kernelspec": {
   "display_name": "Python 3",
   "language": "python",
   "name": "python3"
  },
  "language_info": {
   "codemirror_mode": {
    "name": "ipython",
    "version": 3
   },
   "file_extension": ".py",
   "mimetype": "text/x-python",
   "name": "python",
   "nbconvert_exporter": "python",
   "pygments_lexer": "ipython3",
   "version": "3.8.8"
  }
 },
 "nbformat": 4,
 "nbformat_minor": 5
}
