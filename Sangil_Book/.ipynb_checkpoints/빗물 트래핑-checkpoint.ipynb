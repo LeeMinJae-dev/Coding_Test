{
 "cells": [
  {
   "cell_type": "code",
   "execution_count": 30,
   "id": "5289611f",
   "metadata": {},
   "outputs": [],
   "source": [
    "height = [5,5,1,7,1,1,5,2,7,6]"
   ]
  },
  {
   "cell_type": "code",
   "execution_count": 31,
   "id": "40abf58b",
   "metadata": {},
   "outputs": [],
   "source": [
    "a = [1,2,3]"
   ]
  },
  {
   "cell_type": "code",
   "execution_count": 34,
   "id": "8555cda4",
   "metadata": {},
   "outputs": [],
   "source": [
    "def solution(height: [int])-> int:\n",
    "    \n",
    "    if not len(height):\n",
    "        return 0\n",
    "    \n",
    "    volume = 0\n",
    "    \n",
    "    left, right = 0, len(height)-1\n",
    "    left_max, right_max = height[left], height[right]\n",
    "    \n",
    "    while left< right:\n",
    "        left_max = max(left_max, height[left])\n",
    "        right_max = max(right_max, height[right])\n",
    "        if left_max <= right_max:\n",
    "            \n",
    "            volume += left_max - height[left]\n",
    "            left += 1\n",
    "            print('left:',left)\n",
    "        else:\n",
    "           \n",
    "            volume += right_max - height[right]\n",
    "            right -= 1\n",
    "            print(right)\n",
    "    return volume\n",
    "            \n",
    "    \n",
    "    "
   ]
  },
  {
   "cell_type": "code",
   "execution_count": 35,
   "id": "b9bcad84",
   "metadata": {},
   "outputs": [
    {
     "name": "stdout",
     "output_type": "stream",
     "text": [
      "left: 1\n",
      "left: 2\n",
      "left: 3\n",
      "8\n",
      "left: 4\n",
      "left: 5\n",
      "left: 6\n",
      "left: 7\n",
      "left: 8\n"
     ]
    },
    {
     "data": {
      "text/plain": [
       "23"
      ]
     },
     "execution_count": 35,
     "metadata": {},
     "output_type": "execute_result"
    }
   ],
   "source": [
    "solution(height)"
   ]
  },
  {
   "cell_type": "code",
   "execution_count": null,
   "id": "83c05630",
   "metadata": {},
   "outputs": [],
   "source": []
  }
 ],
 "metadata": {
  "kernelspec": {
   "display_name": "Python 3",
   "language": "python",
   "name": "python3"
  },
  "language_info": {
   "codemirror_mode": {
    "name": "ipython",
    "version": 3
   },
   "file_extension": ".py",
   "mimetype": "text/x-python",
   "name": "python",
   "nbconvert_exporter": "python",
   "pygments_lexer": "ipython3",
   "version": "3.8.8"
  }
 },
 "nbformat": 4,
 "nbformat_minor": 5
}
