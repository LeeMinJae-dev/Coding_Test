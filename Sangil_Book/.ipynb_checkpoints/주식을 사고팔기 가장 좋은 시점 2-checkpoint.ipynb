{
 "cells": [
  {
   "cell_type": "code",
   "execution_count": 1,
   "id": "de989e82",
   "metadata": {},
   "outputs": [],
   "source": [
    "price = [7,1,5,3,6,4]"
   ]
  },
  {
   "cell_type": "code",
   "execution_count": 6,
   "id": "e79cf528",
   "metadata": {},
   "outputs": [],
   "source": [
    "import sys\n",
    "def get_good_time(price : [int])-> int:\n",
    "    profit = 0\n",
    "    pre = sys.maxsize\n",
    "    for p in price:\n",
    "        if pre < p :\n",
    "            profit += p-pre\n",
    "        pre = p\n",
    "        print(profit)\n",
    "    return profit\n",
    "            \n",
    "            "
   ]
  },
  {
   "cell_type": "code",
   "execution_count": 7,
   "id": "3329ca4d",
   "metadata": {},
   "outputs": [
    {
     "name": "stdout",
     "output_type": "stream",
     "text": [
      "0\n",
      "0\n",
      "4\n",
      "4\n",
      "7\n",
      "7\n"
     ]
    },
    {
     "data": {
      "text/plain": [
       "7"
      ]
     },
     "execution_count": 7,
     "metadata": {},
     "output_type": "execute_result"
    }
   ],
   "source": [
    "get_good_time(price)"
   ]
  },
  {
   "cell_type": "code",
   "execution_count": null,
   "id": "6bc410e9",
   "metadata": {},
   "outputs": [],
   "source": []
  }
 ],
 "metadata": {
  "kernelspec": {
   "display_name": "Python 3",
   "language": "python",
   "name": "python3"
  },
  "language_info": {
   "codemirror_mode": {
    "name": "ipython",
    "version": 3
   },
   "file_extension": ".py",
   "mimetype": "text/x-python",
   "name": "python",
   "nbconvert_exporter": "python",
   "pygments_lexer": "ipython3",
   "version": "3.8.8"
  }
 },
 "nbformat": 4,
 "nbformat_minor": 5
}
