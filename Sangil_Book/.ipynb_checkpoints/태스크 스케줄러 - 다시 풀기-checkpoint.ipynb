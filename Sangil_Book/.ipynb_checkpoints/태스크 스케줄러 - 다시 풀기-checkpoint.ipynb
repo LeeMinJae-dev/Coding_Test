{
 "cells": [
  {
   "cell_type": "code",
   "execution_count": 91,
   "id": "44a1bb7e",
   "metadata": {},
   "outputs": [],
   "source": [
    "tasks = [\"A\",\"A\",\"A\",\"B\",\"B\",\"B\"]\n",
    "n = 2"
   ]
  },
  {
   "cell_type": "code",
   "execution_count": 2,
   "id": "116ce041",
   "metadata": {},
   "outputs": [
    {
     "ename": "SyntaxError",
     "evalue": "invalid syntax (<ipython-input-2-e848b7ec2366>, line 5)",
     "output_type": "error",
     "traceback": [
      "\u001b[0;36m  File \u001b[0;32m\"<ipython-input-2-e848b7ec2366>\"\u001b[0;36m, line \u001b[0;32m5\u001b[0m\n\u001b[0;31m    while tasks\u001b[0m\n\u001b[0m               ^\u001b[0m\n\u001b[0;31mSyntaxError\u001b[0m\u001b[0;31m:\u001b[0m invalid syntax\n"
     ]
    }
   ],
   "source": [
    "def task_scheduler(tasks : [str], n : int) -> int:\n",
    "    line = []\n",
    "    if n == 0:\n",
    "        return len(tasks)\n",
    "    for t in tasks:\n",
    "        heapq.heappush(line, tasks)\n",
    "    line = list(reversed(line))\n",
    "    \n",
    "        "
   ]
  },
  {
   "cell_type": "code",
   "execution_count": 93,
   "id": "800b64f5",
   "metadata": {},
   "outputs": [],
   "source": [
    "import heapq\n",
    "import collections"
   ]
  },
  {
   "cell_type": "code",
   "execution_count": 4,
   "id": "14fb4ae1",
   "metadata": {},
   "outputs": [],
   "source": [
    "heap = []"
   ]
  },
  {
   "cell_type": "code",
   "execution_count": 75,
   "id": "9226a2dd",
   "metadata": {},
   "outputs": [],
   "source": [
    "heapq.heappush(heap, 'A')\n",
    "a = list(reversed(heap))"
   ]
  },
  {
   "cell_type": "code",
   "execution_count": 94,
   "id": "a7d915b6",
   "metadata": {},
   "outputs": [],
   "source": [
    "counter = collections.Counter(tasks)"
   ]
  },
  {
   "cell_type": "code",
   "execution_count": 105,
   "id": "cdaf15aa",
   "metadata": {},
   "outputs": [
    {
     "data": {
      "text/plain": [
       "[('A', 3), ('B', 3)]"
      ]
     },
     "execution_count": 105,
     "metadata": {},
     "output_type": "execute_result"
    }
   ],
   "source": [
    "counter.most_common(n+1)"
   ]
  },
  {
   "cell_type": "code",
   "execution_count": 109,
   "id": "91a1fa31",
   "metadata": {},
   "outputs": [],
   "source": [
    "for task, _ in counter.most_common():\n",
    "    counter.subtract(task)\n",
    "    "
   ]
  },
  {
   "cell_type": "code",
   "execution_count": null,
   "id": "4ca42b65",
   "metadata": {},
   "outputs": [],
   "source": []
  }
 ],
 "metadata": {
  "kernelspec": {
   "display_name": "Python 3",
   "language": "python",
   "name": "python3"
  },
  "language_info": {
   "codemirror_mode": {
    "name": "ipython",
    "version": 3
   },
   "file_extension": ".py",
   "mimetype": "text/x-python",
   "name": "python",
   "nbconvert_exporter": "python",
   "pygments_lexer": "ipython3",
   "version": "3.8.8"
  }
 },
 "nbformat": 4,
 "nbformat_minor": 5
}
