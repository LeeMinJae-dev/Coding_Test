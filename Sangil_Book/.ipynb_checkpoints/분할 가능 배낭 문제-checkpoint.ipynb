{
 "cells": [
  {
   "cell_type": "code",
   "execution_count": 1,
   "id": "fb3ef654",
   "metadata": {},
   "outputs": [],
   "source": [
    "cargo = [(4,12), (2,1), (10,4), (1,1), (2,2)]"
   ]
  },
  {
   "cell_type": "code",
   "execution_count": 28,
   "id": "a90533e1",
   "metadata": {},
   "outputs": [],
   "source": [
    "def backpack(cargo : [(int)]) -> int:\n",
    "    capacity = 15\n",
    "    pack = []\n",
    "    \n",
    "    for i in cargo:\n",
    "        pack.append((i[0]/i[1], i[0], i[1]))\n",
    "    pack.sort(reverse = True)\n",
    "    \n",
    "    price = 0\n",
    "    \n",
    "    for p in pack:\n",
    "        weight = p[2]\n",
    "        while weight:\n",
    "            price+= p[0]\n",
    "            weight-=1\n",
    "            print(capacity, price)\n",
    "            if capacity == 0:\n",
    "                break\n",
    "            else:\n",
    "                capacity -=1\n",
    "    \n",
    "    return pack, price\n",
    "    "
   ]
  },
  {
   "cell_type": "code",
   "execution_count": 29,
   "id": "76e3467c",
   "metadata": {},
   "outputs": [
    {
     "name": "stdout",
     "output_type": "stream",
     "text": [
      "15 2.5\n",
      "14 5.0\n",
      "13 7.5\n",
      "12 10.0\n",
      "11 12.0\n",
      "10 13.0\n",
      "9 14.0\n",
      "8 15.0\n",
      "7 15.333333333333334\n",
      "6 15.666666666666668\n",
      "5 16.0\n",
      "4 16.333333333333332\n",
      "3 16.666666666666664\n",
      "2 16.999999999999996\n",
      "1 17.33333333333333\n",
      "0 17.66666666666666\n"
     ]
    },
    {
     "data": {
      "text/plain": [
       "([(2.5, 10, 4),\n",
       "  (2.0, 2, 1),\n",
       "  (1.0, 2, 2),\n",
       "  (1.0, 1, 1),\n",
       "  (0.3333333333333333, 4, 12)],\n",
       " 17.66666666666666)"
      ]
     },
     "execution_count": 29,
     "metadata": {},
     "output_type": "execute_result"
    }
   ],
   "source": [
    "backpack(cargo)"
   ]
  },
  {
   "cell_type": "code",
   "execution_count": null,
   "id": "b1404851",
   "metadata": {},
   "outputs": [],
   "source": []
  }
 ],
 "metadata": {
  "kernelspec": {
   "display_name": "Python 3",
   "language": "python",
   "name": "python3"
  },
  "language_info": {
   "codemirror_mode": {
    "name": "ipython",
    "version": 3
   },
   "file_extension": ".py",
   "mimetype": "text/x-python",
   "name": "python",
   "nbconvert_exporter": "python",
   "pygments_lexer": "ipython3",
   "version": "3.8.8"
  }
 },
 "nbformat": 4,
 "nbformat_minor": 5
}
