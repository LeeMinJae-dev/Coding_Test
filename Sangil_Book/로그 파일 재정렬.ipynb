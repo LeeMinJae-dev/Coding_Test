{
 "cells": [
  {
   "cell_type": "code",
   "execution_count": 1,
   "id": "bf8c4ed2",
   "metadata": {},
   "outputs": [],
   "source": [
    "logs = [\"digit1 8 1 5 1\",\"let1 art can\", \"dig2 3 6\"]"
   ]
  },
  {
   "cell_type": "code",
   "execution_count": 36,
   "id": "76a967b6",
   "metadata": {},
   "outputs": [],
   "source": [
    "def groupAnagrams(strs: [str]) -> [str]:\n",
    "    num = []\n",
    "    letter = []\n",
    "    for log in logs:\n",
    "        if log.split(\" \")[1].isdigit():\n",
    "            num.append(log)\n",
    "        else:\n",
    "            letter.append(log)\n",
    "            \n",
    "    letter.sort(key = lambda x : (x.split(\" \")[1],x.split(\" \")[0]))\n",
    "    return letter+num"
   ]
  },
  {
   "cell_type": "code",
   "execution_count": 37,
   "id": "ca20cfe4",
   "metadata": {},
   "outputs": [
    {
     "data": {
      "text/plain": [
       "['let1 art can', 'digit1 8 1 5 1', 'dig2 3 6']"
      ]
     },
     "execution_count": 37,
     "metadata": {},
     "output_type": "execute_result"
    }
   ],
   "source": [
    "groupAnagrams(logs)"
   ]
  },
  {
   "cell_type": "code",
   "execution_count": null,
   "id": "700587fa",
   "metadata": {},
   "outputs": [],
   "source": []
  }
 ],
 "metadata": {
  "kernelspec": {
   "display_name": "Python 3",
   "language": "python",
   "name": "python3"
  },
  "language_info": {
   "codemirror_mode": {
    "name": "ipython",
    "version": 3
   },
   "file_extension": ".py",
   "mimetype": "text/x-python",
   "name": "python",
   "nbconvert_exporter": "python",
   "pygments_lexer": "ipython3",
   "version": "3.8.8"
  }
 },
 "nbformat": 4,
 "nbformat_minor": 5
}
