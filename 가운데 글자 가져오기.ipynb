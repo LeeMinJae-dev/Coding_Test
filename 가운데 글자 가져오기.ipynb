{
 "cells": [
  {
   "cell_type": "markdown",
   "id": "e195a38f",
   "metadata": {},
   "source": [
    "문제 설명\n",
    "\n",
    "단어 s의 가운데 글자를 반환하는 함수, solution을 만들어 보세요. \n",
    "단어의 길이가 짝수라면 가운데 두글자를 반환하면 됩니다.\n",
    "\n",
    "재한사항\n",
    "s는 길이가 1 이상, 100이하인 스트링입니다.\n",
    "\n",
    "입출력 예\n",
    "   s\treturn\n",
    "\"abcde\"\t\"c\"\n",
    "\"qwer\"\t\"we\"\n"
   ]
  },
  {
   "cell_type": "code",
   "execution_count": 52,
   "id": "20ccf7bf",
   "metadata": {},
   "outputs": [],
   "source": [
    "def solution(s):\n",
    "     \n",
    "    if len(s)%2 != 0:\n",
    "        n = len(s)//2\n",
    "        print(str(s[n]))\n",
    "    else:\n",
    "        n = len(s)/2\n",
    "        print(s[int(n)]+s[int(n-1)])\n",
    "        \n",
    "    "
   ]
  },
  {
   "cell_type": "code",
   "execution_count": 53,
   "id": "5847d165",
   "metadata": {},
   "outputs": [
    {
     "name": "stdout",
     "output_type": "stream",
     "text": [
      "dc\n"
     ]
    }
   ],
   "source": [
    "s = \"abcdef\"\n",
    "solution(s)"
   ]
  },
  {
   "cell_type": "code",
   "execution_count": 43,
   "id": "a86400c4",
   "metadata": {},
   "outputs": [
    {
     "data": {
      "text/plain": [
       "6"
      ]
     },
     "execution_count": 43,
     "metadata": {},
     "output_type": "execute_result"
    }
   ],
   "source": [
    "len(s)"
   ]
  },
  {
   "cell_type": "code",
   "execution_count": null,
   "id": "7fd616bb",
   "metadata": {},
   "outputs": [],
   "source": []
  }
 ],
 "metadata": {
  "kernelspec": {
   "display_name": "Python 3",
   "language": "python",
   "name": "python3"
  },
  "language_info": {
   "codemirror_mode": {
    "name": "ipython",
    "version": 3
   },
   "file_extension": ".py",
   "mimetype": "text/x-python",
   "name": "python",
   "nbconvert_exporter": "python",
   "pygments_lexer": "ipython3",
   "version": "3.8.8"
  }
 },
 "nbformat": 4,
 "nbformat_minor": 5
}
