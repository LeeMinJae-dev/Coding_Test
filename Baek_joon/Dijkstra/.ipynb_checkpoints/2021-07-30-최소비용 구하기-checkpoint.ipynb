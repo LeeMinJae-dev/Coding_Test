{
 "cells": [
  {
   "cell_type": "markdown",
   "id": "0b6ba266",
   "metadata": {},
   "source": [
    "---\n",
    "title : \"[BOJ] 최소비용 구하기 (Python3)\"\n",
    "toc : true\n",
    "toc_sticky : true\n",
    "toc_lable : \"On this Page\"\n",
    "categories : baekjoon\n",
    "---\n",
    "## 문제\n",
    "N개의 도시가 있다. 그리고 한 도시에서 출발하여 다른 도시에 도착하는 M개의 버스가 있다. 우리는 A번째 도시에서 B번째 도시까지 가는데 드는 버스 비용을 최소화 시키려고 한다. A번째 도시에서 B번째 도시까지 가는데 드는 최소비용을 출력하여라. 도시의 번호는 1부터 N까지이다.\n",
    "\n",
    "## 입력\n",
    "첫째 줄에 도시의 개수 N(1 ≤ N ≤ 1,000)이 주어지고 둘째 줄에는 버스의 개수 M(1 ≤ M ≤ 100,000)이 주어진다. 그리고 셋째 줄부터 M+2줄까지 다음과 같은 버스의 정보가 주어진다. 먼저 처음에는 그 버스의 출발 도시의 번호가 주어진다. 그리고 그 다음에는 도착지의 도시 번호가 주어지고 또 그 버스 비용이 주어진다. 버스 비용은 0보다 크거나 같고, 100,000보다 작은 정수이다.   \n",
    "\n",
    "그리고 M+3째 줄에는 우리가 구하고자 하는 구간 출발점의 도시번호와 도착점의 도시번호가 주어진다. 출발점에서 도착점을 갈 수 있는 경우만 입력으로 주어진다.\n",
    "\n",
    "## 출력\n",
    "첫째 줄에 출발 도시에서 도착 도시까지 가는데 드는 최소 비용을 출력한다.\n",
    "```\n",
    "예제 입력 1  \n",
    "5\n",
    "8\n",
    "1 2 2\n",
    "1 3 3\n",
    "1 4 1\n",
    "1 5 10\n",
    "2 4 2\n",
    "3 4 1\n",
    "3 5 1\n",
    "4 5 3\n",
    "1 5\n",
    "예제 출력 1  \n",
    "4\n",
    "```\n",
    "\n",
    "## 문제풀이\n",
    "다익스트라 알고리즘을 사용하면 간단하게 풀 수 있다.   \n",
    "양방향으로 노드를 그려서 자꾸 다른 값이 나와서 오래걸려버렸다...    \n",
    "그래도 오류를 찾는다고 다익스트라 알고리즘을 처음부터 끝까지 하나하나 단계를 그려봐서 조금 더 다익스트라 알고리즘에 동작방식에 대한 이해가 늘었으니 만족한다.   \n",
    "이런 경로 문제를 풀때는 항상 단방향인지 양방향인지 잘 살펴보고 문제를 풀자.\n",
    "\n",
    "## 코드"
   ]
  },
  {
   "cell_type": "code",
   "execution_count": 2,
   "id": "743a66fa",
   "metadata": {},
   "outputs": [
    {
     "name": "stdout",
     "output_type": "stream",
     "text": [
      "5\n",
      "8\n",
      "1 2 2\n",
      "1 3 3\n",
      "1 4 1\n",
      "1 5 10\n",
      "2 4 2\n",
      "3 4 1\n",
      "3 5 1\n",
      "4 5 3\n",
      "1 5\n",
      "4\n"
     ]
    }
   ],
   "source": [
    "import sys\n",
    "import heapq\n",
    "INF = sys.maxsize\n",
    "#input = sys.stdin.readline\n",
    "#도시의 개수\n",
    "n = int(input())\n",
    "#버스의 개수\n",
    "m = int(input())\n",
    "#도시의 노드 graph\n",
    "graph = [[]for _ in range (n+1)]\n",
    "#거리 테이블 dist\n",
    "distance = [INF]*(n+1)\n",
    "\n",
    "visited = [False]*(n+1)\n",
    "#입력을 받아 graph를 채워준다.\n",
    "for i in range(m):\n",
    "    g = list(map(int,input().split()))\n",
    "    graph[g[0]].append((g[1],g[2]))\n",
    "#출발 도시와 도착도시의 번호\n",
    "start,end = list(map(int,input().split()))\n",
    "\n",
    "#다익스트라 알고리즘\n",
    "def dijkstra(start):\n",
    "    q = []\n",
    "    heapq.heappush(q,(0, start))\n",
    "\n",
    "    while q:\n",
    "        dist, now = heapq.heappop(q)\n",
    "  \n",
    "        if distance[now] < dist:\n",
    "            continue\n",
    "       \n",
    "        for i in graph[now]:\n",
    "            cost = dist + i[1]\n",
    "            if cost < distance[i[0]]:\n",
    "                distance[i[0]] = cost\n",
    "                \n",
    "                heapq.heappush(q,(cost,i[0]))\n",
    "\n",
    "dijkstra(start)\n",
    "print(distance[end])\n"
   ]
  },
  {
   "cell_type": "code",
   "execution_count": 3,
   "id": "409e20b1",
   "metadata": {},
   "outputs": [
    {
     "data": {
      "text/plain": [
       "[[],\n",
       " [(2, 2), (3, 3), (4, 1), (5, 10)],\n",
       " [(4, 2)],\n",
       " [(4, 1), (5, 1)],\n",
       " [(5, 3)],\n",
       " []]"
      ]
     },
     "execution_count": 3,
     "metadata": {},
     "output_type": "execute_result"
    }
   ],
   "source": [
    "graph"
   ]
  },
  {
   "cell_type": "code",
   "execution_count": null,
   "id": "252c675b",
   "metadata": {},
   "outputs": [],
   "source": []
  }
 ],
 "metadata": {
  "kernelspec": {
   "display_name": "Python 3",
   "language": "python",
   "name": "python3"
  },
  "language_info": {
   "codemirror_mode": {
    "name": "ipython",
    "version": 3
   },
   "file_extension": ".py",
   "mimetype": "text/x-python",
   "name": "python",
   "nbconvert_exporter": "python",
   "pygments_lexer": "ipython3",
   "version": "3.8.8"
  }
 },
 "nbformat": 4,
 "nbformat_minor": 5
}
