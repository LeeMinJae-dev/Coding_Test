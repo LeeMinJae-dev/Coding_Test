{
 "cells": [
  {
   "cell_type": "markdown",
   "id": "cb2a1bb7",
   "metadata": {},
   "source": [
    "## 문제\n",
    "\n",
    "https://www.acmicpc.net/problem/17471\n",
    "\n",
    "백준시의 시장 최백준은 지난 몇 년간 게리맨더링을 통해서 자신의 당에게 유리하게 선거구를 획정했다. 견제할 권력이 없어진 최백준은 권력을 매우 부당하게 행사했고, 심지어는 시의 이름도 백준시로 변경했다. 이번 선거에서는 최대한 공평하게 선거구를 획정하려고 한다.\n",
    "\n",
    "백준시는 N개의 구역으로 나누어져 있고, 구역은 1번부터 N번까지 번호가 매겨져 있다. 구역을 두 개의 선거구로 나눠야 하고, 각 구역은 두 선거구 중 하나에 포함되어야 한다. 선거구는 구역을 적어도 하나 포함해야 하고, 한 선거구에 포함되어 있는 구역은 모두 연결되어 있어야 한다. 구역 A에서 인접한 구역을 통해서 구역 B로 갈 수 있을 때, 두 구역은 연결되어 있다고 한다. 중간에 통하는 인접한 구역은 0개 이상이어야 하고, 모두 같은 선거구에 포함된 구역이어야 한다.\n",
    "\n",
    "아래 그림은 6개의 구역이 있는 것이고, 인접한 구역은 선으로 연결되어 있다.\n",
    "\n",
    "\n",
    "\n",
    "아래는 백준시를 두 선거구로 나눈 4가지 방법이며, 가능한 방법과 불가능한 방법에 대한 예시이다.\n",
    "\n",
    "\t\t\t\n",
    "가능한 방법\n",
    "\n",
    "[1, 3, 4]와 [2, 5, 6]으로 나누어져 있다.\n",
    "\n",
    "가능한 방법\n",
    "\n",
    "[1, 2, 3, 4, 6]과 [5]로 나누어져 있다.\n",
    "\n",
    "불가능한 방법\n",
    "\n",
    "[1, 2, 3, 4]와 [5, 6]으로 나누어져 있는데, 5와 6이 연결되어 있지 않다.\n",
    "\n",
    "불가능한 방법\n",
    "\n",
    "각 선거구는 적어도 하나의 구역을 포함해야 한다.\n",
    "\n",
    "공평하게 선거구를 나누기 위해 두 선거구에 포함된 인구의 차이를 최소로 하려고 한다. 백준시의 정보가 주어졌을 때, 인구 차이의 최솟값을 구해보자.\n",
    "\n",
    "## 입력\n",
    "첫째 줄에 구역의 개수 N이 주어진다. 둘째 줄에 구역의 인구가 1번 구역부터 N번 구역까지 순서대로 주어진다. 인구는 공백으로 구분되어져 있다.\n",
    "\n",
    "셋째 줄부터 N개의 줄에 각 구역과 인접한 구역의 정보가 주어진다. 각 정보의 첫 번째 정수는 그 구역과 인접한 구역의 수이고, 이후 인접한 구역의 번호가 주어진다. 모든 값은 정수로 구분되어져 있다.\n",
    "\n",
    "구역 A가 구역 B와 인접하면 구역 B도 구역 A와 인접하다. 인접한 구역이 없을 수도 있다.\n",
    "\n",
    "## 출력\n",
    "첫째 줄에 백준시를 두 선거구로 나누었을 때, 두 선거구의 인구 차이의 최솟값을 출력한다. 두 선거구로 나눌 수 없는 경우에는 -1을 출력한다.\n",
    "\n",
    "## 제한\n",
    "2 ≤ N ≤ 10\n",
    "1 ≤ 구역의 인구 수 ≤ 100\n",
    "\n",
    "## 예제\n",
    "```\n",
    "예제 입력 1  복사\n",
    "6\n",
    "5 2 3 4 1 2\n",
    "2 2 4\n",
    "4 1 3 6 5\n",
    "2 4 2\n",
    "2 1 3\n",
    "1 2\n",
    "1 2\n",
    "예제 출력 1  복사\n",
    "1\n",
    "선거구를 [1, 4], [2, 3, 5, 6]으로 나누면 각 선거구의 인구는 9, 8이 된다. 인구 차이는 1이고, 이 값보다 더 작은 값으로 선거구를 나눌 수는 없다.\n",
    "\n",
    "예제 입력 2  복사\n",
    "6\n",
    "1 1 1 1 1 1\n",
    "2 2 4\n",
    "4 1 3 6 5\n",
    "2 4 2\n",
    "2 1 3\n",
    "1 2\n",
    "1 2\n",
    "예제 출력 2  복사\n",
    "0\n",
    "선거구를 [1, 3, 4], [2, 5, 6]으로 나누면 인구 차이가 0이다.\n",
    "\n",
    "예제 입력 3  복사\n",
    "6\n",
    "10 20 10 20 30 40\n",
    "0\n",
    "0\n",
    "0\n",
    "0\n",
    "0\n",
    "0\n",
    "예제 출력 3  복사\n",
    "-1\n",
    "두 선거구로 나눌 수 있는 방법이 없다.\n",
    "\n",
    "예제 입력 4  복사\n",
    "6\n",
    "2 3 4 5 6 7\n",
    "2 2 3\n",
    "2 1 3\n",
    "2 1 2\n",
    "2 5 6\n",
    "2 4 6\n",
    "2 4 5\n",
    "예제 출력 4  복사\n",
    "9\n",
    "```\n",
    "## 노트\n",
    "게리맨더링은 특정 후보자나 정당에 유리하게 선거구를 획정하는 것을 의미한다."
   ]
  },
  {
   "cell_type": "code",
   "execution_count": 4,
   "id": "f26fbd94",
   "metadata": {},
   "outputs": [
    {
     "name": "stdout",
     "output_type": "stream",
     "text": [
      "6\n",
      "5 2 3 4 1 2\n",
      "2 2 4\n",
      "4 1 3 6 5\n",
      "2 4 2\n",
      "2 1 3\n",
      "1 2\n",
      "1 2\n"
     ]
    }
   ],
   "source": [
    "from itertools import combinations\n",
    "\n",
    "def dfs(combi):\n",
    "    visited[combi[0]] = True\n",
    "    for i in grpah[combi[0]]:\n",
    "        if not visited[i] and i in combi:\n",
    "            if dfs(i):\n",
    "                return True\n",
    "        return False     \n",
    "\n",
    "\n",
    "# N: 구역의 개수\n",
    "N = int(input())\n",
    "# population : 인구수\n",
    "population = list(map(int, input().split()))\n",
    "population.insert(0, 0)\n",
    "# graph : 선거구 노드의 형태\n",
    "graph = [[]]\n",
    "for i in range(N):\n",
    "    graph.append(list(map(int, input().split())))\n",
    "\n",
    "visited = [False]*N+1\n",
    "_sum = 0\n",
    "for i in range(N):\n",
    "    combis = combinations(range(N), i)\n",
    "    for combi in combis:\n",
    "        if dfs(combi):\n",
    "            \n",
    "        "
   ]
  },
  {
   "cell_type": "code",
   "execution_count": 6,
   "id": "1d8c2f54",
   "metadata": {},
   "outputs": [
    {
     "data": {
      "text/plain": [
       "[[], [2, 2, 4], [4, 1, 3, 6, 5], [2, 4, 2], [2, 1, 3], [1, 2], [1, 2]]"
      ]
     },
     "execution_count": 6,
     "metadata": {},
     "output_type": "execute_result"
    }
   ],
   "source": [
    "graph"
   ]
  },
  {
   "cell_type": "code",
   "execution_count": 5,
   "id": "6a298a45",
   "metadata": {},
   "outputs": [
    {
     "data": {
      "text/plain": [
       "[0, 5, 2, 3, 4, 1, 2]"
      ]
     },
     "execution_count": 5,
     "metadata": {},
     "output_type": "execute_result"
    }
   ],
   "source": [
    "population"
   ]
  },
  {
   "cell_type": "code",
   "execution_count": 67,
   "id": "2a035cc3",
   "metadata": {},
   "outputs": [
    {
     "name": "stdout",
     "output_type": "stream",
     "text": [
      "[()]\n",
      "[(0,), (1,), (2,), (3,), (4,), (5,)]\n",
      "[(0, 1), (0, 2), (0, 3), (0, 4), (0, 5), (1, 2), (1, 3), (1, 4), (1, 5), (2, 3), (2, 4), (2, 5), (3, 4), (3, 5), (4, 5)]\n",
      "[(0, 1, 2), (0, 1, 3), (0, 1, 4), (0, 1, 5), (0, 2, 3), (0, 2, 4), (0, 2, 5), (0, 3, 4), (0, 3, 5), (0, 4, 5), (1, 2, 3), (1, 2, 4), (1, 2, 5), (1, 3, 4), (1, 3, 5), (1, 4, 5), (2, 3, 4), (2, 3, 5), (2, 4, 5), (3, 4, 5)]\n",
      "[(0, 1, 2, 3), (0, 1, 2, 4), (0, 1, 2, 5), (0, 1, 3, 4), (0, 1, 3, 5), (0, 1, 4, 5), (0, 2, 3, 4), (0, 2, 3, 5), (0, 2, 4, 5), (0, 3, 4, 5), (1, 2, 3, 4), (1, 2, 3, 5), (1, 2, 4, 5), (1, 3, 4, 5), (2, 3, 4, 5)]\n",
      "[(0, 1, 2, 3, 4), (0, 1, 2, 3, 5), (0, 1, 2, 4, 5), (0, 1, 3, 4, 5), (0, 2, 3, 4, 5), (1, 2, 3, 4, 5)]\n"
     ]
    }
   ],
   "source": [
    "for i in range(N):\n",
    "    print(list(combinations(range(6), i)))"
   ]
  },
  {
   "cell_type": "code",
   "execution_count": 68,
   "id": "5949269e",
   "metadata": {},
   "outputs": [
    {
     "data": {
      "text/plain": [
       "[(0, 1, 2, 3, 4),\n",
       " (0, 1, 2, 3, 5),\n",
       " (0, 1, 2, 4, 5),\n",
       " (0, 1, 3, 4, 5),\n",
       " (0, 2, 3, 4, 5),\n",
       " (1, 2, 3, 4, 5)]"
      ]
     },
     "execution_count": 68,
     "metadata": {},
     "output_type": "execute_result"
    }
   ],
   "source": [
    "combis"
   ]
  },
  {
   "cell_type": "code",
   "execution_count": 62,
   "id": "d55addb8",
   "metadata": {},
   "outputs": [
    {
     "data": {
      "text/plain": [
       "[(0, 1),\n",
       " (0, 2),\n",
       " (0, 3),\n",
       " (0, 4),\n",
       " (0, 5),\n",
       " (1, 2),\n",
       " (1, 3),\n",
       " (1, 4),\n",
       " (1, 5),\n",
       " (2, 3),\n",
       " (2, 4),\n",
       " (2, 5),\n",
       " (3, 4),\n",
       " (3, 5),\n",
       " (4, 5)]"
      ]
     },
     "execution_count": 62,
     "metadata": {},
     "output_type": "execute_result"
    }
   ],
   "source": [
    "list(combinations(range(6),2))"
   ]
  }
 ],
 "metadata": {
  "kernelspec": {
   "display_name": "Python 3",
   "language": "python",
   "name": "python3"
  },
  "language_info": {
   "codemirror_mode": {
    "name": "ipython",
    "version": 3
   },
   "file_extension": ".py",
   "mimetype": "text/x-python",
   "name": "python",
   "nbconvert_exporter": "python",
   "pygments_lexer": "ipython3",
   "version": "3.8.8"
  }
 },
 "nbformat": 4,
 "nbformat_minor": 5
}
