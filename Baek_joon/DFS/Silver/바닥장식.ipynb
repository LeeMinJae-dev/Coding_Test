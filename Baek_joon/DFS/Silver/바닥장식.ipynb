{
 "cells": [
  {
   "cell_type": "markdown",
   "id": "bee8695e",
   "metadata": {},
   "source": [
    "## 문제\n",
    "형택이는 건축가이다. 지금 막 형택이는 형택이의 남자 친구 기훈이의 집을 막 완성시켰다. 형택이는 기훈이 방의 바닥 장식을 디자인했고, 이제 몇 개의 나무 판자가 필요한지 궁금해졌다. 나무 판자는 크기 1의 너비를 가졌고, 양수의 길이를 가지고 있다. 기훈이 방은 직사각형 모양이고, 방 안에는 벽과 평행한 모양의 정사각형으로 나누어져 있다.\n",
    "\n",
    "이제 ‘-’와 ‘|’로 이루어진 바닥 장식 모양이 주어진다. 만약 두 개의 ‘-’가 인접해 있고, 같은 행에 있다면, 두 개는 같은 나무 판자이고, 두 개의 ‘|’가 인접해 있고, 같은 열에 있다면, 두 개는 같은 나무 판자이다.\n",
    "\n",
    "기훈이의 방 바닥을 장식하는데 필요한 나무 판자의 개수를 출력하는 프로그램을 작성하시오.\n",
    "\n",
    "## 입력\n",
    "첫째 줄에 방 바닥의 세로 크기N과 가로 크기 M이 주어진다. 둘째 줄부터 N개의 줄에 M개의 문자가 주어진다. 이것은 바닥 장식 모양이고, '-‘와 ’|‘로만 이루어져 있다. N과 M의 제한은 100이다.\n",
    "\n",
    "## 출력\n",
    "첫째 줄에 문제의 정답을 출력한다.\n",
    "\n",
    "예제 입력 1  복사\n",
    "```\n",
    "4 4\n",
    "----\n",
    "----\n",
    "----\n",
    "----\n",
    "예제 출력 1  복사\n",
    "4\n",
    "```"
   ]
  },
  {
   "cell_type": "code",
   "execution_count": 56,
   "id": "df351406",
   "metadata": {},
   "outputs": [
    {
     "name": "stdout",
     "output_type": "stream",
     "text": [
      "10 1\n",
      "----------\n",
      "1\n"
     ]
    }
   ],
   "source": [
    "def dfs_ver(x,y):\n",
    "    if x < 0 or x >= n or y < 0 or y >= m:\n",
    "        return False\n",
    "    \n",
    "    if graph[y][x] == '-':\n",
    "        if visited[y][x] == False:\n",
    "            visited[y][x] = True\n",
    "            dfs_ver(x+1, y)\n",
    "            dfs_ver(x-1, y)\n",
    "            \n",
    "            return True\n",
    "    return False\n",
    "\n",
    "def dfs_hor(x,y):\n",
    "    if x < 0 or x >= n or y < 0 or y >= m:\n",
    "        return False\n",
    "    \n",
    "    if graph[y][x] == '|':\n",
    "        if visited[y][x] == False:\n",
    "            visited[y][x] = True\n",
    "            dfs_hor(x, y+1)\n",
    "            dfs_hor(x, y-1)\n",
    "            \n",
    "            return True\n",
    "    return False   \n",
    "    \n",
    "    \n",
    "m, n = map(int, input().split())\n",
    "\n",
    "graph = []\n",
    "for i in range(m):\n",
    "    graph.append(list(input()))\n",
    "\n",
    "visited = [[False]*n for i in range(m)]\n",
    "\n",
    "\n",
    "result = 0\n",
    "\n",
    "for j in range(n):\n",
    "    for k in range(m):\n",
    "        if graph[k][j] == '-':\n",
    "            if dfs_ver(j,k):\n",
    "                result+=1\n",
    "        if graph[k][j] == '|':\n",
    "            if dfs_hor(j,k):\n",
    "                result+=1\n",
    "                \n",
    "                \n",
    "print(result)\n",
    "\n",
    "\n"
   ]
  },
  {
   "cell_type": "code",
   "execution_count": 33,
   "id": "b7d4aa0d",
   "metadata": {},
   "outputs": [
    {
     "data": {
      "text/plain": [
       "[0]"
      ]
     },
     "execution_count": 33,
     "metadata": {},
     "output_type": "execute_result"
    }
   ],
   "source": [
    "answer"
   ]
  },
  {
   "cell_type": "code",
   "execution_count": 19,
   "id": "b553c985",
   "metadata": {},
   "outputs": [],
   "source": [
    "visited = [[False]*m for i in range(n)]"
   ]
  },
  {
   "cell_type": "code",
   "execution_count": 45,
   "id": "c3337cde",
   "metadata": {},
   "outputs": [],
   "source": [
    "visited = [[False]*4 for i in range(5)]"
   ]
  },
  {
   "cell_type": "code",
   "execution_count": 51,
   "id": "fbafbdaa",
   "metadata": {},
   "outputs": [
    {
     "data": {
      "text/plain": [
       "[[True, True, True, True, True],\n",
       " [True, True, True, True, True],\n",
       " [True, True, True, True, True]]"
      ]
     },
     "execution_count": 51,
     "metadata": {},
     "output_type": "execute_result"
    }
   ],
   "source": [
    "visited"
   ]
  },
  {
   "cell_type": "code",
   "execution_count": null,
   "id": "ba2de71d",
   "metadata": {},
   "outputs": [],
   "source": []
  },
  {
   "cell_type": "code",
   "execution_count": null,
   "id": "73d66c64",
   "metadata": {},
   "outputs": [],
   "source": []
  }
 ],
 "metadata": {
  "kernelspec": {
   "display_name": "Python 3",
   "language": "python",
   "name": "python3"
  },
  "language_info": {
   "codemirror_mode": {
    "name": "ipython",
    "version": 3
   },
   "file_extension": ".py",
   "mimetype": "text/x-python",
   "name": "python",
   "nbconvert_exporter": "python",
   "pygments_lexer": "ipython3",
   "version": "3.8.8"
  }
 },
 "nbformat": 4,
 "nbformat_minor": 5
}
