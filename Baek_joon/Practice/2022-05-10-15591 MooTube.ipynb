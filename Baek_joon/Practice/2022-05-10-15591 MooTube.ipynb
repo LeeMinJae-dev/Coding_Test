{
 "cells": [
  {
   "cell_type": "markdown",
   "id": "db1439f3",
   "metadata": {},
   "source": [
    "---\n",
    "title : \"[BOJ] 16637 괄호 추가하기 (Python3)\"\n",
    "toc : true\n",
    "toc_sticky : true\n",
    "toc_lable : \"On this Page\"\n",
    "categories : baekjoon\n",
    "---\n",
    "## 문제\n",
    "길이가 N인 수식이 있다. 수식은 0보다 크거나 같고, 9보다 작거나 같은 정수와 연산자(+, -, ×)로 이루어져 있다. 연산자 우선순위는 모두 동일하기 때문에, 수식을 계산할 때는 왼쪽에서부터 순서대로 계산해야 한다. 예를 들어, 3+8×7-9×2의 결과는 136이다.\n",
    "\n",
    "수식에 괄호를 추가하면, 괄호 안에 들어있는 식은 먼저 계산해야 한다. 단, 괄호 안에는 연산자가 하나만 들어 있어야 한다. 예를 들어, 3+8×7-9×2에 괄호를 3+(8×7)-(9×2)와 같이 추가했으면, 식의 결과는 41이 된다. 하지만, 중첩된 괄호는 사용할 수 없다. 즉, 3+((8×7)-9)×2, 3+((8×7)-(9×2))은 모두 괄호 안에 괄호가 있기 때문에, 올바른 식이 아니다.\n",
    "\n",
    "수식이 주어졌을 때, 괄호를 적절히 추가해 만들 수 있는 식의 결과의 최댓값을 구하는 프로그램을 작성하시오. 추가하는 괄호 개수의 제한은 없으며, 추가하지 않아도 된다.\n",
    "\n",
    "## 입력\n",
    "첫째 줄에 수식의 길이 N(1 ≤ N ≤ 19)가 주어진다. 둘째 줄에는 수식이 주어진다. 수식에 포함된 정수는 모두 0보다 크거나 같고, 9보다 작거나 같다. 문자열은 정수로 시작하고, 연산자와 정수가 번갈아가면서 나온다. 연산자는 +, -, * 중 하나이다. 여기서 *는 곱하기 연산을 나타내는 × 연산이다. 항상 올바른 수식만 주어지기 때문에, N은 홀수이다.\n",
    "\n",
    "## 출력\n",
    "첫째 줄에 괄호를 적절히 추가해서 얻을 수 있는 결과의 최댓값을 출력한다. 정답은 231보다 작고, -231보다 크다.\n",
    "```\n",
    "예제 입력 1  \n",
    "9\n",
    "3+8*7-9*2\n",
    "예제 출력 1  \n",
    "136\n",
    "\n",
    "예제 입력 2  \n",
    "5\n",
    "8*3+5\n",
    "예제 출력 2  \n",
    "64\n",
    "\n",
    "예제 입력 3  \n",
    "7\n",
    "8*3+5+2\n",
    "예제 출력 3  \n",
    "66\n",
    "\n",
    "예제 입력 4  \n",
    "19\n",
    "1*2+3*4*5-6*7*8*9*0\n",
    "예제 출력 4  \n",
    "0\n",
    "\n",
    "예제 입력 5  \n",
    "19\n",
    "1*2+3*4*5-6*7*8*9*9\n",
    "예제 출력 5  \n",
    "426384\n",
    "\n",
    "예제 입력 6  \n",
    "19\n",
    "1-9-1-9-1-9-1-9-1-9\n",
    "예제 출력 6  \n",
    "24\n",
    "```"
   ]
  },
  {
   "cell_type": "code",
   "execution_count": 46,
   "id": "2582b673",
   "metadata": {},
   "outputs": [
    {
     "name": "stdout",
     "output_type": "stream",
     "text": [
      "['3', '+', '(', '8', '*', '7', ')', '-', '9', '*', '2']\n"
     ]
    }
   ],
   "source": [
    "formula = list(\"3+8*7-9*2\")\n",
    "\n",
    "formula.insert(2, \"(\")\n",
    "formula.insert(6, \")\")\n",
    "print(formula)"
   ]
  },
  {
   "cell_type": "markdown",
   "id": "cc46671c",
   "metadata": {},
   "source": [
    "0, 4\n",
    "2, 6\n",
    "4, 8\n",
    "\n"
   ]
  },
  {
   "cell_type": "code",
   "execution_count": 21,
   "id": "9c58aad7",
   "metadata": {},
   "outputs": [
    {
     "name": "stdin",
     "output_type": "stream",
     "text": [
      " 9\n",
      " 3+8*7-9*2\n"
     ]
    },
    {
     "name": "stdout",
     "output_type": "stream",
     "text": [
      "-inf\n",
      "-inf\n"
     ]
    }
   ],
   "source": [
    "import sys\n",
    "from math import inf\n",
    "\n",
    "\n",
    "def calculate(a, op, b):\n",
    "    return eval(a + op + b)\n",
    "\n",
    "def dfs(idx, sub_total):\n",
    "    global answer\n",
    "    \n",
    "    if idx == len(op):\n",
    "        answer = max(answer, int(sub_total))\n",
    "        return\n",
    "    \n",
    "    first = str(eval(sub_total + op[idx] + nums[idx + 1]))\n",
    "    dfs(idx + 1, first)\n",
    "    \n",
    "    if idx + 1 < len(op):\n",
    "        second = str(eval(nums[idx + 1] + op[idx + 1] + nums[idx + 2]))\n",
    "        second = str(eval(nums[idx] + op[idx] + second))\n",
    "        \n",
    "        dfs(idx + 2, second)\n",
    "        \n",
    "if __name__ == '__main__':\n",
    "    n = int(input())\n",
    "    expression = input().rstrip()\n",
    "    nums, op = [], []\n",
    "    answer = -inf\n",
    "\n",
    "    for e in expression:\n",
    "        nums.append(e) if e.isdigit() else op.append(e)\n",
    "\n",
    "    dfs(0, nums[0])\n",
    "    print(answer)\n",
    "    \n",
    "print(answer)"
   ]
  },
  {
   "cell_type": "code",
   "execution_count": 4,
   "id": "7c485ac9",
   "metadata": {},
   "outputs": [
    {
     "data": {
      "text/plain": [
       "41"
      ]
     },
     "execution_count": 4,
     "metadata": {},
     "output_type": "execute_result"
    }
   ],
   "source": [
    "3+8*7-9*2"
   ]
  },
  {
   "cell_type": "code",
   "execution_count": 20,
   "id": "8db6cb94",
   "metadata": {},
   "outputs": [
    {
     "name": "stdin",
     "output_type": "stream",
     "text": [
      " 9\n",
      " 3+8*7-9*2\n"
     ]
    },
    {
     "name": "stdout",
     "output_type": "stream",
     "text": [
      "136\n"
     ]
    }
   ],
   "source": [
    "from math import inf\n",
    "from sys import stdin\n",
    "\n",
    "\n",
    "def dfs(idx, sub_total):\n",
    "    global answer\n",
    "\n",
    "    if idx == len(op):\n",
    "        answer = max(answer, int(sub_total))\n",
    "        return\n",
    "\n",
    "    # (3 + 8) * 7 - 9 * 2 부터 시작.\n",
    "    first = str(eval(sub_total + op[idx] + nums[idx + 1]))\n",
    "    dfs(idx + 1, first)\n",
    "\n",
    "    if idx + 1 < len(op):\n",
    "        # 3 + (8 * 7) - 9 * 2 부터 시작\n",
    "        second = str(eval(nums[idx + 1] + op[idx + 1] + nums[idx + 2]))\n",
    "        second = str(eval(sub_total + op[idx] + second))\n",
    "        # op를 2개 소모했으므로 idx + 2\n",
    "        dfs(idx + 2, second)\n",
    "\n",
    "\n",
    "if __name__ == '__main__':\n",
    "    n = int(input())\n",
    "    expression = input().rstrip()\n",
    "    nums, op = [], []\n",
    "    answer = -inf\n",
    "\n",
    "    for e in expression:\n",
    "        nums.append(e) if e.isdigit() else op.append(e)\n",
    "\n",
    "    dfs(0, nums[0])\n",
    "    print(answer)"
   ]
  },
  {
   "cell_type": "code",
   "execution_count": null,
   "id": "716620f1",
   "metadata": {},
   "outputs": [],
   "source": []
  }
 ],
 "metadata": {
  "kernelspec": {
   "display_name": "Python 3",
   "language": "python",
   "name": "python3"
  },
  "language_info": {
   "codemirror_mode": {
    "name": "ipython",
    "version": 3
   },
   "file_extension": ".py",
   "mimetype": "text/x-python",
   "name": "python",
   "nbconvert_exporter": "python",
   "pygments_lexer": "ipython3",
   "version": "3.9.7"
  }
 },
 "nbformat": 4,
 "nbformat_minor": 5
}
