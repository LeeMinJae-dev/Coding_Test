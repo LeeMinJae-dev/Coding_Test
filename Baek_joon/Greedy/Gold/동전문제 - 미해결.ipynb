{
 "cells": [
  {
   "cell_type": "markdown",
   "id": "6b38fe2d",
   "metadata": {},
   "source": [
    "## 문제\n",
    "김형택이 세운 나라의 화폐 체계는 단순하다. 이곳은 동전만 사용하고, 동전은 다음과 같이 다른 값을 가진다.\n",
    "\n",
    "1, 10, 25, 100, 1000, 2500, 10000, 100000, ...\n",
    "\n",
    "식으로 나타내면 0보다 크거나 같은 모든 K에 대해서 10^K인 동전과 25*100^K인 동전이 있다.\n",
    "\n",
    "이기훈은 이 나라에서 새로운 차를 한 대 사려고 한다. 이기훈은 차를 살 때, 가능하면 동전의 개수를 최소로 하려고 한다. 이기훈이 필요한 동전 개수의 최솟값을 출력하는 프로그램을 작성하시오. (모든 값의 동전의 개수는 무한하고, 차를 살 때 정확하게 차의 값만큼 지불해야 한다.)\n",
    "\n",
    "## 입력\n",
    "첫째 줄에 테스트 케이스의 개수 T가 주어진다. 둘째 줄부터 T개의 줄에 차의 값이 주어진다. 이 값은 10^15보다 작거나 같은 자연수이다.\n",
    "\n",
    "## 출력\n",
    "총 T개의 줄에 각각의 테스트 케이스의 필요한 동전의 개수를 출력한다.\n",
    "```\n",
    "예제 입력 1  복사\n",
    "2\n",
    "47\n",
    "9\n",
    "예제 출력 1  복사\n",
    "5\n",
    "9\n",
    "```\n"
   ]
  },
  {
   "cell_type": "code",
   "execution_count": 43,
   "id": "57bed9fc",
   "metadata": {},
   "outputs": [
    {
     "name": "stdout",
     "output_type": "stream",
     "text": [
      "1\n",
      "34\n",
      "10\n"
     ]
    }
   ],
   "source": [
    "#테스트케이스의 개수\n",
    "T = int(input())\n",
    "car_price = []\n",
    "# T의 개수만큼 차가격을 입력으로 받아 car_price에 저장\n",
    "for i in range(T):\n",
    "    car_price.append(int(input()))\n",
    "\n",
    "#들어온 차가격을 계산하기 위해 필요한 동전까지 coin에 저장한다.\n",
    "k = 1\n",
    "coin = [1]\n",
    "#10^k 동전 추가\n",
    "while max(coin) <= max(car_price):\n",
    "    coin.append(pow(10, k))\n",
    "    k+=1\n",
    "coin.pop()\n",
    "#25*100^k 동전 추가 \n",
    "for i in range(k//3):\n",
    "    coin.append(25 *pow(100,i))\n",
    "#내림차순 정렬\n",
    "coin.sort(reverse=True)\n",
    "\n",
    "result = []\n",
    "\n",
    "for car in car_price:\n",
    "    i = 0\n",
    "    change = 0\n",
    "    while car:\n",
    "        change += car//coin[i]\n",
    "        car = car%coin[i]\n",
    "        i+=1\n",
    "    result.append(change)\n",
    "\n",
    "for i in result:\n",
    "    print(i)\n"
   ]
  },
  {
   "cell_type": "code",
   "execution_count": 36,
   "id": "8b97a94a",
   "metadata": {},
   "outputs": [
    {
     "data": {
      "text/plain": [
       "[10000, 2500, 1000, 100, 25, 10, 1]"
      ]
     },
     "execution_count": 36,
     "metadata": {},
     "output_type": "execute_result"
    }
   ],
   "source": [
    "coin"
   ]
  },
  {
   "cell_type": "code",
   "execution_count": null,
   "id": "230f4ee6",
   "metadata": {},
   "outputs": [],
   "source": []
  }
 ],
 "metadata": {
  "kernelspec": {
   "display_name": "Python 3",
   "language": "python",
   "name": "python3"
  },
  "language_info": {
   "codemirror_mode": {
    "name": "ipython",
    "version": 3
   },
   "file_extension": ".py",
   "mimetype": "text/x-python",
   "name": "python",
   "nbconvert_exporter": "python",
   "pygments_lexer": "ipython3",
   "version": "3.8.8"
  }
 },
 "nbformat": 4,
 "nbformat_minor": 5
}
