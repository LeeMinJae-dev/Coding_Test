{
 "cells": [
  {
   "cell_type": "markdown",
   "id": "e973ab00",
   "metadata": {},
   "source": [
    "## 문제\n",
    "오늘 사탕 M개를 가득 담은 박스가 택배로 택희네 집에 도착했다. 택희는 이 사탕을 N명의 친구들에게 나누어 주려고 한다.\n",
    "\n",
    "택희의 친구들은 문자로 사탕을 몇 개 받고 싶은지 보냈다. 만약 받고 싶은 개수만큼 사탕을 받지 못한다면, 그 친구는 분노하게 되고, 못 받는 개수가 많아질 수록 더욱 분노하게 된다.\n",
    "\n",
    "놀랍게도 택희는 친구들의 분노를 수치화 할 수 있는데, 이것은 못 받는 사탕 개수의 제곱이다.\n",
    "\n",
    "예를 들어, 택희의 친구 백준이가 받고 싶은 사탕의 개수가 32개였을 때, 사탕을 29개 받아 3개를 받지 못한다면, 그의 분노는 3의 제곱 9가 된다.\n",
    "\n",
    "택희가 받은 사탕의 개수와 친구의 수, 그리고 그 친구들이 받고 싶어하는 사탕의 개수가 주어졌을 때, 사탕을 적절히 나누어 주어 친구들의 분노의 합을 최소화해 그 값을 출력하는 프로그램을 작성하시오.\n",
    "\n",
    "## 입력\n",
    "첫째 줄에 M(1 ≤ M ≤ 2×109)와 N(1 ≤ N ≤ 100,000)이 주어진다. 둘째 줄부터 N개의 줄에는 각 친구들이 받고 싶어하는 사탕의 개수가 주어진다. 이 개수는 2×109보다 작으며, 친구들이 받고 싶어하는 사탕의 개수의 합은 항상 M을 넘는다.\n",
    "\n",
    "## 출력\n",
    "첫째 줄에 택희 친구들의 분노의 합의 최솟값을 264로 나눈 나머지를 출력한다.\n",
    "\n",
    "```\n",
    "예제 입력 1  복사\n",
    "5 3\n",
    "1\n",
    "3\n",
    "2\n",
    "예제 출력 1  복사\n",
    "1\n",
    "예제 입력 2  복사\n",
    "10 4\n",
    "4\n",
    "5\n",
    "2\n",
    "3\n",
    "예제 출력 2  복사\n",
    "4\n",
    "```"
   ]
  },
  {
   "cell_type": "code",
   "execution_count": 51,
   "id": "e0f7f501",
   "metadata": {},
   "outputs": [
    {
     "name": "stdout",
     "output_type": "stream",
     "text": [
      "10 3\n",
      "5\n",
      "5\n",
      "6\n",
      "12\n"
     ]
    }
   ],
   "source": [
    "# M: 사탕의 개수, N: 친구들의 명수\n",
    "M, N = map(int, input().split())\n",
    "\n",
    "# want 리스트에 친구들이 받기 원하는 캔디의 개수를 넣는다.\n",
    "want = []\n",
    "for i in range(N):\n",
    "    want.append(int(input()))\n",
    "\n",
    "#리스트 정렬\n",
    "want.sort()\n",
    "#친구들이 원하는 캔디의 양의 합에서 캔디의 개수를 빼서 분노지수에 저장한다.\n",
    "rage = sum(want) - M\n",
    "\n",
    "\n",
    "# 분노가 0이 될때까지 원하는 캔디의 양이 적은 친구부터 1씩 분노를 분배한다.\n",
    "i = rage%N\n",
    "\n",
    "ans = pow(rage//N,2)*(N-rage%N)\n",
    "ans += pow(rage//N+1,2) * (rage%N)\n",
    "\n",
    "print(ans)\n",
    "\n",
    "\n"
   ]
  },
  {
   "cell_type": "code",
   "execution_count": 6,
   "id": "b7234eaa",
   "metadata": {},
   "outputs": [
    {
     "data": {
      "text/plain": [
       "[1, 1, 1]"
      ]
     },
     "execution_count": 6,
     "metadata": {},
     "output_type": "execute_result"
    }
   ],
   "source": [
    "want"
   ]
  },
  {
   "cell_type": "code",
   "execution_count": 31,
   "id": "8c1f04e6",
   "metadata": {},
   "outputs": [],
   "source": [
    "result = [0 for i in range(len(want))]"
   ]
  },
  {
   "cell_type": "code",
   "execution_count": 32,
   "id": "e5f0c27c",
   "metadata": {},
   "outputs": [
    {
     "data": {
      "text/plain": [
       "[0, 0, 0, 0]"
      ]
     },
     "execution_count": 32,
     "metadata": {},
     "output_type": "execute_result"
    }
   ],
   "source": [
    "result"
   ]
  },
  {
   "cell_type": "code",
   "execution_count": 52,
   "id": "299a9548",
   "metadata": {},
   "outputs": [
    {
     "name": "stdout",
     "output_type": "stream",
     "text": [
      "5 3\n",
      "1\n",
      "3\n",
      "5\n",
      "1\n"
     ]
    }
   ],
   "source": [
    "# M: 사탕의 개수, N: 친구들의 명수\n",
    "M, N = map(int, input().split())\n",
    "\n",
    "# want 리스트에 친구들이 받기 원하는 캔디의 개수를 넣는다.\n",
    "want = []\n",
    "for i in range(N):\n",
    "    want.append(int(input()))\n",
    "\n",
    "#리스트 정렬\n",
    "want.sort()\n",
    "#친구들이 원하는 캔디의 양의 합에서 캔디의 개수를 빼서 분노지수에 저장한다.\n",
    "rage = sum(want) - M\n",
    "\n",
    "\n",
    "# 분노가 0이 될때까지 원하는 캔디의 양이 적은 친구부터 1씩 분노를 분배한다.\n",
    "i = len(want)\n",
    "while rage:\n",
    "    want[i%len(want)] = 0\n",
    "    want[i%len(want)]+=1\n",
    "    i+=1\n",
    "    rage-=1\n",
    "    \n",
    "ans = 0\n",
    "# result의 요소들을 제곱해준다.\n",
    "for i in range(len(result)):\n",
    "     ans+= pow(result[i], 2)\n",
    "\n",
    "print(ans)\n",
    "\n",
    "\n"
   ]
  },
  {
   "cell_type": "code",
   "execution_count": null,
   "id": "7ec2e214",
   "metadata": {},
   "outputs": [],
   "source": []
  }
 ],
 "metadata": {
  "kernelspec": {
   "display_name": "Python 3",
   "language": "python",
   "name": "python3"
  },
  "language_info": {
   "codemirror_mode": {
    "name": "ipython",
    "version": 3
   },
   "file_extension": ".py",
   "mimetype": "text/x-python",
   "name": "python",
   "nbconvert_exporter": "python",
   "pygments_lexer": "ipython3",
   "version": "3.8.8"
  }
 },
 "nbformat": 4,
 "nbformat_minor": 5
}
