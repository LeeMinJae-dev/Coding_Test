{
 "cells": [
  {
   "cell_type": "markdown",
   "id": "b40622c9",
   "metadata": {},
   "source": [
    "---\n",
    "title: \"[BOJ] 2473 되었을까? (Python3)\"\n",
    "\n",
    "categories:\n",
    "    baekjoon\n",
    "tags:\n",
    "    백준\n",
    "    파이썬\n",
    "    Greedy\n",
    "toc: true\n",
    "toc_label: \"On this page\"\n",
    "toc_sticky: true\n",
    "\n",
    "    \n",
    "---\n",
    "## 문제\n",
    "하나의 양팔 저울을 이용하여 물건의 무게를 측정하려고 한다. 이 저울의 양 팔의 끝에는 물건이나 추를 올려놓는 접시가 달려 있고, 양팔의 길이는 같다. 또한, 저울의 한쪽에는 저울추들만 놓을 수 있고, 다른 쪽에는 무게를 측정하려는 물건만 올려놓을 수 있다.\n",
    "\n",
    "무게가 양의 정수인 N개의 저울추가 주어질 때, 이 추들을 사용하여 측정할 수 없는 양의 정수 무게 중 최솟값을 구하는 프로그램을 작성하시오.\n",
    "\n",
    "예를 들어, 무게가 각각 3, 1, 6, 2, 7, 30, 1인 7개의 저울추가 주어졌을 때, 이 추들로 측정할 수 없는 양의 정수 무게 중 최솟값은 21이다. \n",
    "\n",
    "## 입력\n",
    "첫 째 줄에는 저울추의 개수를 나타내는 양의 정수 N이 주어진다. N은 1 이상 1,000 이하이다. 둘째 줄에는 저울추의 무게를 나타내는 N개의 양의 정수가 빈칸을 사이에 두고 주어진다. 각 추의 무게는 1이상 1,000,000 이하이다.\n",
    "\n",
    "## 출력\n",
    "첫째 줄에 주어진 추들로 측정할 수 없는 양의 정수 무게 중 최솟값을 출력한다.\n",
    "\n",
    "```\n",
    "예제 입력 1  복사\n",
    "7\n",
    "3 1 6 2 7 30 1\n",
    "예제 출력 1  복사\n",
    "21\n",
    "```\n",
    "\n",
    "## 코드"
   ]
  },
  {
   "cell_type": "code",
   "execution_count": 12,
   "id": "fe16ff0b",
   "metadata": {},
   "outputs": [
    {
     "name": "stdout",
     "output_type": "stream",
     "text": [
      "7\n",
      "3 1 6 2 7 30 1\n",
      "2\n",
      "3\n",
      "5\n",
      "8\n",
      "14\n",
      "21\n"
     ]
    }
   ],
   "source": [
    "#무게추의 개수 N\n",
    "N = int(input())\n",
    "\n",
    "#무게추들의 값을 공백을 기준으로 나눈 값으로 받아 리스트로 저장한다.\n",
    "weights = list(map(int, input().split()))\n",
    "\n",
    "#리스트 정렬\n",
    "weights.sort()\n",
    "\n",
    "target = 1\n",
    "\n",
    "for i in weights:\n",
    "    if target < i:\n",
    "        break\n",
    "    target+= i\n",
    "print(target)\n",
    "\n",
    "\n"
   ]
  }
 ],
 "metadata": {
  "kernelspec": {
   "display_name": "Python 3",
   "language": "python",
   "name": "python3"
  },
  "language_info": {
   "codemirror_mode": {
    "name": "ipython",
    "version": 3
   },
   "file_extension": ".py",
   "mimetype": "text/x-python",
   "name": "python",
   "nbconvert_exporter": "python",
   "pygments_lexer": "ipython3",
   "version": "3.8.8"
  }
 },
 "nbformat": 4,
 "nbformat_minor": 5
}
