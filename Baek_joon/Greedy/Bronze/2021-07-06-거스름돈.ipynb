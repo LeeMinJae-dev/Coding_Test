{
 "cells": [
  {
   "cell_type": "markdown",
   "id": "231d5ef8",
   "metadata": {},
   "source": [
    "---\n",
    "title: \"[BOJ] 5585 거스름돈 (Python3)\"\n",
    "\n",
    "categories:\n",
    "    baekjoon\n",
    "tags:\n",
    "    백준\n",
    "    파이썬\n",
    "    Greedy\n",
    "toc: true\n",
    "toc_label: \"On this page\"\n",
    "toc_sticky: true\n",
    "\n",
    "    \n",
    "---\n",
    "## 문제\n",
    "타로는 자주 JOI잡화점에서 물건을 산다. JOI잡화점에는 잔돈으로 500엔, 100엔, 50엔, 10엔, 5엔, 1엔이 충분히 있고, 언제나 거스름돈 개수가 가장 적게 잔돈을 준다. 타로가 JOI잡화점에서 물건을 사고 카운터에서 1000엔 지폐를 한장 냈을 때, 받을 잔돈에 포함된 잔돈의 개수를 구하는 프로그램을 작성하시오.\n",
    "\n",
    "## 입력\n",
    "입력은 한줄로 이루어져있고, 타로가 지불할 돈(1 이상 1000미만의 정수) 1개가 쓰여져있다.\n",
    "\n",
    "## 출력\n",
    "제출할 출력 파일은 1행으로만 되어 있다. 잔돈에 포함된 매수를 출력하시오.\n",
    "\n",
    "```\n",
    "예제 입력 1  복사\n",
    "380\n",
    "예제 출력 1  복사\n",
    "4\n",
    "예제 입력 2  복사\n",
    "1\n",
    "예제 출력 2  복사\n",
    "15\n",
    "```"
   ]
  },
  {
   "cell_type": "code",
   "execution_count": 2,
   "id": "6ea22781",
   "metadata": {},
   "outputs": [
    {
     "name": "stdout",
     "output_type": "stream",
     "text": [
      "380\n",
      "4\n"
     ]
    }
   ],
   "source": [
    "price = int(input())\n",
    "\n",
    "change = 1000 - price\n",
    "\n",
    "a = change//500\n",
    "b = change%500//100\n",
    "c = change%500%100//50\n",
    "d = change%500%100%50//10\n",
    "e = change%500%100%50%10//5\n",
    "f = change%500%100%50%10%5//1\n",
    "\n",
    "print(sum([a,b,c,d,e,f]))"
   ]
  },
  {
   "cell_type": "code",
   "execution_count": null,
   "id": "699b4b79",
   "metadata": {},
   "outputs": [],
   "source": []
  }
 ],
 "metadata": {
  "kernelspec": {
   "display_name": "Python 3",
   "language": "python",
   "name": "python3"
  },
  "language_info": {
   "codemirror_mode": {
    "name": "ipython",
    "version": 3
   },
   "file_extension": ".py",
   "mimetype": "text/x-python",
   "name": "python",
   "nbconvert_exporter": "python",
   "pygments_lexer": "ipython3",
   "version": "3.8.8"
  }
 },
 "nbformat": 4,
 "nbformat_minor": 5
}
