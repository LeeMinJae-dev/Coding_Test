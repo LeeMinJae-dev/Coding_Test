{
 "cells": [
  {
   "cell_type": "markdown",
   "id": "f737ae99",
   "metadata": {},
   "source": [
    "---\n",
    "title: \"[BOJ] 11034 캥거루 세마리2 (Python3)\"\n",
    "\n",
    "categories:\n",
    "    baekjoon\n",
    "tags:\n",
    "    백준\n",
    "    파이썬\n",
    "    Greedy\n",
    "toc: true\n",
    "toc_label: \"On this page\"\n",
    "toc_sticky: true\n",
    "\n",
    "    \n",
    "---\n",
    "## 문제\n",
    "캥거루 세 마리가 사막에서 놀고 있다. 사막에는 수직선이 하나 있고, 캥거루는 서로 다른 한 좌표 위에 있다.\n",
    "\n",
    "한 번 움직일 때, 바깥쪽의 두 캥거루 중 한 마리가 다른 두 캥거루 사이의 정수 좌표로 점프한다. 한 좌표 위에 있는 캥거루가 두 마리 이상일 수는 없다.\n",
    "\n",
    "캥거루는 최대 몇 번 움직일 수 있을까?\n",
    "\n",
    "## 입력\n",
    "여러개의 테스트 케이스로 이루어져 있으며, 세 캥거루의 초기 위치 A, B, C가 주어진다. (0 < A < B < C < 100)\n",
    "\n",
    "## 출력\n",
    "각 테스트에 대해 캥거루가 최대 몇 번 움직일 수 있는지 출력한다.\n",
    "```\n",
    "예제 입력 1  \n",
    "2 3 5\n",
    "3 5 9\n",
    "예제 출력 1  \n",
    "1\n",
    "3\n",
    "```\n",
    "\n",
    "## 코드"
   ]
  },
  {
   "cell_type": "code",
   "execution_count": 9,
   "id": "d676d050",
   "metadata": {},
   "outputs": [
    {
     "name": "stdout",
     "output_type": "stream",
     "text": [
      "2 3 5\n",
      "1\n",
      "1 2\n"
     ]
    }
   ],
   "source": [
    "while 1:\n",
    "    try:\n",
    "        A, B, C = map(int, input().split())#캥거루의 좌표 A,B,C를 입력받는다.  ##왼쪽캥거루가 뛰는 경우, 오른쪽 캥거루가 뛰는경우\n",
    "        print(max(C-B, B-A)-1)\n",
    "    except:\n",
    "        break"
   ]
  }
 ],
 "metadata": {
  "kernelspec": {
   "display_name": "Python 3",
   "language": "python",
   "name": "python3"
  },
  "language_info": {
   "codemirror_mode": {
    "name": "ipython",
    "version": 3
   },
   "file_extension": ".py",
   "mimetype": "text/x-python",
   "name": "python",
   "nbconvert_exporter": "python",
   "pygments_lexer": "ipython3",
   "version": "3.8.8"
  }
 },
 "nbformat": 4,
 "nbformat_minor": 5
}
