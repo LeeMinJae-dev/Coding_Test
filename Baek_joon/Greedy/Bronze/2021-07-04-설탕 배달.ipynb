{
 "cells": [
  {
   "cell_type": "markdown",
   "id": "e7a51d5f",
   "metadata": {},
   "source": [
    "---\n",
    "title: \"[BOJ] 2839 설탕 배달 (Python3)\"\n",
    "\n",
    "categories:\n",
    "    baekjoon\n",
    "tags:\n",
    "    백준\n",
    "    파이썬\n",
    "    Greedy\n",
    "toc: true\n",
    "toc_label: \"On this page\"\n",
    "toc_sticky: true\n",
    "\n",
    "    \n",
    "---\n",
    "## 문제\n",
    "상근이는 요즘 설탕공장에서 설탕을 배달하고 있다. 상근이는 지금 사탕가게에 설탕을 정확하게 N킬로그램을 배달해야 한다. 설탕공장에서 만드는 설탕은 봉지에 담겨져 있다. 봉지는 3킬로그램 봉지와 5킬로그램 봉지가 있다.\n",
    "\n",
    "상근이는 귀찮기 때문에, 최대한 적은 봉지를 들고 가려고 한다. 예를 들어, 18킬로그램 설탕을 배달해야 할 때, 3킬로그램 봉지 6개를 가져가도 되지만, 5킬로그램 3개와 3킬로그램 1개를 배달하면, 더 적은 개수의 봉지를 배달할 수 있다.\n",
    "\n",
    "상근이가 설탕을 정확하게 N킬로그램 배달해야 할 때, 봉지 몇 개를 가져가면 되는지 그 수를 구하는 프로그램을 작성하시오.\n",
    "\n",
    "## 입력\n",
    "첫째 줄에 N이 주어진다. (3 ≤ N ≤ 5000)\n",
    "\n",
    "## 출력\n",
    "상근이가 배달하는 봉지의 최소 개수를 출력한다. 만약, 정확하게 N킬로그램을 만들 수 없다면 -1을 출력한다.\n",
    "```\n",
    "예제 입력 1  복사\n",
    "18\n",
    "예제 출력 1  복사\n",
    "4\n",
    "예제 입력 2  복사\n",
    "4\n",
    "예제 출력 2  복사\n",
    "-1\n",
    "예제 입력 3  복사\n",
    "6\n",
    "예제 출력 3  복사\n",
    "2\n",
    "예제 입력 4  복사\n",
    "9\n",
    "예제 출력 4  복사\n",
    "3\n",
    "예제 입력 5  복사\n",
    "11\n",
    "예제 출력 5  복사\n",
    "3\n",
    "```\n",
    "## 코드"
   ]
  },
  {
   "cell_type": "code",
   "execution_count": 150,
   "id": "5dd7c8c2",
   "metadata": {},
   "outputs": [
    {
     "name": "stdout",
     "output_type": "stream",
     "text": [
      "18\n",
      "4\n"
     ]
    }
   ],
   "source": [
    "n = int(input()) #설탕\n",
    "\n",
    "result = 0 #봉지수\n",
    "\n",
    "while n>=0:\n",
    "    if n%5 == 0: #5의 나머지가 0인경우\n",
    "        result += n//5\n",
    "        print(result) # 5로 나눈 몫이 답\n",
    "        break\n",
    "    n-= 3 # 5로 나눠지지 않으면, 나눠질때까지 3을 빼준다.\n",
    "    result+= 1 #빼면 봉지 하나 추가\n",
    "else: #while이 거짓이 되어 종료되면\n",
    "    print(-1)\n",
    "    \n",
    "    \n",
    "    "
   ]
  }
 ],
 "metadata": {
  "kernelspec": {
   "display_name": "Python 3",
   "language": "python",
   "name": "python3"
  },
  "language_info": {
   "codemirror_mode": {
    "name": "ipython",
    "version": 3
   },
   "file_extension": ".py",
   "mimetype": "text/x-python",
   "name": "python",
   "nbconvert_exporter": "python",
   "pygments_lexer": "ipython3",
   "version": "3.8.8"
  }
 },
 "nbformat": 4,
 "nbformat_minor": 5
}
