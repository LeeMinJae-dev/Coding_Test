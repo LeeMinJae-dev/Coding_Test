{
 "cells": [
  {
   "cell_type": "markdown",
   "id": "22643787",
   "metadata": {},
   "source": [
    "---\n",
    "title: \"[BOJ] 17208 카우버거 (Python3)\"\n",
    "\n",
    "categories:\n",
    "    baekjoon\n",
    "tags:\n",
    "    백준\n",
    "    파이썬\n",
    "    Greedy\n",
    "toc: true\n",
    "toc_label: \"On this page\"\n",
    "toc_sticky: true\n",
    "\n",
    "    \n",
    "---\n",
    "## 문제\n",
    "윤진이는 이번에 카우버거 알바생으로 뽑히게 되었다. 그녀는 카우버거를 평소에 이용하면서 들었던 의문점 한가지가 있었다.\n",
    "\n",
    "\"카우버거에는 왜 세트 메뉴에 대한 할인이 존재하지 않는가?\"\n",
    "따라서 윤진이의 아이디어로 카우버거에 세트 할인을 도입하고자 한다. 세트 메뉴는 버거 1개, 사이드 메뉴 1개, 음료 1개를 선택 할 경우 각각의 제품에 대해서 10%의 세트 할인을 적용하는 방식으로 진행된다.\n",
    "\n",
    "하지만 카우버거 점주는 POS기의 소프트웨어가 오래되어 세트 할인에 대한 내용을 추가할 수가 없었다. 따라서 소프트웨어학부에 재학 중인 윤진이는 전공을 살려 직접 프로그램을 만들어보려고 한다. 윤진이를 도와 POS기에 들어갈 세트 할인에 대한 프로그램을 작성해보자.\n",
    "\n",
    "## 입력\n",
    "첫째 줄에는 주문한 버거의 개수 B, 사이드 메뉴의 개수 C, 음료의 개수 D가 공백을 사이에 두고 순서대로 주어진다. (1 ≤ B, C, D ≤ 1,000)\n",
    "\n",
    "둘째 줄에는 각 버거의 가격이 공백을 사이에 두고 주어진다.\n",
    "\n",
    "셋째 줄에는 각 사이드 메뉴의 가격이 공백을 사이에 두고 주어진다.\n",
    "\n",
    "넷째 줄에는 각 음료의 가격이 공백을 사이에 두고 주어진다.\n",
    "\n",
    "각 메뉴의 가격은 100의 배수이며, 10000원을 넘지 않는다.\n",
    "\n",
    " \n",
    "\n",
    "## 출력\n",
    "첫째 줄에는 세트 할인이 적용되기 전 가격을 출력한다.\n",
    "\n",
    "둘째 줄에는 세트 할인이 적용된 후의 최소 가격을 출력한다.\n",
    "\n",
    "예제 입력 1  복사\n",
    "3 3 2\n",
    "2000 3000 2500\n",
    "800 1300 1000\n",
    "500 1000\n",
    "예제 출력 1  복사\n",
    "12100\n",
    "11170\n",
    "\n",
    "## 힌트\n",
    "입력 예에 나온 메뉴들의 가격을 모두 합하면 12100원이다.\n",
    "\n",
    "첫 번째 세트는 3000원짜리 버거, 1300원짜리 사이드메뉴, 1000원짜리 음료로 구성하면 5300 * 0.9 = 4770원이다.\n",
    "\n",
    "두 번째 세트는 2500원짜리 버거, 1000원짜리 사이드메뉴, 500원짜리 음료로 구성하면 4000 * 0.9 = 3600원이다.\n",
    "\n",
    "남은 2000원짜리 버거와 800원짜리 사이드메뉴는 음료가 없으므로 세트 할인을 받을 수 없다. 따라서 세트 할인이 적용된 후의 최소 가격은 4770+3600+2800 = 11170원이 된다.\n",
    "\n",
    "## 코드"
   ]
  },
  {
   "cell_type": "code",
   "execution_count": 29,
   "id": "d87bdbf1",
   "metadata": {},
   "outputs": [
    {
     "name": "stdout",
     "output_type": "stream",
     "text": [
      "3 3 3\n",
      "2500 2000 2000\n",
      "3000 3000 2500\n",
      "800 200 300\n",
      "16300\n",
      "14670\n"
     ]
    }
   ],
   "source": [
    "B, C, D = map(int, input().split()) \n",
    "#B: 버거의 개수, C : 사이드메뉴의 개수, D : 음료의 개수\n",
    "\n",
    "B_list = list(map(int, input().split()))\n",
    "\n",
    "C_list = list(map(int, input().split()))\n",
    "\n",
    "D_list = list(map(int, input().split()))\n",
    "\n",
    "B_list.sort(reverse= True)\n",
    "C_list.sort(reverse= True)\n",
    "D_list.sort(reverse= True)\n",
    "\n",
    "set_num = min(B,C,D)\n",
    "\n",
    "    \n",
    "print(sum([sum(B_list), sum(C_list), sum(D_list)]))\n",
    "for i in range(set_num):\n",
    "    B_list[i] = B_list[i]*90/100\n",
    "    C_list[i] = C_list[i]*90/100\n",
    "    D_list[i] = D_list[i]*90/100\n",
    "    \n",
    "print(int(sum([sum(B_list), sum(C_list), sum(D_list)])))\n"
   ]
  }
 ],
 "metadata": {
  "kernelspec": {
   "display_name": "Python 3",
   "language": "python",
   "name": "python3"
  },
  "language_info": {
   "codemirror_mode": {
    "name": "ipython",
    "version": 3
   },
   "file_extension": ".py",
   "mimetype": "text/x-python",
   "name": "python",
   "nbconvert_exporter": "python",
   "pygments_lexer": "ipython3",
   "version": "3.8.8"
  }
 },
 "nbformat": 4,
 "nbformat_minor": 5
}
