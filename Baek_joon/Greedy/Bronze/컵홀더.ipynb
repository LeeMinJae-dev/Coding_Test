{
 "cells": [
  {
   "cell_type": "markdown",
   "id": "fb297e6e",
   "metadata": {},
   "source": [
    "## 문제\n",
    "십년이면 강산이 변한다.\n",
    "\n",
    "강산이네 동네에 드디어 극장이 생겼고, 강산이는 극장에 놀러갔다. 매점에서 콜라를 산 뒤, 자리에 앉은 강산이는 큰 혼란에 빠졌다. 양쪽 컵홀더를 이미 옆 사람들이 차지했기 때문에 콜라를 꽂을 컵 홀더가 없었기 때문이다. 영화를 보는 내내 콜라를 손에 들고 있던 강산이는 극장에 다시 왔을 때는 꼭 콜라를 컵 홀더에 놓겠다는 다짐을 한 후 집에 돌아갔다.\n",
    "\n",
    "극장의 한 줄에는 자리가 N개가 있다. 서로 인접한 좌석 사이에는 컵홀더가 하나씩 있고, 양 끝 좌석에는 컵홀더가 하나씩 더 있다. 또, 이 극장에는 커플석이 있다. 커플석 사이에는 컵홀더가 없다.\n",
    "\n",
    "극장의 한 줄의 정보가 주어진다. 이때, 이 줄에 사람들이 모두 앉았을 때, 컵홀더에 컵을 꽂을 수 있는 최대 사람의 수를 구하는 프로그램을 작성하시오. 모든 사람은 컵을 한 개만 들고 있고, 자신의 좌석의 양 옆에 있는 컵홀더에만 컵을 꽂을 수 있다.\n",
    "\n",
    "S는 일반 좌석, L은 커플석을 의미하며, L은 항상 두개씩 쌍으로 주어진다.\n",
    "\n",
    "어떤 좌석의 배치가 SLLLLSSLL일때, 컵홀더를 *로 표시하면 아래와 같다.\n",
    "\n",
    "*S*LL*LL*S*S*LL*\n",
    "위의 예에서 적어도 두 명은 컵홀더를 사용할 수 없다.\n",
    "\n",
    "## 입력\n",
    "첫째 줄에 좌석의 수 N이 주어진다. (1 ≤ N ≤ 50) 둘째 줄에는 좌석의 정보가 주어진다.\n",
    "\n",
    "## 출력\n",
    "컵을 컵홀더에 놓을 수 있는 최대 사람의 수를 출력한다.\n",
    "\n",
    "```\n",
    "예제 입력 1  복사\n",
    "3\n",
    "SSS\n",
    "예제 출력 1  복사\n",
    "3\n",
    "예제 입력 2  복사\n",
    "4\n",
    "SLLS\n",
    "예제 출력 2  복사\n",
    "4\n",
    "예제 입력 3  복사\n",
    "9\n",
    "SLLLLSSLL\n",
    "예제 출력 3  복사\n",
    "7\n",
    "```"
   ]
  },
  {
   "cell_type": "code",
   "execution_count": 18,
   "id": "4da9acfe",
   "metadata": {},
   "outputs": [
    {
     "name": "stdout",
     "output_type": "stream",
     "text": [
      "9\n",
      "SLLLLSSLL\n",
      "6\n"
     ]
    }
   ],
   "source": [
    "N = int(input()) #좌석의 수 N을 입력으로 받는다.\n",
    "S = input() #좌석의 정보 S를 입력으로 받는다.\n",
    "people = len(S)\n",
    "holder = len(S.replace('LL', 'S'))+1\n",
    "if people < holder:\n",
    "    print(people)\n",
    "else:\n",
    "    print(holder)"
   ]
  },
  {
   "cell_type": "code",
   "execution_count": 11,
   "id": "1f476667",
   "metadata": {},
   "outputs": [],
   "source": [
    "a = 'SLLSLLLL'\n"
   ]
  },
  {
   "cell_type": "code",
   "execution_count": 17,
   "id": "07f2f515",
   "metadata": {},
   "outputs": [
    {
     "data": {
      "text/plain": [
       "3"
      ]
     },
     "execution_count": 17,
     "metadata": {},
     "output_type": "execute_result"
    }
   ],
   "source": [
    "people"
   ]
  },
  {
   "cell_type": "code",
   "execution_count": 15,
   "id": "789d7ca7",
   "metadata": {},
   "outputs": [
    {
     "data": {
      "text/plain": [
       "2"
      ]
     },
     "execution_count": 15,
     "metadata": {},
     "output_type": "execute_result"
    }
   ],
   "source": [
    "holder"
   ]
  },
  {
   "cell_type": "code",
   "execution_count": 16,
   "id": "d6334584",
   "metadata": {},
   "outputs": [
    {
     "data": {
      "text/plain": [
       "8"
      ]
     },
     "execution_count": 16,
     "metadata": {},
     "output_type": "execute_result"
    }
   ],
   "source": [
    "len(a)"
   ]
  },
  {
   "cell_type": "code",
   "execution_count": null,
   "id": "543e307a",
   "metadata": {},
   "outputs": [],
   "source": []
  }
 ],
 "metadata": {
  "kernelspec": {
   "display_name": "Python 3",
   "language": "python",
   "name": "python3"
  },
  "language_info": {
   "codemirror_mode": {
    "name": "ipython",
    "version": 3
   },
   "file_extension": ".py",
   "mimetype": "text/x-python",
   "name": "python",
   "nbconvert_exporter": "python",
   "pygments_lexer": "ipython3",
   "version": "3.8.8"
  }
 },
 "nbformat": 4,
 "nbformat_minor": 5
}
