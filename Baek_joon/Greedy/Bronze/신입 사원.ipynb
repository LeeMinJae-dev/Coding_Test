{
 "cells": [
  {
   "cell_type": "markdown",
   "id": "24f98ac9",
   "metadata": {},
   "source": [
    "## 문제\n",
    "언제나 최고만을 지향하는 굴지의 대기업 진영 주식회사가 신규 사원 채용을 실시한다. 인재 선발 시험은 1차 서류심사와 2차 면접시험으로 이루어진다. 최고만을 지향한다는 기업의 이념에 따라 그들은 최고의 인재들만을 사원으로 선발하고 싶어 한다.\n",
    "\n",
    "그래서 진영 주식회사는, 다른 모든 지원자와 비교했을 때 서류심사 성적과 면접시험 성적 중 적어도 하나가 다른 지원자보다 떨어지지 않는 자만 선발한다는 원칙을 세웠다. 즉, 어떤 지원자 A의 성적이 다른 어떤 지원자 B의 성적에 비해 서류 심사 결과와 면접 성적이 모두 떨어진다면 A는 결코 선발되지 않는다.\n",
    "\n",
    "이러한 조건을 만족시키면서, 진영 주식회사가 이번 신규 사원 채용에서 선발할 수 있는 신입사원의 최대 인원수를 구하는 프로그램을 작성하시오.\n",
    "\n",
    "## 입력\n",
    "첫째 줄에는 테스트 케이스의 개수 T(1 ≤ T ≤ 20)가 주어진다. 각 테스트 케이스의 첫째 줄에 지원자의 숫자 N(1 ≤ N ≤ 100,000)이 주어진다. 둘째 줄부터 N개 줄에는 각각의 지원자의 서류심사 성적, 면접 성적의 순위가 공백을 사이에 두고 한 줄에 주어진다. 두 성적 순위는 모두 1위부터 N위까지 동석차 없이 결정된다고 가정한다.\n",
    "\n",
    "## 출력\n",
    "각 테스트 케이스에 대해서 진영 주식회사가 선발할 수 있는 신입사원의 최대 인원수를 한 줄에 하나씩 출력한다.\n",
    "```\n",
    "예제 입력 1  복사\n",
    "2\n",
    "5\n",
    "3 2\n",
    "1 4\n",
    "4 1\n",
    "2 3\n",
    "5 5\n",
    "7\n",
    "3 6\n",
    "7 3\n",
    "4 2\n",
    "1 4\n",
    "5 7\n",
    "2 5\n",
    "6 1\n",
    "예제 출력 1  복사\n",
    "4\n",
    "3\n",
    "```"
   ]
  },
  {
   "cell_type": "code",
   "execution_count": 63,
   "id": "c24ef500",
   "metadata": {},
   "outputs": [
    {
     "name": "stdout",
     "output_type": "stream",
     "text": [
      "1\n",
      "7\n",
      "3 6\n",
      "7 3\n",
      "4 2\n",
      "1 4\n",
      "5 7\n",
      "2 5\n",
      "6 1\n",
      "3\n"
     ]
    }
   ],
   "source": [
    "import sys\n",
    "T = int(input()) #테스트 케이스를 입력으로 받는다.\n",
    "\n",
    "rank = []\n",
    "\n",
    "for i in range(T):\n",
    "    score = 0\n",
    "    N = int(input()) #지원자의 숫자를 입력으로 받는다.\n",
    "    \n",
    "    for i in range(N):\n",
    "        new_paper, new_interview = map(int, input().split())#서류점수와 면접점수를 받음\n",
    "        rank.append([new_paper, new_interview])\n",
    "    rank.sort(key = lambda x: x[0])\n",
    "    \n",
    "    result = 1\n",
    " \n",
    "    standard = rank[0][1]\n",
    "    for i in range(1, len(rank)):\n",
    "        if rank[i][1] < standard:\n",
    "            result += 1\n",
    "        standard = rank[i][1]\n",
    "        \n",
    "    \n",
    "    \n",
    "\n",
    "    print(result)\n",
    "        "
   ]
  },
  {
   "cell_type": "code",
   "execution_count": 39,
   "id": "05137b28",
   "metadata": {},
   "outputs": [
    {
     "data": {
      "text/plain": [
       "0"
      ]
     },
     "execution_count": 39,
     "metadata": {},
     "output_type": "execute_result"
    }
   ],
   "source": [
    "score"
   ]
  },
  {
   "cell_type": "code",
   "execution_count": 53,
   "id": "c4c8bafb",
   "metadata": {},
   "outputs": [],
   "source": [
    "a = sys.stdin.readline()"
   ]
  },
  {
   "cell_type": "code",
   "execution_count": null,
   "id": "0e52ff22",
   "metadata": {},
   "outputs": [],
   "source": []
  }
 ],
 "metadata": {
  "kernelspec": {
   "display_name": "Python 3",
   "language": "python",
   "name": "python3"
  },
  "language_info": {
   "codemirror_mode": {
    "name": "ipython",
    "version": 3
   },
   "file_extension": ".py",
   "mimetype": "text/x-python",
   "name": "python",
   "nbconvert_exporter": "python",
   "pygments_lexer": "ipython3",
   "version": "3.8.8"
  }
 },
 "nbformat": 4,
 "nbformat_minor": 5
}
