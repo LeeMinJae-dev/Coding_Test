{
 "cells": [
  {
   "cell_type": "markdown",
   "id": "513e6c9c",
   "metadata": {},
   "source": [
    "## 문제\n",
    "피보나치 수 ƒK는 ƒK = ƒK-1 + ƒK-2로 정의되며 초기값은 ƒ0 = 0과 ƒ1 = 1 이다. 양의 정수는 하나 혹은 그 이상의 서로 다른 피보나치 수들의 합으로 나타낼 수 있다는 사실은 잘 알려져 있다. \n",
    "\n",
    "하나의 양의 정수에 대한 피보나치 수들의 합은 여러 가지 형태가 있다. 예를 들어 정수 100은 ƒ4 + ƒ6 + ƒ11 = 3 + 8 + 89 또는 ƒ1 + ƒ3 + ƒ6 + ƒ11 = 1 + 2 + 8 + 89, 또는 ƒ4 + ƒ6 + ƒ9 + ƒ10 = 3 + 8 + 34 + 55 등으로 나타낼 수 있다. 이 문제는 하나의 양의 정수를 최소 개수의 서로 다른 피보나치 수들의 합으로 나타내는 것이다. \n",
    "\n",
    "하나의 양의 정수가 주어질 때, 피보나치 수들의 합이 주어진 정수와 같게 되는 최소 개수의 서로 다른 피보나치 수들을 구하라. \n",
    "\n",
    "## 입력\n",
    "입력 데이터는 표준입력을 사용한다. 입력은 T 개의 테스트 데이터로 구성된다. 입력의 첫 번째 줄에는 테스트 데이터의 수를 나타내는 정수 T 가 주어진다. 각 테스트 데이터에는 하나의 정수 n이 주어진다. 단, 1 ≤ n ≤ 1,000,000,000. \n",
    "\n",
    "## 출력\n",
    "출력은 표준출력을 사용한다. 하나의 테스트 데이터에 대한 해를 하나의 줄에 출력한다. 각 테스트 데이터에 대해, 피보나치 수들의 합이 주어진 정수에 대해 같게 되는 최소수의 피보나치 수들을 증가하는 순서로 출력한다. \n",
    "\n",
    "```\n",
    "예제 입력 1  복사\n",
    "4\n",
    "100\n",
    "200\n",
    "12345\n",
    "1003\n",
    "예제 출력 1  복사\n",
    "3 8 89\n",
    "1 55 144\n",
    "1 34 377 987 10946\n",
    "3 13 98`\n",
    "```\n"
   ]
  },
  {
   "cell_type": "code",
   "execution_count": 20,
   "id": "3a104c51",
   "metadata": {},
   "outputs": [
    {
     "name": "stdout",
     "output_type": "stream",
     "text": [
      "1\n",
      "100\n",
      "3 8 89\n"
     ]
    }
   ],
   "source": [
    "T = int(input()) #테스트케이스의 개수 T\n",
    "nums = []\n",
    "for num in range(T):\n",
    "    nums.append(int(input()))\n",
    "    \n",
    "result = []\n",
    "for num in nums:\n",
    "\n",
    "    answer = []\n",
    "    i = 0\n",
    "    fibo = [0, 1]\n",
    "    while fibo[-1] < num:\n",
    "        fibo.append(fibo[i]+fibo[i+1])\n",
    "        i+=1\n",
    "    i = 0\n",
    "    fibo.sort(reverse=True)\n",
    "    \n",
    "    while num:\n",
    "        if num-fibo[i] < 0:\n",
    "            i+=1\n",
    "            continue\n",
    "        num -= fibo[i]\n",
    "        answer.append(str(fibo[i]))\n",
    "        i+=1\n",
    "    result.append(reversed(answer))\n",
    "for i in result:\n",
    "    print(' '.join(i))\n",
    "    "
   ]
  },
  {
   "cell_type": "code",
   "execution_count": 13,
   "id": "9ac77368",
   "metadata": {},
   "outputs": [
    {
     "data": {
      "text/plain": [
       "[[89, 8, 3]]"
      ]
     },
     "execution_count": 13,
     "metadata": {},
     "output_type": "execute_result"
    }
   ],
   "source": [
    "result"
   ]
  },
  {
   "cell_type": "code",
   "execution_count": null,
   "id": "ad516b99",
   "metadata": {},
   "outputs": [],
   "source": []
  }
 ],
 "metadata": {
  "kernelspec": {
   "display_name": "Python 3",
   "language": "python",
   "name": "python3"
  },
  "language_info": {
   "codemirror_mode": {
    "name": "ipython",
    "version": 3
   },
   "file_extension": ".py",
   "mimetype": "text/x-python",
   "name": "python",
   "nbconvert_exporter": "python",
   "pygments_lexer": "ipython3",
   "version": "3.8.8"
  }
 },
 "nbformat": 4,
 "nbformat_minor": 5
}
