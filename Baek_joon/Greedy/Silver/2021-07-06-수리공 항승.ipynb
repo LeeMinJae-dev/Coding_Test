{
 "cells": [
  {
   "cell_type": "markdown",
   "id": "5389ce0f",
   "metadata": {},
   "source": [
    "---\n",
    "title: \"[BOJ] 1449 수리공 항승 (Python3)\"\n",
    "\n",
    "categories:\n",
    "    baekjoon\n",
    "tags:\n",
    "    백준\n",
    "    파이썬\n",
    "    Greedy\n",
    "toc: true\n",
    "toc_label: \"On this page\"\n",
    "toc_sticky: true\n",
    "\n",
    "    \n",
    "---\n",
    "## 문제\n",
    "항승이는 품질이 심각하게 나쁜 수도 파이프 회사의 수리공이다. 항승이는 세준 지하철 공사에서 물이 샌다는 소식을 듣고 수리를 하러 갔다.\n",
    "\n",
    "파이프에서 물이 새는 곳은 신기하게도 가장 왼쪽에서 정수만큼 떨어진 거리만 물이 샌다.\n",
    "\n",
    "항승이는 길이가 L인 테이프를 무한개 가지고 있다.\n",
    "\n",
    "항승이는 테이프를 이용해서 물을 막으려고 한다. 항승이는 항상 물을 막을 때, 적어도 그 위치의 좌우 0.5만큼 간격을 줘야 물이 다시는 안 샌다고 생각한다.\n",
    "\n",
    "물이 새는 곳의 위치와, 항승이가 가지고 있는 테이프의 길이 L이 주어졌을 때, 항승이가 필요한 테이프의 최소 개수를 구하는 프로그램을 작성하시오. 테이프를 자를 수 없고, 테이프를 겹쳐서 붙이는 것도 가능하다.\n",
    "\n",
    "## 입력\n",
    "첫째 줄에 물이 새는 곳의 개수 N과 테이프의 길이 L이 주어진다. 둘째 줄에는 물이 새는 곳의 위치가 주어진다. N과 L은 1,000보다 작거나 같은 자연수이고, 물이 새는 곳의 위치는 1,000보다 작거나 같은 자연수이다.\n",
    "\n",
    "## 출력\n",
    "첫째 줄에 항승이가 필요한 테이프의 개수를 출력한다.\n",
    "\n",
    "```\n",
    "예제 입력 1  복사\n",
    "4 2\n",
    "1 2 100 101\n",
    "예제 출력 1  복사\n",
    "2\n",
    "```\n",
    "\n",
    "## 코드"
   ]
  },
  {
   "cell_type": "code",
   "execution_count": 9,
   "id": "dcbbeaa5",
   "metadata": {},
   "outputs": [
    {
     "name": "stdout",
     "output_type": "stream",
     "text": [
      "4 2\n",
      "1 2 3 4\n",
      "2\n"
     ]
    }
   ],
   "source": [
    "N, L = map(int, input().split())\n",
    "# N: 물이새는 곳의 개수, L: 테이프의 길이\n",
    "\n",
    "hole = list(map(int, input().split()))\n",
    "\n",
    "hole.sort()\n",
    "\n",
    "hole_strt = hole[0]\n",
    "tape = 1\n",
    "\n",
    "for i in range(1, N):\n",
    "    if hole_strt + (L-1) >= hole[i]:\n",
    "        continue \n",
    "    tape += 1\n",
    "    hole_strt = hole[i]\n",
    "print(tape)"
   ]
  }
 ],
 "metadata": {
  "kernelspec": {
   "display_name": "Python 3",
   "language": "python",
   "name": "python3"
  },
  "language_info": {
   "codemirror_mode": {
    "name": "ipython",
    "version": 3
   },
   "file_extension": ".py",
   "mimetype": "text/x-python",
   "name": "python",
   "nbconvert_exporter": "python",
   "pygments_lexer": "ipython3",
   "version": "3.8.8"
  }
 },
 "nbformat": 4,
 "nbformat_minor": 5
}
