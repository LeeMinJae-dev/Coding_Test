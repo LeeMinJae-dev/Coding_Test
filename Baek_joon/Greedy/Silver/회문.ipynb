{
 "cells": [
  {
   "cell_type": "markdown",
   "id": "628e09cc",
   "metadata": {},
   "source": [
    "## 문제\n",
    "\n",
    "회문(回文) 또는 팰린드롬(palindrome)은 앞 뒤 방향으로 볼 때 같은 순서의 문자로 구성된 문자열을 말한다. 예를 들어 ‘abba’ ‘kayak’, ‘reviver’, ‘madam’은 모두 회문이다. 만일 그 자체는 회문이 아니지만 한 문자를 삭제하여 회문으로 만들 수 있는 문자열이라면 우리는 이런 문자열을 “유사회문”(pseudo palindrome)이라고 부른다. 예를 들어 ‘summuus’는 5번째나 혹은 6번째 문자 ‘u’를 제거하여 ‘summus’인 회문이 되므로 유사회문이다.\n",
    "\n",
    "여러분은 제시된 문자열을 분석하여 그것이 그 자체로 회문인지, 또는 한 문자를 삭제하면 회문이 되는 “유사회문”인지, 아니면 회문이나 유사회문도 아닌 일반 문자열인지를 판단해야 한다. 만일 문자열 그 자체로 회문이면 0, 유사회문이면 1, 그 외는 2를 출력해야 한다. \n",
    "\n",
    "## 입력\n",
    "\n",
    "입력의 첫 줄에는 주어지는 문자열의 개수를 나타내는 정수 T(1 ≤ T ≤ 30)가 주어진다. 다음 줄부터 T개의 줄에 걸쳐 한 줄에 하나의 문자열이 입력으로 주어진다. 주어지는 문자열의 길이는 3 이상 100,000 이하이고, 영문 알파벳 소문자로만 이루어져 있다.\n",
    "\n",
    "## 출력\n",
    "\n",
    "각 문자열이 회문인지, 유사 회문인지, 둘 모두 해당되지 않는지를 판단하여 회문이면 0, 유사 회문이면 1, 둘 모두 아니면 2를 순서대로 한 줄에 하나씩 출력한다.\n",
    "\n",
    "```\n",
    "예제 입력 1  \n",
    "7\n",
    "abba\n",
    "summuus\n",
    "xabba\n",
    "xabbay\n",
    "comcom\n",
    "comwwmoc\n",
    "comwwtmoc\n",
    "예제 출력 1  \n",
    "0\n",
    "1\n",
    "1\n",
    "2\n",
    "2\n",
    "0\n",
    "1\n",
    "```"
   ]
  },
  {
   "cell_type": "code",
   "execution_count": 81,
   "id": "b0f3167d",
   "metadata": {},
   "outputs": [
    {
     "name": "stdout",
     "output_type": "stream",
     "text": [
      "1\n",
      "summuus\n",
      "1\n"
     ]
    }
   ],
   "source": [
    "def inner_palindrome(word, left, right):\n",
    "    while left < right:\n",
    "        if word[left] == word[right]:\n",
    "            left += 1\n",
    "            right -=1\n",
    "        else:\n",
    "            return False\n",
    "            \n",
    "    return True\n",
    "\n",
    "\n",
    "\n",
    "def is_palindrome(word, left, right):\n",
    "    while left < right:\n",
    "        if word[left] == word[right]:\n",
    "            left += 1\n",
    "            right -=1\n",
    "        else:\n",
    "            if inner_palindrome(word, left+1, right) or inner_palindrome(word, left, right-1):\n",
    "                return 1\n",
    "            else:\n",
    "                return 2\n",
    "            \n",
    "    return 0\n",
    "    #회문을 판별하다가 서로 다른 문자가 있으면 유사회문인지 회문이 아닌지 판별하는 함수를 재귀함수를 사용하여 정의\n",
    "\n",
    "T = int(input()) #문자열의 개수 T\n",
    "\n",
    "string = []\n",
    "for i in range(T):\n",
    "    string.append(input())\n",
    "# T의 개수만큼 받아 리스트로 저장\n",
    "\n",
    "answer = []\n",
    "for word in string:\n",
    "    left = 0\n",
    "    right = len(word)-1\n",
    "    answer.append(is_palindrome(word, left, right))\n",
    "# is_palindrome 함수를 사용하여 순서대로 회문인지 판별\n",
    "\n",
    "for i in range(len(answer)):\n",
    "    print(answer[i])"
   ]
  }
 ],
 "metadata": {
  "kernelspec": {
   "display_name": "Python 3",
   "language": "python",
   "name": "python3"
  },
  "language_info": {
   "codemirror_mode": {
    "name": "ipython",
    "version": 3
   },
   "file_extension": ".py",
   "mimetype": "text/x-python",
   "name": "python",
   "nbconvert_exporter": "python",
   "pygments_lexer": "ipython3",
   "version": "3.8.8"
  }
 },
 "nbformat": 4,
 "nbformat_minor": 5
}
