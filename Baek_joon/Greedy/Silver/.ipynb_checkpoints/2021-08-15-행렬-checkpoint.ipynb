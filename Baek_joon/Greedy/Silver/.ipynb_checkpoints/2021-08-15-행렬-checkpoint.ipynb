{
 "cells": [
  {
   "cell_type": "markdown",
   "id": "462810fc",
   "metadata": {},
   "source": [
    "---\n",
    "title: \"[BOJ] 1080 행렬 (Python3)\"\n",
    "\n",
    "categories:\n",
    "    baekjoon\n",
    "tags:\n",
    "    백준\n",
    "    파이썬\n",
    "    Greedy\n",
    "toc: true\n",
    "toc_label: \"On this page\"\n",
    "toc_sticky: true\n",
    "\n",
    "    \n",
    "---\n",
    "## 문제\n",
    "0과 1로만 이루어진 행렬 A와 행렬 B가 있다. 이때, 행렬 A를 행렬 B로 바꾸는데 필요한 연산의 횟수의 최솟값을 구하는 프로그램을 작성하시오.\n",
    "\n",
    "행렬을 변환하는 연산은 어떤 3×3크기의 부분 행렬에 있는 모든 원소를 뒤집는 것이다. (0 → 1, 1 → 0)\n",
    "\n",
    "## 입력\n",
    "첫째 줄에 행렬의 크기 N M이 주어진다. N과 M은 50보다 작거나 같은 자연수이다. 둘째 줄부터 N개의 줄에는 행렬 A가 주어지고, 그 다음줄부터 N개의 줄에는 행렬 B가 주어진다.\n",
    "\n",
    "## 출력\n",
    "첫째 줄에 문제의 정답을 출력한다. 만약 A를 B로 바꿀 수 없다면 -1을 출력한다.\n",
    "\n",
    "## 예제 \n",
    "예제 출력 2   \n",
    "3 4   \n",
    "0000   \n",
    "0010   \n",
    "0000   \n",
    "1001   \n",
    "1011   \n",
    "1001   \n",
    "\n",
    "예제 출력 1    \n",
    "2   \n",
    "\n",
    "## 문제 풀이\n",
    "그리디 알고리즘 문제이다. 근데 문제가 너무 그리디 써서 풀면 풀겠지~ 하고 풀면 풀려서 조금 그랬다... 무조건 3*3을 뒤집는다는것 부터 그냥 처음부터 순서대로 계속 뒤집으면 풀릴 것 같아서 그렇게 풀었더니 쉽게 풀렸다. \n",
    "\n",
    "근데 다 풀어놓고 for문 중첩을 많이해서 i,j를 두번 써버리는 바람에 뭐가 잘못된지도 모르고 한참을 헤맸다. for문 너무 중첩하지 말고 항상 함수로 분리해서 쓰는 습관을 들이자.\n",
    "\n",
    "## 코드"
   ]
  },
  {
   "cell_type": "code",
   "execution_count": 1,
   "id": "0c3bf5ab",
   "metadata": {},
   "outputs": [
    {
     "name": "stdout",
     "output_type": "stream",
     "text": [
      "3 4\n",
      "0000\n",
      "0010\n",
      "0000\n",
      "1001\n",
      "1011\n",
      "1001\n",
      "2\n"
     ]
    }
   ],
   "source": [
    "import sys\n",
    "\n",
    "\n",
    "M,N = map(int,input().rstrip().split())\n",
    "A = [list(map(int,input())) for i in range(M)]\n",
    "B = [list(map(int,input())) for i in range(M)]\n",
    "\n",
    "result = 0\n",
    "check = False\n",
    "    \n",
    "for i in range(M-2):\n",
    "    for j in range(N-2):\n",
    "\n",
    "        if A[i][j] != B[i][j]:\n",
    "           \n",
    "            for a in range(i,i+3):\n",
    "                for b in range(j,j+3):\n",
    "                   \n",
    "                    A[a][b] = 1-A[a][b]\n",
    "            result+=1\n",
    "\n",
    "for i in range(M):\n",
    "    for j in range(N):\n",
    "        if A[i][j] != B[i][j]:\n",
    "            check = True\n",
    "\n",
    "if check:\n",
    "    print(-1)\n",
    "else:\n",
    "    print(result)\n",
    "    \n",
    "\n"
   ]
  },
  {
   "cell_type": "code",
   "execution_count": null,
   "id": "c815f5d0",
   "metadata": {},
   "outputs": [],
   "source": []
  }
 ],
 "metadata": {
  "kernelspec": {
   "display_name": "Python 3",
   "language": "python",
   "name": "python3"
  },
  "language_info": {
   "codemirror_mode": {
    "name": "ipython",
    "version": 3
   },
   "file_extension": ".py",
   "mimetype": "text/x-python",
   "name": "python",
   "nbconvert_exporter": "python",
   "pygments_lexer": "ipython3",
   "version": "3.8.8"
  }
 },
 "nbformat": 4,
 "nbformat_minor": 5
}
