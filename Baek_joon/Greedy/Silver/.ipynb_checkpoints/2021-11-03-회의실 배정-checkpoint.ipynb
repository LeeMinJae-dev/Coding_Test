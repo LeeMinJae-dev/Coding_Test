{
 "cells": [
  {
   "cell_type": "markdown",
   "id": "d90a89ec",
   "metadata": {},
   "source": [
    "---\n",
    "title: \"[BOJ] 1931 회의실 배정 (Python3)\"\n",
    "\n",
    "categories:\n",
    "    baekjoon\n",
    "tags:\n",
    "    백준\n",
    "    파이썬\n",
    "    Greedy\n",
    "toc: true\n",
    "toc_label: \"On this page\"\n",
    "toc_sticky: true\n",
    "\n",
    "    \n",
    "---\n",
    "## 문제\n",
    "한 개의 회의실이 있는데 이를 사용하고자 하는 N개의 회의에 대하여 회의실 사용표를 만들려고 한다. 각 회의 I에 대해 시작시간과 끝나는 시간이 주어져 있고, 각 회의가 겹치지 않게 하면서 회의실을 사용할 수 있는 회의의 최대 개수를 찾아보자. 단, 회의는 한번 시작하면 중간에 중단될 수 없으며 한 회의가 끝나는 것과 동시에 다음 회의가 시작될 수 있다. 회의의 시작시간과 끝나는 시간이 같을 수도 있다. 이 경우에는 시작하자마자 끝나는 것으로 생각하면 된다.\n",
    "\n",
    "## 입력\n",
    "첫째 줄에 회의의 수 N(1 ≤ N ≤ 100,000)이 주어진다. 둘째 줄부터 N+1 줄까지 각 회의의 정보가 주어지는데 이것은 공백을 사이에 두고 회의의 시작시간과 끝나는 시간이 주어진다. 시작 시간과 끝나는 시간은 2^31-1보다 작거나 같은 자연수 또는 0이다.\n",
    "\n",
    "## 출력\n",
    "첫째 줄에 최대 사용할 수 있는 회의의 최대 개수를 출력한다.\n",
    "\n",
    "```\n",
    "예제 입력 1  복사\n",
    "11\n",
    "1 4\n",
    "3 5\n",
    "0 6\n",
    "5 7\n",
    "3 8\n",
    "5 9\n",
    "6 10\n",
    "8 11\n",
    "8 12\n",
    "2 13\n",
    "12 14\n",
    "\n",
    "예제 출력 1  복사\n",
    "4\n",
    "```\n",
    "\n",
    "## 코드"
   ]
  },
  {
   "cell_type": "code",
   "execution_count": 27,
   "id": "e29b134c",
   "metadata": {},
   "outputs": [
    {
     "name": "stdout",
     "output_type": "stream",
     "text": [
      "11\n",
      "1 4\n",
      "3 5\n",
      "0 6\n",
      "5 7\n",
      "3 8\n",
      "5 9\n",
      "6 10\n",
      "8 11\n",
      "8 12\n",
      "2 13\n",
      "12 14\n",
      "4\n"
     ]
    }
   ],
   "source": [
    "n = int(input())\n",
    "timeTable = []\n",
    "\n",
    "for _ in range(n):\n",
    "    n, m = map(int, input().split())\n",
    "    timeTable.append([n,m])\n",
    "    \n",
    "timeTable.sort(key = lambda x: (x[1], x[0]))\n",
    "\n",
    "minTime = [0,0]\n",
    "count = 0\n",
    "\n",
    "for time in timeTable:\n",
    "    if minTime[1] <= time[0]:\n",
    "        count += 1\n",
    "        minTime = time\n",
    "    \n",
    "print(count)\n",
    "    "
   ]
  },
  {
   "cell_type": "markdown",
   "id": "f8d829ae",
   "metadata": {},
   "source": [
    "이 문제는 정렬의 순서에 대해 잘 생각해보아야 풀 수 있는 문제이다.        \n",
    "\n",
    "먼저 회의가 끝나는 순서가 먼저 오름차순 정렬되어야 한다. 끝나는 시간이 빠를 수록 남은 회의를 더 많이 진행 할 수 있기 때문이다. 회의가 빨리 끝나는 순서대로 정렬되었다면, 다음은 회의가 빨리 시작해야한다. 따라서 끝나는 시간 정렬 다음에는 시작하는 시간을 오름차순으로 정렬해준다.   마지막으로 첫 시간부터 끝나는시간보다 시작하는 시간이 더 클때마다 회의의 개수를 카운팅 해주면 답을 구할 수 있다."
   ]
  }
 ],
 "metadata": {
  "kernelspec": {
   "display_name": "Python 3",
   "language": "python",
   "name": "python3"
  },
  "language_info": {
   "codemirror_mode": {
    "name": "ipython",
    "version": 3
   },
   "file_extension": ".py",
   "mimetype": "text/x-python",
   "name": "python",
   "nbconvert_exporter": "python",
   "pygments_lexer": "ipython3",
   "version": "3.8.8"
  }
 },
 "nbformat": 4,
 "nbformat_minor": 5
}
