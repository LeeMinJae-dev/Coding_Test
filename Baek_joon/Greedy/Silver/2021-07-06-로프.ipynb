{
 "cells": [
  {
   "cell_type": "markdown",
   "id": "0423c070",
   "metadata": {},
   "source": [
    "---\n",
    "title: \"[BOJ] 2217 로프 (Python3)\"\n",
    "\n",
    "categories:\n",
    "    baekjoon\n",
    "tags:\n",
    "    백준\n",
    "    파이썬\n",
    "    Greedy\n",
    "toc: true\n",
    "toc_label: \"On this page\"\n",
    "toc_sticky: true\n",
    "\n",
    "    \n",
    "---\n",
    "## 문제\n",
    "N(1 ≤ N ≤ 100,000)개의 로프가 있다. 이 로프를 이용하여 이런 저런 물체를 들어올릴 수 있다. 각각의 로프는 그 굵기나 길이가 다르기 때문에 들 수 있는 물체의 중량이 서로 다를 수도 있다.\n",
    "\n",
    "하지만 여러 개의 로프를 병렬로 연결하면 각각의 로프에 걸리는 중량을 나눌 수 있다. k개의 로프를 사용하여 중량이 w인 물체를 들어올릴 때, 각각의 로프에는 모두 고르게 w/k 만큼의 중량이 걸리게 된다.\n",
    "\n",
    "각 로프들에 대한 정보가 주어졌을 때, 이 로프들을 이용하여 들어올릴 수 있는 물체의 최대 중량을 구해내는 프로그램을 작성하시오. 모든 로프를 사용해야 할 필요는 없으며, 임의로 몇 개의 로프를 골라서 사용해도 된다.\n",
    "\n",
    "## 입력\n",
    "첫째 줄에 정수 N이 주어진다. 다음 N개의 줄에는 각 로프가 버틸 수 있는 최대 중량이 주어진다. 이 값은 10,000을 넘지 않는 자연수이다.\n",
    "\n",
    "## 출력\n",
    "첫째 줄에 답을 출력한다.\n",
    "\n",
    "```\n",
    "예제 입력 1  복사\n",
    "2\n",
    "10\n",
    "15\n",
    "예제 출력 1  복사\n",
    "20\n",
    "```\n",
    "\n",
    "## 코드"
   ]
  },
  {
   "cell_type": "code",
   "execution_count": 13,
   "id": "f29563cc",
   "metadata": {},
   "outputs": [
    {
     "name": "stdout",
     "output_type": "stream",
     "text": [
      "4\n",
      "20\n",
      "30\n",
      "40\n",
      "50\n",
      "90\n"
     ]
    }
   ],
   "source": [
    "N = int(input()) #로프의 개수\n",
    "weight = []\n",
    "for i in range(N):\n",
    "    weight.append(int(input())) #weight 리스트에 로프의 중량을 넣어준다.\n",
    "    \n",
    "weight.sort() #오름차순으로 정렬\n",
    "\n",
    "time = N\n",
    "\n",
    "for i in range(N):\n",
    "    weight.append(weight[i]*time) #리스트의 첫요소보다 큰 요소의 개수만큼 곱해\n",
    "    time-=1\n",
    "print(max(weight))"
   ]
  }
 ],
 "metadata": {
  "kernelspec": {
   "display_name": "Python 3",
   "language": "python",
   "name": "python3"
  },
  "language_info": {
   "codemirror_mode": {
    "name": "ipython",
    "version": 3
   },
   "file_extension": ".py",
   "mimetype": "text/x-python",
   "name": "python",
   "nbconvert_exporter": "python",
   "pygments_lexer": "ipython3",
   "version": "3.8.8"
  }
 },
 "nbformat": 4,
 "nbformat_minor": 5
}
