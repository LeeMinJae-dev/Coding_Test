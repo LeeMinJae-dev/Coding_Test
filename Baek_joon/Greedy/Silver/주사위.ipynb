{
 "cells": [
  {
   "cell_type": "markdown",
   "id": "161c3d02",
   "metadata": {},
   "source": [
    "## 문제\n",
    "```\n",
    "    +---+        \n",
    "    | D |        \n",
    "+---+---+---+---+\n",
    "| E | A | B | F |\n",
    "+---+---+---+---+\n",
    "    | C |        \n",
    "    +---+        \n",
    "```\n",
    "\n",
    "## 문제\n",
    "\n",
    "주사위는 위와 같이 생겼다. 주사위의 여섯 면에는 수가 쓰여 있다. 위의 전개도를 수가 밖으로 나오게 접는다.\n",
    "\n",
    "A, B, C, D, E, F에 쓰여 있는 수가 주어진다.\n",
    "\n",
    "지민이는 현재 동일한 주사위를 N3개 가지고 있다. 이 주사위를 적절히 회전시키고 쌓아서, N×N×N크기의 정육면체를 만들려고 한다. 이 정육면체는 탁자위에 있으므로, 5개의 면만 보인다.\n",
    "\n",
    "N과 주사위에 쓰여 있는 수가 주어질 때, 보이는 5개의 면에 쓰여 있는 수의 합의 최솟값을 출력하는 프로그램을 작성하시오.\n",
    "\n",
    "## 입력\n",
    "첫째 줄에 N이 주어진다. 둘째 줄에 주사위에 쓰여 있는 수가 주어진다. 위의 그림에서 A, B, C, D, E, F에 쓰여 있는 수가 차례대로 주어진다. N은 1,000,000보다 작거나 같은 자연수이고, 쓰여 있는 수는 50보다 작거나 같은 자연수이다.\n",
    "\n",
    "## 출력\n",
    "첫째 줄에 문제의 정답을 출력한다.\n",
    "\n",
    "```\n",
    "예제 입력 1  \n",
    "2\n",
    "1 2 3 4 5 6\n",
    "예제 출력 1  \n",
    "36\n",
    "\n",
    "예제 입력 2  \n",
    "3\n",
    "1 2 3 4 5 6\n",
    "예제 출력 2  \n",
    "69\n",
    "\n",
    "예제 입력 3  \n",
    "1000000\n",
    "50 50 50 50 50 50\n",
    "예제 출력 3  \n",
    "250000000000000\n",
    "\n",
    "예제 입력 4  \n",
    "10\n",
    "1 1 1 1 50 1\n",
    "예제 출력 4  \n",
    "500\n",
    "```"
   ]
  },
  {
   "cell_type": "code",
   "execution_count": 1,
   "id": "7f34626f",
   "metadata": {},
   "outputs": [
    {
     "ename": "SyntaxError",
     "evalue": "invalid syntax (<ipython-input-1-af7d33a18022>, line 4)",
     "output_type": "error",
     "traceback": [
      "\u001b[0;36m  File \u001b[0;32m\"<ipython-input-1-af7d33a18022>\"\u001b[0;36m, line \u001b[0;32m4\u001b[0m\n\u001b[0;31m    4 8\u001b[0m\n\u001b[0m      ^\u001b[0m\n\u001b[0;31mSyntaxError\u001b[0m\u001b[0;31m:\u001b[0m invalid syntax\n"
     ]
    }
   ],
   "source": [
    "N = int(input()) # 주사위의 개수 N\n",
    "dice = list(map(int, input().split())) #주사위에 적힌 숫자를 리스트로 저장\n",
    "\n",
    "N*N\n"
   ]
  },
  {
   "cell_type": "code",
   "execution_count": null,
   "id": "416f303a",
   "metadata": {},
   "outputs": [],
   "source": [
    "   +---+        \n",
    "    | 4 |        \n",
    "+---+---+---+---+\n",
    "| 5 | 1 | 2 | 6 |\n",
    "+---+---+---+---+\n",
    "    | 3 |        \n",
    "    +---+        \n"
   ]
  }
 ],
 "metadata": {
  "kernelspec": {
   "display_name": "Python 3",
   "language": "python",
   "name": "python3"
  },
  "language_info": {
   "codemirror_mode": {
    "name": "ipython",
    "version": 3
   },
   "file_extension": ".py",
   "mimetype": "text/x-python",
   "name": "python",
   "nbconvert_exporter": "python",
   "pygments_lexer": "ipython3",
   "version": "3.8.8"
  }
 },
 "nbformat": 4,
 "nbformat_minor": 5
}
