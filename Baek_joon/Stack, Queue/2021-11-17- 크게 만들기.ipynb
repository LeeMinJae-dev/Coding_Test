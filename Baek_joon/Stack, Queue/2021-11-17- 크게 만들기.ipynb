{
 "cells": [
  {
   "cell_type": "markdown",
   "id": "0c043adb",
   "metadata": {},
   "source": [
    "---\n",
    "title : \"[BOJ] 2812 크게 만들기 (Python3)\"\n",
    "toc : true\n",
    "toc_sticky : true\n",
    "toc_lable : \"On this Page\"\n",
    "categories : baekjoon\n",
    "---\n",
    "## 문제\n",
    "N자리 숫자가 주어졌을 때, 여기서 숫자 K개를 지워서 얻을 수 있는 가장 큰 수를 구하는 프로그램을 작성하시오.\n",
    "\n",
    "## 입력\n",
    "첫째 줄에 N과 K가 주어진다. (1 ≤ K < N ≤ 500,000)\n",
    "\n",
    "둘째 줄에 N자리 숫자가 주어진다. 이 수는 0으로 시작하지 않는다.\n",
    "\n",
    "## 출력\n",
    "입력으로 주어진 숫자에서 K개를 지웠을 때 얻을 수 있는 가장 큰 수를 출력한다.\n",
    "\n",
    "예제 입력 1      \n",
    "4 2       \n",
    "1924     \n",
    "\n",
    "예제 출력 1        \n",
    "94      \n",
    "\n",
    "예제 입력 2        \n",
    "7 3       \n",
    "1231234\n",
    "\n",
    "예제 출력 2      \n",
    "3234      \n",
    "\n",
    "예제 입력 3       \n",
    "10 4        \n",
    "4177252841    \n",
    "\n",
    "예제 출력 3        \n",
    "775841      \n",
    "\n",
    "## 코드"
   ]
  },
  {
   "cell_type": "code",
   "execution_count": 40,
   "id": "3663f483",
   "metadata": {},
   "outputs": [
    {
     "name": "stdout",
     "output_type": "stream",
     "text": [
      "10 4\n",
      "9876543210\n",
      "987654\n"
     ]
    }
   ],
   "source": [
    "n, k = map(int, input().split())\n",
    "numberList = list(input())\n",
    "stack = []\n",
    "answer = []\n",
    "K = k\n",
    "for num in numberList:\n",
    "    while stack and stack[-1] < num and k >0:\n",
    "        stack.pop()\n",
    "        k -= 1\n",
    "    stack.append(num)\n",
    "        \n",
    "print(''.join(stack[:n-K]))"
   ]
  },
  {
   "cell_type": "markdown",
   "id": "4446735a",
   "metadata": {},
   "source": [
    "## 문제 풀이\n",
    "\n",
    "크기를 비교해서 처리하는 문제이므로 스택을 사용해서 푼다.\n",
    "\n",
    "1) N자리 숫자를 리스트에 넣은 뒤 하나씩 for문으로 불러와서 stack[-1]이 num보다 작으면 stack.pop()해준다. 숫자를 하나 제거했으므로 제거해야할 숫자의 개수인 k를 -1 해주어야 한다.\n",
    "\n",
    "2) 만약 stack이 비어있으면 해당 숫자를 append()해주어 stack을 채워준다. \n",
    "\n",
    "두가지를 반복하다가 만약 k가 0이되면 삭제할 수 있는 횟수를 모두 소진한 것 이므로, 남은 숫자를 모두 stack에 넣어준뒤 n-K만큼 잘라 출력해주면 된다.\n",
    "\n"
   ]
  }
 ],
 "metadata": {
  "kernelspec": {
   "display_name": "Python 3",
   "language": "python",
   "name": "python3"
  },
  "language_info": {
   "codemirror_mode": {
    "name": "ipython",
    "version": 3
   },
   "file_extension": ".py",
   "mimetype": "text/x-python",
   "name": "python",
   "nbconvert_exporter": "python",
   "pygments_lexer": "ipython3",
   "version": "3.8.8"
  }
 },
 "nbformat": 4,
 "nbformat_minor": 5
}
