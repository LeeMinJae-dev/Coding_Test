{
 "cells": [
  {
   "cell_type": "markdown",
   "id": "70f5f145",
   "metadata": {},
   "source": [
    "## 문제\n",
    "크기가 N인 수열 A = A1, A2, ..., AN이 있다. 수열의 각 원소 Ai에 대해서 오큰수 NGE(i)를 구하려고 한다. Ai의 오큰수는 오른쪽에 있으면서 Ai보다 큰 수 중에서 가장 왼쪽에 있는 수를 의미한다. 그러한 수가 없는 경우에 오큰수는 -1이다.\n",
    "\n",
    "예를 들어, A = [3, 5, 2, 7]인 경우 NGE(1) = 5, NGE(2) = 7, NGE(3) = 7, NGE(4) = -1이다. A = [9, 5, 4, 8]인 경우에는 NGE(1) = -1, NGE(2) = 8, NGE(3) = 8, NGE(4) = -1이다.\n",
    "\n",
    "## 입력\n",
    "첫째 줄에 수열 A의 크기 N (1 ≤ N ≤ 1,000,000)이 주어진다. 둘째 줄에 수열 A의 원소 A1, A2, ..., AN (1 ≤ Ai ≤ 1,000,000)이 주어진다.\n",
    "\n",
    "## 출력\n",
    "총 N개의 수 NGE(1), NGE(2), ..., NGE(N)을 공백으로 구분해 출력한다.\n",
    "\n",
    "## 예제\n",
    "```\n",
    "예제 입력 1  \n",
    "4\n",
    "3 5 2 7\n",
    "예제 출력 1  \n",
    "5 7 7 -1\n",
    "\n",
    "예제 입력 2  \n",
    "4\n",
    "9 5 4 8\n",
    "예제 출력 2  \n",
    "-1 8 8 -1\n",
    "```\n",
    "\n",
    "## 코드"
   ]
  },
  {
   "cell_type": "code",
   "execution_count": 15,
   "id": "640e8dd0",
   "metadata": {},
   "outputs": [
    {
     "name": "stdout",
     "output_type": "stream",
     "text": [
      "4\n",
      "3 5 2 7\n"
     ]
    }
   ],
   "source": [
    "n = int(input())\n",
    "numbers = list(map(int, input().split()))\n",
    "stack = []\n",
    "answer = [-1] * n\n",
    "stack.append(0)\n",
    "\n",
    "for i in range(len(numbers)):\n",
    "        while stack and numbers[stack[-1]] < numbers[i]:\n",
    "            answer[stack.pop()] = numbers[i]\n",
    "        stack.append(i)\n",
    "    \n",
    "\n",
    "for i in answer:\n",
    "    print(i)"
   ]
  },
  {
   "cell_type": "markdown",
   "id": "6bc704fd",
   "metadata": {},
   "source": [
    "## 문제풀이\n",
    "처음에는 이중 for문으로 풀었다가 시간초과가 떠서 스택을 이용해서 다시 풀었다.\n",
    "\n",
    "먼저 주어진 숫자들을 배열에 넣어준 뒤, 순서대로 인덱스를 꺼내서 스택에 넣어준다. 스택에 값이 있다면\n",
    "pop하여 그 인덱스에 위치한 값과 현재 i의 값을 비교해서 더 큰 값을 가질때, 이값이 바로 해당 i 인덱스의 오큰수 이므로 answer에 값을 추가해준다. 만약 스택이 비어있다면 아직 numbers의 첫 값이 아직 스택에 들어가지 않은것이므로 스택에 append 해준다.\n"
   ]
  }
 ],
 "metadata": {
  "kernelspec": {
   "display_name": "Python 3",
   "language": "python",
   "name": "python3"
  },
  "language_info": {
   "codemirror_mode": {
    "name": "ipython",
    "version": 3
   },
   "file_extension": ".py",
   "mimetype": "text/x-python",
   "name": "python",
   "nbconvert_exporter": "python",
   "pygments_lexer": "ipython3",
   "version": "3.8.8"
  }
 },
 "nbformat": 4,
 "nbformat_minor": 5
}
