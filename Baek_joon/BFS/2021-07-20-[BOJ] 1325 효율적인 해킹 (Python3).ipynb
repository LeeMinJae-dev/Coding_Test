{
 "cells": [
  {
   "cell_type": "markdown",
   "id": "7e03fb88",
   "metadata": {},
   "source": [
    "---\n",
    "title : \"[BOJ] 1325 효율적인 해킹 (Python3)\"\n",
    "categories: baekjoon\n",
    "tag : 백준 알고리즘 BFS\n",
    "toc : true\n",
    "toc_sticky : true\n",
    "toc_lable: \"On this Page\"\n",
    "\n",
    "---\n",
    "## 문제\n",
    "해커 김지민은 잘 알려진 어느 회사를 해킹하려고 한다. 이 회사는 N개의 컴퓨터로 이루어져 있다. 김지민은 귀찮기 때문에, 한 번의 해킹으로 여러 개의 컴퓨터를 해킹 할 수 있는 컴퓨터를 해킹하려고 한다.\n",
    "\n",
    "이 회사의 컴퓨터는 신뢰하는 관계와, 신뢰하지 않는 관계로 이루어져 있는데, A가 B를 신뢰하는 경우에는 B를 해킹하면, A도 해킹할 수 있다는 소리다.\n",
    "\n",
    "이 회사의 컴퓨터의 신뢰하는 관계가 주어졌을 때, 한 번에 가장 많은 컴퓨터를 해킹할 수 있는 컴퓨터의 번호를 출력하는 프로그램을 작성하시오.\n",
    "\n",
    "## 입력\n",
    "첫째 줄에, N과 M이 들어온다. N은 10,000보다 작거나 같은 자연수, M은 100,000보다 작거나 같은 자연수이다. 둘째 줄부터 M개의 줄에 신뢰하는 관계가 A B와 같은 형식으로 들어오며, \"A가 B를 신뢰한다\"를 의미한다. 컴퓨터는 1번부터 N번까지 번호가 하나씩 매겨져 있다.\n",
    "\n",
    "## 출력\n",
    "첫째 줄에, 김지민이 한 번에 가장 많은 컴퓨터를 해킹할 수 있는 컴퓨터의 번호를 오름차순으로 출력한다.\n",
    "\n",
    "```\n",
    "예제 입력 1  \n",
    "5 4\n",
    "3 1\n",
    "3 2\n",
    "4 3\n",
    "5 3\n",
    "\n",
    "예제 출력 1  \n",
    "1 \n",
    "```\n",
    "\n",
    "## 풀이\n",
    "간단한 탐색문제로 bfs로 풀 수 있는데, 컴퓨터의 신뢰관계를 노드 형식으로 리스트에 넣어주고, 노드가 많이 연결되어있는 컴퓨터순으로 출력하면 된다.\n",
    "\n",
    "## 코드 "
   ]
  },
  {
   "cell_type": "code",
   "execution_count": 17,
   "id": "24e2ee9a",
   "metadata": {},
   "outputs": [
    {
     "name": "stdout",
     "output_type": "stream",
     "text": [
      "5 4\n",
      "3 1\n",
      "3 2\n",
      "4 3\n",
      "5 3\n",
      "1 2 "
     ]
    }
   ],
   "source": [
    "from collections import deque\n",
    "#컴퓨터의 개수 n, 신뢰관계의 개수 m\n",
    "n,m = map(int, input().split())\n",
    "\n",
    "#노드의 형태 graph\n",
    "graph = [[] for _ in range(n+1)]\n",
    "\n",
    "#자신을 신뢰하는 컴퓨터를 자신의 리스트에 넣는다\n",
    "for i in range(m):\n",
    "    a,b = map(int, input().split())\n",
    "    graph[b].append(a)\n",
    "\n",
    "#bfs를 사용하여 1-5의 컴퓨터를 순서대로 방문하며, 자신을 신뢰하는 컴퓨터에 모두 방문한다.\n",
    "#방문한 횟수를 hack 변수에 넣는다.\n",
    "def bfs(x):\n",
    "    q = deque()\n",
    "    q.append(x)\n",
    "    hack = 1\n",
    "    visited = [0 for _ in range(n+1)]\n",
    "    visited[x] = 1\n",
    "    while q:\n",
    "        nx = q.popleft()\n",
    "        for i in graph[nx]:\n",
    "            if visited[i] == 0:\n",
    "                q.append(i)\n",
    "                hack+=1\n",
    "                visited[i] = 1\n",
    "    return hack\n",
    "#자신을 신뢰하는 컴퓨터의 개수를 저장하는 리스트 answer\n",
    "answer = []\n",
    "#bfs함수에 넣어 얻은 result를 answer 리스트에 넣어준다.\n",
    "for i in range(1,n+1):\n",
    "        answer.append(bfs(i))\n",
    "    \n",
    "    \n",
    "#resutl 순차 출력\n",
    "for i in range(len(answer)):\n",
    "    if max(answer)== answer[i]:\n",
    "        print(i+1, end = ' ')\n",
    "\n",
    "\n"
   ]
  },
  {
   "cell_type": "markdown",
   "id": "a5a51193",
   "metadata": {},
   "source": [
    "## Feedback\n",
    "방문을 체크하는 visited 리스트를 만들지 않아서 계속 메모리 초과가 떴다.\n",
    "예제는 서로 상호신뢰관계가 없어서 잘되길래 문제가 없다고 생각했는데, 테스트셋의 상호신뢰관계 때문에 반복이 끝나지를 않아서 메모리가 초과 된것 같다.\n",
    "bfs, dfs를 풀때는 항상 방문을 잘 체크하자."
   ]
  },
  {
   "cell_type": "code",
   "execution_count": null,
   "id": "8acc8378",
   "metadata": {},
   "outputs": [],
   "source": []
  }
 ],
 "metadata": {
  "kernelspec": {
   "display_name": "Python 3",
   "language": "python",
   "name": "python3"
  },
  "language_info": {
   "codemirror_mode": {
    "name": "ipython",
    "version": 3
   },
   "file_extension": ".py",
   "mimetype": "text/x-python",
   "name": "python",
   "nbconvert_exporter": "python",
   "pygments_lexer": "ipython3",
   "version": "3.8.8"
  }
 },
 "nbformat": 4,
 "nbformat_minor": 5
}
