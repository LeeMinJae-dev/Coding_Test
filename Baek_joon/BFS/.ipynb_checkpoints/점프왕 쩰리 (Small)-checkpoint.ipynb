{
 "cells": [
  {
   "cell_type": "markdown",
   "id": "464d2150",
   "metadata": {},
   "source": [
    "## 문제\n",
    "‘쩰리’는 점프하는 것을 좋아하는 젤리다. 단순히 점프하는 것에 지루함을 느낀 ‘쩰리’는 새로운 점프 게임을 해보고 싶어 한다. 새로운 점프 게임의 조건은 다음과 같다.\n",
    "\n",
    "‘쩰리’는 가로와 세로의 칸 수가 같은 정사각형의 구역 내부에서만 움직일 수 있다. ‘쩰리’가 정사각형 구역의 외부로 나가는 경우엔 바닥으로 떨어져 즉시 게임에서 패배하게 된다.\n",
    "‘쩰리’의 출발점은 항상 정사각형의 가장 왼쪽, 가장 위의 칸이다. 다른 출발점에서는 출발하지 않는다.\n",
    "‘쩰리’가 이동 가능한 방향은 오른쪽과 아래 뿐이다. 위쪽과 왼쪽으로는 이동할 수 없다.\n",
    "‘쩰리’가 가장 오른쪽, 가장 아래 칸에 도달하는 순간, 그 즉시 ‘쩰리’의 승리로 게임은 종료된다.\n",
    "‘쩰리’가 한 번에 이동할 수 있는 칸의 수는, 현재 밟고 있는 칸에 쓰여 있는 수 만큼이다. 칸에 쓰여 있는 수 초과나 그 미만으로 이동할 수 없다.\n",
    "새로운 게임이 맘에 든 ‘쩰리’는, 계속 게임을 진행해 마침내 최종 단계에 도달했다. 하지만, 게임을 진행하는 구역이 너무 넓어져버린 나머지, 이 게임에서 이길 수 있는지 없는지 가늠할 수 없어졌다. ‘쩰리’는 유능한 프로그래머인 당신에게 주어진 구역에서 승리할 수 있는 지 알아봐 달라고 부탁했다. ‘쩰리’를 도와 주어진 게임 구역에서 끝 점(오른쪽 맨 아래 칸)까지 도달할 수 있는지를 알아보자!\n",
    "\n",
    "## 입력\n",
    "입력의 첫 번째 줄에는 게임 구역의 크기 N (2 ≤ N ≤ 3)이 주어진다.\n",
    "\n",
    "입력의 두 번째 줄부터 마지막 줄까지 게임판의 구역(맵)이 주어진다.\n",
    "\n",
    "게임판의 승리 지점(오른쪽 맨 아래 칸)에는 -1이 쓰여있고, 나머지 칸에는 0 이상 100 이하의 정수가 쓰여있다.\n",
    "\n",
    "## 출력\n",
    "‘쩰리’가 끝 점에 도달할 수 있으면 “HaruHaru”(인용부호 없이), 도달할 수 없으면 “Hing” (인용부호 없이)을 한 줄에 출력합니다.\n",
    "\n",
    "```\n",
    "예제 입력 1  \n",
    "3\n",
    "1 1 10\n",
    "1 5 1\n",
    "2 2 -1\n",
    "\n",
    "예제 출력 1  \n",
    "HaruHaru\n",
    "쩰리는 맨 왼쪽 위의 칸에서 출발해 (행, 열)로 나타낸 좌표계로,  (1, 1) -> (2, 1) -> (3, 1) -> (3, 3)으로 이동해 게임에서 승리할 수 있다.\n",
    "\n",
    "예제 입력 2  \n",
    "3\n",
    "2 2 1\n",
    "2 2 2\n",
    "1 2 -1\n",
    "\n",
    "예제 출력 2  \n",
    "Hing\n",
    "쩰리는 맨 왼쪽 위의 칸에서 출발하더라도 절대 게임의 승리 지점인 (3, 3)에 도달할 수 없다.\n",
    "```\n"
   ]
  },
  {
   "cell_type": "markdown",
   "id": "a0531195",
   "metadata": {},
   "source": [
    "## 풀이\n",
    "\n",
    "이 문제는 dfs를 사용하여 풀이하는 문제이다.\n",
    "visited를 따로 만들어주어 방문을 확인하면서 큐에 넣어가며 탐색을 하고,\n",
    "맵의 좌표에 적혀있는 숫자만큼 전진하여야 되므로 따로 step이라는 변수에 좌표의 숫자를 저장하여 그 숫자만큼 이동하여 탐색하도록 해주면 간단하게 풀 수 있다.\n",
    "\n"
   ]
  },
  {
   "cell_type": "code",
   "execution_count": 60,
   "id": "528d4e71",
   "metadata": {},
   "outputs": [
    {
     "name": "stdout",
     "output_type": "stream",
     "text": [
      "3 \n",
      "1 1 10\n",
      "1 5 1\n",
      "2 2 -1\n",
      "Hing\n"
     ]
    }
   ],
   "source": [
    "from collections import deque\n",
    "\n",
    "n = int(input())\n",
    "\n",
    "maps = [list(map(int, input().split())) for _ in range(n)]\n",
    "\n",
    "\n",
    "\n",
    "dx = [-1,1,0,0]\n",
    "dy = [0,0,-1,1]\n",
    "\n",
    "\n",
    "def bfs(sx : int, sy : int)->bool:\n",
    "    q = deque()\n",
    "    q.append([sx,sy])\n",
    "    \n",
    "    visited = [[False]*3 for _ in range(n)]\n",
    "    \n",
    "    while q:\n",
    "        x,y = q.popleft()\n",
    "        step = maps[x][y]\n",
    "        \n",
    "        if maps[x][y] == -1:\n",
    "            return True\n",
    "        for dir in range(4):\n",
    "            nx, ny = x+dx[dir]*step, y+dy[dir]*step\n",
    "            if 0 <= nx < n and 0 <= ny < n:\n",
    "                if not visited[nx][ny]:\n",
    "                    visited[nx][ny] = True\n",
    "                    q.append([nx,ny])\n",
    "\n",
    "\n",
    "if bfs(0,0):\n",
    "    print('HaruHaru')\n",
    "else:\n",
    "    print('Hing')\n",
    "\n",
    "    \n"
   ]
  },
  {
   "cell_type": "markdown",
   "id": "14270d8c",
   "metadata": {},
   "source": [
    "# visited = [[False]*4 for _ in range(4)]"
   ]
  },
  {
   "cell_type": "code",
   "execution_count": null,
   "id": "364988d2",
   "metadata": {},
   "outputs": [],
   "source": [
    "visited[2][3] = True"
   ]
  },
  {
   "cell_type": "code",
   "execution_count": 37,
   "id": "2c10c19e",
   "metadata": {},
   "outputs": [],
   "source": [
    "visited = [[False]*3 for _ in range(3)]"
   ]
  },
  {
   "cell_type": "code",
   "execution_count": 42,
   "id": "9209f739",
   "metadata": {},
   "outputs": [
    {
     "data": {
      "text/plain": [
       "[[False, False, False], [False, False, False], [False, False, False]]"
      ]
     },
     "execution_count": 42,
     "metadata": {},
     "output_type": "execute_result"
    }
   ],
   "source": [
    "visited[]"
   ]
  },
  {
   "cell_type": "code",
   "execution_count": 53,
   "id": "ff5384c2",
   "metadata": {},
   "outputs": [
    {
     "name": "stdout",
     "output_type": "stream",
     "text": [
      "0\n",
      "1\n",
      "2\n",
      "3\n"
     ]
    }
   ],
   "source": [
    "for i in range(4):\n",
    "    print(i)"
   ]
  },
  {
   "cell_type": "code",
   "execution_count": null,
   "id": "c9579e2e",
   "metadata": {},
   "outputs": [],
   "source": []
  }
 ],
 "metadata": {
  "kernelspec": {
   "display_name": "Python 3",
   "language": "python",
   "name": "python3"
  },
  "language_info": {
   "codemirror_mode": {
    "name": "ipython",
    "version": 3
   },
   "file_extension": ".py",
   "mimetype": "text/x-python",
   "name": "python",
   "nbconvert_exporter": "python",
   "pygments_lexer": "ipython3",
   "version": "3.8.8"
  }
 },
 "nbformat": 4,
 "nbformat_minor": 5
}
