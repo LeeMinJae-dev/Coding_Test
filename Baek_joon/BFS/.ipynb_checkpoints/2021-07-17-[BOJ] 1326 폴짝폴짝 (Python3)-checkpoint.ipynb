{
 "cells": [
  {
   "cell_type": "markdown",
   "metadata": {
    "id": "hHTaKx6U4Yhl"
   },
   "source": [
    "---\n",
    "title: \"[BOJ] 1326 폴짝폴짝 (Python3)\"\n",
    "toc :true\n",
    "toc_sticky : true\n",
    "toc_label : \"On this page\"\n",
    "categories : baekjoon\n",
    "---\n",
    "\n",
    "\n",
    "## 문제\n",
    "개구리가 일렬로 놓여 있는 징검다리 사이를 폴짝폴짝 뛰어다니고 있다. 징검다리에는 숫자가 각각 쓰여 있는데, 이 개구리는 매우 특이한 개구리여서 어떤 징검다리에서 점프를 할 때는 그 징검다리에 쓰여 있는 수의 배수만큼 떨어져 있는 곳으로만 갈 수 있다.\n",
    "\n",
    "이 개구리는 a번째 징검다리에서 b번째 징검다리까지 가려고 한다. 이 개구리가 a번째 징검다리에서 시작하여 최소 몇 번 점프를 하여 b번째 징검다리까지 갈 수 있는지를 알아보는 프로그램을 작성하시오.\n",
    "\n",
    "## 입력\n",
    "첫째 줄에 징검다리의 개수 N(1≤N≤10,000)이 주어지고, 이어서 각 징검다리에 쓰여 있는 N개의 정수가 주어진다. 그 다음 줄에는 N보다 작거나 같은 자연수 a, b가 주어지는 데, 이는 개구리가 a번 징검다리에서 시작하여 b번 징검다리에 가고 싶다는 뜻이다. 징검다리에 쓰여있는 정수는 10,000보다 작거나 같은 자연수이다.\n",
    "## 출력\n",
    "첫째 줄에 개구리가 a번 징검다리에서 b번 징검다리로 최소 몇 번 점프하여 갈 수 있는 지를 출력하시오. a에서 b로 갈 수 없는 경우에는 -1을 출력한다.\n",
    "\n",
    "    예제 입력 1  복사\n",
    "    5\n",
    "    1 2 2 1 2\n",
    "    1 5 \n",
    "    예제 출력 1  복사\n",
    "    1\n",
    "## 힌트\n",
    "1번 징검다리에 1이 쓰여 있으므로, 1의 배수인 4만큼을 한 번에 뛰어 5번 징검다리로 갈 수 있다.\n",
    "## 풀이\n",
    "bfs를 이용하여 징검다리에 인덱스 + 징검다리에 적혀있는 크기의 배수들에\n",
    "모두 방문하여 방문하지 않은 징검다리라면 visited에 1을 더해주는 방식으로 몇번만에 b에 도달했는지가 visited에 1보다 큰 수로 저장되도록 한다.\n",
    "\n",
    "간단한 bfs문제이지만 푸는데 한참걸렸는데, 징검다리가 왼쪽으로도 이동할 수 있다는 사실을 생각을 안하고 계속 풀어서 아무리 반례를 찾으려 해도 찾을 수 가 없어 시간을 너무 많이 잡아먹었다. 문제를 잘읽고 프로그램을 어떤 상황까지 구현해야 하는지 확실하게 풀어야겠다.\n",
    "\n",
    "## 코드"
   ]
  },
  {
   "cell_type": "code",
   "execution_count": 70,
   "metadata": {
    "colab": {
     "base_uri": "https://localhost:8080/"
    },
    "id": "u8CFW1lY5De2",
    "outputId": "a1077a2e-5df8-40de-8993-d0e88de0ce6d"
   },
   "outputs": [
    {
     "name": "stdout",
     "output_type": "stream",
     "text": [
      "5\n",
      "2 3 1 2 3\n",
      "5 2\n",
      "[0, 3, 0, -3]\n",
      "[0, 3, 0, -3]\n",
      "1\n"
     ]
    }
   ],
   "source": [
    "from collections import deque\n",
    "\n",
    "def bfs(x):\n",
    "    q = deque()\n",
    "    q.append(x)\n",
    "    visited[x] = 1\n",
    "    while q:\n",
    "        nx = q.popleft()\n",
    "        dx=[]\n",
    "        for i in range(b+1):\n",
    "            if abs(bridge[nx]*-i) > n:\n",
    "                break\n",
    "            dx.append(bridge[nx]*i)\n",
    "        for i in range(b+1):\n",
    "            if abs(bridge[nx]*-i) > n:\n",
    "                break\n",
    "            dx.append(bridge[nx]*-i)\n",
    "        for i in range(len(dx)):\n",
    "            sx = nx + dx[i]\n",
    "            if 0 <= sx < n and visited[sx]==0:\n",
    "                visited[sx] = visited[nx]+1\n",
    "                q.append(sx)\n",
    "                #print('result:', result)\n",
    "\n",
    "n = int(input())\n",
    "bridge = list(map(int,input().split()))\n",
    "a,b = map(int,input().split())\n",
    "visited = [0]*n\n",
    "result = [0]*n\n",
    "bfs(a-1)\n",
    "if bridge[a-1] == 1:\n",
    "        print(1)\n",
    "elif a == b:\n",
    "    print(0)\n",
    "else:\n",
    "    print(visited[b-1]-1)\n"
   ]
  }
 ],
 "metadata": {
  "colab": {
   "collapsed_sections": [],
   "name": "2021-07-17-[BOJ] 1326 폴짝폴짝 (Python3)의 사본",
   "provenance": []
  },
  "kernelspec": {
   "display_name": "Python 3",
   "language": "python",
   "name": "python3"
  },
  "language_info": {
   "codemirror_mode": {
    "name": "ipython",
    "version": 3
   },
   "file_extension": ".py",
   "mimetype": "text/x-python",
   "name": "python",
   "nbconvert_exporter": "python",
   "pygments_lexer": "ipython3",
   "version": "3.8.8"
  }
 },
 "nbformat": 4,
 "nbformat_minor": 1
}
