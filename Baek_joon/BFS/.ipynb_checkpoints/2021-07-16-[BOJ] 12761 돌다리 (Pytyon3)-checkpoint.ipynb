{
 "cells": [
  {
   "cell_type": "markdown",
   "id": "996696c4",
   "metadata": {},
   "source": [
    "---\n",
    "title : \"[BOJ] 12761 돌다리 (Pytyon3)\"\n",
    "categories : baekjoon\n",
    "tags: 백준 파이썬 DFS BFS\n",
    "\n",
    "toc : true\n",
    "toc_label: \"On this page\"\n",
    "toc_sticky: true\n",
    "\n",
    "---\n",
    "## 문제\n",
    "동규와 주미는 일직선 상의 돌 다리 위에있다. 돌의 번호는 0 부터 100,000 까지 존재하고 동규는 \n",
    "N번 돌 위에, 주미는 M번 돌 위에 위치하고 있다. 동규는 주미가 너무 보고싶기 때문에 최대한 빨리 주미에게 가기 위해 A,B만큼의 힘을 가진 스카이 콩콩을 가져왔다. 동규가 정한 다리를 건너는 규칙은 턴 방식인데, 한 턴에 이동할 수 있는 거리는 이러하다. 현 위치에서 +1칸, -1칸을 이동할 수 있고, 스카이 콩콩을 이용해 현 위치에서 A나 B만큼 좌우로 점프할 수 있으며, 순간적으로 힘을 모아 현 위치의 A배나 B배의 위치로 이동을 할 수 있다. \n",
    "\n",
    "예를 들어 지금 동규가 7번 돌 위에 있고 스카이 콩콩의 힘이 8이면 그냥 점프를 해서 15번 돌에 갈 수도 있고, 순간적으로 힘을 모아 56번 돌에 갈 수도 있다는 것이다. 주어진 8가지의 방법 중 적절한 방법을 골라서 최대한 빨리 동규가 주미를 만날 수 있게 도와주자. 단, 이동 과정에서 100,000보다 크거나 0보다 작은 번호의 돌은 존재하지 않으므로 갈 수 없고, 같은 방법을 계속 사용해도 되며 항상 도달할 수 있는 케이스만 주어진다.\n",
    "\n",
    "## 입력\n",
    "입력의 첫 줄에 스카이 콩콩의 힘 A와 B, 그리고 동규의 현재위치 N, \n",
    "주미의 현재 위치 M이 주어진다. (단, 2≤A,B≤30이고 0≤N,M≤100,000)\n",
    "\n",
    "## 출력\n",
    "동규가 주미에게 도달하기 위한 최소한의 이동 횟수를 출력하라.\n",
    "\n",
    "```\n",
    "예제 입력 1  \n",
    "2 3 1 20\n",
    "예제 출력 1  \n",
    "4\n",
    "\n",
    "\n",
    "예제 입력 2  \n",
    "3 7 2 98500\n",
    "예제 출력 2  \n",
    "10\n",
    "```\n",
    "## 풀이\n",
    "좌우좌표계로 연결된 노드로 생각하고 bfs를 사용하여 방문한적이 없다면 점프하기 전의 위치에서 1을 더한값을 현재위치에 저장해 주며 앞으로 끝까지 나아간다. 그 이후에 주미가 있는 곳의 숫자를 출력해주면, 그 숫자가 동규가 주미에게 도달하기위한 최소 이동 횟수가 된다.\n",
    "## 코드"
   ]
  },
  {
   "cell_type": "code",
   "execution_count": 20,
   "id": "2207eab3",
   "metadata": {},
   "outputs": [
    {
     "name": "stdout",
     "output_type": "stream",
     "text": [
      "2 3 1 20\n",
      "4\n"
     ]
    }
   ],
   "source": [
    "from collections import deque\n",
    "def bfs(x):\n",
    "    visited[x] = 1\n",
    "    q = deque()\n",
    "    q.append(x)\n",
    "    while q:\n",
    "        nx = q.popleft()\n",
    "        for i in range(8):\n",
    "            if i < 6:\n",
    "                sx = nx+dx[i]\n",
    "                if 0 <= sx <= 100000 and visited[sx] == 0:\n",
    "                    q.append(sx)\n",
    "                    visited[sx] = 1\n",
    "                    stone[sx] = stone[nx]+1\n",
    "                \n",
    "            else:\n",
    "                sx = nx*dx[i]\n",
    "                if 0 <= sx <= 100000 and visited[sx] == 0:\n",
    "                    q.append(sx)\n",
    "                    visited[sx] = 1\n",
    "                    stone[sx] = stone[nx]+1\n",
    "                \n",
    "        \n",
    "A,B,N,M = map(int, input().split())\n",
    "\n",
    "stone = [0 for i in range(100001)]\n",
    "visited = [0 for i in range(100001)]\n",
    "\n",
    "dx =[1,-1,A,-A,B,-B,A,B]\n",
    "\n",
    "bfs(N)\n",
    "\n",
    "print(stone[M])"
   ]
  }
 ],
 "metadata": {
  "kernelspec": {
   "display_name": "Python 3",
   "language": "python",
   "name": "python3"
  },
  "language_info": {
   "codemirror_mode": {
    "name": "ipython",
    "version": 3
   },
   "file_extension": ".py",
   "mimetype": "text/x-python",
   "name": "python",
   "nbconvert_exporter": "python",
   "pygments_lexer": "ipython3",
   "version": "3.8.8"
  }
 },
 "nbformat": 4,
 "nbformat_minor": 5
}
