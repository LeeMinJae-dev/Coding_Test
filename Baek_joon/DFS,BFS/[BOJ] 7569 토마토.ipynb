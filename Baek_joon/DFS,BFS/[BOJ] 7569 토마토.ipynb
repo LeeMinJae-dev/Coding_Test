{
 "cells": [
  {
   "cell_type": "markdown",
   "id": "2fd15dc7",
   "metadata": {},
   "source": [
    "---\n",
    "title : \"[BOJ] 7569 토마토 (Python3)\"\n",
    "categories: baekjoon\n",
    "tag : 백준 알고리즘 BFS\n",
    "toc : true\n",
    "toc_sticky : true\n",
    "toc_lable: \"On this Page\"\n",
    "\n",
    "---\n",
    "## 문제\n",
    "철수의 토마토 농장에서는 토마토를 보관하는 큰 창고를 가지고 있다. 토마토는 아래의 그림과 같이 격자모양 상자의 칸에 하나씩 넣은 다음, 상자들을 수직으로 쌓아 올려서 창고에 보관한다.\n",
    "\n",
    "창고에 보관되는 토마토들 중에는 잘 익은 것도 있지만, 아직 익지 않은 토마토들도 있을 수 있다. 보관 후 하루가 지나면, 익은 토마토들의 인접한 곳에 있는 익지 않은 토마토들은 익은 토마토의 영향을 받아 익게 된다. 하나의 토마토에 인접한 곳은 위, 아래, 왼쪽, 오른쪽, 앞, 뒤 여섯 방향에 있는 토마토를 의미한다. 대각선 방향에 있는 토마토들에게는 영향을 주지 못하며, 토마토가 혼자 저절로 익는 경우는 없다고 가정한다. 철수는 창고에 보관된 토마토들이 며칠이 지나면 다 익게 되는지 그 최소 일수를 알고 싶어 한다.\n",
    "\n",
    "토마토를 창고에 보관하는 격자모양의 상자들의 크기와 익은 토마토들과 익지 않은 토마토들의 정보가 주어졌을 때, 며칠이 지나면 토마토들이 모두 익는지, 그 최소 일수를 구하는 프로그램을 작성하라. 단, 상자의 일부 칸에는 토마토가 들어있지 않을 수도 있다.\n",
    "\n",
    "## 입력\n",
    "첫 줄에는 상자의 크기를 나타내는 두 정수 M,N과 쌓아올려지는 상자의 수를 나타내는 H가 주어진다. M은 상자의 가로 칸의 수, N은 상자의 세로 칸의 수를 나타낸다. 단, 2 ≤ M ≤ 100, 2 ≤ N ≤ 100, 1 ≤ H ≤ 100 이다. 둘째 줄부터는 가장 밑의 상자부터 가장 위의 상자까지에 저장된 토마토들의 정보가 주어진다. 즉, 둘째 줄부터 N개의 줄에는 하나의 상자에 담긴 토마토의 정보가 주어진다. 각 줄에는 상자 가로줄에 들어있는 토마토들의 상태가 M개의 정수로 주어진다. 정수 1은 익은 토마토, 정수 0 은 익지 않은 토마토, 정수 -1은 토마토가 들어있지 않은 칸을 나타낸다. 이러한 N개의 줄이 H번 반복하여 주어진다.\n",
    "\n",
    "토마토가 하나 이상 있는 경우만 입력으로 주어진다.\n",
    "\n",
    "#출력\n",
    "여러분은 토마토가 모두 익을 때까지 최소 며칠이 걸리는지를 계산해서 출력해야 한다. 만약, 저장될 때부터 모든 토마토가 익어있는 상태이면 0을 출력해야 하고, 토마토가 모두 익지는 못하는 상황이면 -1을 출력해야 한다."
   ]
  },
  {
   "cell_type": "code",
   "execution_count": 4,
   "id": "5c71f3a0",
   "metadata": {},
   "outputs": [
    {
     "name": "stdin",
     "output_type": "stream",
     "text": [
      " 5 3 2\n",
      " 0 0 0 0 0\n",
      " 0 0 0 0 0\n",
      " 0 0 0 0 0\n",
      " 0 0 0 0 0\n",
      " 0 0 1 0 0\n",
      " 0 0 0 0 0\n"
     ]
    },
    {
     "name": "stdout",
     "output_type": "stream",
     "text": [
      "4\n"
     ]
    }
   ],
   "source": [
    "from collections import deque\n",
    "import sys\n",
    "input = sys.stdin.readline\n",
    "\n",
    "m, n, h = map(int, input().split())\n",
    "\n",
    "box = [[] for _ in range(h)]\n",
    "\n",
    "for i in box:\n",
    "    for j in range(n):\n",
    "        i.append(list(map(int, input().split())))\n",
    "\n",
    "queue = deque()\n",
    "\n",
    "for k in range(len(box)):\n",
    "    for i in range(len(box[0])):\n",
    "        for j in range(len(box[0][0])):\n",
    "            if box[k][i][j] == 1:\n",
    "                queue.append((k, i, j))\n",
    "\n",
    "dx = [-1, 1, 0, 0, 0, 0]\n",
    "dy = [0, 0, -1, 1, 0, 0]\n",
    "dz = [0, 0, 0, 0, -1, 1]\n",
    "\n",
    "day = 0\n",
    "\n",
    "while queue:\n",
    "    z, x, y = queue.popleft()\n",
    "    \n",
    "    for i in range(6):\n",
    "        nx = x + dx[i]\n",
    "        ny = y + dy[i]\n",
    "        nz = z + dz[i]\n",
    "        \n",
    "        if 0<= nx <= (n - 1) and 0 <= ny <= (m - 1) and 0 <= nz <= (h - 1) and box[nz][nx][ny] == 0:\n",
    "            if box[nz][nx][ny] == 0:\n",
    "                box[nz][nx][ny] = box[z][x][y] + 1\n",
    "                queue.append((nz, nx, ny))\n",
    "\n",
    "isTrue = True\n",
    "isZero = True\n",
    "\n",
    "for i in box:\n",
    "    for j in i:\n",
    "        for num in j:\n",
    "            if num == 0:\n",
    "                print(-1)\n",
    "                exit(0)\n",
    "        day = max(day, max(j))\n",
    "\n",
    "print(day-1)\n",
    "    \n",
    "    \n",
    "\n",
    "    "
   ]
  },
  {
   "cell_type": "markdown",
   "id": "a7690e8b",
   "metadata": {},
   "source": [
    "이 문제는 복잡해보이지만 사실 bfs의 개념을 3차원으로만 옮겨서 생각해주면 되는 문제이다.\n",
    "\n",
    "3차원 배열을 구성해서 동일하게 bfs의 코드를 작성해주고, dz를 만들어 3차원 방향인 위, 아래까지 탐색하게 해준 뒤,\n",
    "익어가는 토마토 위치에 날짜를 기록해주면 된다.\n",
    "\n",
    "input()대신에 sys.stdin.readline()을 쓰고 pypy3로 제출해야 효율성을 통과할 수 있다.\n"
   ]
  }
 ],
 "metadata": {
  "kernelspec": {
   "display_name": "Python 3",
   "language": "python",
   "name": "python3"
  },
  "language_info": {
   "codemirror_mode": {
    "name": "ipython",
    "version": 3
   },
   "file_extension": ".py",
   "mimetype": "text/x-python",
   "name": "python",
   "nbconvert_exporter": "python",
   "pygments_lexer": "ipython3",
   "version": "3.9.7"
  }
 },
 "nbformat": 4,
 "nbformat_minor": 5
}
