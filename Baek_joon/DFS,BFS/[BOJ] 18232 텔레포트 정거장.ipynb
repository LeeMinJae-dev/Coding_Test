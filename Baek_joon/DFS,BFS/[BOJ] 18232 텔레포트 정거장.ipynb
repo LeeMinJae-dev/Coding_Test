{
 "cells": [
  {
   "cell_type": "markdown",
   "id": "496941e8",
   "metadata": {},
   "source": [
    "---\n",
    "title : \"[BOJ] 1325 효율적인 해킹 (Python3)\"\n",
    "categories: baekjoon\n",
    "tag : 백준 알고리즘 BFS\n",
    "toc : true\n",
    "toc_sticky : true\n",
    "toc_lable: \"On this Page\"\n",
    "\n",
    "---\n",
    "## 문제\n",
    "꽉꽉나라에 사는 주예와 방주는 점 S에서 만나 저녁을 먹기로 했다. 주예는 점 S에 도착했지만 길치인 방주가 약속시간이 30분이 지나도 나타나지 않자 방주에게 연락을 하여 방주가 점 E에 있다는 사실을 알아냈다. 주예는 방주에게 그 위치에 가만히 있으라고 했고, 직접 점 E로 가려고 한다.\n",
    "\n",
    "꽉꽉나라에는 1부터 N까지의 각 점에 하나의 텔레포트 정거장이 위치해 있고 텔레포트를 통하여 연결되어 있는 다른 텔레포트의 정거장으로 이동할 수 있다. 주예는 현재 위치가 점 X라면 X+1이나 X-1로 이동하거나 X에 위치한 텔레포트와 연결된 지점으로 이동할 수 있으며 각 행동에는 1초가 소요된다. 배가 고픈 주예는 최대한 빨리 방주와 만나고 싶어 한다.\n",
    "\n",
    "N과 텔레포트 연결 정보가 주어질 때 점 S에 있는 주예가 점 E까지 가는 최소 시간을 구해보자.\n",
    "\n",
    "## 입력\n",
    "첫 번째 줄에 정수 N, M이 공백으로 구분되어 주어진다. (2 ≤ N ≤ 300,000, 0 ≤ M ≤ min(N×(N-1)/2, 300,000))\n",
    "\n",
    "두 번째 줄에 정수 S, E가 공백으로 구분되어 주어진다. (1 ≤ S, E ≤ N, S ≠ E)\n",
    "\n",
    "그 다음 줄부터 M개의 줄에 걸쳐 텔레포트 연결 정보를 의미하는 정수 x, y가 주어진다. (1 ≤ x, y ≤ N, x ≠ y)\n",
    "\n",
    "x y는 점 x의 텔레포트와 점 y의 텔레포트가 연결되어 있다는 뜻이다. M개의 연결정보는 중복되는 x y쌍이 없도록 주어진다.\n",
    "\n",
    "## 출력\n",
    "첫 번째 줄에 주예와 방주가 만날 수 있는 최소 시간을 출력한다.\n",
    "```\n",
    "예제 입력 1  \n",
    "5 1\n",
    "1 5\n",
    "1 4\n",
    "예제 출력 1  \n",
    "2\n",
    "\n",
    "\n",
    "예제 입력 2  \n",
    "10 3\n",
    "2 5\n",
    "1 6\n",
    "1 3\n",
    "2 8\n",
    "예제 출력 2  \n",
    "3\n",
    "```\n",
    "## 풀이\n",
    "단순 bfs 문제이다. 항상 이런 x좌표만 있는 문제는 단방향이 아닌 양방향으로 풀어야 한다는걸 기억하고 풀어야한다. "
   ]
  },
  {
   "cell_type": "code",
   "execution_count": 136,
   "id": "54ee1aea",
   "metadata": {},
   "outputs": [
    {
     "name": "stdout",
     "output_type": "stream",
     "text": [
      "5 1\n",
      "1 5\n",
      "1 3\n",
      "3\n"
     ]
    }
   ],
   "source": [
    "from collections import deque\n",
    "n,m = map(int, input().split())\n",
    "\n",
    "s,e = map(int, input().split())\n",
    "\n",
    "graph = [[] for _ in range(n+1)]\n",
    "visited = [-1 for _ in range(n+1)]\n",
    "\n",
    "for i in range(m):\n",
    "    x,y = map(int, input().split())\n",
    "    graph[x].append(y)\n",
    "    graph[y].append(x)\n",
    "\n",
    "\n",
    "\n",
    "def bfs(x):\n",
    "    q = deque()\n",
    "    q.append(x)\n",
    "    visited[x] = 0\n",
    "    while q:\n",
    "        nx = q.popleft()\n",
    "        dx = [nx-1, nx+1]\n",
    "        if graph[nx]:\n",
    "            dx += (graph[nx])\n",
    "        #print('dx :', dx)\n",
    "        for sx in dx:\n",
    "            #print('nx:',nx,'sx :', sx)\n",
    "            if 0 < sx <= n and visited[sx] == -1:\n",
    "                q.append(sx)\n",
    "                #print('q:', q)\n",
    "                visited[sx] = visited[nx]+1\n",
    "                #print(visited)\n",
    "            if sx == e:\n",
    "                return visited[sx]\n",
    "        \n",
    "print(bfs(s))"
   ]
  }
 ],
 "metadata": {
  "kernelspec": {
   "display_name": "Python 3",
   "language": "python",
   "name": "python3"
  },
  "language_info": {
   "codemirror_mode": {
    "name": "ipython",
    "version": 3
   },
   "file_extension": ".py",
   "mimetype": "text/x-python",
   "name": "python",
   "nbconvert_exporter": "python",
   "pygments_lexer": "ipython3",
   "version": "3.8.8"
  }
 },
 "nbformat": 4,
 "nbformat_minor": 5
}
