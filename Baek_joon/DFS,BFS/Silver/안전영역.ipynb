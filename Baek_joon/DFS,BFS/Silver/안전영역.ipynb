{
 "cells": [
  {
   "cell_type": "markdown",
   "id": "d6943bfe",
   "metadata": {},
   "source": [
    "---\n",
    "title : [BOJ] 2468 안전영역 (Python3)\n",
    "\n",
    "categories:\n",
    "    -codingtest\n",
    "    \n",
    "tags:\n",
    "    -코딩테스트\n",
    "    -백준\n",
    "    -파이썬\n",
    "    \n",
    "---\n",
    "## 문제\n",
    "\n",
    "https://www.acmicpc.net/problem/2468\n",
    "\n",
    "재난방재청에서는 많은 비가 내리는 장마철에 대비해서 다음과 같은 일을 계획하고 있다. 먼저 어떤 지역의 높이 정보를 파악한다. 그 다음에 그 지역에 많은 비가 내렸을 때 물에 잠기지 않는 안전한 영역이 최대로 몇 개가 만들어 지는 지를 조사하려고 한다. 이때, 문제를 간단하게 하기 위하여, 장마철에 내리는 비의 양에 따라 일정한 높이 이하의 모든 지점은 물에 잠긴다고 가정한다.\n",
    "\n",
    "어떤 지역의 높이 정보는 행과 열의 크기가 각각 N인 2차원 배열 형태로 주어지며 배열의 각 원소는 해당 지점의 높이를 표시하는 자연수이다. 예를 들어, 다음은 N=5인 지역의 높이 정보이다.\n",
    "```\n",
    "6\t8\t2\t6\t2\n",
    "3\t2\t3\t4\t6\n",
    "6\t7\t3\t3\t2\n",
    "7\t2\t5\t3\t6\n",
    "8\t9\t5\t2\t7\n",
    "```\n",
    "이제 위와 같은 지역에 많은 비가 내려서 높이가 4 이하인 모든 지점이 물에 잠겼다고 하자. 이 경우에 물에 잠기는 지점을 회색으로 표시하면 다음과 같다. \n",
    "```\n",
    "6\t8\t2\t6\t2\n",
    "3\t2\t3\t4\t6\n",
    "6\t7\t3\t3\t2\n",
    "7\t2\t5\t3\t6\n",
    "8\t9\t5\t2\t7\n",
    "```\n",
    "물에 잠기지 않는 안전한 영역이라 함은 물에 잠기지 않는 지점들이 위, 아래, 오른쪽 혹은 왼쪽으로 인접해 있으며 그 크기가 최대인 영역을 말한다. 위의 경우에서 물에 잠기지 않는 안전한 영역은 5개가 된다(꼭짓점으로만 붙어 있는 두 지점은 인접하지 않는다고 취급한다). \n",
    "\n",
    "또한 위와 같은 지역에서 높이가 6이하인 지점을 모두 잠기게 만드는 많은 비가 내리면 물에 잠기지 않는 안전한 영역은 아래 그림에서와 같이 네 개가 됨을 확인할 수 있다. \n",
    "```\n",
    "6\t8\t2\t6\t2\n",
    "3\t2\t3\t4\t6\n",
    "6\t7\t3\t3\t2\n",
    "7\t2\t5\t3\t6\n",
    "8\t9\t5\t2\t7\n",
    "```\n",
    "이와 같이 장마철에 내리는 비의 양에 따라서 물에 잠기지 않는 안전한 영역의 개수는 다르게 된다. 위의 예와 같은 지역에서 내리는 비의 양에 따른 모든 경우를 다 조사해 보면 물에 잠기지 않는 안전한 영역의 개수 중에서 최대인 경우는 5임을 알 수 있다. \n",
    "\n",
    "어떤 지역의 높이 정보가 주어졌을 때, 장마철에 물에 잠기지 않는 안전한 영역의 최대 개수를 계산하는 프로그램을 작성하시오. \n",
    "\n",
    "## 입력\n",
    "첫째 줄에는 어떤 지역을 나타내는 2차원 배열의 행과 열의 개수를 나타내는 수 N이 입력된다. N은 2 이상 100 이하의 정수이다. 둘째 줄부터 N개의 각 줄에는 2차원 배열의 첫 번째 행부터 N번째 행까지 순서대로 한 행씩 높이 정보가 입력된다. 각 줄에는 각 행의 첫 번째 열부터 N번째 열까지 N개의 높이 정보를 나타내는 자연수가 빈 칸을 사이에 두고 입력된다. 높이는 1이상 100 이하의 정수이다.\n",
    "\n",
    "## 출력\n",
    "첫째 줄에 장마철에 물에 잠기지 않는 안전한 영역의 최대 개수를 출력한다.\n",
    "\n",
    "```\n",
    "예제 입력 1  복사\n",
    "5\n",
    "6 8 2 6 2\n",
    "3 2 3 4 6\n",
    "6 7 3 3 2\n",
    "7 2 5 3 6\n",
    "8 9 5 2 7\n",
    "예제 출력 1  복사\n",
    "5\n",
    "예제 입력 2  복사\n",
    "7\n",
    "9 9 9 9 9 9 9\n",
    "9 2 1 2 1 2 9\n",
    "9 1 8 7 8 1 9\n",
    "9 2 7 9 7 2 9\n",
    "9 1 8 7 8 1 9\n",
    "9 2 1 2 1 2 9\n",
    "9 9 9 9 9 9 9\n",
    "예제 출력 2  복사\n",
    "6\n",
    "```\n",
    "## 노트\n",
    "아무 지역도 물에 잠기지 않을 수도 있다."
   ]
  },
  {
   "cell_type": "code",
   "execution_count": 23,
   "id": "1d6ed09c",
   "metadata": {},
   "outputs": [
    {
     "name": "stdout",
     "output_type": "stream",
     "text": [
      "3\n",
      "2 2 2\n",
      "2 2 2\n",
      "2 2 2\n",
      "1\n"
     ]
    }
   ],
   "source": [
    "import sys\n",
    "sys.setrecursionlimit(10**6)\n",
    "\n",
    "def dfs(x,y,water):\n",
    "    if x < 0 or x >=n or y < 0 or y >= n:\n",
    "        return False\n",
    "    \n",
    "    if graph[y][x] > water:\n",
    "        if not visited[y][x]:\n",
    "            visited[y][x] = True\n",
    "        \n",
    "            dfs(x+1, y, water)\n",
    "            dfs(x-1,y , water)\n",
    "            dfs(x, y+1, water)\n",
    "            dfs(x, y-1, water)\n",
    "            return True\n",
    "        \n",
    "    return False\n",
    "    \n",
    "#n: 지역의 크기 N\n",
    "n = int(input())\n",
    "\n",
    "#그래프 리스트\n",
    "graph = []\n",
    "for i in range(n):\n",
    "    graph.append(list(map(int, input().split())))\n",
    "\n",
    "answer = []\n",
    "\n",
    "\n",
    "max_num = max(map(max,graph))\n",
    "\n",
    "for water in range(max_num+1):\n",
    "    result = 0\n",
    "    visited = [[False]*n for i in range(n)]\n",
    "    for i in range(n):\n",
    "        for j in range(n):\n",
    "            if graph[j][i]:\n",
    "                if dfs(i,j,water):\n",
    "                    result+=1\n",
    "    answer.append(result)\n",
    "        \n",
    "\n",
    "print(max(answer))\n"
   ]
  },
  {
   "cell_type": "code",
   "execution_count": 13,
   "id": "f2ebb752",
   "metadata": {},
   "outputs": [
    {
     "name": "stdout",
     "output_type": "stream",
     "text": [
      "0\n",
      "1\n",
      "2\n",
      "3\n",
      "4\n"
     ]
    }
   ],
   "source": [
    "for i in range(5):\n",
    "    print(i)"
   ]
  },
  {
   "cell_type": "code",
   "execution_count": 2,
   "id": "da2f5332",
   "metadata": {},
   "outputs": [
    {
     "ename": "NameError",
     "evalue": "name 'n' is not defined",
     "output_type": "error",
     "traceback": [
      "\u001b[0;31m---------------------------------------------------------------------------\u001b[0m",
      "\u001b[0;31mNameError\u001b[0m                                 Traceback (most recent call last)",
      "\u001b[0;32m<ipython-input-2-20bfee11e878>\u001b[0m in \u001b[0;36m<module>\u001b[0;34m\u001b[0m\n\u001b[0;32m----> 1\u001b[0;31m \u001b[0;32mfor\u001b[0m \u001b[0mi\u001b[0m \u001b[0;32min\u001b[0m \u001b[0mrange\u001b[0m\u001b[0;34m(\u001b[0m\u001b[0mn\u001b[0m\u001b[0;34m)\u001b[0m\u001b[0;34m:\u001b[0m\u001b[0;34m\u001b[0m\u001b[0;34m\u001b[0m\u001b[0m\n\u001b[0m\u001b[1;32m      2\u001b[0m     \u001b[0mgraph\u001b[0m\u001b[0;34m.\u001b[0m\u001b[0mappend\u001b[0m\u001b[0;34m(\u001b[0m\u001b[0mlist\u001b[0m\u001b[0;34m(\u001b[0m\u001b[0mmap\u001b[0m\u001b[0;34m(\u001b[0m\u001b[0mint\u001b[0m\u001b[0;34m,\u001b[0m \u001b[0minput\u001b[0m\u001b[0;34m(\u001b[0m\u001b[0;34m)\u001b[0m\u001b[0;34m.\u001b[0m\u001b[0msplit\u001b[0m\u001b[0;34m(\u001b[0m\u001b[0;34m)\u001b[0m\u001b[0;34m)\u001b[0m\u001b[0;34m)\u001b[0m\u001b[0;34m)\u001b[0m\u001b[0;34m\u001b[0m\u001b[0;34m\u001b[0m\u001b[0m\n",
      "\u001b[0;31mNameError\u001b[0m: name 'n' is not defined"
     ]
    }
   ],
   "source": [
    "for i in range(n):\n",
    "    graph.append(list(map(int, input().split())))"
   ]
  },
  {
   "cell_type": "code",
   "execution_count": 13,
   "id": "825f0fa0",
   "metadata": {},
   "outputs": [],
   "source": [
    "max_num = max(map(max,graph))"
   ]
  },
  {
   "cell_type": "code",
   "execution_count": 19,
   "id": "1ee4ed51",
   "metadata": {},
   "outputs": [
    {
     "data": {
      "text/plain": [
       "[[1, 1, 1, 1, 1],\n",
       " [1, 1, 1, 1, 1],\n",
       " [1, 1, 1, 1, 1],\n",
       " [1, 1, 1, 1, 1],\n",
       " [1, 1, 1, 1, 1]]"
      ]
     },
     "execution_count": 19,
     "metadata": {},
     "output_type": "execute_result"
    }
   ],
   "source": []
  },
  {
   "cell_type": "code",
   "execution_count": 16,
   "id": "355f41d6",
   "metadata": {},
   "outputs": [],
   "source": [
    "max_num = max(map(max,graph))"
   ]
  },
  {
   "cell_type": "code",
   "execution_count": 17,
   "id": "6302d9c3",
   "metadata": {},
   "outputs": [
    {
     "data": {
      "text/plain": [
       "9"
      ]
     },
     "execution_count": 17,
     "metadata": {},
     "output_type": "execute_result"
    }
   ],
   "source": [
    "max_num"
   ]
  },
  {
   "cell_type": "code",
   "execution_count": 3,
   "id": "523bffbc",
   "metadata": {
    "scrolled": false
   },
   "outputs": [
    {
     "data": {
      "text/plain": [
       "[[False, False, False, False, False],\n",
       " [False, False, False, False, False],\n",
       " [False, False, False, False, False],\n",
       " [False, False, False, False, False],\n",
       " [False, False, False, False, False]]"
      ]
     },
     "execution_count": 3,
     "metadata": {},
     "output_type": "execute_result"
    }
   ],
   "source": [
    "[[False]*5 for i in range(5)]"
   ]
  },
  {
   "cell_type": "code",
   "execution_count": null,
   "id": "c0237c93",
   "metadata": {},
   "outputs": [],
   "source": []
  }
 ],
 "metadata": {
  "kernelspec": {
   "display_name": "Python 3",
   "language": "python",
   "name": "python3"
  },
  "language_info": {
   "codemirror_mode": {
    "name": "ipython",
    "version": 3
   },
   "file_extension": ".py",
   "mimetype": "text/x-python",
   "name": "python",
   "nbconvert_exporter": "python",
   "pygments_lexer": "ipython3",
   "version": "3.8.8"
  }
 },
 "nbformat": 4,
 "nbformat_minor": 5
}
