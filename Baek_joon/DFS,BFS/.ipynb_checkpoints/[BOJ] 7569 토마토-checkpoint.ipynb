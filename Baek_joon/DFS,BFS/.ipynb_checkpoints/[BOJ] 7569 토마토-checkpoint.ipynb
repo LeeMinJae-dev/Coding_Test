{
 "cells": [
  {
   "cell_type": "markdown",
   "id": "02fbce97",
   "metadata": {},
   "source": [
    "---\n",
    "title : \"[BOJ] 2644 촌수계산 (Python3)\"\n",
    "categories: baekjoon\n",
    "tag : 백준 알고리즘 BFS\n",
    "toc : true\n",
    "toc_sticky : true\n",
    "toc_lable: \"On this Page\"\n",
    "\n",
    "---\n",
    "## 문제\n",
    "우리 나라는 가족 혹은 친척들 사이의 관계를 촌수라는 단위로 표현하는 독특한 문화를 가지고 있다. 이러한 촌수는 다음과 같은 방식으로 계산된다. 기본적으로 부모와 자식 사이를 1촌으로 정의하고 이로부터 사람들 간의 촌수를 계산한다. 예를 들면 나와 아버지, 아버지와 할아버지는 각각 1촌으로 나와 할아버지는 2촌이 되고, 아버지 형제들과 할아버지는 1촌, 나와 아버지 형제들과는 3촌이 된다.\n",
    "\n",
    "여러 사람들에 대한 부모 자식들 간의 관계가 주어졌을 때, 주어진 두 사람의 촌수를 계산하는 프로그램을 작성하시오.\n",
    "\n",
    "## 입력\n",
    "사람들은 1, 2, 3, …, n (1 ≤ n ≤ 100)의 연속된 번호로 각각 표시된다. 입력 파일의 첫째 줄에는 전체 사람의 수 n이 주어지고, 둘째 줄에는 촌수를 계산해야 하는 서로 다른 두 사람의 번호가 주어진다. 그리고 셋째 줄에는 부모 자식들 간의 관계의 개수 m이 주어진다. 넷째 줄부터는 부모 자식간의 관계를 나타내는 두 번호 x,y가 각 줄에 나온다. 이때 앞에 나오는 번호 x는 뒤에 나오는 정수 y의 부모 번호를 나타낸다.\n",
    "\n",
    "각 사람의 부모는 최대 한 명만 주어진다.\n",
    "\n",
    "## 출력\n",
    "입력에서 요구한 두 사람의 촌수를 나타내는 정수를 출력한다. 어떤 경우에는 두 사람의 친척 관계가 전혀 없어 촌수를 계산할 수 없을 때가 있다. 이때에는 -1을 출력해야 한다."
   ]
  },
  {
   "cell_type": "code",
   "execution_count": 34,
   "id": "1fcce195",
   "metadata": {},
   "outputs": [
    {
     "name": "stdin",
     "output_type": "stream",
     "text": [
      " 9\n",
      " 7 3\n",
      " 7\n",
      " 1 2\n",
      " 1 3\n",
      " 2 7\n",
      " 2 8\n",
      " 2 9\n",
      " 4 5\n",
      " 4 6\n"
     ]
    },
    {
     "name": "stdout",
     "output_type": "stream",
     "text": [
      "3\n"
     ]
    }
   ],
   "source": [
    "n = int(input())\n",
    "first, second = map(int, input().split())\n",
    "m = int(input())\n",
    "\n",
    "graph = [[] for _ in range(n + 1)]\n",
    "\n",
    "for i in range(m):\n",
    "    parent, son = map(int, input().split())\n",
    "    graph[parent].append(son)\n",
    "    graph[son].append(parent)\n",
    "    \n",
    "visited = [-1 for _ in range(n + 1)]\n",
    "\n",
    "def dfs(v): \n",
    "    for i in graph[v]:\n",
    "        if visited[i] == -1:\n",
    "            visited[i] = visited[v] + 1\n",
    "            dfs(i)\n",
    "            \n",
    "            \n",
    "visited[first] = 0\n",
    "dfs(first)\n",
    "print(visited[second])\n",
    "\n",
    "    \n",
    "    "
   ]
  },
  {
   "cell_type": "markdown",
   "id": "01a7960f",
   "metadata": {},
   "source": [
    "bfs나 dfs로 풀이가능한 탐색 문제였다. 나는 dfs를 사용해서 풀었는데, 하나의 촌수가 올라갈때마다 이를 기록하는게 조금 헷갈려서 처음에는 dfs 함수의 파라미터로 chon이라는 변수를 넘겨서 내부함수마다 chon + 1을 넘겨주며 촌수를 기록하려 했는데, 이 방식으로 하니까 계속 정답이 틀렸다. \n",
    "\n",
    "그래서 이번에는 visted를 True False가 아닌 숫자 -1의 배열로 선언하여 방문과 동시에 + 1을 하여 촌수를 계산해보았더니 문제를 통과할 수 있었다.\n",
    "\n",
    "dfs를 사용할때 그 depth를 계산하고자 한다면, visited를 숫자로 선언해서 기록하는 방법이 가장 깔끔한 것 같다."
   ]
  }
 ],
 "metadata": {
  "kernelspec": {
   "display_name": "Python 3",
   "language": "python",
   "name": "python3"
  },
  "language_info": {
   "codemirror_mode": {
    "name": "ipython",
    "version": 3
   },
   "file_extension": ".py",
   "mimetype": "text/x-python",
   "name": "python",
   "nbconvert_exporter": "python",
   "pygments_lexer": "ipython3",
   "version": "3.9.7"
  }
 },
 "nbformat": 4,
 "nbformat_minor": 5
}
