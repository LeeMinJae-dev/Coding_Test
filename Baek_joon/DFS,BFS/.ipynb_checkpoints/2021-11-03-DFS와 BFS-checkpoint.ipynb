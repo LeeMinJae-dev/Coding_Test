{
 "cells": [
  {
   "cell_type": "markdown",
   "id": "aa1b154e",
   "metadata": {},
   "source": [
    "---\n",
    "title : \"[BOJ] 1260 DFS와 BFS (Pytyon3)\"\n",
    "categories : baekjoon\n",
    "tags: 백준 파이썬 DFS BFS\n",
    "\n",
    "toc : true\n",
    "toc_label: \"On this page\"\n",
    "toc_sticky: true\n",
    "\n",
    "---\n",
    "## 문제\n",
    "그래프를 DFS로 탐색한 결과와 BFS로 탐색한 결과를 출력하는 프로그램을 작성하시오. 단, 방문할 수 있는 정점이 여러 개인 경우에는 정점 번호가 작은 것을 먼저 방문하고, 더 이상 방문할 수 있는 점이 없는 경우 종료한다. 정점 번호는 1번부터 N번까지이다.\n",
    "\n",
    "## 입력\n",
    "첫째 줄에 정점의 개수 N(1 ≤ N ≤ 1,000), 간선의 개수 M(1 ≤ M ≤ 10,000), 탐색을 시작할 정점의 번호 V가 주어진다. 다음 M개의 줄에는 간선이 연결하는 두 정점의 번호가 주어진다. 어떤 두 정점 사이에 여러 개의 간선이 있을 수 있다. 입력으로 주어지는 간선은 양방향이다.\n",
    "\n",
    "## 출력\n",
    "첫째 줄에 DFS를 수행한 결과를, 그 다음 줄에는 BFS를 수행한 결과를 출력한다. V부터 방문된 점을 순서대로 출력하면 된다.\n",
    "\n",
    "\n",
    "\n",
    "```\n",
    "예제 입력 1  \n",
    "4 5 1\n",
    "1 2\n",
    "1 3\n",
    "1 4\n",
    "2 4\n",
    "3 4\n",
    "예제 출력 1  \n",
    "1 2 4 3\n",
    "1 2 3 4\n",
    "\n",
    "\n",
    "예제 입력 2  \n",
    "5 5 3\n",
    "5 4\n",
    "5 2\n",
    "1 2\n",
    "3 4\n",
    "3 1\n",
    "예제 출력 2  \n",
    "3 1 2 5 4\n",
    "3 1 4 2 5\n",
    "```\n",
    "## 풀이\n",
    "좌우좌표계로 연결된 노드로 생각하고 bfs를 사용하여 방문한적이 없다면 점프하기 전의 위치에서 1을 더한값을 현재위치에 저장해 주며 앞으로 끝까지 나아간다. 그 이후에 주미가 있는 곳의 숫자를 출력해주면, 그 숫자가 동규가 주미에게 도달하기위한 최소 이동 횟수가 된다.\n",
    "## 코드"
   ]
  },
  {
   "cell_type": "code",
   "execution_count": 57,
   "id": "e44ddda1",
   "metadata": {
    "scrolled": true
   },
   "outputs": [
    {
     "name": "stdout",
     "output_type": "stream",
     "text": [
      "5 5 3\n",
      "5 4\n",
      "5 2\n",
      "1 2\n",
      "3 4\n",
      "3 1\n",
      "3 1 2 5 4 \n",
      "3 1 4 2 5 "
     ]
    }
   ],
   "source": [
    "from collections import deque\n",
    "\n",
    "n, m, v = map(int, input().split())\n",
    "\n",
    "graph = [[] for _ in range(n+1)]\n",
    "visited = [False] * (n+1)\n",
    "\n",
    "for _ in range(m):\n",
    "    dotA, dotB = map(int, input().split())\n",
    "    graph[dotA].append(dotB)\n",
    "    graph[dotB].append(dotA)\n",
    "    \n",
    "def dfs(graph, v, visited):\n",
    "    # 현재 노드를 방문처리\n",
    "    visited[v] = True\n",
    "    print(v, end = ' ')\n",
    "    #현재 노드와 연결된 다른 노드를 재귀적으로 방문\n",
    "    for i in graph[v]:\n",
    "        if not visited[i]:\n",
    "            dfs(graph, i, visited)\n",
    "   \n",
    "def bfs(graph, start, visited):\n",
    "    queue = deque([start])\n",
    "    \n",
    "    visited[start] = True\n",
    "    \n",
    "    while queue:\n",
    "        v = queue.popleft()\n",
    "        print(v, end = ' ')\n",
    "        for i in graph[v]:\n",
    "            if not visited[i]:\n",
    "                queue.append(i)\n",
    "                visited[i] = True\n",
    "                \n",
    "for i in range(1, n+1):\n",
    "    graph[i].sort()               \n",
    "\n",
    "\n",
    "dfs(graph, v, visited)\n",
    "visited = [False] * (n+1)\n",
    "print()\n",
    "bfs(graph, v, visited)"
   ]
  },
  {
   "cell_type": "markdown",
   "id": "9cb5d01a",
   "metadata": {},
   "source": [
    "## 문제풀이\n",
    "\n",
    "깊이,너비우선 탐색의 기초를 구현해보는 문제였다.\n",
    "\n",
    "dfs랑 bfs는 복잡해서 그런가 기억이 진짜 너무 안난다...\n",
    "\n",
    "먼저 dfs는 깊이 우선 탐색으로, 인접노드를 계속 타고 들어가 방문하지 않은 인접노드가 있을때까지 탐색한뒤, 다시 돌아와 반복하며 모든 노드를 탐색하는 방식이고,\n",
    "\n",
    "bfs는 너비 우선 탐색으로 먼저 주변 노드들을 모두 탐색한 뒤에 다음 depth로 이동해서 탐색하는 방식으로, 인접 노드를 먼저 모두 방문하고 다음 depth로 이동하는 방식이다.\n",
    "\n",
    "dfs의 경우는 재귀함수를 이용해서, 노드를 방문하면 시작 노드와 인접한 노드를 계속 타고 들어가 재귀 함수가 종료된 후 다음 방문하지 않은 시작노드의 인접노드를 방문하여 동일하게 진행한다.\n",
    "\n",
    "bfs는 큐를 하나 만든 뒤, 시작노드의 인접노드를 방문하며 순서대로 큐에 넣어 시작노드와 가까운 인접노드를 우선적으로 방문하며 차례대로 다음 depth를 방문하여 진행한다.\n"
   ]
  }
 ],
 "metadata": {
  "kernelspec": {
   "display_name": "Python 3",
   "language": "python",
   "name": "python3"
  },
  "language_info": {
   "codemirror_mode": {
    "name": "ipython",
    "version": 3
   },
   "file_extension": ".py",
   "mimetype": "text/x-python",
   "name": "python",
   "nbconvert_exporter": "python",
   "pygments_lexer": "ipython3",
   "version": "3.8.8"
  }
 },
 "nbformat": 4,
 "nbformat_minor": 5
}
