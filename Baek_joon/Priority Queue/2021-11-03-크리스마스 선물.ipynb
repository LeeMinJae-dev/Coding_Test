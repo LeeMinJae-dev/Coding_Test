{
 "cells": [
  {
   "cell_type": "markdown",
   "id": "86f10359",
   "metadata": {},
   "source": [
    "---\n",
    "title : \"[BOJ] 14235 크리스마스 선물 (Python3)\"\n",
    "toc : true\n",
    "toc_sticky : true\n",
    "toc_lable : \"On this Page\"\n",
    "categories : baekjoon\n",
    "---\n",
    "\n",
    "## 문제\n",
    "크리스마스에는 산타가 착한 아이들에게 선물을 나눠준다. 올해도 산타는 선물을 나눠주기 위해 많은 노력을 하고 있는데, 전세계를 돌아댕기며 착한 아이들에게 선물을 나눠줄 것이다. 하지만 산타의 썰매는 그렇게 크지 않기 때문에, 세계 곳곳에 거점들을 세워 그 곳을 방문하며 선물을 충전해 나갈 것이다. 또한, 착한 아이들을 만날 때마다 자신이 들고있는 가장 가치가 큰 선물 하나를 선물해 줄 것이다.\n",
    "\n",
    "이제 산타가 선물을 나눠줄 것이다. 차례대로 방문한 아이들과 거점지의 정보들이 주어졌을 때, 아이들이 준 선물들의 가치들을 출력하시오. 만약 아이들에게 줄 선물이 없다면 -1을 출력하시오.첫 번째 줄에서는 아이들과 거점지를 방문한 횟수 n이 주어진다.(1≤n≤5,000)\n",
    "\n",
    "다음 n줄에는 a가 들어오고, 그 다음 a개의 숫자가 들어온다. 이는 거점지에서 a개의 선물을 충전하는 것이고, 그 숫자들이 선물의 가치이다. 만약 a가 0이라면 거점지가 아닌 아이들을 만난 것이다. 선물의 가치는 100,000보다 작은 양의 정수이다.(1≤a≤100)\n",
    "\n",
    "## 입력\n",
    "첫 번째 줄에 N이 주어진다. (1 ≤ N ≤ 200,000)\n",
    "\n",
    "이후 N개의 줄에 Si, Ti가 주어진다. (1 ≤ Si < Ti ≤ 109)\n",
    "\n",
    "## 출력\n",
    "a가 0일 때마다, 아이들에게 준 선물의 가치를 출력하시오. 만약 줄 선물이 없다면 -1을 출력하라. 적어도 하나의 출력이 있음을 보장한다.\n",
    "\n",
    "## 예제\n",
    "```\n",
    "예제 입력 1  \n",
    "5\n",
    "0\n",
    "2 3 2\n",
    "0\n",
    "0\n",
    "0\n",
    "\n",
    "예제 출력 1  \n",
    "-1\n",
    "3\n",
    "2\n",
    "-1\n",
    "```\n",
    "\n",
    "## 코드"
   ]
  },
  {
   "cell_type": "code",
   "execution_count": 26,
   "id": "1fd50bc0",
   "metadata": {},
   "outputs": [
    {
     "name": "stdout",
     "output_type": "stream",
     "text": [
      "5\n",
      "0\n",
      "-1\n",
      "2 3 2\n",
      "0\n",
      "3\n",
      "0\n",
      "2\n",
      "0\n",
      "-1\n"
     ]
    }
   ],
   "source": [
    "n = int(input())\n",
    "\n",
    "gift = []\n",
    "\n",
    "for i in range(n):\n",
    "    location = list(map(int, input().split()))\n",
    "    \n",
    "    if location == [0]:\n",
    "        if gift:\n",
    "            print(max(gift))\n",
    "            gift.remove(max(gift))\n",
    "        else:\n",
    "            print(-1)\n",
    "    else:\n",
    "        for loc in location[1:]:\n",
    "            gift.append(loc)\n",
    "        \n"
   ]
  },
  {
   "cell_type": "markdown",
   "id": "9dbb77f6",
   "metadata": {},
   "source": [
    "## 문제풀이\n",
    "\n",
    "너무나 쉬운 문제였다. 근데 풀다가 우선순위 큐로 푸는걸 까먹음 근데 풀림 ㅎ"
   ]
  }
 ],
 "metadata": {
  "kernelspec": {
   "display_name": "Python 3",
   "language": "python",
   "name": "python3"
  },
  "language_info": {
   "codemirror_mode": {
    "name": "ipython",
    "version": 3
   },
   "file_extension": ".py",
   "mimetype": "text/x-python",
   "name": "python",
   "nbconvert_exporter": "python",
   "pygments_lexer": "ipython3",
   "version": "3.8.8"
  }
 },
 "nbformat": 4,
 "nbformat_minor": 5
}
