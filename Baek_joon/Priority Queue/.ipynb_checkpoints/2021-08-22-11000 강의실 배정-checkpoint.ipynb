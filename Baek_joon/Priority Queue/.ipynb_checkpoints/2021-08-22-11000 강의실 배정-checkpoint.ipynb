{
 "cells": [
  {
   "cell_type": "markdown",
   "id": "d2801f18",
   "metadata": {},
   "source": [
    "---\n",
    "title : \"[BOJ] 11000 강의실 배정 (Python3)\"\n",
    "toc : true\n",
    "toc_sticky : true\n",
    "toc_lable : \"On this Page\"\n",
    "categories : baekjoon\n",
    "---\n",
    "\n",
    "## 문제\n",
    "수강신청의 마스터 김종혜 선생님에게 새로운 과제가 주어졌다.    \n",
    "김종혜 선생님한테는 Si에 시작해서 Ti에 끝나는 N개의 수업이 주어지는데, 최소의 강의실을 사용해서 모든 수업을 가능하게 해야 한다. \n",
    "\n",
    "참고로, 수업이 끝난 직후에 다음 수업을 시작할 수 있다. (즉, Ti ≤ Sj 일 경우 i 수업과 j 수업은 같이 들을 수 있다.)\n",
    "\n",
    "수강신청 대충한 게 찔리면, 선생님을 도와드리자!\n",
    "\n",
    "## 입력\n",
    "첫 번째 줄에 N이 주어진다. (1 ≤ N ≤ 200,000)\n",
    "\n",
    "이후 N개의 줄에 Si, Ti가 주어진다. (1 ≤ Si < Ti ≤ 109)\n",
    "\n",
    "## 출력\n",
    "강의실의 개수를 출력하라.\n",
    "\n",
    "## 예제\n",
    "```\n",
    "예제 입력 1  \n",
    "3\n",
    "1 3\n",
    "2 4\n",
    "3 5\n",
    "\n",
    "예제 출력 1  \n",
    "2\n",
    "```\n",
    "## 문제풀이\n",
    "맨 처음 수업의 끝나는시간을 큐에 넣어주고, 그 다음 수업부터의 시작시간을 queue[0] 과 비교한다. 만약 queue[0] 보다 시작시간이 빠르다면, 그 강의실은 아직 수업중이므로 새로운 강의실을 배정해주어야 한다. 따라서 heappush로 강의실을 하나 더 배정해준다. 만약 queue[0] 보다 시작시간이 같거나 느리다면, 그 강의실을 사용할 수 있는 것이므로 기존의 끝나는시간을 heappop해주고 새로운 끝나는시간을 push해주면 된다. \n",
    "\n",
    "## 코드"
   ]
  },
  {
   "cell_type": "code",
   "execution_count": 14,
   "id": "bff46546",
   "metadata": {},
   "outputs": [
    {
     "name": "stdout",
     "output_type": "stream",
     "text": [
      "3\n",
      "1 3\n",
      "2 4\n",
      "3 5\n",
      "2\n"
     ]
    }
   ],
   "source": [
    "import heapq\n",
    "\n",
    "n = int(input())\n",
    "\n",
    "time = []\n",
    "\n",
    "for i in range(n):\n",
    "    time.append(list(map(int, input().split())))\n",
    "\n",
    "time.sort(key = lambda x : x[0])\n",
    "\n",
    "queue = []\n",
    "heapq.heappush(queue,time[0][1])\n",
    "\n",
    "for i in range(1,len(time)):\n",
    "    if queue[0] > time[i][0]:\n",
    "        heapq.heappush(queue, time[i][1])\n",
    "    else:\n",
    "        heapq.heappop(queue)\n",
    "        heapq.heappush(queue, time[i][1])\n",
    "        \n",
    "print(len(queue))"
   ]
  }
 ],
 "metadata": {
  "kernelspec": {
   "display_name": "Python 3",
   "language": "python",
   "name": "python3"
  },
  "language_info": {
   "codemirror_mode": {
    "name": "ipython",
    "version": 3
   },
   "file_extension": ".py",
   "mimetype": "text/x-python",
   "name": "python",
   "nbconvert_exporter": "python",
   "pygments_lexer": "ipython3",
   "version": "3.8.8"
  }
 },
 "nbformat": 4,
 "nbformat_minor": 5
}
