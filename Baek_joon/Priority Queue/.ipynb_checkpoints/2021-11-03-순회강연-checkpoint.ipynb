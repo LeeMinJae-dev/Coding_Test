{
 "cells": [
  {
   "cell_type": "markdown",
   "id": "ad0864bd",
   "metadata": {},
   "source": [
    "---\n",
    "title : \"[BOJ] 2109 순회강연 (Python3)\"\n",
    "toc : true\n",
    "toc_sticky : true\n",
    "toc_lable : \"On this Page\"\n",
    "categories : baekjoon\n",
    "---\n",
    "\n",
    "## 문제\n",
    "한 저명한 학자에게 n(0 ≤ n ≤ 10,000)개의 대학에서 강연 요청을 해 왔다. 각 대학에서는 d(1 ≤ d ≤ 10,000)일 안에 와서 강연을 해 주면 p(1 ≤ p ≤ 10,000)만큼의 강연료를 지불하겠다고 알려왔다. 각 대학에서 제시하는 d와 p값은 서로 다를 수도 있다. 이 학자는 이를 바탕으로, 가장 많은 돈을 벌 수 있도록 순회강연을 하려 한다. 강연의 특성상, 이 학자는 하루에 최대 한 곳에서만 강연을 할 수 있다.\n",
    "\n",
    "예를 들어 네 대학에서 제시한 p값이 각각 50, 10, 20, 30이고, d값이 차례로 2, 1, 2, 1 이라고 하자. 이럴 때에는 첫째 날에 4번 대학에서 강연을 하고, 둘째 날에 1번 대학에서 강연을 하면 80만큼의 돈을 벌 수 있다.\n",
    "\n",
    "## 입력\n",
    "첫째 줄에 정수 n이 주어진다. 다음 n개의 줄에는 각 대학에서 제시한 p값과 d값이 주어진다.\n",
    "\n",
    "## 출력\n",
    "첫째 줄에 최대로 벌 수 있는 돈을 출력한다.\n",
    "\n",
    "## 예제\n",
    "```\n",
    "예제 입력 1  \n",
    "7\n",
    "20 1\n",
    "2 1\n",
    "10 3\n",
    "100 2\n",
    "8 2\n",
    "5 20\n",
    "50 10\n",
    "\n",
    "예제 출력 1  \n",
    "185\n",
    "```\n",
    "\n",
    "## 코드"
   ]
  },
  {
   "cell_type": "code",
   "execution_count": 38,
   "id": "1caee4d4",
   "metadata": {
    "scrolled": true
   },
   "outputs": [
    {
     "name": "stdout",
     "output_type": "stream",
     "text": [
      "7\n",
      "20 1\n",
      "2 1\n",
      "10 3\n",
      "100 2\n",
      "8 2\n",
      "5 20\n",
      "50 10\n",
      "185\n"
     ]
    }
   ],
   "source": [
    "import heapq\n",
    "\n",
    "n = int(input())\n",
    "lecture = []\n",
    "\n",
    "for i in range(n):\n",
    "    p,d = map(int, input().split())\n",
    "    lecture.append([p,d])\n",
    "\n",
    "lecture.sort(key = lambda x : x[1])\n",
    "\n",
    "total = []\n",
    "\n",
    "for i in lecture:\n",
    "    heapq.heappush(total, i[0])\n",
    "    if len(total) > i[1] :\n",
    "        heapq.heappop(total)\n",
    "print(sum(total))\n",
    "\n",
    "    \n",
    "\n"
   ]
  },
  {
   "cell_type": "markdown",
   "id": "2c74b025",
   "metadata": {},
   "source": [
    "## 문제풀이\n",
    "기한이 지나지 않은 강의중 가장 돈을 많이 주는 강연순서대로 다녀야 최대로 많은 돈을 벌 수 있다. 따라서 먼저 0원보다는 1원이라도 버는게 더 총합액을 늘려주므로, 기한을 기준으로 오름차순 정렬해준다. 이후, 힙큐에 넣어가며 힙큐가 기한보다 많은 요소를 갖고있다면 heappop하여 가장 돈을 적게 버는 강연을 제거해주면 된다."
   ]
  }
 ],
 "metadata": {
  "kernelspec": {
   "display_name": "Python 3",
   "language": "python",
   "name": "python3"
  },
  "language_info": {
   "codemirror_mode": {
    "name": "ipython",
    "version": 3
   },
   "file_extension": ".py",
   "mimetype": "text/x-python",
   "name": "python",
   "nbconvert_exporter": "python",
   "pygments_lexer": "ipython3",
   "version": "3.8.8"
  }
 },
 "nbformat": 4,
 "nbformat_minor": 5
}
