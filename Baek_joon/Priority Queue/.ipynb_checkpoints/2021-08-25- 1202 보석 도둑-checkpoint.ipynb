{
 "cells": [
  {
   "cell_type": "markdown",
   "id": "12ba22f3",
   "metadata": {},
   "source": [
    "---\n",
    "title : \"[BOJ] 1202 보석 도둑 (Python3)\"\n",
    "toc : true\n",
    "toc_sticky : true\n",
    "toc_lable : \"On this Page\"\n",
    "categories : baekjoon\n",
    "---\n",
    "## 문제\n",
    "세계적인 도둑 상덕이는 보석점을 털기로 결심했다.   \n",
    "상덕이가 털 보석점에는 보석이 총 N개 있다. 각 보석은 무게 Mi와 가격 Vi를 가지고 있다. 상덕이는 가방을 K개 가지고 있고, 각 가방에 담을 수 있는 최대 무게는 Ci이다. 가방에는 최대 한 개의 보석만 넣을 수 있다.\n",
    "\n",
    "상덕이가 훔칠 수 있는 보석의 최대 가격을 구하는 프로그램을 작성하시오.\n",
    "\n",
    "## 입력\n",
    "첫째 줄에 N과 K가 주어진다. (1 ≤ N, K ≤ 300,000)\n",
    "\n",
    "다음 N개 줄에는 각 보석의 정보 Mi와 Vi가 주어진다. (0 ≤ Mi, Vi ≤ 1,000,000)\n",
    "\n",
    "다음 K개 줄에는 가방에 담을 수 있는 최대 무게 Ci가 주어진다. (1 ≤ Ci ≤ 100,000,000)\n",
    "\n",
    "모든 숫자는 양의 정수이다.\n",
    "\n",
    "## 출력\n",
    "첫째 줄에 상덕이가 훔칠 수 있는 보석 가격의 합의 최댓값을 출력한다.\n",
    "```\n",
    "예제 입력 1  \n",
    "2 1\n",
    "5 10\n",
    "100 100\n",
    "11\n",
    "예제 출력 1  \n",
    "10\n",
    "```\n",
    "```\n",
    "예제 입력 2  \n",
    "3 2\n",
    "1 65\n",
    "5 23\n",
    "2 99\n",
    "10\n",
    "2\n",
    "예제 출력 2 \n",
    "164\n",
    "```\n",
    "## 문제풀이\n",
    "이 문제는 우선순위 큐를 이용한 문제이다.\n",
    "\n",
    "힙큐 리스트의 순서는 크기 순서가 아닌데 자꾸 리스트처럼 크기 순서라고 헷갈려서 푸는데 오래걸렸다. 힙큐는 힙트리를 리스트로 표현한것 뿐이고, heappop이나 heappush를 하면 알아서 가장 적은 값이 출력되고, 힙큐의 크기대로 push된다.\n",
    "\n",
    "보석을 가장 적은 무게를 차지하는 보석의 순서중 가장 큰 가치를 갖는 보석부터 가방에 넣어야 한다. 가방의 무게들을 오름차순 정렬 한 뒤에, 하나씩 불러와 해당 무게보다 적은 무게를 갖는 보석을 모두 heappush 해준뒤 가장 가치가 큰값을 heappop해준다. 이때 최대힙으로 구성해야 하므로, push할때 -를 붙여 push해야 한다. \n",
    "\n",
    "이런식으로 적은 무게에서 가장 큰 가치를 갖는 보석을 차례로 넣어주면, 가장 큰 총합의 가치의 보석을 도둑질 할 수 있다.\n",
    "\n",
    "## 코드"
   ]
  },
  {
   "cell_type": "code",
   "execution_count": 60,
   "id": "2e5b8485",
   "metadata": {},
   "outputs": [
    {
     "name": "stdout",
     "output_type": "stream",
     "text": [
      "2 1\n",
      "5 10\n",
      "100 100\n",
      "11\n",
      "10\n"
     ]
    }
   ],
   "source": [
    "import heapq\n",
    "\n",
    "n,k = map(int, input().split())\n",
    "\n",
    "jewels = []\n",
    "for _ in range(n):\n",
    "    jewels.append(list(map(int, input().split())))\n",
    "jewels.sort()\n",
    "\n",
    "bag = []\n",
    "for _ in range(k):\n",
    "    bag.append(int(input()))\n",
    "bag.sort()\n",
    "\n",
    "answer = 0\n",
    "\n",
    "q = []\n",
    "\n",
    "for b in bag:\n",
    "    while jewels and b >= jewels[0][0]:\n",
    "        heapq.heappush(q, -jewels[0][1])\n",
    "        heapq.heappop(jewels)\n",
    "    if q:  \n",
    "        answer += heapq.heappop(q)\n",
    "    elif not jewels:\n",
    "        break\n",
    "\n",
    "print(-answer)\n",
    "\n"
   ]
  }
 ],
 "metadata": {
  "kernelspec": {
   "display_name": "Python 3",
   "language": "python",
   "name": "python3"
  },
  "language_info": {
   "codemirror_mode": {
    "name": "ipython",
    "version": 3
   },
   "file_extension": ".py",
   "mimetype": "text/x-python",
   "name": "python",
   "nbconvert_exporter": "python",
   "pygments_lexer": "ipython3",
   "version": "3.8.8"
  }
 },
 "nbformat": 4,
 "nbformat_minor": 5
}
