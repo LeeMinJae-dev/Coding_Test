{
 "cells": [
  {
   "cell_type": "markdown",
   "id": "3c186a6f",
   "metadata": {},
   "source": [
    "---\n",
    "title : \"[BOJ] 1655 가운데를 말해요 (Python3)\"\n",
    "toc : true\n",
    "toc_sticky : true\n",
    "toc_lable : \"On this Page\"\n",
    "categories : baekjoon\n",
    "---\n",
    "## 문제\n",
    "백준이는 동생에게 \"가운데를 말해요\" 게임을 가르쳐주고 있다. 백준이가 정수를 하나씩 외칠때마다 동생은 지금까지 백준이가 말한 수 중에서 중간값을 말해야 한다. 만약, 그동안 백준이가 외친 수의 개수가 짝수개라면 중간에 있는 두 수 중에서 작은 수를 말해야 한다.\n",
    "\n",
    "예를 들어 백준이가 동생에게 1, 5, 2, 10, -99, 7, 5를 순서대로 외쳤다고 하면, 동생은 1, 1, 2, 2, 2, 2, 5를 차례대로 말해야 한다. 백준이가 외치는 수가 주어졌을 때, 동생이 말해야 하는 수를 구하는 프로그램을 작성하시오.\n",
    "\n",
    "## 입력\n",
    "첫째 줄에는 백준이가 외치는 정수의 개수 N이 주어진다. N은 1보다 크거나 같고, 100,000보다 작거나 같은 자연수이다. 그 다음 N줄에 걸쳐서 백준이가 외치는 정수가 차례대로 주어진다. 정수는 -10,000보다 크거나 같고, 10,000보다 작거나 같다.\n",
    "\n",
    "## 출력\n",
    "한 줄에 하나씩 N줄에 걸쳐 백준이의 동생이 말해야 하는 수를 순서대로 출력한다.\n",
    "\n",
    "```\n",
    "예제 입력 1  \n",
    "7\n",
    "1\n",
    "5\n",
    "2\n",
    "10\n",
    "-99\n",
    "7\n",
    "5\n",
    "예제 출력 1  \n",
    "1\n",
    "1\n",
    "2\n",
    "2\n",
    "2\n",
    "2\n",
    "5\n",
    "```\n",
    "\n",
    "## 코드"
   ]
  },
  {
   "cell_type": "code",
   "execution_count": 6,
   "id": "9be5570c",
   "metadata": {},
   "outputs": [
    {
     "name": "stdout",
     "output_type": "stream",
     "text": [
      "7\n",
      "1\n",
      "5\n",
      "2\n",
      "10\n",
      "-99\n",
      "7\n",
      "5\n",
      "1\n",
      "1\n",
      "2\n",
      "2\n",
      "2\n",
      "2\n",
      "5\n"
     ]
    }
   ],
   "source": [
    "import heapq\n",
    "import sys\n",
    "input = sys.stdin.readline\n",
    "\n",
    "n = int(input())\n",
    "leftHeap = []\n",
    "rightHeap = []\n",
    "answer = []\n",
    "\n",
    "for _ in range(n):\n",
    "    num = int(input())\n",
    "    if len(leftHeap) == len(rightHeap): \n",
    "        heapq.heappush(leftHeap, (-num, num))\n",
    "    else:\n",
    "        heapq.heappush(rightHeap, (num, num))\n",
    "        \n",
    "    if rightHeap and leftHeap[0][1] > rightHeap[0][0]:\n",
    "        max = heapq.heappop(leftHeap)[1]\n",
    "        min = heapq.heappop(rightHeap)[0]\n",
    "        heapq.heappush(leftHeap, (-min, min))\n",
    "        heapq.heappush(rightHeap, (max, max))\n",
    "    answer.append(leftHeap[0][1])\n",
    "    \n",
    "for i in answer:\n",
    "    print(i)"
   ]
  },
  {
   "cell_type": "markdown",
   "id": "e73bd535",
   "metadata": {},
   "source": [
    "## 문제풀이\n",
    "처음에는 정렬이랑 그냥 우선순위큐로 풀었는데 아무리 해도 시간초과가 떠서 해답을 찾아봤다.\n",
    "중간값보다 작은 leftHeap과 rightHeap으로 두 힙으로 나눈뒤, leftHeap은 최대힙으로 구성하고, rightHeap은 최소힙으로 구성한다. \n",
    "\n",
    "두 힙의 개수가 같을때는 leftHeap에 Heappush해주고, 두 힙의 개수가 다를 때는 rightHeap에 Heappush해준다. \n",
    "\n",
    "이렇게 Heappush하다보면 leftHeap에 rightHeap보다 큰 값이 들어갈때가 있는데, 이를 보정하기 위해 if문을 두어 두 Heap의 맨 위 값을 비교 한 뒤 만약 leftHeap이 rightHeap보다 크다면 두 값을 교체해준다."
   ]
  }
 ],
 "metadata": {
  "kernelspec": {
   "display_name": "Python 3",
   "language": "python",
   "name": "python3"
  },
  "language_info": {
   "codemirror_mode": {
    "name": "ipython",
    "version": 3
   },
   "file_extension": ".py",
   "mimetype": "text/x-python",
   "name": "python",
   "nbconvert_exporter": "python",
   "pygments_lexer": "ipython3",
   "version": "3.8.8"
  }
 },
 "nbformat": 4,
 "nbformat_minor": 5
}
