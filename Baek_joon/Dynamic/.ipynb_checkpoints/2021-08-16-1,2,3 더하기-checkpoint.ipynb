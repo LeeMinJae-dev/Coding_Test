{
 "cells": [
  {
   "cell_type": "markdown",
   "id": "e930fd6e",
   "metadata": {},
   "source": [
    "---\n",
    "title : \"[BOJ] 1932 정수 삼각형 (Python3)\"\n",
    "toc : true\n",
    "toc_sticky : true\n",
    "toc_lable : \"On this Page\"\n",
    "categories : baekjoon\n",
    "---\n",
    "\n",
    "## 문제\n",
    "정수 4를 1, 2, 3의 합으로 나타내는 방법은 총 7가지가 있다. 합을 나타낼 때는 수를 1개 이상 사용해야 한다.\n",
    "\n",
    "1+1+1+1   \n",
    "1+1+2   \n",
    "1+2+1   \n",
    "2+1+1    \n",
    "2+2   \n",
    "1+3   \n",
    "3+1   \n",
    "\n",
    "정수 n이 주어졌을 때, n을 1, 2, 3의 합으로 나타내는 방법의 수를 구하는 프로그램을 작성하시오.\n",
    "\n",
    "## 입력\n",
    "첫째 줄에 테스트 케이스의 개수 T가 주어진다. 각 테스트 케이스는 한 줄로 이루어져 있고, 정수 n이 주어진다. n은 양수이며 11보다 작다.\n",
    "\n",
    "## 출력\n",
    "각 테스트 케이스마다, n을 1, 2, 3의 합으로 나타내는 방법의 수를 출력한다.\n",
    "```\n",
    "예제 입력 1     \n",
    "3   \n",
    "4   \n",
    "7   \n",
    "10\n",
    "\n",
    "예제 출력 1   \n",
    "7   \n",
    "44   \n",
    "274   \n",
    "```\n",
    "\n",
    "## 문제풀이\n",
    "아 진짜 다이나믹 프로그래밍 너무 싫다. 이건 코딩이 아니라 수학문제 아니냐고...\n",
    "수학적으로 점화식을 찾아야 한다는 생각으로 풀어야겠다. 아니면 다시 고딩때 배운 수열 점화식부분이라도 다시 봐야하나...\n",
    "\n",
    "이 문제는 경우의 수를 쭉 숫자순서대로 쓰다보면 규칙이 나오는 걸 알 수 있다.\n",
    "\n",
    "1의 경우 1개   \n",
    "2의 경우 2개   \n",
    "3의 경우 4개   \n",
    "4의 경우 7개   \n",
    "5의 경우 13개\n",
    "\n",
    "자세히 보다보면, 5의 경우는 2,3,4를 더한 값, 4의 경우는 1,2,3을 더한순으로, 직전 세번째 숫자까지의 경우의 수를 더하면 해당 숫자의 경우의 수가 나온다.\n",
    "## 코드"
   ]
  },
  {
   "cell_type": "code",
   "execution_count": 43,
   "id": "396e8ae1",
   "metadata": {},
   "outputs": [
    {
     "name": "stdout",
     "output_type": "stream",
     "text": [
      "1\n",
      "4\n",
      "7\n"
     ]
    }
   ],
   "source": [
    "from itertools import permutations\n",
    "            \n",
    "result = []\n",
    "T = int(input())\n",
    "\n",
    "def solution(n):\n",
    "    if n == 1:\n",
    "        return 1\n",
    "    elif n == 2:\n",
    "        return 2\n",
    "    elif n == 3:\n",
    "        return 4\n",
    "    else:\n",
    "        return solution(n-1) + solution(n-2) + solution(n-3)\n",
    "    \n",
    "for i in range(T):\n",
    "    n = int(input())\n",
    "    print(solution(n))\n",
    "    \n",
    "    "
   ]
  }
 ],
 "metadata": {
  "kernelspec": {
   "display_name": "Python 3",
   "language": "python",
   "name": "python3"
  },
  "language_info": {
   "codemirror_mode": {
    "name": "ipython",
    "version": 3
   },
   "file_extension": ".py",
   "mimetype": "text/x-python",
   "name": "python",
   "nbconvert_exporter": "python",
   "pygments_lexer": "ipython3",
   "version": "3.8.8"
  }
 },
 "nbformat": 4,
 "nbformat_minor": 5
}
