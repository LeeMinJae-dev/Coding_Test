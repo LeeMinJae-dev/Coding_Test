{
 "cells": [
  {
   "cell_type": "markdown",
   "id": "dc55c05e",
   "metadata": {},
   "source": [
    "---\n",
    "title : \"[BOJ] 1003 피보나치 함수 (Python3)\"\n",
    "toc : true\n",
    "toc_sticky : true\n",
    "toc_lable : \"On this Page\"\n",
    "categories : baekjoon\n",
    "---\n",
    "## 문제\n",
    "다음 소스는 N번째 피보나치 수를 구하는 C++ 함수이다.\n",
    "\n",
    "```\n",
    "int fibonacci(int n) {\n",
    "    if (n == 0) {\n",
    "        printf(\"0\");\n",
    "        return 0;\n",
    "    } else if (n == 1) {\n",
    "        printf(\"1\");\n",
    "        return 1;\n",
    "    } else {\n",
    "        return fibonacci(n‐1) + fibonacci(n‐2);\n",
    "    }\n",
    "\n",
    "```\n",
    "fibonacci(3)을 호출하면 다음과 같은 일이 일어난다.\n",
    "\n",
    "* fibonacci(3)은 fibonacci(2)와 fibonacci(1) (첫 번째 호출)을 호출한다.\n",
    "* fibonacci(2)는 fibonacci(1) (두 번째 호출)과 fibonacci(0)을 호출한다fibonacci(2)는 fibonacci(1) (두 번째 호출)과 fibonacci(0)을 호출한다`.\n",
    "* 두 번째 호출한 fibonacci(1)은 1을 출력하고 1을 리턴한다.\n",
    "* fibonacci(0)은 0을 출력하고, 0을 리턴한다.\n",
    "* fibonacci(2)는 fibonacci(1)과 fibonacci(0)의 결과를 얻고, 1을 리턴한다.\n",
    "* 첫 번째 호출한 fibonacci(1)은 1을 출력하고, 1을 리턴한다.\n",
    "* fibonacci(3)은 fibonacci(2)와 fibonacci(1)의 결과를 얻고, 2를 리턴한다.\n",
    "\n",
    "1은 2번 출력되고, 0은 1번 출력된다. N이 주어졌을 때, fibonacci(N)을 호출했을 때, 0과 1이 각각 몇 번 출력되는지 구하는 프로그램을 작성하시오.\n",
    "\n",
    "## 입력\n",
    "첫째 줄에 테스트 케이스의 개수 T가 주어진다.\n",
    "\n",
    "각 테스트 케이스는 한 줄로 이루어져 있고, N이 주어진다. N은 40보다 작거나 같은 자연수 또는 0이다.\n",
    "\n",
    "## 출력\n",
    "각 테스트 케이스마다 0이 출력되는 횟수와 1이 출력되는 횟수를 공백으로 구분해서 출력한다.\n",
    "\n",
    "```\n",
    "예제 입력 1  \n",
    "3\n",
    "0\n",
    "1\n",
    "3\n",
    "예제 출력 1  \n",
    "1 0\n",
    "0 1\n",
    "1 `\n",
    "```\n",
    "## 문제풀이\n",
    "다이나믹 프로그래밍 문제로, 점화식을 만들어 풀면 된다.   \n",
    "맨처음에는 문제에 재귀함수가 그대로 나오길래, 엥? 왜 문제가 이러지 싶었는데 생각해보니까 저 재귀함수대로 0과 1을 호출할때마다 카운팅 해주면 무조건 시간초과가 날 수 밖에 없다.\n",
    "\n",
    "그래서 1과 0을 저 재귀함수는 몇번씩 호출하는지 노트에 1부터 차근차근 써보니, 0은 N-1 과 N-2 의 0의 호출값을 더한 값이고, 1은 N-1의 0의 호출값과 1의 호출값을 더한값이었다. 따라서 이러한 점화식을 함수로 만들어주면 간단하게 풀 수 있다.\n",
    "\n",
    "다이나믹 프로그래밍을 풀 때마다 느끼는거지만 이게 코딩에 관한 문제인가...싶다.\n",
    "\n",
    "## 코드"
   ]
  },
  {
   "cell_type": "code",
   "execution_count": 42,
   "id": "eaa13dc1",
   "metadata": {},
   "outputs": [
    {
     "name": "stdout",
     "output_type": "stream",
     "text": [
      "1\n",
      "40\n",
      "63245986 102334155\n"
     ]
    }
   ],
   "source": [
    "T = int(input())\n",
    "result = []\n",
    "\n",
    "\n",
    "def solution(N):\n",
    "    answer = [[1,0],[0,1]]\n",
    "    for i in range(2,N+1):\n",
    "        answer.append([answer[i-1][0]+answer[i-2][0],answer[i-1][0]+answer[i-1][1]])\n",
    "    return answer[-1]\n",
    "\n",
    "for i in range(T):\n",
    "    N = int(input())\n",
    "    if N == 0:\n",
    "        result.append([1,0])\n",
    "    elif N == 1:\n",
    "        result.append([0,1])\n",
    "    else:\n",
    "        result.append(solution(N))\n",
    "    \n",
    "for i in result:\n",
    "    print(i[0],i[1])\n",
    "        \n"
   ]
  }
 ],
 "metadata": {
  "kernelspec": {
   "display_name": "Python 3",
   "language": "python",
   "name": "python3"
  },
  "language_info": {
   "codemirror_mode": {
    "name": "ipython",
    "version": 3
   },
   "file_extension": ".py",
   "mimetype": "text/x-python",
   "name": "python",
   "nbconvert_exporter": "python",
   "pygments_lexer": "ipython3",
   "version": "3.8.8"
  }
 },
 "nbformat": 4,
 "nbformat_minor": 5
}
