{
 "cells": [
  {
   "cell_type": "markdown",
   "id": "3753d381",
   "metadata": {},
   "source": [
    "---\n",
    "title : \"[BOJ] 2467 용액 (Python3)\"\n",
    "toc : true\n",
    "toc_sticky : true\n",
    "toc_lable : \"On this Page\"\n",
    "categories : baekjoon\n",
    "---\n",
    "## 문제\n",
    "KOI 부설 과학연구소에서는 많은 종류의 산성 용액과 알칼리성 용액을 보유하고 있다. 각 용액에는 그 용액의 특성을 나타내는 하나의 정수가 주어져있다. 산성 용액의 특성값은 1부터 1,000,000,000까지의 양의 정수로 나타내고, 알칼리성 용액의 특성값은 -1부터 -1,000,000,000까지의 음의 정수로 나타낸다.\n",
    "\n",
    "같은 양의 두 용액을 혼합한 용액의 특성값은 혼합에 사용된 각 용액의 특성값의 합으로 정의한다. 이 연구소에서는 같은 양의 두 용액을 혼합하여 특성값이 0에 가장 가까운 용액을 만들려고 한다. \n",
    "\n",
    "예를 들어, 주어진 용액들의 특성값이 [-99, -2, -1, 4, 98]인 경우에는 특성값이 -99인 용액과 특성값이 98인 용액을 혼합하면 특성값이 -1인 용액을 만들 수 있고, 이 용액의 특성값이 0에 가장 가까운 용액이다. 참고로, 두 종류의 알칼리성 용액만으로나 혹은 두 종류의 산성 용액만으로 특성값이 0에 가장 가까운 혼합 용액을 만드는 경우도 존재할 수 있다.\n",
    "\n",
    "산성 용액과 알칼리성 용액의 특성값이 정렬된 순서로 주어졌을 때, 이 중 두 개의 서로 다른 용액을 혼합하여 특성값이 0에 가장 가까운 용액을 만들어내는 두 용액을 찾는 프로그램을 작성하시오.\n",
    "\n",
    "## 입력\n",
    "첫째 줄에는 전체 용액의 수 N이 입력된다. N은 2 이상 100,000 이하의 정수이다. 둘째 줄에는 용액의 특성값을 나타내는 N개의 정수가 빈칸을 사이에 두고 오름차순으로 입력되며, 이 수들은 모두 -1,000,000,000 이상 1,000,000,000 이하이다. N개의 용액들의 특성값은 모두 서로 다르고, 산성 용액만으로나 알칼리성 용액만으로 입력이 주어지는 경우도 있을 수 있다.\n",
    "\n",
    "## 출력\n",
    "첫째 줄에 특성값이 0에 가장 가까운 용액을 만들어내는 두 용액의 특성값을 출력한다. 출력해야 하는 두 용액은 특성값의 오름차순으로 출력한다. 특성값이 0에 가장 가까운 용액을 만들어내는 경우가 두 개 이상일 경우에는 그 중 아무것이나 하나를 출력한다.\n",
    "\n",
    "## 예제\n",
    "```\n",
    "예제 입력 1  \n",
    "5\n",
    "-99 -2 -1 4 98\n",
    "\n",
    "예제 출력 1  \n",
    "-99 98\n",
    "```\n",
    "```\n",
    "예제 입력 2  \n",
    "4\n",
    "-100 -2 -1 103\n",
    "\n",
    "예제 출력 2  \n",
    "-2 -1\n",
    "```\n",
    "## 문제풀이\n",
    "간단한 투포인터 문제이다.\n",
    "\n",
    "오른쪽과 왼쪽에서 포인터 두개를 가운데로 좁혀가며 합이 0보다 작은경우 왼쪽 포인터를 오른쪽으로 한칸 옮기고, 0보다 큰 경우는 오른쪽 포인터를 왼쪽으로 한칸 옮기며 가장 최솟값일때의 포인터를 인덱싱하여 출력하면 된다.\n",
    "## 코드"
   ]
  },
  {
   "cell_type": "code",
   "execution_count": 27,
   "id": "1ba87f73",
   "metadata": {},
   "outputs": [
    {
     "name": "stdout",
     "output_type": "stream",
     "text": [
      "5\n",
      "-99 -2 -1 4 98\n",
      "0 4\n",
      "1 4\n",
      "1 3\n",
      "1 2\n",
      "-99 98\n"
     ]
    }
   ],
   "source": [
    "import sys\n",
    "\n",
    "n = int(input())\n",
    "liquid = list(map(int, input().split()))\n",
    "\n",
    "start = 0\n",
    "end = n-1\n",
    "mix = sys.maxsize\n",
    "dic = {}\n",
    "\n",
    "while start < end:\n",
    "    print(start, end)\n",
    "    mix = min(mix, abs(liquid[start] + liquid[end]))\n",
    "    \n",
    "    if mix in dic:\n",
    "        pass\n",
    "    else:\n",
    "        dic[mix] = [liquid[start], liquid[end]]\n",
    "    \n",
    "    if liquid[start] + liquid[end] == 0:\n",
    "        break\n",
    "    if liquid[start] + liquid[end] < 0:\n",
    "        start += 1\n",
    "    else:\n",
    "        end -= 1\n",
    "    \n",
    "print(sorted(dic[mix])[0],sorted(dic[mix])[1])\n",
    "\n"
   ]
  }
 ],
 "metadata": {
  "kernelspec": {
   "display_name": "Python 3",
   "language": "python",
   "name": "python3"
  },
  "language_info": {
   "codemirror_mode": {
    "name": "ipython",
    "version": 3
   },
   "file_extension": ".py",
   "mimetype": "text/x-python",
   "name": "python",
   "nbconvert_exporter": "python",
   "pygments_lexer": "ipython3",
   "version": "3.8.8"
  }
 },
 "nbformat": 4,
 "nbformat_minor": 5
}
