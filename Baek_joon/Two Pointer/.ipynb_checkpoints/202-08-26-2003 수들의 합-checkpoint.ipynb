{
 "cells": [
  {
   "cell_type": "markdown",
   "id": "f5f3b159",
   "metadata": {},
   "source": [
    "---\n",
    "title : \"[BOJ] 2003 수들의 합 (Python3)\"\n",
    "toc : true\n",
    "toc_sticky : true\n",
    "toc_lable : \"On this Page\"\n",
    "categories : baekjoon\n",
    "---\n",
    "\n",
    "## 문제\n",
    "N개의 수로 된 수열 A[1], A[2], …, A[N] 이 있다. 이 수열의 i번째 수부터 j번째 수까지의 합 A[i] + A[i+1] + … + A[j-1] + A[j]가 M이 되는 경우의 수를 구하는 프로그램을 작성하시오.\n",
    "\n",
    "## 입력\n",
    "첫째 줄에 N(1 ≤ N ≤ 10,000), M(1 ≤ M ≤ 300,000,000)이 주어진다. 다음 줄에는 A[1], A[2], …, A[N]이 공백으로 분리되어 주어진다. 각각의 A[x]는 30,000을 넘지 않는 자연수이다.\n",
    "\n",
    "## 출력\n",
    "첫째 줄에 경우의 수를 출력한다.\n",
    "\n",
    "## 예제\n",
    "```\n",
    "예제 입력 1  \n",
    "4 2\n",
    "1 1 1 1\n",
    "\n",
    "예제 출력 1  \n",
    "3\n",
    "```\n",
    "```\n",
    "예제 입력 2  \n",
    "10 5\n",
    "1 2 3 4 2 5 3 1 1 2\n",
    "\n",
    "예제 출력 2  \n",
    "```\n",
    "## 문제 풀이\n",
    "아무리 풀어도 자꾸 시간초과가 떠서 몹시 화가났다...\n",
    "\n",
    "맨처음에는 for문으로 하나씩 좌표를 방문해가며 0부터 해당 좌표까지의 합의 모든 경우의수를 구해 m과 비교했는데, 이러면 중복되는 계산이 많아 시간초과가 계속 뜬다.\n",
    "\n",
    "이 문제는 투포인터로 풀어야 시간초과를 피할 수 있는 문제이다. 투 포인터는 왼쪽과 오른쪽의 두개의 포인터가 이동하면서 문제를 풀어내는 방식의 알고리즘으로, 중복이 적어 빠르게 좌표계를 이동하며 값을 얻을 수 있다.\n",
    "\n",
    "start와 end를 각각 0과 1로 선언해주고, 이 포인터를 기준으로 슬라이싱해가며 합을 구한다. 합이 m과 같다면 경우의수를 세는 변수인 answer를 +1해주고, m보다 합이 작은경우는 end를 +1, m보다 크다면 start를 +1 해가며 모든 경우의수를 계산해준다.\n",
    "\n",
    "\n",
    "\n",
    "## 코드"
   ]
  },
  {
   "cell_type": "code",
   "execution_count": 18,
   "id": "9c43290e",
   "metadata": {},
   "outputs": [
    {
     "name": "stdout",
     "output_type": "stream",
     "text": [
      "4 2\n",
      "1 1 1 1\n",
      "2\n"
     ]
    }
   ],
   "source": [
    "n, m = map(int, input().split())\n",
    "lst = list(map(int, input().split()))\n",
    "\n",
    "start = 0\n",
    "end = 1\n",
    "answer = 0\n",
    "\n",
    "while end <= n and start <= end:\n",
    "    hap = sum(lst[start:end])\n",
    "    \n",
    "    if hap == m:\n",
    "        answer += 1\n",
    "        end += 1\n",
    "    elif hap < m:\n",
    "        end += 1\n",
    "    else:\n",
    "        start+= 1\n",
    "    \n",
    "\n",
    "print(answer)        \n",
    "    \n"
   ]
  }
 ],
 "metadata": {
  "kernelspec": {
   "display_name": "Python 3",
   "language": "python",
   "name": "python3"
  },
  "language_info": {
   "codemirror_mode": {
    "name": "ipython",
    "version": 3
   },
   "file_extension": ".py",
   "mimetype": "text/x-python",
   "name": "python",
   "nbconvert_exporter": "python",
   "pygments_lexer": "ipython3",
   "version": "3.8.8"
  }
 },
 "nbformat": 4,
 "nbformat_minor": 5
}
