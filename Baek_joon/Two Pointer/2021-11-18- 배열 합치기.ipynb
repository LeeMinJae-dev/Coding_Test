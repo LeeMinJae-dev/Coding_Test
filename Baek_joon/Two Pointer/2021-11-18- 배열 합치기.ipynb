{
 "cells": [
  {
   "cell_type": "markdown",
   "id": "9e22e211",
   "metadata": {},
   "source": [
    "---\n",
    "title : \"[BOJ] 11728 배열합치기 (Python3)\"\n",
    "toc : true\n",
    "toc_sticky : true\n",
    "toc_lable : \"On this Page\"\n",
    "categories : baekjoon\n",
    "---\n",
    "\n",
    "## 문제\n",
    "정렬되어있는 두 배열 A와 B가 주어진다. 두 배열을 합친 다음 정렬해서 출력하는 프로그램을 작성하시오.\n",
    "\n",
    "## 입력\n",
    "첫째 줄에 배열 A의 크기 N, 배열 B의 크기 M이 주어진다. (1 ≤ N, M ≤ 1,000,000)\n",
    "\n",
    "둘째 줄에는 배열 A의 내용이, 셋째 줄에는 배열 B의 내용이 주어진다. 배열에 들어있는 수는 절댓값이 109보다 작거나 같은 정수이다.\n",
    "\n",
    "## 출력\n",
    "첫째 줄에 두 배열을 합친 후 정렬한 결과를 출력한다.\n",
    "\n",
    "## 예제\n",
    "예제 입력 1  \n",
    "2 2       \n",
    "3 5     \n",
    "2 9      \n",
    "\n",
    "예제 출력 1  \n",
    "2 3 5 9      \n",
    "\n",
    "예제 입력 2  \n",
    "2 1      \n",
    "4 7      \n",
    "1      \n",
    "\n",
    "예제 출력 2  \n",
    "1 4 7      \n",
    "\n",
    "예제 입력 3  \n",
    "4 3     \n",
    "2 3 5 9      \n",
    "1 4 7      \n",
    "\n",
    "예제 출력 3  \n",
    "1 2 3 4 5 7 9      \n",
    "\n",
    "## 코드"
   ]
  },
  {
   "cell_type": "code",
   "execution_count": 4,
   "id": "0ee7c8de",
   "metadata": {},
   "outputs": [
    {
     "name": "stdout",
     "output_type": "stream",
     "text": [
      "2 2\n",
      "3 5\n",
      "2 9\n",
      "2359"
     ]
    }
   ],
   "source": [
    "n,m = map(int, input().split())\n",
    "\n",
    "\n",
    "aList = list(map(int, input().split()))\n",
    "bList = list(map(int, input().split()))\n",
    "\n",
    "sumList = aList + bList\n",
    "\n",
    "sumList.sort()\n",
    "\n",
    "for i in sumList:\n",
    "    print(i, end = ' ')"
   ]
  },
  {
   "cell_type": "code",
   "execution_count": 3,
   "id": "288c30de",
   "metadata": {},
   "outputs": [
    {
     "data": {
      "text/plain": [
       "[2, 3, 5, 9]"
      ]
     },
     "execution_count": 3,
     "metadata": {},
     "output_type": "execute_result"
    }
   ],
   "source": [
    "sumList"
   ]
  },
  {
   "cell_type": "code",
   "execution_count": null,
   "id": "d5f1f4d2",
   "metadata": {},
   "outputs": [],
   "source": []
  }
 ],
 "metadata": {
  "kernelspec": {
   "display_name": "Python 3",
   "language": "python",
   "name": "python3"
  },
  "language_info": {
   "codemirror_mode": {
    "name": "ipython",
    "version": 3
   },
   "file_extension": ".py",
   "mimetype": "text/x-python",
   "name": "python",
   "nbconvert_exporter": "python",
   "pygments_lexer": "ipython3",
   "version": "3.8.8"
  }
 },
 "nbformat": 4,
 "nbformat_minor": 5
}
