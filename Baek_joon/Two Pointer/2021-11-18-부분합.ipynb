{
 "cells": [
  {
   "cell_type": "markdown",
   "id": "fdf93443",
   "metadata": {},
   "source": [
    "---\n",
    "title : \"[BOJ] 1806 부분합 (Python3)\"\n",
    "toc : true\n",
    "toc_sticky : true\n",
    "toc_lable : \"On this Page\"\n",
    "categories : baekjoon\n",
    "---\n",
    "\n",
    "## 문제\n",
    "10,000 이하의 자연수로 이루어진 길이 N짜리 수열이 주어진다. 이 수열에서 연속된 수들의 부분합 중에 그 합이 S 이상이 되는 것 중, 가장 짧은 것의 길이를 구하는 프로그램을 작성하시오.\n",
    "\n",
    "## 입력\n",
    "첫째 줄에 N (10 ≤ N < 100,000)과 S (0 < S ≤ 100,000,000)가 주어진다. 둘째 줄에는 수열이 주어진다.       \n",
    "수열의 각 원소는 공백으로 구분되어져 있으며, 10,000이하의 자연수이다.\n",
    "\n",
    "## 출력\n",
    "첫째 줄에 구하고자 하는 최소의 길이를 출력한다. 만일 그러한 합을 만드는 것이 불가능하다면 0을 출력하면 된다.\n",
    "\n",
    "## 예제\n",
    "예제 입력 1       \n",
    "10 15        \n",
    "5 1 3 5 10 7 4 9 2 8       \n",
    "\n",
    "예제 출력 1           \n",
    "2\n",
    "\n",
    "## 코드"
   ]
  },
  {
   "cell_type": "code",
   "execution_count": 60,
   "id": "bd29c2cc",
   "metadata": {
    "scrolled": true
   },
   "outputs": [
    {
     "name": "stdout",
     "output_type": "stream",
     "text": [
      "10 15\n",
      "5 1 3 5 10 7 4 9 2 8      \n",
      "2\n"
     ]
    }
   ],
   "source": [
    "import sys\n",
    "\n",
    "n, s = map(int, input().split())\n",
    "numList = list(map(int, input().split()))\n",
    "answer = sys.maxsize\n",
    "start, end = 0,0\n",
    "sumNum = 0\n",
    "\n",
    "while True:\n",
    "    if sumNum >= s:\n",
    "        answer = min(answer, end - start)\n",
    "        sumNum -= numList[start]\n",
    "        start += 1\n",
    "        \n",
    "        \n",
    "    else:\n",
    "        if end == n:\n",
    "            break\n",
    "            \n",
    "        else:\n",
    "            sumNum += numList[end]\n",
    "            end+=1\n",
    "            \n",
    "if answer == sys.maxsize:\n",
    "    print(0)\n",
    "else:\n",
    "    print(answer)"
   ]
  },
  {
   "cell_type": "markdown",
   "id": "3e5260c2",
   "metadata": {},
   "source": [
    "## 문제 풀이\n",
    "처음에는 이중 for문으로 풀었는데, 역시 골드난이도부터 왠만한 문제는 그냥 이중 for문 사용금지라고 생각해도 될정도로 무조건 이중 for문을 쓰면 시간초과가 난다. \n",
    "\n",
    "그래서 이렇게 부분합이나 배열안에서 여러개의 부분집합을 구하는 유형의 문제의 경우는 투포인터를 사용하면 시간초과 당하지 않고 풀 수 있다.\n",
    "\n",
    "투포인터는 말그대로 두개의 포인터, 보통 양쪽에서 포인터를 좁혀나가면 right, left, 나란하게 출발하면 start, end의 포인터를 사용해서 두 수를 조합하여 답을 구해낸다.\n",
    "\n",
    "이 문제는 연속된 수의 부분합을 구하기 때문에, 포인터가 나란하게 start, end가 0을 가르키면서 시작한다.      \n",
    "sumNum에 해당값을 더해가면서 만약 sumNum이 s보다 크면 start 포인터를 한칸 옮겨 다음 숫자의 부분합을 구해가고, sumNum이 s보다 작다면 end포인터를 한칸 더 옮겨 해당 수의 범위를 늘려주며 찾는다. \n",
    "\n",
    "sumNum이 s보다 클때의 end-start를 이전 answer와 min함수에 넣어 가장 최소인 end-start값을 찾아 반환하고, \n",
    "만약 answer에 주었던 초깃값 sys.maxsize와 같다면 0을 출력하면 된다.\n"
   ]
  },
  {
   "cell_type": "code",
   "execution_count": null,
   "id": "37083bbd",
   "metadata": {},
   "outputs": [],
   "source": []
  }
 ],
 "metadata": {
  "kernelspec": {
   "display_name": "Python 3",
   "language": "python",
   "name": "python3"
  },
  "language_info": {
   "codemirror_mode": {
    "name": "ipython",
    "version": 3
   },
   "file_extension": ".py",
   "mimetype": "text/x-python",
   "name": "python",
   "nbconvert_exporter": "python",
   "pygments_lexer": "ipython3",
   "version": "3.8.8"
  }
 },
 "nbformat": 4,
 "nbformat_minor": 5
}
