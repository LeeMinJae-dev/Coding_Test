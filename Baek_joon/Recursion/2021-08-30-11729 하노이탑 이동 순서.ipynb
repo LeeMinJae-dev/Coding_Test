{
 "cells": [
  {
   "cell_type": "markdown",
   "id": "7af42520",
   "metadata": {},
   "source": [
    "## 문제\n",
    "세 개의 장대가 있고 첫 번째 장대에는 반경이 서로 다른 n개의 원판이 쌓여 있다. 각 원판은 반경이 큰 순서대로 쌓여있다. 이제 수도승들이 다음 규칙에 따라 첫 번째 장대에서 세 번째 장대로 옮기려 한다.\n",
    "\n",
    "한 번에 한 개의 원판만을 다른 탑으로 옮길 수 있다.\n",
    "쌓아 놓은 원판은 항상 위의 것이 아래의 것보다 작아야 한다.\n",
    "이 작업을 수행하는데 필요한 이동 순서를 출력하는 프로그램을 작성하라. 단, 이동 횟수는 최소가 되어야 한다.\n",
    "\n",
    "아래 그림은 원판이 5개인 경우의 예시이다.\n",
    "\n",
    "\n",
    "\n",
    "## 입력\n",
    "첫째 줄에 첫 번째 장대에 쌓인 원판의 개수 N (1 ≤ N ≤ 20)이 주어진다.\n",
    "\n",
    " \n",
    "\n",
    "## 출력\n",
    "첫째 줄에 옮긴 횟수 K를 출력한다.\n",
    "\n",
    "두 번째 줄부터 수행 과정을 출력한다. 두 번째 줄부터 K개의 줄에 걸쳐 두 정수 A B를 빈칸을 사이에 두고 출력하는데, 이는 A번째 탑의 가장 위에 있는 원판을 B번째 탑의 가장 위로 옮긴다는 뜻이다.\n",
    "```\n",
    "예제 입력 1  \n",
    "3\n",
    "예제 출력 1  \n",
    "7\n",
    "1 3\n",
    "1 2\n",
    "3 2\n",
    "1 3\n",
    "2 1\n",
    "2 3\n",
    "1 3\n",
    "```\n",
    "## 문제 풀이\n",
    "이걸 그냥 문제만 보고 풀 수가 있다고...?\n",
    "\n",
    "너무 어려워서 인터넷을 좀 참고했다.    \n",
    "재귀는 머릿속으로 생각하기가 복잡하다 보니까 조금만 문제가 꼬여도 함수를 짜는게 너무 어려운것 같다.\n",
    "\n",
    "하노이탑의 규칙은 간단하다.   \n",
    "1단계는 n-1개의 원판을 2번으로 옮기는 것이고, 2단계는 맨 아래 남은 원판을 3번째 막대로 옮긴다. 3단계는 n-1개의 쌓여있는 원판을 3번째 막대로 옮기면 된다.\n",
    "\n",
    "이를 재귀함수로 구현해주면 다음과 같다.\n",
    "\n",
    "## 코드"
   ]
  },
  {
   "cell_type": "code",
   "execution_count": 22,
   "id": "61a4596c",
   "metadata": {},
   "outputs": [
    {
     "name": "stdout",
     "output_type": "stream",
     "text": [
      "3\n",
      "7\n",
      "1 3\n",
      "1 2\n",
      "3 2\n",
      "1 3\n",
      "2 1\n",
      "2 3\n",
      "1 3\n"
     ]
    }
   ],
   "source": [
    "def hanoi_tower(n, start, end) :\n",
    "    if n == 1 :\n",
    "        print(start, end)\n",
    "        return\n",
    "       \n",
    "    hanoi_tower(n-1, start, 6-start-end) # 1단계\n",
    "    print(start, end) # 2단계\n",
    "    hanoi_tower(n-1, 6-start-end, end) # 3단계\n",
    "    \n",
    "n = int(input())\n",
    "print(2**n-1)\n",
    "hanoi_tower(n, 1, 3)\n",
    "    "
   ]
  },
  {
   "cell_type": "code",
   "execution_count": null,
   "id": "31760d79",
   "metadata": {},
   "outputs": [],
   "source": []
  }
 ],
 "metadata": {
  "kernelspec": {
   "display_name": "Python 3",
   "language": "python",
   "name": "python3"
  },
  "language_info": {
   "codemirror_mode": {
    "name": "ipython",
    "version": 3
   },
   "file_extension": ".py",
   "mimetype": "text/x-python",
   "name": "python",
   "nbconvert_exporter": "python",
   "pygments_lexer": "ipython3",
   "version": "3.8.8"
  }
 },
 "nbformat": 4,
 "nbformat_minor": 5
}
