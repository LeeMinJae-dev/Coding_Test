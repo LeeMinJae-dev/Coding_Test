{
 "cells": [
  {
   "cell_type": "markdown",
   "id": "e055b232",
   "metadata": {},
   "source": [
    "---\n",
    "title : \"[BOJ] 14499 주사위 굴리기 (Python3)\"\n",
    "toc : true\n",
    "toc_sticky : true\n",
    "toc_lable : \"On this Page\"\n",
    "categories : baekjoon\n",
    "---\n",
    "## 문제\n",
    "크기가 N×M인 지도가 존재한다. 지도의 오른쪽은 동쪽, 위쪽은 북쪽이다. 이 지도의 위에 주사위가 하나 놓여져 있으며, 주사위의 전개도는 아래와 같다. 지도의 좌표는 (r, c)로 나타내며, r는 북쪽으로부터 떨어진 칸의 개수, c는 서쪽으로부터 떨어진 칸의 개수이다. \n",
    "```\n",
    "  2\n",
    "4 1 3\n",
    "  5\n",
    "  6\n",
    "```\n",
    "\n",
    "주사위는 지도 위에 윗 면이 1이고, 동쪽을 바라보는 방향이 3인 상태로 놓여져 있으며, 놓여져 있는 곳의 좌표는 (x, y) 이다. 가장 처음에 주사위에는 모든 면에 0이 적혀져 있다.\n",
    "\n",
    "지도의 각 칸에는 정수가 하나씩 쓰여져 있다. 주사위를 굴렸을 때, 이동한 칸에 쓰여 있는 수가 0이면, 주사위의 바닥면에 쓰여 있는 수가 칸에 복사된다. 0이 아닌 경우에는 칸에 쓰여 있는 수가 주사위의 바닥면으로 복사되며, 칸에 쓰여 있는 수는 0이 된다.\n",
    "\n",
    "주사위를 놓은 곳의 좌표와 이동시키는 명령이 주어졌을 때, 주사위가 이동했을 때 마다 상단에 쓰여 있는 값을 구하는 프로그램을 작성하시오.\n",
    "\n",
    "주사위는 지도의 바깥으로 이동시킬 수 없다. 만약 바깥으로 이동시키려고 하는 경우에는 해당 명령을 무시해야 하며, 출력도 하면 안 된다.\n",
    "\n",
    "## 입력\n",
    "첫째 줄에 지도의 세로 크기 N, 가로 크기 M (1 ≤ N, M ≤ 20), 주사위를 놓은 곳의 좌표 x, y(0 ≤ x ≤ N-1, 0 ≤ y ≤ M-1), 그리고 명령의 개수 K (1 ≤ K ≤ 1,000)가 주어진다.\n",
    "\n",
    "둘째 줄부터 N개의 줄에 지도에 쓰여 있는 수가 북쪽부터 남쪽으로, 각 줄은 서쪽부터 동쪽 순서대로 주어진다. 주사위를 놓은 칸에 쓰여 있는 수는 항상 0이다. 지도의 각 칸에 쓰여 있는 수는 10 미만의 자연수 또는 0이다.\n",
    "\n",
    "마지막 줄에는 이동하는 명령이 순서대로 주어진다. 동쪽은 1, 서쪽은 2, 북쪽은 3, 남쪽은 4로 주어진다.\n",
    "\n",
    "## 출력\n",
    "이동할 때마다 주사위의 윗 면에 쓰여 있는 수를 출력한다. 만약 바깥으로 이동시키려고 하는 경우에는 해당 명령을 무시해야 하며, 출력도 하면 안 된다."
   ]
  },
  {
   "cell_type": "code",
   "execution_count": 3,
   "id": "0aacf291",
   "metadata": {},
   "outputs": [
    {
     "name": "stdin",
     "output_type": "stream",
     "text": [
      " 4 2 0 0 8\n",
      " 0 2\n",
      " 3 5\n",
      " 5 6\n",
      " 7 8\n",
      "  4 4 4 1 3 3 3 2\n"
     ]
    },
    {
     "name": "stdout",
     "output_type": "stream",
     "text": [
      "dice:  [0, 0, 0, 0, 0, 0, 0]\n",
      "0\n",
      "dice:  [0, 0, 3, 0, 0, 0, 0]\n",
      "0\n",
      "dice:  [0, 0, 5, 0, 0, 0, 3]\n",
      "3\n",
      "dice:  [0, 0, 5, 3, 7, 0, 0]\n",
      "0\n",
      "dice:  [0, 5, 0, 3, 7, 8, 0]\n",
      "0\n",
      "dice:  [0, 0, 0, 3, 7, 6, 8]\n",
      "8\n",
      "dice:  [0, 0, 8, 3, 7, 5, 6]\n",
      "6\n",
      "dice:  [0, 7, 8, 2, 6, 5, 3]\n",
      "3\n"
     ]
    }
   ],
   "source": [
    "import sys \n",
    "\n",
    "N, M, x, y, K = map(int, input().split()) \n",
    "dx = [0, 0, -1, 1] \n",
    "dy = [1, -1, 0, 0] \n",
    "dice = [0 for _ in range(7)] \n",
    "arr = [list(map(int, input().split())) for _ in range(N)] \n",
    "order = list(map(int, input().split())) \n",
    "\n",
    "def move(direction): \n",
    "    if direction == 1: \n",
    "        dice[1], dice[3], dice[4], dice[6] = dice[3], dice[6], dice[1], dice[4] \n",
    "    elif direction == 2: \n",
    "        dice[1], dice[3], dice[4], dice[6] = dice[4], dice[1], dice[6], dice[3] \n",
    "    elif direction == 3: \n",
    "        dice[1], dice[2], dice[5], dice[6] = dice[2], dice[6], dice[1], dice[5] \n",
    "    elif direction == 4: \n",
    "        dice[1], dice[2], dice[5], dice[6] = dice[5], dice[1], dice[6], dice[2] \n",
    "\n",
    "for i in order: \n",
    "    nx = x+dx[i-1] \n",
    "    ny = y+dy[i-1] \n",
    "    if not 0 <= nx < N or not 0 <= ny < M: \n",
    "        continue \n",
    "    x, y = nx, ny \n",
    "    move(i) \n",
    "    print(\"dice: \", dice)\n",
    "    \n",
    "    if arr[x][y]: \n",
    "        dice[1] = arr[x][y] \n",
    "        arr[x][y] = 0 \n",
    "    else: \n",
    "        arr[x][y] = dice[1] \n",
    "    print(dice[6])\n",
    "\n"
   ]
  },
  {
   "cell_type": "markdown",
   "id": "1836a31a",
   "metadata": {},
   "source": [
    "이 문제는 구현 문제로, 주사위를 굴리는 함수를 만드는것이 핵심인 문제이다.\n",
    "\n",
    "주사위가 굴려지는 방향에 따라 변하는 함수를 다음과 같이\n",
    "\n",
    "```python\n",
    "def move(direction): \n",
    "    if direction == 1: \n",
    "        dice[1], dice[3], dice[4], dice[6] = dice[3], dice[6], dice[1], dice[4] \n",
    "    elif direction == 2: \n",
    "        dice[1], dice[3], dice[4], dice[6] = dice[4], dice[1], dice[6], dice[3] \n",
    "    elif direction == 3: \n",
    "        dice[1], dice[2], dice[5], dice[6] = dice[2], dice[6], dice[1], dice[5] \n",
    "    elif direction == 4: \n",
    "        dice[1], dice[2], dice[5], dice[6] = dice[5], dice[1], dice[6], dice[2] \n",
    "\n",
    "```\n",
    "\n",
    "이렇게 패턴을 갖고 움직인다. 이 패턴으로 주사위가 움직이는 것을 구현하면 나머지는 쉽게 해결된다.\n"
   ]
  }
 ],
 "metadata": {
  "kernelspec": {
   "display_name": "Python 3",
   "language": "python",
   "name": "python3"
  },
  "language_info": {
   "codemirror_mode": {
    "name": "ipython",
    "version": 3
   },
   "file_extension": ".py",
   "mimetype": "text/x-python",
   "name": "python",
   "nbconvert_exporter": "python",
   "pygments_lexer": "ipython3",
   "version": "3.9.7"
  }
 },
 "nbformat": 4,
 "nbformat_minor": 5
}
