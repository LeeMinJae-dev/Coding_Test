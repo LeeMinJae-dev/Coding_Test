{
 "cells": [
  {
   "cell_type": "markdown",
   "id": "de57f174",
   "metadata": {},
   "source": [
    "## 문제\n",
    "\n",
    "https://www.acmicpc.net/problem/2667\n",
    "\n",
    "<그림 1>과 같이 정사각형 모양의 지도가 있다. 1은 집이 있는 곳을, 0은 집이 없는 곳을 나타낸다. 철수는 이 지도를 가지고 연결된 집의 모임인 단지를 정의하고, 단지에 번호를 붙이려 한다. 여기서 연결되었다는 것은 어떤 집이 좌우, 혹은 아래위로 다른 집이 있는 경우를 말한다. 대각선상에 집이 있는 경우는 연결된 것이 아니다. <그림 2>는 <그림 1>을 단지별로 번호를 붙인 것이다. 지도를 입력하여 단지수를 출력하고, 각 단지에 속하는 집의 수를 오름차순으로 정렬하여 출력하는 프로그램을 작성하시오.\n",
    "\n",
    "\n",
    "\n",
    "## 입력\n",
    "첫 번째 줄에는 지도의 크기 N(정사각형이므로 가로와 세로의 크기는 같으며 5≤N≤25)이 입력되고, 그 다음 N줄에는 각각 N개의 자료(0혹은 1)가 입력된다.\n",
    "\n",
    "## 출력\n",
    "첫 번째 줄에는 총 단지수를 출력하시오. 그리고 각 단지내 집의 수를 오름차순으로 정렬하여 한 줄에 하나씩 출력하시오.\n",
    "\n",
    "```\n",
    "예제 입력 1  복사\n",
    "7\n",
    "0110100\n",
    "0110101\n",
    "1110101\n",
    "0000111\n",
    "0100000\n",
    "0111110\n",
    "0111000\n",
    "예제 출력 1  복사\n",
    "3\n",
    "7\n",
    "8\n",
    "9\n",
    "```\n"
   ]
  },
  {
   "cell_type": "code",
   "execution_count": 42,
   "id": "fb630a63",
   "metadata": {},
   "outputs": [
    {
     "name": "stdout",
     "output_type": "stream",
     "text": [
      "7\n",
      "0110100\n",
      "0110101\n",
      "1110101\n",
      "0000111\n",
      "0100000\n",
      "0111110\n",
      "0111000\n",
      "3\n",
      "7\n",
      "8\n",
      "9\n"
     ]
    }
   ],
   "source": [
    "#dfs 함수를 구현한다. visit은 1을 0으로 만드는 것으로 처리한다.\n",
    "def dfs(x,y, number):\n",
    "    if x < 0 or x>= n or y < 0 or y >= n:\n",
    "        return False\n",
    "    if house_map[y][x] == 1:\n",
    "        \n",
    "        house_map[y][x] = number\n",
    "        dfs(x-1, y, number)\n",
    "        dfs(x+1, y, number)\n",
    "        dfs(x, y+1, number)\n",
    "        dfs(x, y-1, number)\n",
    "        house_count.append(1)\n",
    "        return True\n",
    "    return False\n",
    "\n",
    "#지도의 크기 n\n",
    "n = int(input())\n",
    "#지도의 모습을 리스트로 받는다.\n",
    "house_map = []\n",
    "for i in range(n):\n",
    "    house_map.append(list(map(int, input())))\n",
    "#결과값 \n",
    "result = 0\n",
    "#결과값을 저장하는 리스트 answer\n",
    "ans = []\n",
    "number = 1\n",
    "#좌표를 하나하나 접근하여 dfs를 함수에 집어넣어 인접된 1노드가 있는 단지의 수를센다.\n",
    "for i in range(n):\n",
    "    for j in range(n):\n",
    "        house_count = []\n",
    "        if house_map[j][i] == 1:\n",
    "            number +=1\n",
    "            if dfs(i, j, number):\n",
    "                result+=1\n",
    "                ans.append(sum(house_count))\n",
    "\n",
    "    \n",
    "print(result)\n",
    "ans.sort()\n",
    "for i in ans:\n",
    "    print(i)\n"
   ]
  },
  {
   "cell_type": "code",
   "execution_count": 12,
   "id": "8c65f8fe",
   "metadata": {},
   "outputs": [
    {
     "data": {
      "text/plain": [
       "[1, 1, 1]"
      ]
     },
     "execution_count": 12,
     "metadata": {},
     "output_type": "execute_result"
    }
   ],
   "source": [
    "answer"
   ]
  },
  {
   "cell_type": "code",
   "execution_count": 40,
   "id": "b1f998c0",
   "metadata": {},
   "outputs": [
    {
     "data": {
      "text/plain": [
       "[[0, 2, 2, 0, 4, 0, 0],\n",
       " [0, 2, 2, 0, 4, 0, 4],\n",
       " [2, 2, 2, 0, 4, 0, 4],\n",
       " [0, 0, 0, 0, 4, 4, 4],\n",
       " [0, 3, 0, 0, 0, 0, 0],\n",
       " [0, 3, 3, 3, 3, 3, 0],\n",
       " [0, 3, 3, 3, 0, 0, 0]]"
      ]
     },
     "execution_count": 40,
     "metadata": {},
     "output_type": "execute_result"
    }
   ],
   "source": [
    "house_map"
   ]
  },
  {
   "cell_type": "code",
   "execution_count": 36,
   "id": "bf421406",
   "metadata": {},
   "outputs": [
    {
     "data": {
      "text/plain": [
       "[]"
      ]
     },
     "execution_count": 36,
     "metadata": {},
     "output_type": "execute_result"
    }
   ],
   "source": [
    "answer"
   ]
  },
  {
   "cell_type": "code",
   "execution_count": 41,
   "id": "0b8bda62",
   "metadata": {},
   "outputs": [
    {
     "data": {
      "text/plain": [
       "[7, 9, 8]"
      ]
     },
     "execution_count": 41,
     "metadata": {},
     "output_type": "execute_result"
    }
   ],
   "source": [
    "ans"
   ]
  },
  {
   "cell_type": "code",
   "execution_count": null,
   "id": "f12b47df",
   "metadata": {},
   "outputs": [],
   "source": []
  }
 ],
 "metadata": {
  "kernelspec": {
   "display_name": "Python 3",
   "language": "python",
   "name": "python3"
  },
  "language_info": {
   "codemirror_mode": {
    "name": "ipython",
    "version": 3
   },
   "file_extension": ".py",
   "mimetype": "text/x-python",
   "name": "python",
   "nbconvert_exporter": "python",
   "pygments_lexer": "ipython3",
   "version": "3.8.8"
  }
 },
 "nbformat": 4,
 "nbformat_minor": 5
}
