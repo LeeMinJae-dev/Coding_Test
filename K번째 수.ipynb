{
 "cells": [
  {
   "cell_type": "code",
   "execution_count": 1,
   "id": "763b15df",
   "metadata": {},
   "outputs": [],
   "source": [
    "def solution(array, commands):\n",
    "    ret = []\n",
    "    for i in commands:\n",
    "              a = array[i[0]-1:i[1]]\n",
    "              a.sort()\n",
    "              ret.append(a[i[2]-1])\n",
    "    return ret"
   ]
  },
  {
   "cell_type": "code",
   "execution_count": null,
   "id": "5525c28e",
   "metadata": {},
   "outputs": [],
   "source": []
  }
 ],
 "metadata": {
  "kernelspec": {
   "display_name": "Python 3",
   "language": "python",
   "name": "python3"
  },
  "language_info": {
   "codemirror_mode": {
    "name": "ipython",
    "version": 3
   },
   "file_extension": ".py",
   "mimetype": "text/x-python",
   "name": "python",
   "nbconvert_exporter": "python",
   "pygments_lexer": "ipython3",
   "version": "3.8.8"
  }
 },
 "nbformat": 4,
 "nbformat_minor": 5
}
