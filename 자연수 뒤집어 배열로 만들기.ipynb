{
 "cells": [
  {
   "cell_type": "markdown",
   "id": "165e1edb",
   "metadata": {},
   "source": [
    "## 문제 설명\n",
    "자연수 n을 뒤집어 각 자리 숫자를 원소로 가지는 배열 형태로 리턴해주세요. 예를들어 n이 12345이면 [5,4,3,2,1]을 리턴합니다.\n",
    "\n",
    "## 제한 조건\n",
    "n은 10,000,000,000이하인 자연수입니다.\n",
    "\n",
    "## 입출력 예\n",
    "```\n",
    "n\t    return\n",
    "12345\t[5,4,3,2,1]\n",
    "```"
   ]
  },
  {
   "cell_type": "code",
   "execution_count": 1,
   "id": "cc7753ed",
   "metadata": {},
   "outputs": [],
   "source": [
    "n = 12345"
   ]
  },
  {
   "cell_type": "code",
   "execution_count": 23,
   "id": "e9d866ed",
   "metadata": {},
   "outputs": [],
   "source": [
    "def solution(n):\n",
    "    result = []\n",
    "    a = list(str(n))\n",
    "    for i in range(0,len(a)):\n",
    "        result.append(int(a.pop()))\n",
    "    return result\n",
    "    "
   ]
  },
  {
   "cell_type": "code",
   "execution_count": 24,
   "id": "9720370e",
   "metadata": {},
   "outputs": [
    {
     "name": "stdout",
     "output_type": "stream",
     "text": [
      "[5, 4, 3, 2, 1]\n"
     ]
    }
   ],
   "source": [
    "print(solution(n))"
   ]
  },
  {
   "cell_type": "code",
   "execution_count": 25,
   "id": "5cd3213c",
   "metadata": {},
   "outputs": [],
   "source": [
    "n = \"12345\""
   ]
  },
  {
   "cell_type": "code",
   "execution_count": 34,
   "id": "42432b1a",
   "metadata": {},
   "outputs": [],
   "source": [
    "a = list(map(int,n))"
   ]
  },
  {
   "cell_type": "code",
   "execution_count": 30,
   "id": "23cac410",
   "metadata": {},
   "outputs": [
    {
     "data": {
      "text/plain": [
       "[1, 2, 3, 4, 5]"
      ]
     },
     "execution_count": 30,
     "metadata": {},
     "output_type": "execute_result"
    }
   ],
   "source": [
    "a"
   ]
  },
  {
   "cell_type": "code",
   "execution_count": null,
   "id": "c10b11fd",
   "metadata": {},
   "outputs": [],
   "source": []
  }
 ],
 "metadata": {
  "kernelspec": {
   "display_name": "Python 3",
   "language": "python",
   "name": "python3"
  },
  "language_info": {
   "codemirror_mode": {
    "name": "ipython",
    "version": 3
   },
   "file_extension": ".py",
   "mimetype": "text/x-python",
   "name": "python",
   "nbconvert_exporter": "python",
   "pygments_lexer": "ipython3",
   "version": "3.8.8"
  }
 },
 "nbformat": 4,
 "nbformat_minor": 5
}
