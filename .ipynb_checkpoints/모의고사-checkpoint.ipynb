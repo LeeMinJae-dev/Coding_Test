{
 "cells": [
  {
   "cell_type": "code",
   "execution_count": 139,
   "id": "468f169d",
   "metadata": {},
   "outputs": [],
   "source": [
    "def solution(answers):\n",
    "    \n",
    "    p1 = [1,2,3,4,5]\n",
    "    p2 = [2,1,2,3,2,4,2,5]\n",
    "    p3 = [3,3,1,1,2,2,4,4,5,5]\n",
    "    \n",
    "    score = [0,0,0]\n",
    "    \n",
    "    rank = []\n",
    "    \n",
    "    for i in range(0,len(answers)):\n",
    "        if(p1[i%5] == answers[i]):\n",
    "            score[0] +=1\n",
    "        if(p2[i%8] == answers[i]):\n",
    "            score[1] +=1\n",
    "        if(p3[i%10]== answers[i]):\n",
    "            score[2] +=1\n",
    "    for i in range(0,3):\n",
    "        maxscore = max(score)\n",
    "        if(score[i] == maxscore):\n",
    "            rank.append(i+1)\n",
    "    \n",
    "        \n",
    "    return rank"
   ]
  },
  {
   "cell_type": "code",
   "execution_count": 140,
   "id": "39041b0e",
   "metadata": {},
   "outputs": [
    {
     "data": {
      "text/plain": [
       "1"
      ]
     },
     "execution_count": 140,
     "metadata": {},
     "output_type": "execute_result"
    }
   ],
   "source": [
    "a = [1,1]\n",
    "max(a)"
   ]
  },
  {
   "cell_type": "code",
   "execution_count": 141,
   "id": "e17a9742",
   "metadata": {},
   "outputs": [],
   "source": [
    "answers = [1,2,3,4,5]"
   ]
  },
  {
   "cell_type": "code",
   "execution_count": 142,
   "id": "984088a3",
   "metadata": {},
   "outputs": [
    {
     "data": {
      "text/plain": [
       "[1]"
      ]
     },
     "execution_count": 142,
     "metadata": {},
     "output_type": "execute_result"
    }
   ],
   "source": [
    "solution(answers)"
   ]
  },
  {
   "cell_type": "code",
   "execution_count": null,
   "id": "7d43c85c",
   "metadata": {},
   "outputs": [],
   "source": []
  }
 ],
 "metadata": {
  "kernelspec": {
   "display_name": "Python 3",
   "language": "python",
   "name": "python3"
  },
  "language_info": {
   "codemirror_mode": {
    "name": "ipython",
    "version": 3
   },
   "file_extension": ".py",
   "mimetype": "text/x-python",
   "name": "python",
   "nbconvert_exporter": "python",
   "pygments_lexer": "ipython3",
   "version": "3.8.8"
  }
 },
 "nbformat": 4,
 "nbformat_minor": 5
}
