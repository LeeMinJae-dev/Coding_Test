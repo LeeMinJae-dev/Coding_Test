{
 "cells": [
  {
   "cell_type": "markdown",
   "id": "1a3503ae",
   "metadata": {},
   "source": [
    "## 문제 설명\n",
    "문자열 s는 한 개 이상의 단어로 구성되어 있습니다. 각 단어는 하나 이상의 공백문자로 구분되어 있습니다. 각 단어의 짝수번째 알파벳은 대문자로, 홀수번째 알파벳은 소문자로 바꾼 문자열을 리턴하는 함수, solution을 완성하세요.\n",
    "\n",
    "## 제한 사항\n",
    "문자열 전체의 짝/홀수 인덱스가 아니라, 단어(공백을 기준)별로 짝/홀수 인덱스를 판단해야합니다.\n",
    "첫 번째 글자는 0번째 인덱스로 보아 짝수번째 알파벳으로 처리해야 합니다.\n",
    "\n",
    "## 입출력 예\n",
    "```\n",
    "       s\t             return\n",
    "\"try hello world\"\t\"TrY HeLlO WoRlD\"\n",
    "```\n",
    "입출력 예 설명\n",
    "\n",
    "\"try hello world\"는 세 단어 \"try\", \"hello\", \"world\"로 구성되어 있습니다. 각 단어의 짝수번째 문자를 대문자로, 홀수번째 문자를 소문자로 바꾸면 \"TrY\", \"HeLlO\", \"WoRlD\"입니다. 따라서 \"TrY HeLlO WoRlD\" 를 리턴합니다."
   ]
  },
  {
   "cell_type": "code",
   "execution_count": 127,
   "id": "96b5a1ec",
   "metadata": {},
   "outputs": [],
   "source": [
    "s = \"My Name Is     IminJae.\""
   ]
  },
  {
   "cell_type": "code",
   "execution_count": 117,
   "id": "11bf834b",
   "metadata": {},
   "outputs": [],
   "source": [
    "import re\n",
    "def solution(s):\n",
    "    s = re.findall('[a-zA-Z]+',s)\n",
    "    result = \"\"\n",
    "    for i in s:\n",
    "        for j in range(0,len(i)):\n",
    "            if j%2 == 0:\n",
    "                result += i[j].upper()\n",
    "            else:\n",
    "                result += i[j].lower()\n",
    "        result += \" \"\n",
    "    return result"
   ]
  },
  {
   "cell_type": "code",
   "execution_count": 128,
   "id": "2fc18424",
   "metadata": {},
   "outputs": [
    {
     "data": {
      "text/plain": [
       "'My NaMe Is     ImInJaE '"
      ]
     },
     "execution_count": 128,
     "metadata": {},
     "output_type": "execute_result"
    }
   ],
   "source": [
    "solution(s)"
   ]
  },
  {
   "cell_type": "code",
   "execution_count": 106,
   "id": "b9f2318c",
   "metadata": {},
   "outputs": [
    {
     "data": {
      "text/plain": [
       "0"
      ]
     },
     "execution_count": 106,
     "metadata": {},
     "output_type": "execute_result"
    }
   ],
   "source": [
    "0%2"
   ]
  },
  {
   "cell_type": "code",
   "execution_count": 124,
   "id": "829f33d0",
   "metadata": {},
   "outputs": [],
   "source": [
    "def solution(s):\n",
    "    charlist = \"\"\n",
    "    idx = 0\n",
    "    for i in s:\n",
    "        if i.isalpha():\n",
    "            idx += 1\n",
    "            if idx % 2 != 0:\n",
    "                charlist += i.upper()\n",
    "            else :\n",
    "                charlist += i.lower()\n",
    "        else:\n",
    "            idx = 0\n",
    "            charlist += ' '\n",
    "            continue\n",
    "\n",
    "    return charlist"
   ]
  },
  {
   "cell_type": "code",
   "execution_count": null,
   "id": "0f44bb0f",
   "metadata": {},
   "outputs": [],
   "source": []
  }
 ],
 "metadata": {
  "kernelspec": {
   "display_name": "Python 3",
   "language": "python",
   "name": "python3"
  },
  "language_info": {
   "codemirror_mode": {
    "name": "ipython",
    "version": 3
   },
   "file_extension": ".py",
   "mimetype": "text/x-python",
   "name": "python",
   "nbconvert_exporter": "python",
   "pygments_lexer": "ipython3",
   "version": "3.8.8"
  }
 },
 "nbformat": 4,
 "nbformat_minor": 5
}
