{
 "cells": [
  {
   "cell_type": "markdown",
   "id": "03ed8d5c",
   "metadata": {},
   "source": [
    "## 문제 설명\n",
    "\n",
    "길이가 n이고, \"수박수박수박수....\"와 같은 패턴을 유지하는 문자열을 리턴하는 함수, \n",
    "solution을 완성하세요. 예를들어 n이 4이면 \"수박수박\"을 리턴하고 \n",
    "3이라면 \"수박수\"를 리턴하면 됩니다.\n",
    "\n",
    "## 제한 조건\n",
    "\n",
    "n은 길이 10,000이하인 자연수입니다.\n",
    "\n",
    "## 입출력 예\n",
    "```\n",
    "n\treturn\n",
    "3\t\"수박수\"\n",
    "4\t\"수박수박\"\n",
    "```"
   ]
  },
  {
   "cell_type": "code",
   "execution_count": 10,
   "id": "823fbb29",
   "metadata": {},
   "outputs": [],
   "source": [
    "def solution(n):\n",
    "    s = \"수박\"\n",
    "    strings = []\n",
    "    for i in range(0,n):\n",
    "            strings.append(s[i%2])\n",
    "            \n",
    "    return \"\".join(strings)"
   ]
  },
  {
   "cell_type": "code",
   "execution_count": 11,
   "id": "dba851be",
   "metadata": {},
   "outputs": [],
   "source": [
    "n = 3"
   ]
  },
  {
   "cell_type": "code",
   "execution_count": 12,
   "id": "6043d4e6",
   "metadata": {},
   "outputs": [
    {
     "data": {
      "text/plain": [
       "'수박수'"
      ]
     },
     "execution_count": 12,
     "metadata": {},
     "output_type": "execute_result"
    }
   ],
   "source": [
    "solution(n)"
   ]
  },
  {
   "cell_type": "code",
   "execution_count": null,
   "id": "f468a470",
   "metadata": {},
   "outputs": [],
   "source": []
  }
 ],
 "metadata": {
  "kernelspec": {
   "display_name": "Python 3",
   "language": "python",
   "name": "python3"
  },
  "language_info": {
   "codemirror_mode": {
    "name": "ipython",
    "version": 3
   },
   "file_extension": ".py",
   "mimetype": "text/x-python",
   "name": "python",
   "nbconvert_exporter": "python",
   "pygments_lexer": "ipython3",
   "version": "3.8.8"
  }
 },
 "nbformat": 4,
 "nbformat_minor": 5
}
