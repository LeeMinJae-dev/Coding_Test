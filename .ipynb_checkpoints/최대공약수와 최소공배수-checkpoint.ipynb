{
 "cells": [
  {
   "cell_type": "markdown",
   "id": "563e539a",
   "metadata": {},
   "source": [
    "## 문제 설명\n",
    "두 수를 입력받아 두 수의 최대공약수와 최소공배수를 반환하는 함수, solution을 완성해 보세요. 배열의 맨 앞에 최대공약수, 그다음 최소공배수를 넣어 반환하면 됩니다. 예를 들어 두 수 3, 12의 최대공약수는 3, 최소공배수는 12이므로 solution(3, 12)는 [3, 12]를 반환해야 합니다.\n",
    "\n",
    "## 제한 사항\n",
    "두 수는 1이상 1000000이하의 자연수입니다.\n",
    "\n",
    "## 입출력 예\n",
    "```\n",
    "n\tm\treturn\n",
    "3\t12\t[3, 12]\n",
    "2\t5\t[1, 10]\n",
    "```\n",
    "\n",
    "## 입출력 예 설명\n",
    "입출력 예 #1\n",
    "위의 설명과 같습니다.\n",
    "\n",
    "입출력 예 #2\n",
    "자연수 2와 5의 최대공약수는 1, 최소공배수는 10이므로 [1, 10]을 리턴해야 합니다."
   ]
  },
  {
   "cell_type": "code",
   "execution_count": 116,
   "id": "26d05bd2",
   "metadata": {},
   "outputs": [],
   "source": [
    "n = 5\n",
    "m = 2"
   ]
  },
  {
   "cell_type": "code",
   "execution_count": 125,
   "id": "6fb38515",
   "metadata": {},
   "outputs": [],
   "source": [
    "def solution(n, m):\n",
    "    result = []\n",
    "    n_num= []\n",
    "    m_num = []\n",
    "    n_num_1 = []\n",
    "    m_num_1 = []\n",
    "    for i in range(1,n*m+1):\n",
    "        if n%i == 0:\n",
    "            n_num.append(i)\n",
    "        if m%i == 0:\n",
    "            m_num.append(i)\n",
    "        if i%n == 0:\n",
    "            n_num_1.append(i)\n",
    "        if i%m == 0:\n",
    "            m_num_1.append(i)\n",
    "            \n",
    "    num = set(n_num)&set(m_num)\n",
    "    num_2 = set(n_num_1)&set(m_num_1)\n",
    "    \n",
    "    return [sorted(list(num))[-1],sorted(list(num_2))[0]]\n",
    "            \n",
    "        "
   ]
  },
  {
   "cell_type": "code",
   "execution_count": 126,
   "id": "e16756e8",
   "metadata": {},
   "outputs": [
    {
     "data": {
      "text/plain": [
       "[1, 10]"
      ]
     },
     "execution_count": 126,
     "metadata": {},
     "output_type": "execute_result"
    }
   ],
   "source": [
    "solution(n,m)"
   ]
  },
  {
   "cell_type": "code",
   "execution_count": 127,
   "id": "88a0df7c",
   "metadata": {},
   "outputs": [],
   "source": [
    "def gcdlcm(a, b):\n",
    "    c, d = max(a, b), min(a, b)\n",
    "    t = 1\n",
    "    while t > 0:\n",
    "        t = c % d\n",
    "        c, d = d, t\n",
    "    answer = [c, int(a*b/c)]\n",
    "\n",
    "    return answer"
   ]
  },
  {
   "cell_type": "code",
   "execution_count": 129,
   "id": "18401bc4",
   "metadata": {},
   "outputs": [
    {
     "data": {
      "text/plain": [
       "[1, 10]"
      ]
     },
     "execution_count": 129,
     "metadata": {},
     "output_type": "execute_result"
    }
   ],
   "source": [
    "gcdlcm(n,m)"
   ]
  },
  {
   "cell_type": "code",
   "execution_count": 130,
   "id": "bcd9ce00",
   "metadata": {},
   "outputs": [],
   "source": [
    "a = 3\n",
    "b = 2\n"
   ]
  },
  {
   "cell_type": "code",
   "execution_count": 131,
   "id": "67541864",
   "metadata": {},
   "outputs": [],
   "source": [
    "a,b = b,a"
   ]
  },
  {
   "cell_type": "code",
   "execution_count": 132,
   "id": "e94d58ae",
   "metadata": {},
   "outputs": [
    {
     "data": {
      "text/plain": [
       "2"
      ]
     },
     "execution_count": 132,
     "metadata": {},
     "output_type": "execute_result"
    }
   ],
   "source": [
    "a"
   ]
  },
  {
   "cell_type": "code",
   "execution_count": 141,
   "id": "43b9768e",
   "metadata": {},
   "outputs": [
    {
     "name": "stdout",
     "output_type": "stream",
     "text": [
      "t:1, c:2, d:1\n",
      "t:0, c:1, d:0\n"
     ]
    }
   ],
   "source": [
    "a = 2\n",
    "b = 5\n",
    "c, d = max(a, b), min(a, b)\n",
    "t = 1\n",
    "while t > 0:\n",
    "    t = c % d\n",
    "    c, d = d, t\n",
    "    print(\"t:{}, c:{}, d:{}\".format(t,c,d))\n",
    "answer = [c, int(a*b/c)]\n",
    "\n"
   ]
  },
  {
   "cell_type": "code",
   "execution_count": 139,
   "id": "0ed412e8",
   "metadata": {},
   "outputs": [
    {
     "data": {
      "text/plain": [
       "[1, 10]"
      ]
     },
     "execution_count": 139,
     "metadata": {},
     "output_type": "execute_result"
    }
   ],
   "source": [
    "answer"
   ]
  },
  {
   "cell_type": "code",
   "execution_count": null,
   "id": "aa299676",
   "metadata": {},
   "outputs": [],
   "source": []
  }
 ],
 "metadata": {
  "kernelspec": {
   "display_name": "Python 3",
   "language": "python",
   "name": "python3"
  },
  "language_info": {
   "codemirror_mode": {
    "name": "ipython",
    "version": 3
   },
   "file_extension": ".py",
   "mimetype": "text/x-python",
   "name": "python",
   "nbconvert_exporter": "python",
   "pygments_lexer": "ipython3",
   "version": "3.8.8"
  }
 },
 "nbformat": 4,
 "nbformat_minor": 5
}
