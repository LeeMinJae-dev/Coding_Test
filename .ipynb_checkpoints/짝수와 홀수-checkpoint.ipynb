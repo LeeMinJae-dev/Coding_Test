{
 "cells": [
  {
   "cell_type": "markdown",
   "id": "5e6c94cf",
   "metadata": {},
   "source": [
    "## 문제 설명\n",
    "정수 num이 짝수일 경우 \"Even\"을 반환하고 홀수인 경우 \"Odd\"를 반환하는 함수, solution을 완성해주세요.\n",
    "\n",
    "## 제한 조건\n",
    "num은 int 범위의 정수입니다.\n",
    "0은 짝수입니다.\n",
    "\n",
    "## 입출력 예\n",
    "```\n",
    "num\treturn\n",
    "3\t\"Odd\"\n",
    "4\t\"Even`\n",
    "```"
   ]
  },
  {
   "cell_type": "code",
   "execution_count": 1,
   "id": "70a7a73b",
   "metadata": {},
   "outputs": [],
   "source": [
    "num = 3"
   ]
  },
  {
   "cell_type": "code",
   "execution_count": 3,
   "id": "1d86dc5c",
   "metadata": {},
   "outputs": [],
   "source": [
    "def solution(num):\n",
    "    if num%2 ==0:\n",
    "        return \"Even\"\n",
    "    else:\n",
    "        return \"Odd\""
   ]
  },
  {
   "cell_type": "code",
   "execution_count": 4,
   "id": "ec021ce8",
   "metadata": {},
   "outputs": [
    {
     "data": {
      "text/plain": [
       "'Odd'"
      ]
     },
     "execution_count": 4,
     "metadata": {},
     "output_type": "execute_result"
    }
   ],
   "source": [
    "solution(num)"
   ]
  },
  {
   "cell_type": "code",
   "execution_count": null,
   "id": "821595ee",
   "metadata": {},
   "outputs": [],
   "source": []
  }
 ],
 "metadata": {
  "kernelspec": {
   "display_name": "Python 3",
   "language": "python",
   "name": "python3"
  },
  "language_info": {
   "codemirror_mode": {
    "name": "ipython",
    "version": 3
   },
   "file_extension": ".py",
   "mimetype": "text/x-python",
   "name": "python",
   "nbconvert_exporter": "python",
   "pygments_lexer": "ipython3",
   "version": "3.8.8"
  }
 },
 "nbformat": 4,
 "nbformat_minor": 5
}
