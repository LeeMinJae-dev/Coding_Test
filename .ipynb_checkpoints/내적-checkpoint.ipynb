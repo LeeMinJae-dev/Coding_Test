{
 "cells": [
  {
   "cell_type": "code",
   "execution_count": 1,
   "id": "34acc5d4",
   "metadata": {},
   "outputs": [],
   "source": [
    "def solution(a, b):\n",
    "    answer = 0\n",
    "    for i in range(0, len(a)):\n",
    "        answer +=  a[i]*b[i]\n",
    "    return answer"
   ]
  },
  {
   "cell_type": "code",
   "execution_count": null,
   "id": "d227bcea",
   "metadata": {},
   "outputs": [],
   "source": []
  }
 ],
 "metadata": {
  "kernelspec": {
   "display_name": "Python 3",
   "language": "python",
   "name": "python3"
  },
  "language_info": {
   "codemirror_mode": {
    "name": "ipython",
    "version": 3
   },
   "file_extension": ".py",
   "mimetype": "text/x-python",
   "name": "python",
   "nbconvert_exporter": "python",
   "pygments_lexer": "ipython3",
   "version": "3.8.8"
  }
 },
 "nbformat": 4,
 "nbformat_minor": 5
}
