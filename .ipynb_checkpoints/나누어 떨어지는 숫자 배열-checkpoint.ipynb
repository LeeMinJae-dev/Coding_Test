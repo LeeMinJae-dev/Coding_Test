{
 "cells": [
  {
   "cell_type": "markdown",
   "id": "06bcb691",
   "metadata": {},
   "source": [
    "# 문제 설명\n",
    "\n",
    "array의 각 element 중 divisor로 나누어 떨어지는 값을 오름차순으로 정렬한 배열을 반환하는 함수, solution을 작성해주세요.\n",
    "divisor로 나누어 떨어지는 element가 하나도 없다면 배열에 -1을 담아 반환하세요.\n",
    "\n",
    "## 제한사항\n",
    "arr은 자연수를 담은 배열입니다.\n",
    "정수 i, j에 대해 i ≠ j 이면 arr[i] ≠ arr[j] 입니다.\n",
    "divisor는 자연수입니다.\n",
    "array는 길이 1 이상인 배열입니다\n",
    "\n",
    "## 입출력 예\n",
    "```\n",
    "arr\t            divisor        return\n",
    "[5, 9, 7, 10]\t  5\t          [5, 10]\n",
    "[2, 36, 1, 3]\t  1\t          [1, 2, 3, 36]\n",
    "[3,2,6]\t         10\t          [-1]\n",
    "````\n",
    "## 입출력 예 설명\n",
    "\n",
    "입출력 예#1\n",
    "```\n",
    "arr의 원소 중 5로 나누어 떨어지는 원소는 5와 10입니다. \n",
    "따라서 [5, 10]을 리턴합니다.\n",
    "```\n",
    "입출력 예#2\n",
    "```\n",
    "arr의 모든 원소는 1으로 나누어 떨어집니다. 원소를 오름차순으로 정렬해 [1, 2, 3, 36]을 리턴합니다.\n",
    "```\n",
    "\n",
    "입출력 예#3\n",
    "```\n",
    "3, 2, 6은 10으로 나누어 떨어지지 않습니다. 나누어 떨어지는 원소가 없으므로 [-1]을 리턴합니다`\n",
    "```"
   ]
  },
  {
   "cell_type": "code",
   "execution_count": 8,
   "id": "e49584d2",
   "metadata": {},
   "outputs": [],
   "source": [
    "def solution(arr, divisor):\n",
    "    result = []\n",
    "    for i in range(0, len(arr)):\n",
    "        if arr[i]%divisor == 0:\n",
    "            result.append(arr[i])\n",
    "    if len(result) == 0:\n",
    "        result.append(-1)\n",
    "    result.sort()        \n",
    "    return result"
   ]
  },
  {
   "cell_type": "code",
   "execution_count": 9,
   "id": "2734fbeb",
   "metadata": {},
   "outputs": [],
   "source": [
    "arr = [5,9,7,10]\n",
    "divisor = 5"
   ]
  },
  {
   "cell_type": "code",
   "execution_count": 10,
   "id": "9dcfab30",
   "metadata": {},
   "outputs": [
    {
     "data": {
      "text/plain": [
       "[5, 10]"
      ]
     },
     "execution_count": 10,
     "metadata": {},
     "output_type": "execute_result"
    }
   ],
   "source": [
    "solution(arr, divisor)"
   ]
  },
  {
   "cell_type": "code",
   "execution_count": null,
   "id": "2e048a3b",
   "metadata": {},
   "outputs": [],
   "source": []
  },
  {
   "cell_type": "code",
   "execution_count": null,
   "id": "aab42d4e",
   "metadata": {},
   "outputs": [],
   "source": []
  }
 ],
 "metadata": {
  "kernelspec": {
   "display_name": "Python 3",
   "language": "python",
   "name": "python3"
  },
  "language_info": {
   "codemirror_mode": {
    "name": "ipython",
    "version": 3
   },
   "file_extension": ".py",
   "mimetype": "text/x-python",
   "name": "python",
   "nbconvert_exporter": "python",
   "pygments_lexer": "ipython3",
   "version": "3.8.8"
  }
 },
 "nbformat": 4,
 "nbformat_minor": 5
}
