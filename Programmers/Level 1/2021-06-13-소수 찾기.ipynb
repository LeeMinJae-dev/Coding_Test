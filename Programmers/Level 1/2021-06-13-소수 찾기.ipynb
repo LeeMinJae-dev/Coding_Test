{
 "cells": [
  {
   "cell_type": "markdown",
   "id": "3be341b4",
   "metadata": {},
   "source": [
    "---\n",
    "title: \"[Programmers] 소수 찾기\"\n",
    "toc : true\n",
    "toc_sticky : true\n",
    "toc_label : \"On this Page\"\n",
    "categories : programmers\n",
    "\n",
    "---\n",
    "## 문제 설명\n",
    "1부터 입력받은 숫자 n 사이에 있는 소수의 개수를 반환하는 함수, solution을 만들어 보세요.\n",
    "소수는 1과 자기 자신으로만 나누어지는 수를 의미합니다.\n",
    "(1은 소수가 아닙니다.)\n",
    "\n",
    "## 제한 조건\n",
    "\n",
    "n은 2이상 1000000이하의 자연수입니다.\n",
    "입출력 예\n",
    "```\n",
    "n\tresult\n",
    "10\t4\n",
    "5\t3\n",
    "```\n",
    "\n",
    "## 입출력 예 설명\n",
    "```\n",
    "입출력 예 #1\n",
    "1부터 10 사이의 소수는 [2,3,5,7] 4개가 존재하므로 4를 반환\n",
    "\n",
    "입출력 예 #2\n",
    "1부터 5 사이의 소수는 [2,3,5] 3개가 존재하므로 3를 반환\n",
    "```\n",
    "\n",
    "## 코드"
   ]
  },
  {
   "cell_type": "code",
   "execution_count": 3,
   "id": "d2e9913e",
   "metadata": {},
   "outputs": [],
   "source": [
    "n = 1000"
   ]
  },
  {
   "cell_type": "code",
   "execution_count": 4,
   "id": "4422e2d3",
   "metadata": {},
   "outputs": [],
   "source": [
    "def solution(n):\n",
    "    num = set(range(2,n+1))\n",
    "    \n",
    "    for i in range(2, n+1):\n",
    "        if i in num:\n",
    "            num-=set(range(i*i,n+1,i ))\n",
    "            p = range(i,n+1,i )\n",
    "           \n",
    "    \n",
    "    return len(num)"
   ]
  },
  {
   "cell_type": "code",
   "execution_count": 5,
   "id": "e9527341",
   "metadata": {},
   "outputs": [
    {
     "data": {
      "text/plain": [
       "168"
      ]
     },
     "execution_count": 5,
     "metadata": {},
     "output_type": "execute_result"
    }
   ],
   "source": [
    "solution(n)"
   ]
  }
 ],
 "metadata": {
  "kernelspec": {
   "display_name": "Python 3",
   "language": "python",
   "name": "python3"
  },
  "language_info": {
   "codemirror_mode": {
    "name": "ipython",
    "version": 3
   },
   "file_extension": ".py",
   "mimetype": "text/x-python",
   "name": "python",
   "nbconvert_exporter": "python",
   "pygments_lexer": "ipython3",
   "version": "3.8.8"
  }
 },
 "nbformat": 4,
 "nbformat_minor": 5
}
