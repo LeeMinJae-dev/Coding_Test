{
 "cells": [
  {
   "cell_type": "code",
   "execution_count": 95,
   "id": "67bd7968",
   "metadata": {},
   "outputs": [],
   "source": [
    "def solution(id_list, report, k):\n",
    "    answer = [for 0 in k]\n",
    "    reportDict = dict()\n",
    "    \n",
    "    for rep in report:\n",
    "        if reportDict[rep]:\n",
    "            reportDict.append\n",
    "       \n",
    "    return suspectDict"
   ]
  },
  {
   "cell_type": "code",
   "execution_count": 96,
   "id": "8dea156f",
   "metadata": {},
   "outputs": [
    {
     "data": {
      "text/plain": [
       "{'muzi': {'apeach'},\n",
       " 'frodo': {'apeach', 'muzi'},\n",
       " 'apeach': set(),\n",
       " 'neo': {'frodo', 'muzi'}}"
      ]
     },
     "execution_count": 96,
     "metadata": {},
     "output_type": "execute_result"
    }
   ],
   "source": [
    "solution([\"muzi\", \"frodo\", \"apeach\", \"neo\"], [\"muzi frodo\",\"apeach frodo\",\"frodo neo\",\"muzi neo\",\"apeach muzi\"], 2)"
   ]
  },
  {
   "cell_type": "code",
   "execution_count": 98,
   "id": "86fd4ff0",
   "metadata": {},
   "outputs": [
    {
     "ename": "SyntaxError",
     "evalue": "invalid syntax (<ipython-input-98-933c04adf938>, line 1)",
     "output_type": "error",
     "traceback": [
      "\u001b[0;36m  File \u001b[0;32m\"<ipython-input-98-933c04adf938>\"\u001b[0;36m, line \u001b[0;32m1\u001b[0m\n\u001b[0;31m    answer = [0] for i in 4\u001b[0m\n\u001b[0m                 ^\u001b[0m\n\u001b[0;31mSyntaxError\u001b[0m\u001b[0;31m:\u001b[0m invalid syntax\n"
     ]
    }
   ],
   "source": [
    "answer = [0] for i in 4"
   ]
  },
  {
   "cell_type": "code",
   "execution_count": null,
   "id": "b7d893f3",
   "metadata": {},
   "outputs": [],
   "source": []
  }
 ],
 "metadata": {
  "kernelspec": {
   "display_name": "Python 3",
   "language": "python",
   "name": "python3"
  },
  "language_info": {
   "codemirror_mode": {
    "name": "ipython",
    "version": 3
   },
   "file_extension": ".py",
   "mimetype": "text/x-python",
   "name": "python",
   "nbconvert_exporter": "python",
   "pygments_lexer": "ipython3",
   "version": "3.8.8"
  }
 },
 "nbformat": 4,
 "nbformat_minor": 5
}
