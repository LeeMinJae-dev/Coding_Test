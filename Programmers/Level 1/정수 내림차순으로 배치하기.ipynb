{
 "cells": [
  {
   "cell_type": "markdown",
   "id": "9081ab40",
   "metadata": {},
   "source": [
    "## 문제 설명\n",
    "함수 solution은 정수 n을 매개변수로 입력받습니다. n의 각 자릿수를 큰것부터 작은 순으로 정렬한 새로운 정수를 리턴해주세요. 예를들어 n이 118372면 873211을 리턴하면 됩니다.\n",
    "\n",
    "## 제한 조건\n",
    "n은 1이상 8000000000 이하인 자연수입니다.\n",
    "\n",
    "## 입출력 예\n",
    "```\n",
    "n\t    return\n",
    "118372\t873211\n",
    "```"
   ]
  },
  {
   "cell_type": "code",
   "execution_count": 1,
   "id": "d7274032",
   "metadata": {},
   "outputs": [],
   "source": [
    "n = 118372"
   ]
  },
  {
   "cell_type": "code",
   "execution_count": 21,
   "id": "d57127dd",
   "metadata": {},
   "outputs": [],
   "source": [
    "def solution(n):\n",
    "    return int(\"\".join(list(reversed(sorted(str(n))))))"
   ]
  },
  {
   "cell_type": "code",
   "execution_count": 22,
   "id": "ff694df6",
   "metadata": {},
   "outputs": [
    {
     "data": {
      "text/plain": [
       "873211"
      ]
     },
     "execution_count": 22,
     "metadata": {},
     "output_type": "execute_result"
    }
   ],
   "source": [
    "solution(n)"
   ]
  },
  {
   "cell_type": "code",
   "execution_count": null,
   "id": "d78b985d",
   "metadata": {},
   "outputs": [],
   "source": []
  }
 ],
 "metadata": {
  "kernelspec": {
   "display_name": "Python 3",
   "language": "python",
   "name": "python3"
  },
  "language_info": {
   "codemirror_mode": {
    "name": "ipython",
    "version": 3
   },
   "file_extension": ".py",
   "mimetype": "text/x-python",
   "name": "python",
   "nbconvert_exporter": "python",
   "pygments_lexer": "ipython3",
   "version": "3.8.8"
  }
 },
 "nbformat": 4,
 "nbformat_minor": 5
}
