{
 "cells": [
  {
   "cell_type": "markdown",
   "id": "e70e3eac",
   "metadata": {},
   "source": [
    "어떤 정수들이 있습니다. 이 정수들의 절댓값을 차례대로 담은 정수 배열 absolutes와 이 정수들의 부호를 차례대로 담은 불리언 배열 signs가 매개변수로 주어집니다. 실제 정수들의 합을 구하여 return 하도록 solution 함수를 완성해주세요.\n",
    "\n",
    "[제한사항]\n",
    "absolutes의 길이는 1 이상 1,000 이하입니다.\n",
    "absolutes의 모든 수는 각각 1 이상 1,000 이하입니다.\n",
    "signs의 길이는 absolutes의 길이와 같습니다.\n",
    "signs[i] 가 참이면 absolutes[i] 의 실제 정수가 양수임을, 그렇지 않으면 음수임을 의미합니다.\n",
    "\n",
    "[입출력 예]\n",
    "absolutes\tsigns\tresult\n",
    "[4,7,12]\t[true,false,true]\t9\n",
    "[1,2,3]\t[false,false,true]\t0\n",
    "\n",
    "입출력 예 설명\n",
    "\n",
    "[입출력 예]#1\n",
    "signs가 [true,false,true] 이므로, 실제 수들의 값은 각각 4, -7, 12입니다.\n",
    "따라서 세 수의 합인 9를 return 해야 합니다.\n",
    "\n",
    "[입출력 예]#2\n",
    "signs가 [false,false,true] 이므로, 실제 수들의 값은 각각 -1, -2, 3입니다.\n",
    "따라서 세 수의 합인 0을 return 해야 합니다."
   ]
  },
  {
   "cell_type": "code",
   "execution_count": 5,
   "id": "810cfd16",
   "metadata": {},
   "outputs": [],
   "source": [
    "def solution(absolutes, signs):\n",
    "    for i in range(0, len(absolutes)):\n",
    "        if(signs[i] == False):\n",
    "            absolutes[i] = absolutes[i]*-1\n",
    "    return sum(absolutes)"
   ]
  },
  {
   "cell_type": "code",
   "execution_count": 7,
   "id": "f2bf1995",
   "metadata": {},
   "outputs": [],
   "source": [
    "absolutes = [4,7,12]\n",
    "signs = [True, False, True]\n",
    "\n"
   ]
  },
  {
   "cell_type": "code",
   "execution_count": 8,
   "id": "7125bbef",
   "metadata": {},
   "outputs": [
    {
     "data": {
      "text/plain": [
       "9"
      ]
     },
     "execution_count": 8,
     "metadata": {},
     "output_type": "execute_result"
    }
   ],
   "source": [
    "solution(absolutes, signs)"
   ]
  },
  {
   "cell_type": "code",
   "execution_count": null,
   "id": "45493d84",
   "metadata": {},
   "outputs": [],
   "source": []
  }
 ],
 "metadata": {
  "kernelspec": {
   "display_name": "Python 3",
   "language": "python",
   "name": "python3"
  },
  "language_info": {
   "codemirror_mode": {
    "name": "ipython",
    "version": 3
   },
   "file_extension": ".py",
   "mimetype": "text/x-python",
   "name": "python",
   "nbconvert_exporter": "python",
   "pygments_lexer": "ipython3",
   "version": "3.8.8"
  }
 },
 "nbformat": 4,
 "nbformat_minor": 5
}
