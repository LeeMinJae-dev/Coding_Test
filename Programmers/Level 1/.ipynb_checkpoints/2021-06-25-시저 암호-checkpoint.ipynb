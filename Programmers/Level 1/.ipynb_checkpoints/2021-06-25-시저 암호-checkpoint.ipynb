{
 "cells": [
  {
   "cell_type": "markdown",
   "id": "faf61f88",
   "metadata": {},
   "source": [
    "---\n",
    "title: \"[Programmers] 시저 암호\"\n",
    "toc : true\n",
    "toc_sticky : true\n",
    "toc_label : \"On this Page\"\n",
    "categories : programmers\n",
    "\n",
    "---\n",
    "## 문제 설명\n",
    "어떤 문장의 각 알파벳을 일정한 거리만큼 밀어서 다른 알파벳으로 바꾸는 암호화 방식을 시저 암호라고 합니다. 예를 들어 \"AB\"는 1만큼 밀면 \"BC\"가 되고, 3만큼 밀면 \"DE\"가 됩니다. \"z\"는 1만큼 밀면 \"a\"가 됩니다. 문자열 s와 거리 n을 입력받아 s를 n만큼 민 암호문을 만드는 함수, solution을 완성해 보세요.\n",
    "\n",
    "## 제한 조건\n",
    "공백은 아무리 밀어도 공백입니다.\n",
    "s는 알파벳 소문자, 대문자, 공백으로만 이루어져 있습니다.\n",
    "s의 길이는 8000이하입니다.\n",
    "n은 1 이상, 25이하인 자연수입니다.\n",
    "\n",
    "## 입출력 예\n",
    "```\n",
    "s\t    n\tresult\n",
    "\"AB\"\t1\t\"BC\"\n",
    "\"z\"  \t1\t\"a\"\n",
    "\"a B z\"\t4\t\"e F d\"\n",
    "```\n",
    "\n",
    "## 코드"
   ]
  },
  {
   "cell_type": "code",
   "execution_count": 136,
   "id": "9ec7134b",
   "metadata": {},
   "outputs": [],
   "source": [
    "s = \"a B z\"\n",
    "n = 1"
   ]
  },
  {
   "cell_type": "code",
   "execution_count": 157,
   "id": "36b3e7a5",
   "metadata": {},
   "outputs": [],
   "source": [
    "def solution(s,n):\n",
    "    alpha_lower= [\"abcdefghijklmnopqrstuvwxyz\"]\n",
    "    alpha_upper= [\"abcdefghijklmnopqrstuvwxyz\"]\n",
    "    alpha_upper = list(alpha_upper[0].upper())\n",
    "    alpha_lower = list(alpha_lower[0])\n",
    "    result = \"\"\n",
    "   \n",
    "    for i in range(0, len(s)):\n",
    "        if s[i] == ' ':\n",
    "            result += ' '\n",
    "        else:\n",
    "            if s[i].islower() == True:\n",
    "                result += alpha_lower[(alpha_lower.index(s[i])+n)%26]\n",
    "            if s[i].islower() == False:\n",
    "                result += alpha_upper[(alpha_upper.index(s[i])+n)%26]\n",
    "    return result"
   ]
  },
  {
   "cell_type": "code",
   "execution_count": 158,
   "id": "8d0f8615",
   "metadata": {},
   "outputs": [
    {
     "data": {
      "text/plain": [
       "'b C a'"
      ]
     },
     "execution_count": 158,
     "metadata": {},
     "output_type": "execute_result"
    }
   ],
   "source": [
    "solution(s,n)"
   ]
  }
 ],
 "metadata": {
  "kernelspec": {
   "display_name": "Python 3",
   "language": "python",
   "name": "python3"
  },
  "language_info": {
   "codemirror_mode": {
    "name": "ipython",
    "version": 3
   },
   "file_extension": ".py",
   "mimetype": "text/x-python",
   "name": "python",
   "nbconvert_exporter": "python",
   "pygments_lexer": "ipython3",
   "version": "3.8.8"
  }
 },
 "nbformat": 4,
 "nbformat_minor": 5
}
