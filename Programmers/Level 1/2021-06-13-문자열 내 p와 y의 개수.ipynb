{
 "cells": [
  {
   "cell_type": "markdown",
   "id": "92b55c8c",
   "metadata": {},
   "source": [
    "---\n",
    "title: \"[Programmers] 문자열 내 p와 y의 개수\"\n",
    "toc : true\n",
    "toc_sticky : true\n",
    "toc_label : \"On this Page\"\n",
    "categories : programmers\n",
    "\n",
    "---\n",
    "## 문제설명\n",
    "대문자와 소문자가 섞여있는 문자열 s가 주어집니다. s에 'p'의 개수와 'y'의 개수를 비교해 같으면 True, 다르면 False를 return 하는 solution를 완성하세요. 'p', 'y' 모두 하나도 없는 경우는 항상 True를 리턴합니다. 단, 개수를 비교할 때 대문자와 소문자는 구별하지 않습니다.\n",
    "예를 들어 s가 \"pPoooyY\"면 true를 return하고 \"Pyy\"라면 false를 return합니다.\n",
    "\n",
    "## 제한사항\n",
    "문자열 s의 길이 : 50 이하의 자연수\n",
    "문자열 s는 알파벳으로만 이루어져 있습니다.\n",
    "\n",
    "## 입출력 예\n",
    "```\n",
    "s\t        answer\n",
    "\"pPoooyY\"\ttrue\n",
    "\"Pyy\"\t    false\n",
    "```\n",
    "\n",
    "## 입출력 예 설명\n",
    "입출력 예 #1    \n",
    "'p'의 개수 2개, 'y'의 개수 2개로 같으므로 true를 return 합니다.   \n",
    "입출력 예 #2   \n",
    "'p'의 개수 1개, 'y'의 개수 2개로 다르므로 false를 return 합니다.   \n",
    "\n",
    "## 코드 "
   ]
  },
  {
   "cell_type": "code",
   "execution_count": 35,
   "id": "e229decc",
   "metadata": {},
   "outputs": [],
   "source": [
    "s=\"ytp\""
   ]
  },
  {
   "cell_type": "code",
   "execution_count": 36,
   "id": "b43dec01",
   "metadata": {},
   "outputs": [],
   "source": [
    "def solution(s):\n",
    "    s = s.lower()\n",
    "    if s.count('p') == s.count('y'):\n",
    "            return True\n",
    "    if len(s)== 0:\n",
    "        return True\n",
    "    else: \n",
    "        return False"
   ]
  },
  {
   "cell_type": "code",
   "execution_count": 37,
   "id": "4b1b8c04",
   "metadata": {},
   "outputs": [
    {
     "data": {
      "text/plain": [
       "True"
      ]
     },
     "execution_count": 37,
     "metadata": {},
     "output_type": "execute_result"
    }
   ],
   "source": [
    "solution(s)"
   ]
  }
 ],
 "metadata": {
  "kernelspec": {
   "display_name": "Python 3",
   "language": "python",
   "name": "python3"
  },
  "language_info": {
   "codemirror_mode": {
    "name": "ipython",
    "version": 3
   },
   "file_extension": ".py",
   "mimetype": "text/x-python",
   "name": "python",
   "nbconvert_exporter": "python",
   "pygments_lexer": "ipython3",
   "version": "3.8.8"
  }
 },
 "nbformat": 4,
 "nbformat_minor": 5
}
