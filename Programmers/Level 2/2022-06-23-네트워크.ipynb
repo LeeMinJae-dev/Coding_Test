{
 "cells": [
  {
   "cell_type": "markdown",
   "id": "59656851",
   "metadata": {},
   "source": [
    "---\n",
    "title : \"[Programmers] 네트워크 (Python3)\"\n",
    "categories : programmers\n",
    "toc : true\n",
    "toc_sticky : true\n",
    "toc_label : \"On this Page\"\n",
    "---\n"
   ]
  },
  {
   "cell_type": "markdown",
   "id": "fb85a2f8",
   "metadata": {},
   "source": [
    "## 문제 설명\n",
    "네트워크란 컴퓨터 상호 간에 정보를 교환할 수 있도록 연결된 형태를 의미합니다. 예를 들어, 컴퓨터 A와 컴퓨터 B가 직접적으로 연결되어있고, 컴퓨터 B와 컴퓨터 C가 직접적으로 연결되어 있을 때 컴퓨터 A와 컴퓨터 C도 간접적으로 연결되어 정보를 교환할 수 있습니다. 따라서 컴퓨터 A, B, C는 모두 같은 네트워크 상에 있다고 할 수 있습니다.\n",
    "컴퓨터의 개수 n, 연결에 대한 정보가 담긴 2차원 배열 computers가 매개변수로 주어질 때, 네트워크의 개수를 return 하도록 solution 함수를 작성하시오.\n",
    "\n",
    "\n",
    "## 제한사항\n",
    "* 컴퓨터의 개수 n은 1 이상 200 이하인 자연수입니다.\n",
    "* 각 컴퓨터는 0부터 n-1인 정수로 표현합니다.\n",
    "* i번 컴퓨터와 j번 컴퓨터가 연결되어 있으면 computers[i][j]를 1로 표현합니다.\n",
    "* computer[i][i]는 항상 1입니다.\n",
    "\n",
    "## 입출력 예\n",
    "\n",
    "|n|computers|return|\n",
    "|:---:|:---:|:---:|\n",
    "|3|[[1, 1, 0], [1, 1, 0], [0, 0, 1]]|2|\n",
    "|3|[[1, 1, 0], [1, 1, 1], [0, 1, 1]]|1|\n",
    "\n",
    "## 입출력 예 설명\n",
    "\n",
    "### 입출력 예 #1\n",
    "2개의 네트워크가 있습니다.\n",
    "\n",
    "### 입출력 예 #2\n",
    "1개의 네트워크가 있습니다."
   ]
  },
  {
   "cell_type": "code",
   "execution_count": 187,
   "id": "8c4fe9a1",
   "metadata": {},
   "outputs": [],
   "source": [
    "global visit\n",
    "visit = []\n",
    "\n",
    "def solution(n, computers):\n",
    "    global visit\n",
    "    answer = 0\n",
    "    visited = [False for _ in range(n )]\n",
    "    graph = [[] for _ in range(n)]\n",
    "    for i, computer in enumerate(computers):\n",
    "        for index, j in enumerate(computer):\n",
    "            if i != index and j == 1:\n",
    "                graph[index].append(i)\n",
    "                visited[index] = True\n",
    "    \n",
    "    for i in range(n):\n",
    "        if i not in visit:\n",
    "            dfs(graph, i)\n",
    "            answer += 1\n",
    "    return answer\n",
    "\n",
    "\n",
    "        \n",
    "def dfs(graph, start_node):\n",
    "    global visit\n",
    "    \n",
    "    stack = []\n",
    "    stack.append(start_node)\n",
    "    \n",
    "    while stack:\n",
    "        node = stack.pop()\n",
    "        \n",
    "        for i in graph[node]:\n",
    "            if i not in visit:\n",
    "                stack.append(i)\n",
    "                visit.append(i)\n",
    "\n",
    "\n",
    " "
   ]
  },
  {
   "cell_type": "code",
   "execution_count": 188,
   "id": "dadf6634",
   "metadata": {},
   "outputs": [
    {
     "data": {
      "text/plain": [
       "1"
      ]
     },
     "execution_count": 188,
     "metadata": {},
     "output_type": "execute_result"
    }
   ],
   "source": [
    "solution(3, [[1, 1, 0], [1, 1, 1], [0, 1, 1]])\n"
   ]
  },
  {
   "cell_type": "markdown",
   "id": "191fbbc1",
   "metadata": {},
   "source": [
    "이 문제는 기존의 DFS 문제를 살짝 꼬아서 낸 문제이다.\n",
    "\n",
    "처음에는 재귀 DFS로 해서 풀려고 했으나, 풀다 보니까 너무 헷갈려서 그냥 global을 사용해서 풀었다.\n",
    "\n",
    "몇몇 DFS문제의 경우 global을 통해 변수를 공유하면 풀이가 조금 쉬워지는 경향이 있다.\n",
    "\n",
    "먼저, 노드끼리 이어진 방식을 주로 사용하던 방식으로 변환한다. \n",
    "[[1, 1, 0], [1, 1, 1], [0, 1, 1]] 의 경우는 [[1], [0, 2], [1]]가 된다. \n",
    "\n",
    "이렇게 익숙한 graph의 형태로 바꾸고 나면, 평소에 사용하던 dfs를 사용해서 방문처리를 해주면 된다. 단, 한 노드에서 이어진 곳까지 모두 방문처리를 할때마다 하나의 네트워크를 카운팅 해주어야 하므로, visit를 global로 선언해서 방문 처리된 노드에서 dfs를 실행할때는 카운팅 되지 않도록 한다.\n"
   ]
  }
 ],
 "metadata": {
  "kernelspec": {
   "display_name": "Python 3",
   "language": "python",
   "name": "python3"
  },
  "language_info": {
   "codemirror_mode": {
    "name": "ipython",
    "version": 3
   },
   "file_extension": ".py",
   "mimetype": "text/x-python",
   "name": "python",
   "nbconvert_exporter": "python",
   "pygments_lexer": "ipython3",
   "version": "3.9.7"
  }
 },
 "nbformat": 4,
 "nbformat_minor": 5
}
