{
 "cells": [
  {
   "cell_type": "markdown",
   "id": "89a19c39",
   "metadata": {},
   "source": [
    "---\n",
    "title : \"[Programmers] H-index (Python3)\"\n",
    "categories : programmers\n",
    "toc : true\n",
    "toc_sticky : true\n",
    "toc_label : \"On this Page\"\n",
    "---\n",
    "## 문제 설명\n",
    "H-Index는 과학자의 생산성과 영향력을 나타내는 지표입니다. 어느 과학자의 H-Index를 나타내는 값인 h를 구하려고 합니다. 위키백과1에 따르면, H-Index는 다음과 같이 구합니다.\n",
    "\n",
    "어떤 과학자가 발표한 논문 n편 중, h번 이상 인용된 논문이 h편 이상이고 나머지 논문이 h번 이하 인용되었다면 h의 최댓값이 이 과학자의 H-Index입니다.\n",
    "\n",
    "어떤 과학자가 발표한 논문의 인용 횟수를 담은 배열 citations가 매개변수로 주어질 때, 이 과학자의 H-Index를 return 하도록 solution 함수를 작성해주세요.\n",
    "\n",
    "## 제한사항\n",
    "* 과학자가 발표한 논문의 수는 1편 이상 1,000편 이하입니다.\n",
    "* 논문별 인용 횟수는 0회 이상 10,000회 이하입니다.\n",
    "\n",
    "## 입출력 예\n",
    "|citations|\treturn|\n",
    "|[3, 0, 6, 1, 5]|\t3|\n",
    "\n",
    "## 입출력 예 설명\n",
    "이 과학자가 발표한 논문의 수는 5편이고, 그중 3편의 논문은 3회 이상 인용되었습니다. 그리고 나머지 2편의 논문은 3회 이하 인용되었기 때문에 이 과학자의 H-Index는 3입니다.\n",
    "※ 공지 - 2019년 2월 28일 테스트 케이스가 추가되었습니다.\n",
    "\n",
    "## 문제 풀이\n",
    "이게 왜 2단계...?\n",
    "\n",
    "## 코드"
   ]
  },
  {
   "cell_type": "code",
   "execution_count": null,
   "id": "6665a952",
   "metadata": {},
   "outputs": [],
   "source": [
    "def solution(citations):\n",
    "    citations.sort()\n",
    "    l = len(citations)\n",
    "    for i in range(l):\n",
    "        if citations[i] >= l-i:\n",
    "            return l-i\n",
    "    return 0"
   ]
  },
  {
   "cell_type": "code",
   "execution_count": 98,
   "id": "786eff5d",
   "metadata": {},
   "outputs": [
    {
     "data": {
      "text/plain": [
       "2"
      ]
     },
     "execution_count": 98,
     "metadata": {},
     "output_type": "execute_result"
    }
   ],
   "source": [
    "solution([3,0,6,1,5])"
   ]
  }
 ],
 "metadata": {
  "kernelspec": {
   "display_name": "Python 3",
   "language": "python",
   "name": "python3"
  },
  "language_info": {
   "codemirror_mode": {
    "name": "ipython",
    "version": 3
   },
   "file_extension": ".py",
   "mimetype": "text/x-python",
   "name": "python",
   "nbconvert_exporter": "python",
   "pygments_lexer": "ipython3",
   "version": "3.9.7"
  }
 },
 "nbformat": 4,
 "nbformat_minor": 5
}
