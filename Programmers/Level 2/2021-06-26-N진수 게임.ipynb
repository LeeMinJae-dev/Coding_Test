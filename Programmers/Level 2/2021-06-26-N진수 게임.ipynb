{
 "cells": [
  {
   "cell_type": "markdown",
   "id": "07e76d6b",
   "metadata": {},
   "source": [
    "---\n",
    "title: \"[Programmers] N진수 게임\"\n",
    "toc : true\n",
    "toc_sticky : true\n",
    "toc_label : \"On this Page\"\n",
    "categories : programmers\n",
    "\n",
    "---\n",
    "## 문제 설명\n",
    "N진수 게임\n",
    "튜브가 활동하는 코딩 동아리에서는 전통적으로 해오는 게임이 있다. 이 게임은 여러 사람이 둥글게 앉아서 숫자를 하나씩 차례대로 말하는 게임인데, 규칙은 다음과 같다.\n",
    "숫자를 0부터 시작해서 차례대로 말한다. 첫 번째 사람은 0, 두 번째 사람은 1, … 열 번째 사람은 9를 말한다.\n",
    "10 이상의 숫자부터는 한 자리씩 끊어서 말한다. 즉 열한 번째 사람은 10의 첫 자리인 1, 열두 번째 사람은 둘째 자리인 0을 말한다.\n",
    "이렇게 게임을 진행할 경우,\n",
    "0, 1, 2, 3, 4, 5, 6, 7, 8, 9, 1, 0, 1, 1, 1, 2, 1, 3, 1, 4, …\n",
    "순으로 숫자를 말하면 된다.\n",
    "한편 코딩 동아리 일원들은 컴퓨터를 다루는 사람답게 이진수로 이 게임을 진행하기도 하는데, 이 경우에는\n",
    "0, 1, 1, 0, 1, 1, 1, 0, 0, 1, 0, 1, 1, 1, 0, 1, 1, 1, …\n",
    "순으로 숫자를 말하면 된다.\n",
    "이진수로 진행하는 게임에 익숙해져 질려가던 사람들은 좀 더 난이도를 높이기 위해 이진법에서 십육진법까지 모든 진법으로 게임을 진행해보기로 했다. 숫자 게임이 익숙하지 않은 튜브는 게임에 져서 벌칙을 받는 굴욕을 피하기 위해, 자신이 말해야 하는 숫자를 스마트폰에 미리 출력해주는 프로그램을 만들려고 한다. 튜브의 프로그램을 구현하라.\n",
    "\n",
    "## 입력 형식\n",
    "진법 n, 미리 구할 숫자의 갯수 t, 게임에 참가하는 인원 m, 튜브의 순서 p 가 주어진다.\n",
    "2 ≦ n ≦ 16\n",
    "0 ＜ t ≦ 1000\n",
    "2 ≦ m ≦ 100\n",
    "1 ≦ p ≦ m\n",
    "\n",
    "## 출력 형식\n",
    "튜브가 말해야 하는 숫자 t개를 공백 없이 차례대로 나타낸 문자열. 단, 10~15는 각각 대문자 A~F로 출력한다.\n",
    "\n",
    "## 입출력 예제\n",
    "```\n",
    "n\tt\tm\tp\tresult\n",
    "2\t4\t2\t1\t\"0111\"\n",
    "16\t16\t2\t1\t\"02468ACE11111111\"\n",
    "16\t16\t2\t2\t\"13579BDF01234567\"\n",
    "```\n"
   ]
  },
  {
   "cell_type": "code",
   "execution_count": 268,
   "id": "b276361e",
   "metadata": {},
   "outputs": [],
   "source": [
    "n = 16\n",
    "t = 16\n",
    "m = 2\n",
    "p = 2"
   ]
  },
  {
   "cell_type": "code",
   "execution_count": 304,
   "id": "aa2d948e",
   "metadata": {},
   "outputs": [],
   "source": [
    "def getnum(a, n):\n",
    "    num = []\n",
    "    \n",
    "    while a>0:\n",
    "        if a%n == 0:\n",
    "            num.append(int(a%n))\n",
    "            a = a/n\n",
    "                        \n",
    "         \n",
    "        else:\n",
    "            num.append(int(a%n))\n",
    "            a = a//n\n",
    "    if len(num)== 0:\n",
    "        return ['0']\n",
    "            \n",
    "    for i in range(len(num)):\n",
    "        if num[i] == 10:\n",
    "            num[i] = 'A'\n",
    "        elif num[i] == 11:\n",
    "            num[i] = 'B'\n",
    "        elif num[i] == 12:\n",
    "            num[i] = 'C'\n",
    "        elif num[i] == 13:\n",
    "            num[i] = 'D'\n",
    "        elif num[i] == 14:\n",
    "            num[i] = 'E'\n",
    "        elif num[i] == 15:\n",
    "            num[i] = 'F'\n",
    "        else:\n",
    "            num[i] = str(num[i])\n",
    "    return list(reversed(num))\n",
    "\n",
    "def solution(n,t,m,p):\n",
    "    num = []\n",
    "    result = []\n",
    "    \n",
    "    for i in range(0,m*t):\n",
    "        num  = num + getnum(i,n)\n",
    "        if len(num) >m*t:\n",
    "            break\n",
    "        \n",
    "    if m==p:\n",
    "         for i in range(len(num)):\n",
    "            if (i+1)%m == 0:\n",
    "            \n",
    "                result.append(num[i])    \n",
    "    else:\n",
    "        for i in range(len(num)):\n",
    "            if (i+1)%m == p:\n",
    "             \n",
    "                result.append(num[i])    \n",
    "\n",
    "    return \"\".join(result[:t])\n",
    "        \n",
    "    \n",
    "    "
   ]
  },
  {
   "cell_type": "code",
   "execution_count": 305,
   "id": "8399fd6b",
   "metadata": {},
   "outputs": [
    {
     "data": {
      "text/plain": [
       "['0']"
      ]
     },
     "execution_count": 305,
     "metadata": {},
     "output_type": "execute_result"
    }
   ],
   "source": [
    "getnum(0,1)"
   ]
  },
  {
   "cell_type": "code",
   "execution_count": 306,
   "id": "fa274c3b",
   "metadata": {},
   "outputs": [],
   "source": [
    "a = [10,12,13,14]"
   ]
  },
  {
   "cell_type": "code",
   "execution_count": 307,
   "id": "788c7c65",
   "metadata": {},
   "outputs": [
    {
     "data": {
      "text/plain": [
       "'13579BDF01234567'"
      ]
     },
     "execution_count": 307,
     "metadata": {},
     "output_type": "execute_result"
    }
   ],
   "source": [
    "solution(n,t,m,p)\n",
    "        "
   ]
  }
 ],
 "metadata": {
  "kernelspec": {
   "display_name": "Python 3",
   "language": "python",
   "name": "python3"
  },
  "language_info": {
   "codemirror_mode": {
    "name": "ipython",
    "version": 3
   },
   "file_extension": ".py",
   "mimetype": "text/x-python",
   "name": "python",
   "nbconvert_exporter": "python",
   "pygments_lexer": "ipython3",
   "version": "3.8.8"
  }
 },
 "nbformat": 4,
 "nbformat_minor": 5
}
