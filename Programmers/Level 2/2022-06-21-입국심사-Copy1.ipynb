{
 "cells": [
  {
   "cell_type": "markdown",
   "id": "7d5ec4f1",
   "metadata": {},
   "source": [
    "---\n",
    "title : \"[Programmers] 입국심사 (Python3)\"\n",
    "categories : programmers\n",
    "toc : true\n",
    "toc_sticky : true\n",
    "toc_label : \"On this Page\"\n",
    "---\n"
   ]
  },
  {
   "cell_type": "markdown",
   "id": "179182c8",
   "metadata": {},
   "source": [
    "## 문제 설명\n",
    "n명이 입국심사를 위해 줄을 서서 기다리고 있습니다. 각 입국심사대에 있는 심사관마다 심사하는데 걸리는 시간은 다릅니다.\n",
    "\n",
    "처음에 모든 심사대는 비어있습니다. 한 심사대에서는 동시에 한 명만 심사를 할 수 있습니다. 가장 앞에 서 있는 사람은 비어 있는 심사대로 가서 심사를 받을 수 있습니다. 하지만 더 빨리 끝나는 심사대가 있으면 기다렸다가 그곳으로 가서 심사를 받을 수도 있습니다.\n",
    "\n",
    "모든 사람이 심사를 받는데 걸리는 시간을 최소로 하고 싶습니다.\n",
    "\n",
    "입국심사를 기다리는 사람 수 n, 각 심사관이 한 명을 심사하는데 걸리는 시간이 담긴 배열 times가 매개변수로 주어질 때, 모든 사람이 심사를 받는데 걸리는 시간의 최솟값을 return 하도록 solution 함수를 작성해주세요.\n",
    "\n",
    "\n",
    "## 제한사항\n",
    "* 입국심사를 기다리는 사람은 1명 이상 1,000,000,000명 이하입니다.\n",
    "* 각 심사관이 한 명을 심사하는데 걸리는 시간은 1분 이상 1,000,000,000분 이하입니다.\n",
    "* 심사관은 1명 이상 100,000명 이하입니다.\n",
    "\n",
    "\n",
    "## 입출력 예\n",
    "\n",
    "|n|times|return|\n",
    "|:---:|:---:|:---:|\n",
    "|6|[7,10]|28|\n",
    "\n",
    "## 입출력 예 설명\n",
    "가장 첫 두 사람은 바로 심사를 받으러 갑니다.\n",
    "\n",
    "7분이 되었을 때, 첫 번째 심사대가 비고 3번째 사람이 심사를 받습니다.\n",
    "\n",
    "10분이 되었을 때, 두 번째 심사대가 비고 4번째 사람이 심사를 받습니다.\n",
    "\n",
    "14분이 되었을 때, 첫 번째 심사대가 비고 5번째 사람이 심사를 받습니다.\n",
    "\n",
    "20분이 되었을 때, 두 번째 심사대가 비지만 6번째 사람이 그곳에서 심사를 받지 않고 1분을 더 기다린 후에 첫 번째 심사대에서 심사를 받으면 28분에 모든 사람의 심사가 끝납니다."
   ]
  },
  {
   "cell_type": "code",
   "execution_count": 26,
   "id": "d5eec82c",
   "metadata": {},
   "outputs": [],
   "source": [
    "def solution(n, times):\n",
    "    left = 1\n",
    "    right = n * max(times)\n",
    "    answer = 0\n",
    "    while left <= right:\n",
    "        mid = (left + right) // 2\n",
    "        people = 0\n",
    "        \n",
    "        for time in times:\n",
    "            people += mid // time\n",
    "            \n",
    "            if people >= n:\n",
    "                break\n",
    "        \n",
    "        if people >= n:\n",
    "            answer = mid\n",
    "            right = mid - 1\n",
    "        else:\n",
    "            left = mid + 1\n",
    "    return answer"
   ]
  },
  {
   "cell_type": "code",
   "execution_count": 27,
   "id": "7a8fb8d6",
   "metadata": {},
   "outputs": [
    {
     "data": {
      "text/plain": [
       "28"
      ]
     },
     "execution_count": 27,
     "metadata": {},
     "output_type": "execute_result"
    }
   ],
   "source": [
    "solution(6, [7,10])"
   ]
  },
  {
   "cell_type": "markdown",
   "id": "6978a8d4",
   "metadata": {},
   "source": [
    "이 문제는 이분탐색을 사용하여 풀이하여야 하는 문제이다.\n",
    "\n",
    "맨처음에는 단순 구현으로 풀어보려고 했는데, 제한사항의 최댓값이 너무 크고 복잡해서 이분탐색으로 풀이하여야 최고의 효율성으로 간단하게 풀 수 있다.\n",
    "\n",
    "사람을 기준이 아닌 시간을 기준으로, 주어진 시간동안 심사원이 처리할 수 있는 사람의 수를 기준으로 생각하면 된다. \n",
    "\n",
    "만약 50분의 시간이 주어진다면, 1번심사대에서는 50 // 7 = 7명, 2번 심사대에서는 50 // 10 = 5 5명이므로 50분의 시간에서는 7 + 5 = 12명을 처리 할 수 있다.\n",
    "\n",
    "이런식으로 시간을 기준으로 만약 n보다 크다면 이분탐색의 오른쪽부분, n보다 작다면 이분탐색의 왼쪽부분을 다시 반으로 나누어 탐색해가며 최적의 시간을 찾는다.\n",
    "\n",
    "예제의 경우, 경우의 수 중에서 가장 긴 시간은 2번심사대가 6명을 처리하는 시간으로, 6 * 10 60분의 시간이고, 가장 짧은 시간은 1분의 시간이다.\n",
    "\n",
    "따라서 1, 60을 이분탐색의 첫 범위로 잡고 시간당 처리 가능한 사람을 계속 구하며 범위를 줄여나간다.\n",
    "\n",
    "첫번째 예제의 경우 28분의 시간이 되면 28 // 7 = 4, 28 // 2 = 2, 4 + 2 = 6으로 28분의 시간이 주어지면 6명을 처리할수 있는 최적의 시간이 된다."
   ]
  }
 ],
 "metadata": {
  "kernelspec": {
   "display_name": "Python 3",
   "language": "python",
   "name": "python3"
  },
  "language_info": {
   "codemirror_mode": {
    "name": "ipython",
    "version": 3
   },
   "file_extension": ".py",
   "mimetype": "text/x-python",
   "name": "python",
   "nbconvert_exporter": "python",
   "pygments_lexer": "ipython3",
   "version": "3.9.7"
  }
 },
 "nbformat": 4,
 "nbformat_minor": 5
}
