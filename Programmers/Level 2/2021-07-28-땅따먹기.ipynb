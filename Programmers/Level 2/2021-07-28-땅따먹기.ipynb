{
 "cells": [
  {
   "cell_type": "markdown",
   "id": "a40181e0",
   "metadata": {},
   "source": [
    "---\n",
    "title: \"[Programmers] 땅따먹기\"\n",
    "toc : true\n",
    "toc_sticky : true\n",
    "toc_label : \"On this Page\"\n",
    "categories : programmers\n",
    "\n",
    "---\n",
    "## 문제 설명\n",
    "땅따먹기 게임을 하려고 합니다. 땅따먹기 게임의 땅(land)은 총 N행 4열로 이루어져 있고, 모든 칸에는 점수가 쓰여 있습니다. 1행부터 땅을 밟으며 한 행씩 내려올 때, 각 행의 4칸 중 한 칸만 밟으면서 내려와야 합니다. 단, 땅따먹기 게임에는 한 행씩 내려올 때, 같은 열을 연속해서 밟을 수 없는 특수 규칙이 있습니다.\n",
    "예를 들면,\n",
    "```\n",
    "| 1 | 2 | 3 | 5 |\n",
    "| 5 | 6 | 7 | 8 |\n",
    "| 4 | 3 | 2 | 1 |\n",
    "```\n",
    "로 땅이 주어졌다면, 1행에서 네번째 칸 (5)를 밟았으면, 2행의 네번째 칸 (8)은 밟을 수 없습니다.\n",
    "마지막 행까지 모두 내려왔을 때, 얻을 수 있는 점수의 최대값을 return하는 solution 함수를 완성해 주세요. 위 예의 경우, 1행의 네번째 칸 (5), 2행의 세번째 칸 (7), 3행의 첫번째 칸 (4) 땅을 밟아 16점이 최고점이 되므로 16을 return 하면 됩니다.\n",
    "\n",
    "## 제한사항\n",
    "행의 개수 N : 100,000 이하의 자연수\n",
    "열의 개수는 4개이고, 땅(land)은 2차원 배열로 주어집니다.\n",
    "점수 : 100 이하의 자연수\n",
    "\n",
    "## 입출력 예\n",
    "```\n",
    "land\t                        answer\n",
    "[[1,2,3,5],[5,6,7,8],[4,3,2,1]]\t16\n",
    "```\n",
    "\n",
    "## 입출력 예 설명\n",
    "입출력 예 #1\n",
    "문제의 예시와 같습니다.\n",
    "\n",
    "## 코드"
   ]
  },
  {
   "cell_type": "code",
   "execution_count": 191,
   "id": "f0e086db",
   "metadata": {},
   "outputs": [],
   "source": [
    "land = [[1,2,3,5],[5,6,7,100],[4,3,2,100]]"
   ]
  },
  {
   "cell_type": "code",
   "execution_count": 192,
   "id": "fcdf6b56",
   "metadata": {},
   "outputs": [],
   "source": [
    "def solution(land):\n",
    "    locate = -1\n",
    "    result = 0\n",
    "    for i in range(len(land)-1):\n",
    "        for j in range(len(land[0])):\n",
    "            locate = land[i].index(max(land[i]))\n",
    "            if j == locate:\n",
    "                land[i+1][j] = land[i+1][j]+sorted(land[i])[2]\n",
    "               \n",
    "                \n",
    "            else:\n",
    "                land[i+1][j] = land[i+1][j]+max(land[i])\n",
    "    \n",
    "               \n",
    "    return max(land[-1])"
   ]
  },
  {
   "cell_type": "code",
   "execution_count": 193,
   "id": "7ef4dbb4",
   "metadata": {},
   "outputs": [
    {
     "name": "stdout",
     "output_type": "stream",
     "text": [
      "[10, 6, 7, 100] else\n",
      "[10, 11, 7, 100] else\n",
      "[10, 11, 12, 100] else\n",
      "[10, 11, 12, 103] if\n",
      "[107, 3, 2, 100] else\n",
      "[107, 106, 2, 100] else\n",
      "[107, 106, 105, 100] else\n",
      "[107, 106, 105, 112] if\n"
     ]
    },
    {
     "data": {
      "text/plain": [
       "112"
      ]
     },
     "execution_count": 193,
     "metadata": {},
     "output_type": "execute_result"
    }
   ],
   "source": [
    "solution(land)"
   ]
  }
 ],
 "metadata": {
  "kernelspec": {
   "display_name": "Python 3",
   "language": "python",
   "name": "python3"
  },
  "language_info": {
   "codemirror_mode": {
    "name": "ipython",
    "version": 3
   },
   "file_extension": ".py",
   "mimetype": "text/x-python",
   "name": "python",
   "nbconvert_exporter": "python",
   "pygments_lexer": "ipython3",
   "version": "3.8.8"
  }
 },
 "nbformat": 4,
 "nbformat_minor": 5
}
