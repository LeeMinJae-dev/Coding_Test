{
 "cells": [
  {
   "cell_type": "markdown",
   "id": "f6d610cb",
   "metadata": {},
   "source": [
    "---\n",
    "title : \"[Programmers] 더 맵게 (Python3)\"\n",
    "categories : programmers\n",
    "toc : true\n",
    "toc_sticky : true\n",
    "toc_label : \"On this Page\"\n",
    "---\n",
    "## 문제 \n",
    "매운 것을 좋아하는 Leo는 모든 음식의 스코빌 지수를 K 이상으로 만들고 싶습니다. 모든 음식의 스코빌 지수를 K 이상으로 만들기 위해 Leo는 스코빌 지수가 가장 낮은 두 개의 음식을 아래와 같이 특별한 방법으로 섞어 새로운 음식을 만듭니다.\n",
    "\n",
    "섞은 음식의 스코빌 지수 = 가장 맵지 않은 음식의 스코빌 지수 + (두 번째로 맵지 않은 음식의 스코빌 지수 * 2)\n",
    "\n",
    "Leo는 모든 음식의 스코빌 지수가 K 이상이 될 때까지 반복하여 섞습니다.\n",
    "\n",
    "Leo가 가진 음식의 스코빌 지수를 담은 배열 scoville과 원하는 스코빌 지수 K가 주어질 때, 모든 음식의 스코빌 지수를 K 이상으로 만들기 위해 섞어야 하는 최소 횟수를 return 하도록 solution 함수를 작성해주세요.\n",
    "\n",
    "# #제한 사항\n",
    "* scoville의 길이는 2 이상 1,000,000 이하입니다.\n",
    "* K는 0 이상 1,000,000,000 이하입니다.\n",
    "* scoville의 원소는 각각 0 이상 1,000,000 이하입니다.\n",
    "* 모든 음식의 스코빌 지수를 K 이상으로 만들 수 없는 경우에는 -1을 return 합니다.\n",
    "\n",
    "## 입출력 예\n",
    "|scoville|\tK|\treturn|\n",
    "|:---:|:---:|:---:|\n",
    "|[1, 2, 3, 9, 10, 12]|\t7|\t2|\n",
    "\n",
    "## 입출력 예 설명\n",
    "1. 스코빌 지수가 1인 음식과 2인 음식을 섞으면 음식의 스코빌 지수가 아래와 같이 됩니다.\n",
    "\n",
    "새로운 음식의 스코빌 지수 = 1 + (2 * 2) = 5\n",
    "\n",
    "가진 음식의 스코빌 지수 = [5, 3, 9, 10, 12]\n",
    "\n",
    "2. 스코빌 지수가 3인 음식과 5인 음식을 섞으면 음식의 스코빌 지수가 아래와 같이 됩니다.\n",
    "새로운 음식의 스코빌 지수 = 3 + (5 * 2) = 13\n",
    "\n",
    "가진 음식의 스코빌 지수 = [13, 9, 10, 12]\n",
    "\n",
    "모든 음식의 스코빌 지수가 7 이상이 되었고 이때 섞은 횟수는 2회입니다.\n",
    "\n",
    "## 문제풀이\n",
    "힙큐의 아주 기본이라고 할 수 있는 문제이다.   \n",
    "자꾸 몇개 틀려서 왜그런가 했는데, 힙큐를 사용하기 전에 정렬을 해주는 것을 까먹어서 계속 실패가 떴다. 예제가 정렬되어있는 문제는 항상 제한사항에 테스트 케이스가 정렬되는지 안되는지 꼭 확인 하도록 하자.\n",
    "\n",
    "## 코드"
   ]
  },
  {
   "cell_type": "code",
   "execution_count": 25,
   "id": "50e07a7b",
   "metadata": {},
   "outputs": [],
   "source": [
    "import heapq\n",
    "def solution(scoville, K):\n",
    "    new = 0\n",
    "    answer = 0\n",
    "    scoville.sort()\n",
    "    for i in range(len(scoville)-1):\n",
    "        new = 0\n",
    "        first = heapq.heappop(scoville)\n",
    "        second = heapq.heappop(scoville)\n",
    "\n",
    "        new = first + second*2\n",
    "        heapq.heappush(scoville, new)\n",
    "\n",
    "        answer +=1\n",
    "        if scoville[0] >= K:\n",
    "            return answer\n",
    "       \n",
    "    else:\n",
    "        return -1\n",
    "    "
   ]
  },
  {
   "cell_type": "code",
   "execution_count": 26,
   "id": "54c902d4",
   "metadata": {},
   "outputs": [
    {
     "data": {
      "text/plain": [
       "-1"
      ]
     },
     "execution_count": 26,
     "metadata": {},
     "output_type": "execute_result"
    }
   ],
   "source": [
    "solution([1, 2],7)"
   ]
  }
 ],
 "metadata": {
  "kernelspec": {
   "display_name": "Python 3",
   "language": "python",
   "name": "python3"
  },
  "language_info": {
   "codemirror_mode": {
    "name": "ipython",
    "version": 3
   },
   "file_extension": ".py",
   "mimetype": "text/x-python",
   "name": "python",
   "nbconvert_exporter": "python",
   "pygments_lexer": "ipython3",
   "version": "3.8.8"
  }
 },
 "nbformat": 4,
 "nbformat_minor": 5
}
