{
 "cells": [
  {
   "cell_type": "markdown",
   "id": "9633aedb",
   "metadata": {},
   "source": [
    "---\n",
    "title : \"[Programmers] 오픈채팅방\"\n",
    "toc: true\n",
    "toc_sticky : true\n",
    "toc_lable : \"On this page\"\n",
    "categories : programmers\n",
    "---\n",
    "## 문제 \n",
    "카카오톡 오픈채팅방에서는 친구가 아닌 사람들과 대화를 할 수 있는데,     \n",
    "본래 닉네임이 아닌 가상의 닉네임을 사용하여 채팅방에 들어갈 수 있다.    \n",
    "신입사원인 김크루는 카카오톡 오픈 채팅방을 개설한 사람을 위해, 다양한 사람들이 들어오고, 나가는 것을 지켜볼 수 있는 관리자창을 만들기로 했다. 채팅방에 누군가 들어오면 다음 메시지가 출력된다.   \n",
    "\n",
    "\"[닉네임]님이 들어왔습니다.\"   \n",
    "\n",
    "채팅방에서 누군가 나가면 다음 메시지가 출력된다.\n",
    "\n",
    "\"[닉네임]님이 나갔습니다.\"\n",
    "\n",
    "채팅방에서 닉네임을 변경하는 방법은 다음과 같이 두 가지이다.\n",
    " * 채팅방을 나간 후, 새로운 닉네임으로 다시 들어간다.\n",
    " * 채팅방에서 닉네임을 변경한다.\n",
    "닉네임을 변경할 때는 기존에 채팅방에 출력되어 있던 메시지의 닉네임도 전부 변경된다.   \n",
    "예를 들어, 채팅방에 \"Muzi\"와 \"Prodo\"라는 닉네임을 사용하는 사람이 순서대로 들어오면 채팅방에는 다음과 같이 메시지가 출력된다.\n",
    "\n",
    "\"Muzi님이 들어왔습니다.\"    \n",
    "\"Prodo님이 들어왔습니다.\"\n",
    "\n",
    "채팅방에 있던 사람이 나가면 채팅방에는 다음과 같이 메시지가 남는다.\n",
    "\n",
    "\"Muzi님이 들어왔습니다.\"    \n",
    "\"Prodo님이 들어왔습니다.\"   \n",
    "\"Muzi님이 나갔습니다.\" \n",
    "\n",
    "Muzi가 나간후 다시 들어올 때, Prodo 라는 닉네임으로 들어올 경우 기존에 채팅방에 남아있던 Muzi도 Prodo로 다음과 같이 변경된다.\n",
    "\n",
    "\"Prodo님이 들어왔습니다.\"    \n",
    "\"Prodo님이 들어왔습니다.\"    \n",
    "\"Prodo님이 나갔습니다.\"    \n",
    "\"Prodo님이 들어왔습니다.\"\n",
    "\n",
    "채팅방은 중복 닉네임을 허용하기 때문에, 현재 채팅방에는 Prodo라는 닉네임을 사용하는 사람이 두 명이 있다. 이제, 채팅방에 두 번째로 들어왔던 Prodo가 Ryan으로 닉네임을 변경하면 채팅방 메시지는 다음과 같이 변경된다.\n",
    "\n",
    "\"Prodo님이 들어왔습니다.\"    \n",
    "\"Ryan님이 들어왔습니다.\"    \n",
    "\"Prodo님이 나갔습니다.\"     \n",
    "\"Prodo님이 들어왔습니다.\"\n",
    "\n",
    "채팅방에 들어오고 나가거나, 닉네임을 변경한 기록이 담긴 문자열 배열 record가 매개변수로 주어질 때, 모든 기록이 처리된 후, 최종적으로 방을 개설한 사람이 보게 되는 메시지를 문자열 배열 형태로 return 하도록 solution 함수를 완성하라.\n",
    "\n",
    "## 제한사항\n",
    "record는 다음과 같은 문자열이 담긴 배열이며, 길이는 1 이상 100,000 이하이다.   \n",
    "다음은 record에 담긴 문자열에 대한 설명이다.     \n",
    " * 모든 유저는 [유저 아이디]로 구분한다.    \n",
    " * [유저 아이디] 사용자가 [닉네임]으로 채팅방에 입장 - \"Enter [유저 아이디] [닉네임]\" (ex. \"Enter uid1234 Muzi\")\n",
    " * [유저 아이디] 사용자가 채팅방에서 퇴장 - \"Leave [유저 아이디]\" (ex. \"Leave uid1234\")\n",
    " * [유저 아이디] 사용자가 닉네임을 [닉네임]으로 변경 - \"Change [유저 아이디] [닉네임]\" (ex. \"Change uid1234 Muzi\")\n",
    "첫 단어는 Enter, Leave, Change 중 하나이다.\n",
    "각 단어는 공백으로 구분되어 있으며, 알파벳 대문자, 소문자, 숫자로만 이루어져있다.\n",
    " * 유저 아이디와 닉네임은 알파벳 대문자, 소문자를 구별한다.\n",
    " * 유저 아이디와 닉네임의 길이는 1 이상 10 이하이다.\n",
    " * 채팅방에서 나간 유저가 닉네임을 변경하는 등 잘못 된 입력은 주어지지 않는다.\n",
    "## 입출력 예\n",
    "|record\t|result|\n",
    "|:---:|:---:|\n",
    "|[\"Enter uid1234 Muzi\", \"Enter uid4567 Prodo\",\"Leave uid1234\",\"Enter uid1234 Prodo\",\"Change uid4567 Ryan\"]|\t[\"Prodo님이 들어왔습니다.\", \"Ryan님이 들어왔습니다.\", \"Prodo님이 나갔습니다.\", \"Prodo님이 들어왔습니다.\"]|\n",
    "\n",
    "## 문제풀이\n",
    "이 문제는 유저아이디와 닉네임이 있으므로 딕셔너리에 유저아이디를 키로 넣고 닉네임을 밸류값으로 넣어서 호출하면 풀 수 있는 문제이다.    \n",
    "\n",
    "다만 닉네임 변경이라는 부분이 까다로워서 생각을 좀 더 하게 만들었는데, 레코드를 나눠 바로 닉네임값만 받아 메세지를 결과리스트에 추가하면 나중에 딕셔너리에서 바뀐값을 또 결과리스트에서 참조하기가 불가능해, 닉네임 변경이 어려웠다. \n",
    "\n",
    "그래서 따로 process라는 리스트를 하나만들어준 뒤, Enter인경우는 앞에 'i'를 유저아이디 앞에 붙여서 저장하고, Leave인경우에는 'o'를 유저아이디 앞에 붙여 저장하도록 했으며, Change인 경우에는 딕셔너리에 있는 유저아이디 키값에 해당하는 밸류를 바꾸도록 했다.    \n",
    "그렇게 모든 레코드를 받아 process에 저장한 뒤에 process의 요소를 하나씩 받아 맨앞 글자로 Enter와 Leave를 판단한 뒤, 그 뒤에 붙어있는 유저아이디를 딕셔너리에서 호출해서 텍스트를 결과리스트에 저장하도록 했다.\n",
    "\n",
    "## 코드"
   ]
  },
  {
   "cell_type": "code",
   "execution_count": 35,
   "id": "ada0847b",
   "metadata": {},
   "outputs": [],
   "source": [
    "def solution(record):\n",
    "    process = []\n",
    "    msgdic  = dict()\n",
    "    result = []\n",
    "    for user in record:\n",
    "        msg = user.split()\n",
    "        if msg[0] == \"Enter\":\n",
    "            msgdic[msg[1]] = msg[2]\n",
    "            process.append('i'+msg[1])\n",
    "        if msg[0] == \"Leave\":\n",
    "            process.append('o'+msg[1])\n",
    "        else:\n",
    "            msgdic[msg[1]] = msg[2]\n",
    "    for i in process:\n",
    "        if i[0] == 'i':\n",
    "            result.append(msgdic[i[1:]]+\"님이 들어왔습니다.\")\n",
    "        if i[0] == 'o':\n",
    "             result.append(msgdic[i[1:]]+\"님이 나갔습니다.\")\n",
    "        \n",
    "    return result"
   ]
  },
  {
   "cell_type": "code",
   "execution_count": 36,
   "id": "a11f4a10",
   "metadata": {},
   "outputs": [
    {
     "data": {
      "text/plain": [
       "['Prodo님이 들어왔습니다.', 'Ryan님이 들어왔습니다.', 'Prodo님이 나갔습니다.', 'Prodo님이 들어왔습니다.']"
      ]
     },
     "execution_count": 36,
     "metadata": {},
     "output_type": "execute_result"
    }
   ],
   "source": [
    "solution([\"Enter uid1234 Muzi\", \"Enter uid4567 Prodo\",\"Leave uid1234\",\"Enter uid1234 Prodo\",\"Change uid4567 Ryan\"])"
   ]
  },
  {
   "cell_type": "markdown",
   "id": "274d550b",
   "metadata": {},
   "source": [
    "## 노트\n",
    "풀고나니 역시 나보다 똑똑한 사람이 푼 훨씬 깔끔한 코드가 있어 첨부한다.   \n",
    "이 사람은 printer라는 딕셔너리를 하나 더 만들어주어 닉네임 뒤에 붙는 메시지도 호출 할 수 있게해서 훨씬 깔끔하다. 나도 따로 process를 만들지 않고 record를 두번 참조하는 편이 메모리도 아끼고 훨씬 간단했을텐데 왜 이 생각을 못했는지 아쉽다."
   ]
  },
  {
   "cell_type": "code",
   "execution_count": null,
   "id": "15925479",
   "metadata": {},
   "outputs": [],
   "source": [
    "def solution(record):\n",
    "    answer = []\n",
    "    namespace = {}\n",
    "    printer = {'Enter':'님이 들어왔습니다.', 'Leave':'님이 나갔습니다.'}\n",
    "    for r in record:\n",
    "        rr = r.split(' ')\n",
    "        if rr[0] in ['Enter', 'Change']:\n",
    "            namespace[rr[1]] = rr[2]\n",
    "\n",
    "    for r in record:\n",
    "        if r.split(' ')[0] != 'Change':\n",
    "            answer.append(namespace[r.split(' ')[1]] + printer[r.split(' ')[0]])\n",
    "\n",
    "    return answer"
   ]
  }
 ],
 "metadata": {
  "kernelspec": {
   "display_name": "Python 3",
   "language": "python",
   "name": "python3"
  },
  "language_info": {
   "codemirror_mode": {
    "name": "ipython",
    "version": 3
   },
   "file_extension": ".py",
   "mimetype": "text/x-python",
   "name": "python",
   "nbconvert_exporter": "python",
   "pygments_lexer": "ipython3",
   "version": "3.8.8"
  }
 },
 "nbformat": 4,
 "nbformat_minor": 5
}
