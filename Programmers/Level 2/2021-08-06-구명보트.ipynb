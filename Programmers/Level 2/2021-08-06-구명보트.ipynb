{
 "cells": [
  {
   "cell_type": "markdown",
   "id": "703ffa18",
   "metadata": {},
   "source": [
    "---\n",
    "title : \"[Programmers] 2개 이하로 다른 비트 (Python3)\"\n",
    "categories : programmers\n",
    "toc : true\n",
    "toc_sticky : ture\n",
    "toc_label : \"On this Page\"\n",
    "---\n",
    "## 문제 \n",
    "무인도에 갇힌 사람들을 구명보트를 이용하여 구출하려고 합니다. 구명보트는 작아서 한 번에 최대 2명씩 밖에 탈 수 없고, 무게 제한도 있습니다.\n",
    "\n",
    "예를 들어, 사람들의 몸무게가 [70kg, 50kg, 80kg, 50kg]이고 구명보트의 무게 제한이 100kg이라면 2번째 사람과 4번째 사람은 같이 탈 수 있지만 1번째 사람과 3번째 사람의 무게의 합은 150kg이므로 구명보트의 무게 제한을 초과하여 같이 탈 수 없습니다.\n",
    "\n",
    "구명보트를 최대한 적게 사용하여 모든 사람을 구출하려고 합니다.\n",
    "\n",
    "사람들의 몸무게를 담은 배열 people과 구명보트의 무게 제한 limit가 매개변수로 주어질 때, 모든 사람을 구출하기 위해 필요한 구명보트 개수의 최솟값을 return 하도록 solution 함수를 작성해주세요.\n",
    "\n",
    "## 제한사항\n",
    "* 무인도에 갇힌 사람은 1명 이상 50,000명 이하입니다.\n",
    "* 각 사람의 몸무게는 40kg 이상 240kg 이하입니다.\n",
    "* 구명보트의 무게 제한은 40kg 이상 240kg 이하입니다.\n",
    "* 구명보트의 무게 제한은 항상 사람들의 몸무게 중 최댓값보다 크게 주어지므로 사람들을 구출할 수 없는 경우는 없습니다.\n",
    "\n",
    "## 입출력 예\n",
    "|people\t|limit\t|return|\n",
    "|:---:|:---:|:---:|\n",
    "|[70, 50, 80, 50]|\t100\t|3|\n",
    "|[70, 80, 50]\t|100\t|3|\n",
    "\n",
    "## 문제풀이\n",
    "아무리 봐도 어려운 문제도 아니고 알고리즘이 이렇게 복잡할리가 없다 싶다 했더니... 2명이 최대라는 걸 안보고 자꾸 3명 4명타는 케이스를 생각하고 풀려고 하니까 문제가 풀리지를 않았다. 앞으로 문제를 밑줄쳐가면서 읽는 습관을 들여야겠다.\n",
    "\n",
    "## 코드"
   ]
  },
  {
   "cell_type": "code",
   "execution_count": 99,
   "id": "c46fa545",
   "metadata": {},
   "outputs": [],
   "source": [
    "def solution(peoples, limit):\n",
    "    boat = 0\n",
    "    peoples.sort()\n",
    "    left = 0\n",
    "    right = len(peoples)-1\n",
    "    while left <= right:\n",
    "       \n",
    "        if peoples[left]+peoples[right] > limit:\n",
    "            right-=1\n",
    "            boat+=1\n",
    "        else:\n",
    "            left+=1\n",
    "            right-=1\n",
    "            boat+=1\n",
    "        \n",
    "        \n",
    "    return boat"
   ]
  },
  {
   "cell_type": "code",
   "execution_count": 100,
   "id": "c1be565b",
   "metadata": {},
   "outputs": [
    {
     "name": "stdout",
     "output_type": "stream",
     "text": [
      "5 0\n",
      "4 0\n",
      "3 1\n",
      "2 2\n"
     ]
    },
    {
     "data": {
      "text/plain": [
       "4"
      ]
     },
     "execution_count": 100,
     "metadata": {},
     "output_type": "execute_result"
    }
   ],
   "source": [
    "solution([20,30,40,50,80,90], 100)"
   ]
  }
 ],
 "metadata": {
  "kernelspec": {
   "display_name": "Python 3",
   "language": "python",
   "name": "python3"
  },
  "language_info": {
   "codemirror_mode": {
    "name": "ipython",
    "version": 3
   },
   "file_extension": ".py",
   "mimetype": "text/x-python",
   "name": "python",
   "nbconvert_exporter": "python",
   "pygments_lexer": "ipython3",
   "version": "3.8.8"
  }
 },
 "nbformat": 4,
 "nbformat_minor": 5
}
