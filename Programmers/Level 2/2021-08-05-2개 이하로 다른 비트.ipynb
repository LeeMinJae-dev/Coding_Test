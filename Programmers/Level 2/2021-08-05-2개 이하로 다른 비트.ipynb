{
 "cells": [
  {
   "cell_type": "markdown",
   "id": "7c5f920b",
   "metadata": {},
   "source": [
    "---\n",
    "title : \"[Programmers] 2개 이하로 다른 비트 (Python3)\"\n",
    "categories : programmers\n",
    "toc : true\n",
    "toc_sticky : ture\n",
    "toc_label : \"On this Page\"\n",
    "---\n",
    "## 문제 \n",
    "양의 정수 x에 대한 함수 f(x)를 다음과 같이 정의합니다.   \n",
    "* x보다 크고 x와 비트가 1~2개 다른 수들 중에서 제일 작은 수\n",
    "예를 들어,\n",
    "* f(2) = 3 입니다. 다음 표와 같이 2보다 큰 수들 중에서 비트가 다른 지점이 2개 이하이면서 제일 작은 수가 3이기 때문입니다.\n",
    "\n",
    "|수\t|비트|\t다른 비트의 개수|\n",
    "|:---|:---|:---|\n",
    "|2\t|000...0010||\t\n",
    "|3\t|000...0011\t|1|\n",
    "\n",
    "* f(7) = 11 입니다. 다음 표와 같이 7보다 큰 수들 중에서 비트가 다른 지점이 2개 이하이면서 제일 작은 수가 11이기 때문입니다.\n",
    "\n",
    "|수\t|비트|\t다른 비트의 개수|\n",
    "|:---|:---|:---|\n",
    "|7\t|000...0111||\t\n",
    "|8\t|000...1000\t|4|\n",
    "|9\t|000...1001|\t3|\n",
    "|10\t|000...1010|\t3|\n",
    "|11\t|000...1011\t|2|\n",
    "\n",
    "정수들이 담긴 배열 numbers가 매개변수로 주어집니다. numbers의 모든 수들에 대하여 각 수의 f 값을 배열에 차례대로 담아 return 하도록 solution 함수를 완성해주세요.\n",
    "\n",
    "## 제한사항\n",
    "* 1 ≤ numbers의 길이 ≤ 100,000\n",
    "* 0 ≤ numbers의 모든 수 ≤ 1015\n",
    "\n",
    "## 입출력 예\n",
    "|numbers|\tresult|\n",
    "|:---|:---|\n",
    "|[2,7]|\t[3,11]|\n",
    "\n",
    "## 입출력 예 설명\n",
    "입출력 예 #1\n",
    "문제 예시와 같습니다.\n",
    "\n",
    "## 문제 풀이\n",
    "처음 문제를 보자마자 당연히 xor 비트연산자로 푸는 문제라고 생각해 풀었는데 테스트케이스 10,11에서 시간초과가 떴다. 테스트 케이스의 값의 크기들이 커서 시간초과가 중요한 문제 인줄은 알았지만, 비트 연산자가 내 생각보다 시간복잡도를 많이 잡아 먹는다는걸 알게되었다.\n",
    "\n",
    "어쨌든 그래서 문제를 풀기위해 숫자를 하나하나 증가시켜가면서 어떻게 해야 비트가 2개이하인 가장 작은수를 찾을 수 있는지 노트에 써보았는데,\n",
    "이렇게 구현방식을 정확하게 했음에도 풀리지 않는 문제는, 특이한 패턴이 있어 그 패턴을 찾아 구현하면 통과 된다는 것을 깨달았다.\n",
    "\n",
    "이 문제는 비트가 2개 이하로 다르면서 가장 작은 수를 구하는 패턴을 찾아야 하는데, 짝수일 경우는 끝이 0이기 때문에 1하나만 바꿔주면 바로 다음 작은수가 된다. 따라서 짝수일때는 해당 숫자 +1을 답으로 저장해주면되고, 혹수일 경우는 오른쪽에서부터 0을 찾아서 그 값을 1로 바꾼뒤 그 다음인덱스를 0으로 바꿔주면 답이나온다.\n",
    "\n",
    "## 코드"
   ]
  },
  {
   "cell_type": "code",
   "execution_count": 85,
   "id": "5ba98fb3",
   "metadata": {},
   "outputs": [],
   "source": [
    "def solution(numbers):\n",
    "    answer = []\n",
    "    for number in numbers:\n",
    "        if number%2 == 0:\n",
    "            answer.append(number+1)\n",
    "        else:\n",
    "            bin_num = list('0' + bin(number)[2:])\n",
    "            idx = ''.join(bin_num).rfind('0')\n",
    "            bin_num[idx] = '1'\n",
    "            bin_num[idx+1] = '0'\n",
    "            answer.append(int(''.join(bin_num),2))\n",
    "        \n",
    "    return answer"
   ]
  },
  {
   "cell_type": "code",
   "execution_count": 86,
   "id": "73893968",
   "metadata": {},
   "outputs": [
    {
     "data": {
      "text/plain": [
       "[3, 11]"
      ]
     },
     "execution_count": 86,
     "metadata": {},
     "output_type": "execute_result"
    }
   ],
   "source": [
    "solution([2,7])"
   ]
  },
  {
   "cell_type": "markdown",
   "id": "cc40b5eb",
   "metadata": {},
   "source": [
    "## 노트\n",
    "역시 풀이를 보니까 너무나 간단한 풀이가 있었는데, 이번거는 좀 놀랐다...\n",
    "너무 간단하게 풀었기 때문인데, 사실 저 패턴을 짧은시간에 직관적으로 찾아내는건 말이 안되는 것 같다.\n",
    "\n",
    "아래에 코드 첨부한다."
   ]
  },
  {
   "cell_type": "code",
   "execution_count": null,
   "id": "ec9748f0",
   "metadata": {},
   "outputs": [],
   "source": [
    "def solution(numbers):\n",
    "    answer = []\n",
    "    for idx, val in enumerate(numbers):\n",
    "        answer.append(((val ^ (val+1)) >> 2) +val +1)\n",
    "\n",
    "    return answer\n"
   ]
  }
 ],
 "metadata": {
  "kernelspec": {
   "display_name": "Python 3",
   "language": "python",
   "name": "python3"
  },
  "language_info": {
   "codemirror_mode": {
    "name": "ipython",
    "version": 3
   },
   "file_extension": ".py",
   "mimetype": "text/x-python",
   "name": "python",
   "nbconvert_exporter": "python",
   "pygments_lexer": "ipython3",
   "version": "3.8.8"
  }
 },
 "nbformat": 4,
 "nbformat_minor": 5
}
