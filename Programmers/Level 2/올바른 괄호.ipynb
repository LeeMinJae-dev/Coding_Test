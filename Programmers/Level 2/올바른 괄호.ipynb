{
 "cells": [
  {
   "cell_type": "markdown",
   "id": "cdb44497",
   "metadata": {},
   "source": [
    "## 문제 설명\n",
    "괄호가 바르게 짝지어졌다는 것은 '(' 문자로 열렸으면 반드시 짝지어서 ')' 문자로 닫혀야 한다는 뜻입니다. 예를 들어\n",
    "\n",
    "    \"()()\" 또는 \"(())()\" 는 올바른 괄호입니다.\n",
    "    \")()(\" 또는 \"(()(\" 는 올바르지 않은 괄호입니다.\n",
    "    \n",
    "'(' 또는 ')' 로만 이루어진 문자열 s가 주어졌을 때, 문자열 s가 올바른 괄호이면 true를 return 하고, 올바르지 않은 괄호이면 false를 return 하는 solution 함수를 완성해 주세요.\n",
    "\n",
    "## 제한사항\n",
    "문자열 s의 길이 : 100,000 이하의 자연수\n",
    "문자열 s는 '(' 또는 ')' 로만 이루어져 있습니다."
   ]
  },
  {
   "cell_type": "code",
   "execution_count": 118,
   "id": "2ce0f6de",
   "metadata": {},
   "outputs": [],
   "source": [
    "s = \")(\""
   ]
  },
  {
   "cell_type": "code",
   "execution_count": 121,
   "id": "0f6a7309",
   "metadata": {},
   "outputs": [],
   "source": [
    "def solution(s):\n",
    "    a = []\n",
    "    a.append(s[0])\n",
    "    \n",
    "    if s[0] == ')':\n",
    "                return False\n",
    "    for i in range(1,len(s)):\n",
    "        if len(a)== 0:\n",
    "            a.append(s[i])\n",
    "            if a[0] == ')':\n",
    "                return False\n",
    "        elif a[-1] == s[i]:\n",
    "            a.append(s[i])\n",
    "        else:\n",
    "            a.pop()\n",
    "    if len(a) == 0:\n",
    "        return True \n",
    "    else:\n",
    "        return False\n",
    "        "
   ]
  },
  {
   "cell_type": "code",
   "execution_count": 122,
   "id": "ae43726f",
   "metadata": {},
   "outputs": [
    {
     "data": {
      "text/plain": [
       "False"
      ]
     },
     "execution_count": 122,
     "metadata": {},
     "output_type": "execute_result"
    }
   ],
   "source": [
    "solution(s)"
   ]
  },
  {
   "cell_type": "code",
   "execution_count": 123,
   "id": "73e8b77c",
   "metadata": {},
   "outputs": [
    {
     "data": {
      "text/plain": [
       "()"
      ]
     },
     "execution_count": 123,
     "metadata": {},
     "output_type": "execute_result"
    }
   ],
   "source": [
    "()"
   ]
  },
  {
   "cell_type": "code",
   "execution_count": null,
   "id": "8daa99b1",
   "metadata": {},
   "outputs": [],
   "source": []
  }
 ],
 "metadata": {
  "kernelspec": {
   "display_name": "Python 3",
   "language": "python",
   "name": "python3"
  },
  "language_info": {
   "codemirror_mode": {
    "name": "ipython",
    "version": 3
   },
   "file_extension": ".py",
   "mimetype": "text/x-python",
   "name": "python",
   "nbconvert_exporter": "python",
   "pygments_lexer": "ipython3",
   "version": "3.8.8"
  }
 },
 "nbformat": 4,
 "nbformat_minor": 5
}
