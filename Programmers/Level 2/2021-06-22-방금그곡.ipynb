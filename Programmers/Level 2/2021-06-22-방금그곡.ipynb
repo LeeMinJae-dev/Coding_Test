{
 "cells": [
  {
   "cell_type": "markdown",
   "id": "2c92d9fe",
   "metadata": {},
   "source": [
    "---\n",
    "title: \"[Programmers] 방금 그 곡\"\n",
    "toc : true\n",
    "toc_sticky : true\n",
    "toc_label : \"On this Page\"\n",
    "categories : programmers\n",
    "\n",
    "---\n",
    "## 방금그곡\n",
    "라디오를 자주 듣는 네오는 라디오에서 방금 나왔던 음악이 무슨 음악인지 궁금해질 때가 많다. 그럴 때 네오는 다음 포털의 '방금그곡' 서비스를 이용하곤 한다. 방금그곡에서는 TV, 라디오 등에서 나온 음악에 관해 제목 등의 정보를 제공하는 서비스이다.\n",
    "\n",
    "네오는 자신이 기억한 멜로디를 가지고 방금그곡을 이용해 음악을 찾는다. 그런데 라디오 방송에서는 한 음악을 반복해서 재생할 때도 있어서 네오가 기억하고 있는 멜로디는 음악 끝부분과 처음 부분이 이어서 재생된 멜로디일 수도 있다. 반대로, 한 음악을 중간에 끊을 경우 원본 음악에는 네오가 기억한 멜로디가 들어있다 해도 그 곡이 네오가 들은 곡이 아닐 수도 있다. 그렇기 때문에 네오는 기억한 멜로디를 재생 시간과 제공된 악보를 직접 보면서 비교하려고 한다. 다음과 같은 가정을 할 때 네오가 찾으려는 음악의 제목을 구하여라.\n",
    "* 방금그곡 서비스에서는 음악 제목, 재생이 시작되고 끝난 시각, 악보를 제공한다.\n",
    "* 네오가 기억한 멜로디와 악보에 사용되는 음은 C, C#, D, D#, E, F, F#, G, G#, A, A#, B 12개이다.\n",
    "* 각 음은 1분에 1개씩 재생된다. 음악은 반드시 처음부터 재생되며 음악 길이보다 재생된 시간이 길 때는 음악이 끊김 없이 처음부터 반복해서 재생된다. 음악 길이보다 재생된 시간이 짧을 때는 처음부터 재생 시간만큼만 재생된다.\n",
    "* 음악이 00:00를 넘겨서까지 재생되는 일은 없다.\n",
    "* 조건이 일치하는 음악이 여러 개일 때에는 라디오에서 재생된 시간이 제일 긴 음악 제목을 반환한다. 재생된 시간도 같을 경우 먼저 입력된 음악 제목을 반환한다.\n",
    "* 조건이 일치하는 음악이 없을 때에는 “(None)”을 반환한다.\n",
    "\n",
    "## 입력 형식\n",
    "입력으로 네오가 기억한 멜로디를 담은 문자열 m과 방송된 곡의 정보를 담고 있는 배열 musicinfos가 주어진다.\n",
    "* m은 음 1개 이상 1439개 이하로 구성되어 있다.\n",
    "* musicinfos는 100개 이하의 곡 정보를 담고 있는 배열로, 각각의 곡 정보는 음악이 시작한 시각, 끝난 시각, 음악 제목, 악보 정보가 ','로 구분된 문자열이다.\n",
    "* 음악의 시작 시각과 끝난 시각은 24시간 HH:MM 형식이다.\n",
    "* 음악 제목은 ',' 이외의 출력 가능한 문자로 표현된 길이 1 이상 64 이하의 문자열이다.\n",
    "악보 정보는 음 1개 이상 1439개 이하로 구성되어 있다.\n",
    "\n",
    "## 출력 형식\n",
    "조건과 일치하는 음악 제목을 출력한다.\n"
   ]
  },
  {
   "cell_type": "code",
   "execution_count": 530,
   "id": "0b91f89a",
   "metadata": {},
   "outputs": [],
   "source": [
    "m = \"CC#BCC#BCC#BCC#B\"\n",
    "musicinfos = [\"03:00,04:27,FOO,CC#B\", \"03:00,03:30,F1,CC#B\"]"
   ]
  },
  {
   "cell_type": "code",
   "execution_count": 609,
   "id": "b35bcb38",
   "metadata": {},
   "outputs": [],
   "source": [
    "import re\n",
    "def solution(m, f):\n",
    "    result = []\n",
    "    m = m.replace('A#','a')\n",
    "    m = m.replace('B#','b')\n",
    "    m = m.replace('C#','c')\n",
    "    m = m.replace('D#','d')\n",
    "    m = m.replace('E#','e')\n",
    "    m = m.replace('F#','f')\n",
    "    m = m.replace('G#','g')\n",
    "    \n",
    "    for i in f:\n",
    "        s = re.split('[,]',i)\n",
    "            \n",
    "        s[3] = s[3].replace('A#','a')\n",
    "        s[3] = s[3].replace('B#','b')\n",
    "        s[3] = s[3].replace('C#','c')\n",
    "        s[3] = s[3].replace('D#','d')\n",
    "        s[3] = s[3].replace('E#','e')\n",
    "        s[3] = s[3].replace('F#','f')\n",
    "        s[3] = s[3].replace('G#','g')\n",
    "        \n",
    "       \n",
    "        hour = int(s[1][0:2])-int(s[0][0:2])\n",
    "        minu = int(s[1][3:5])-int(s[0][3:5])\n",
    "        time = hour*60+minu\n",
    "        melody = \"\"\n",
    "        \n",
    "    if len(result)== 0:\n",
    "        return \"(None)\"\n",
    "\n",
    "    if len(result) >1:\n",
    "        result = sorted(result,key = lambda x: -x[0])\n",
    "        return result [0][-1]\n",
    "\n",
    "\n",
    "    return result[0][1]\n",
    "\n",
    "    "
   ]
  },
  {
   "cell_type": "code",
   "execution_count": 610,
   "id": "a6e73d85",
   "metadata": {},
   "outputs": [
    {
     "data": {
      "text/plain": [
       "'(None)'"
      ]
     },
     "execution_count": 610,
     "metadata": {},
     "output_type": "execute_result"
    }
   ],
   "source": [
    "solution(m,musicinfos)"
   ]
  },
  {
   "cell_type": "code",
   "execution_count": 561,
   "id": "13b8e9a2",
   "metadata": {},
   "outputs": [
    {
     "data": {
      "text/plain": [
       "0"
      ]
     },
     "execution_count": 561,
     "metadata": {},
     "output_type": "execute_result"
    }
   ],
   "source": [
    "0%3"
   ]
  },
  {
   "cell_type": "code",
   "execution_count": 259,
   "id": "d9126c95",
   "metadata": {},
   "outputs": [],
   "source": [
    "b = 'ABCD#EF#'"
   ]
  },
  {
   "cell_type": "code",
   "execution_count": 309,
   "id": "60d25d85",
   "metadata": {},
   "outputs": [
    {
     "data": {
      "text/plain": [
       "4"
      ]
     },
     "execution_count": 309,
     "metadata": {},
     "output_type": "execute_result"
    }
   ],
   "source": [
    "b.index('C')"
   ]
  },
  {
   "cell_type": "code",
   "execution_count": 441,
   "id": "962bfb86",
   "metadata": {},
   "outputs": [
    {
     "data": {
      "text/plain": [
       "[['b', 12], ['a', 12]]"
      ]
     },
     "execution_count": 441,
     "metadata": {},
     "output_type": "execute_result"
    }
   ],
   "source": [
    "b = [['b',12], ['a',12]]\n",
    "sorted(b,key= lambda x: x[1])"
   ]
  },
  {
   "cell_type": "code",
   "execution_count": 513,
   "id": "456d1f8f",
   "metadata": {},
   "outputs": [],
   "source": [
    "b =[\"03:00,03:30,FOO,CC#B\"]"
   ]
  },
  {
   "cell_type": "code",
   "execution_count": 515,
   "id": "a280d112",
   "metadata": {},
   "outputs": [
    {
     "data": {
      "text/plain": [
       "3"
      ]
     },
     "execution_count": 515,
     "metadata": {},
     "output_type": "execute_result"
    }
   ],
   "source": [
    "int(b[0][0:2])"
   ]
  },
  {
   "cell_type": "code",
   "execution_count": null,
   "id": "523b72d2",
   "metadata": {},
   "outputs": [],
   "source": []
  }
 ],
 "metadata": {
  "kernelspec": {
   "display_name": "Python 3",
   "language": "python",
   "name": "python3"
  },
  "language_info": {
   "codemirror_mode": {
    "name": "ipython",
    "version": 3
   },
   "file_extension": ".py",
   "mimetype": "text/x-python",
   "name": "python",
   "nbconvert_exporter": "python",
   "pygments_lexer": "ipython3",
   "version": "3.8.8"
  }
 },
 "nbformat": 4,
 "nbformat_minor": 5
}
