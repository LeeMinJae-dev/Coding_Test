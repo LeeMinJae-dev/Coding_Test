{
 "cells": [
  {
   "cell_type": "markdown",
   "id": "52d62683",
   "metadata": {},
   "source": [
    "---\n",
    "title : \"[Programmers] 타겟 넘버 (Python3)\"\n",
    "toc : true\n",
    "toc_lable : \"On this Page\"\n",
    "toc_sticky : true\n",
    "categories : programmers\n",
    "---\n",
    "## 문제 \n",
    "n개의 음이 아닌 정수가 있습니다. 이 수를 적절히 더하거나 빼서 타겟 넘버를 만들려고 합니다. 예를 들어 [1, 1, 1, 1, 1]로 숫자 3을 만들려면 다음 다섯 방법을 쓸 수 있습니다.\n",
    "\n",
    "-1+1+1+1+1 = 3   \n",
    "+1-1+1+1+1 = 3   \n",
    "+1+1-1+1+1 = 3   \n",
    "+1+1+1-1+1 = 3   \n",
    "+1+1+1+1-1 = 3   \n",
    "\n",
    "사용할 수 있는 숫자가 담긴 배열 numbers, 타겟 넘버 target이 매개변수로 주어질 때 숫자를 적절히 더하고 빼서 타겟 넘버를 만드는 방법의 수를 return 하도록 solution 함수를 작성해주세요.\n",
    "\n",
    "## 제한사항\n",
    "* 주어지는 숫자의 개수는 2개 이상 20개 이하입니다.\n",
    "* 각 숫자는 1 이상 50 이하인 자연수입니다.\n",
    "* 타겟 넘버는 1 이상 1000 이하인 자연수입니다.\n",
    "\n",
    "## 입출력 예\n",
    "|numbers|\ttarget|\treturn|\n",
    "|:---:|:---:|:---:|\n",
    "|[1, 1, 1, 1, 1]\t|3\t|5|\n",
    "\n",
    "## 입출력 예 설명\n",
    "문제에 나온 예와 같습니다.\n",
    "\n",
    "## 문제풀이\n",
    "제한사항에 주어진 개수와 경우의 수가 매우 적어서 그냥 브루트포스로 combinations를 이용하여 모든 조합을 찾아서 답을 찾았다. 브루트포스로 푼다는 가정하에 combinations 메서드만 알면 난이도가 낮은 문제인 것 같다.\n",
    "\n",
    "## 코드"
   ]
  },
  {
   "cell_type": "code",
   "execution_count": 33,
   "id": "d610921f",
   "metadata": {},
   "outputs": [],
   "source": [
    "from itertools import combinations\n",
    "\n",
    "def solution(numbers, target):\n",
    "    result = 0\n",
    "    for i in range(len(numbers)):\n",
    "            combi = list(combinations([i for i in range(len(numbers))],i))\n",
    "            for com in combi:\n",
    "                change_num = numbers.copy()\n",
    "                \n",
    "                for idx in com:\n",
    "                    change_num[idx] = -change_num[idx]\n",
    "                if sum(change_num) == target:\n",
    "                    result+=1           \n",
    "    return result"
   ]
  },
  {
   "cell_type": "code",
   "execution_count": 45,
   "id": "a9b88aac",
   "metadata": {},
   "outputs": [
    {
     "data": {
      "text/plain": [
       "5"
      ]
     },
     "execution_count": 45,
     "metadata": {},
     "output_type": "execute_result"
    }
   ],
   "source": [
    "solution([1,1,1,1,1], 3)"
   ]
  },
  {
   "cell_type": "markdown",
   "id": "e73ad34b",
   "metadata": {},
   "source": [
    "## 노트\n",
    "사실 브루트포스로 그냥 풀겠다고 마음먹을 때부터 100명중에 50등 정도하는 코드라고 생각하긴 했는데, 100명중에 1등 급인 코드가 진짜 말도안되게 아름답게 코드를 짜서 첨부한다. 난 언제 저렇게 될까..."
   ]
  },
  {
   "cell_type": "code",
   "execution_count": 44,
   "id": "3876d393",
   "metadata": {},
   "outputs": [],
   "source": [
    "def solution(numbers, target):\n",
    "    if not numbers and target == 0 :\n",
    "        return 1\n",
    "    elif not numbers:\n",
    "        return 0\n",
    "    else:\n",
    "        return solution(numbers[1:], target-numbers[0]) + solution(numbers[1:], target+numbers[0])"
   ]
  },
  {
   "cell_type": "markdown",
   "id": "9dec06b8",
   "metadata": {},
   "source": [
    "그러고보니까 이 문제의 분류가 dfs/bfs로 되어있었다.   \n",
    "그래서 나도 처음에는 dfs/bfs로 생각하다가 잘 안풀리길래, 제한사항 경우의 수를 보니 시간적합도 남아 돌겠다 싶어서 브루트포스로 풀어버렸다.\n",
    "\n",
    "타겟넘버가 dfs/bfs 문제인 이유는 다음인덱스에 해당하는 numbers 원소를 더하거나 뺀값을 새로운 노드로 모두 생성해주고, 그 값로 만든 새로운 그래프에 하나씩 방문하면서 numbers의 합이 같을때마다 count해주면 되기 때문이다.\n",
    "\n",
    "그래서 저 위 코드는 numbers에 존재하는 값을 target에다가 더하거나 빼서 target이 0이 나오면 1을 리턴하고 0이 아니면 0을 리턴한 후, numbers를 그 다음요소부터 [1:]로 인덱싱하여 재귀함수로 다시 solution을 호출하는 방식으로 numbers의 요소를 각각 +,-로 바꿔가며 계산하여 풀었다.\n",
    "\n",
    "사실 보다보니까 음수가 난 여러개인 경우의 수도 있다고 생각했는데, 사실 답은 음수는 무조건 하나여서 문제 설명이 좀 부족한게 아닌가 하는 생각이 들었다. 예제를 더 주던지, 제한사항을 추가해야할듯..."
   ]
  }
 ],
 "metadata": {
  "kernelspec": {
   "display_name": "Python 3",
   "language": "python",
   "name": "python3"
  },
  "language_info": {
   "codemirror_mode": {
    "name": "ipython",
    "version": 3
   },
   "file_extension": ".py",
   "mimetype": "text/x-python",
   "name": "python",
   "nbconvert_exporter": "python",
   "pygments_lexer": "ipython3",
   "version": "3.9.7"
  }
 },
 "nbformat": 4,
 "nbformat_minor": 5
}
