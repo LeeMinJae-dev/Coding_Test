{
 "cells": [
  {
   "cell_type": "markdown",
   "id": "7c7a7f63",
   "metadata": {},
   "source": [
    "---\n",
    "title : \"[Programmers] 삼각 달팽이 (Python3)\"\n",
    "toc : true\n",
    "toc_lable : \"On this Page\"\n",
    "toc_sticky : true\n",
    "categories : programmers\n",
    "---\n",
    "## 문제    \n",
    "어떤 숫자에서 k개의 수를 제거했을 때 얻을 수 있는가장 큰 숫자를 구하려 합니다.\n",
    "\n",
    "예를 들어, 숫자 1924에서 수 두 개를 제거하면 [19, 12, 14, 92, 94, 24] 를 만들 수 있습니다. 이 중 가장 큰 숫자는 94 입니다.\n",
    "\n",
    "문자열 형식으로 숫자 number와 제거할 수의 개수 k가 solution 함수의 매개변수로 주어집니다. number에서 k 개의 수를 제거했을 때 만들 수 있는 수 중 가장 큰 숫자를 문자열 형태로 return 하도록 solution 함수를 완성하세요.\n",
    "\n",
    "## 제한 조건\n",
    "* number는 1자리 이상, 1,000,000자리 이하인 숫자입니다.\n",
    "* k는 1 이상 number의 자릿수 미만인 자연수입니다.\n",
    "\n",
    "## 입출력 예\n",
    "|number\t|k\t|return|\n",
    "|:---:|:---:|:---:|\n",
    "|\"1924\"|\t2\t|\"94\"|\n",
    "|\"1231234\"\t|3|\t\"3234\"|\n",
    "|\"4177252841\"|\t4|\t\"775841\"|\n",
    "\n",
    "## 문제 풀이\n",
    "풀고나니까 별로 안어려웠는데도 왜인지 발상이 너무 안 떠올라서 오래걸렸다. 생각하는걸 코드로 구현못하는건 그만큼 더 열심히 해야겠다고 생각하고 다음 문제를 풀게 되는데, 이렇게 발상 조차 안되서 코드 한줄도 못적고 노트에만 쓰고 있다보면 진짜 답답하고 나 자신한테 화가난다. 이번 문제도 그다지 어려운 알고리즘도 아닌데 도대체 왜 못떠올렸는지... 좀 패턴을 찾는 문제에 약한 것같다.\n",
    "\n",
    "이 문제는 가장 큰 수를 만드는 문제이므로, 앞에서부터 리스트에 저장해가면서 만약 리스트의 가장 마지막 숫자가 다음 숫자보다 크다면 그 숫자를 바로 리스트에 추가하고, 다음 숫자보다 작다면 그 숫자보다 큰수가 나올때까지 리스트의 맨 마지막 값을 없애주고 다음 숫자를 추가하는 방식으로 가장 큰 수를 만들 수 있다.\n",
    "\n",
    "또, 반드시 예외 처리를 해주어야하는데, 54321 처럼 내림차순의 모양을 띄는 숫자는 계속 리스트의 마지막 숫자가 다음숫자보다 크므로 삭제가 일어나지않기때문에, 가장 큰 수를 만드는 것은 뒤에서 부터 k만큼 삭제하는 것이므로, 따로 예외를 처리해주어 출력하도록 한다.\n",
    "\n",
    "## 코드"
   ]
  },
  {
   "cell_type": "code",
   "execution_count": 74,
   "id": "f2501be9",
   "metadata": {},
   "outputs": [],
   "source": [
    "def solution(number, k):\n",
    "    result = []\n",
    "    number = list(number)\n",
    "    remove=0\n",
    "    for num in number:\n",
    "        if not result:\n",
    "            result.append(num)\n",
    "            continue\n",
    "        while result and result[-1] < num:\n",
    "            if remove == k:\n",
    "                result.append(num)\n",
    "                break\n",
    "            result.pop()\n",
    "            remove+=1\n",
    "            \n",
    "        else:\n",
    "            result.append(num)\n",
    "            \n",
    "    if len(result) > len(number)-k:\n",
    "        return \"\".join(result[:len(number)-k])\n",
    "    \n",
    "    return \"\".join(result)       \n",
    "                    "
   ]
  },
  {
   "cell_type": "code",
   "execution_count": null,
   "id": "3b16cf12",
   "metadata": {},
   "outputs": [],
   "source": []
  }
 ],
 "metadata": {
  "kernelspec": {
   "display_name": "Python 3",
   "language": "python",
   "name": "python3"
  },
  "language_info": {
   "codemirror_mode": {
    "name": "ipython",
    "version": 3
   },
   "file_extension": ".py",
   "mimetype": "text/x-python",
   "name": "python",
   "nbconvert_exporter": "python",
   "pygments_lexer": "ipython3",
   "version": "3.9.7"
  }
 },
 "nbformat": 4,
 "nbformat_minor": 5
}
