{
 "cells": [
  {
   "cell_type": "markdown",
   "id": "8269266e",
   "metadata": {},
   "source": [
    "---\n",
    "title : \"[Programmers] 카펫 (Python3)\"\n",
    "toc : true\n",
    "toc_lable : \"On this Page\"\n",
    "toc_sticky : true\n",
    "categories : programmers\n",
    "---\n",
    "## 문제 \n",
    "Leo는 카펫을 사러 갔다가 아래 그림과 같이 중앙에는 노란색으로 칠해져 있고 테두리 1줄은 갈색으로 칠해져 있는 격자 모양 카펫을 봤습니다.\n",
    "\n",
    "![carpet](/assets/images/algorithm/programmers/카펫/carpet.png)\n",
    "\n",
    "Leo는 집으로 돌아와서 아까 본 카펫의 노란색과 갈색으로 색칠된 격자의 개수는 기억했지만, 전체 카펫의 크기는 기억하지 못했습니다.\n",
    "\n",
    "Leo가 본 카펫에서 갈색 격자의 수 brown, 노란색 격자의 수 yellow가 매개변수로 주어질 때 카펫의 가로, 세로 크기를 순서대로 배열에 담아 return 하도록 solution 함수를 작성해주세요.\n",
    "\n",
    "## 제한사항\n",
    "* 갈색 격자의 수 brown은 8 이상 5,000 이하인 자연수입니다.\n",
    "* 노란색 격자의 수 yellow는 1 이상 2,000,000 이하인 자연수입니다.\n",
    "* 카펫의 가로 길이는 세로 길이와 같거나, 세로 길이보다 깁니다.\n",
    "\n",
    "## 입출력 예\n",
    "|brown|\tyellow\t|return|\n",
    "|:---:|:---:|:---:|\n",
    "|10|\t2\t|[4, 3]|\n",
    "|8|\t1|\t[3, 3]|\n",
    "|24\t|24\t|[8, 6]|\n",
    "\n",
    "## 문제풀이\n",
    "맨처음에는 좌표를 하나씩 늘려가면서 갈색과 노란색의 모든 경우의 수를 찾다가 같은 값이 나오면 그 좌표를 리턴하는 형식으로 코드를 짰는데 역시나 시간초과가 떴다.\n",
    "\n",
    "그래서 조금 더 생각을 간단히 해서 굳이 모든 사각형의 크기가 아니라 안쪽의 노란색 사각형의 크기만 생각해보기로 했는데, 노란색 사각형은 결국 3,3인 사각형일 때 1이므로 여기서 가로로 사각형이 커지면 노란색 사각형도 같이 1증가하고 세로로 커지면 같이 세로로 1증가한다. 따라서 yellow에 주어진 넓이를 구성할 수 있는 사각형의 가로와 세로를 모두 구해준 후, 그 가로와 세로가 구성하는 큰 사각형이 brown의 넓이와 일치한다면 그때의 가로와 세로를 리턴해주면 된다.\n",
    "\n",
    "## 코드"
   ]
  },
  {
   "cell_type": "code",
   "execution_count": 74,
   "id": "edc87f56",
   "metadata": {},
   "outputs": [],
   "source": [
    "def solution(brown, yellow):\n",
    "    i = 1\n",
    "    while 1:\n",
    "        if yellow % i == 0:\n",
    "            if (i+2)*(yellow/i+2)-yellow == brown:\n",
    "                    return[max(i+2,yellow//i+2),min(i+2,yellow//i+2)]\n",
    "   \n",
    "        i+=1"
   ]
  },
  {
   "cell_type": "code",
   "execution_count": 75,
   "id": "4a47c5de",
   "metadata": {},
   "outputs": [
    {
     "data": {
      "text/plain": [
       "[4, 3]"
      ]
     },
     "execution_count": 75,
     "metadata": {},
     "output_type": "execute_result"
    }
   ],
   "source": [
    "solution(10,2)"
   ]
  }
 ],
 "metadata": {
  "kernelspec": {
   "display_name": "Python 3",
   "language": "python",
   "name": "python3"
  },
  "language_info": {
   "codemirror_mode": {
    "name": "ipython",
    "version": 3
   },
   "file_extension": ".py",
   "mimetype": "text/x-python",
   "name": "python",
   "nbconvert_exporter": "python",
   "pygments_lexer": "ipython3",
   "version": "3.8.8"
  }
 },
 "nbformat": 4,
 "nbformat_minor": 5
}
