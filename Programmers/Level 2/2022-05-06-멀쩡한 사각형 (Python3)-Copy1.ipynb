{
 "cells": [
  {
   "cell_type": "markdown",
   "id": "1a2c8945",
   "metadata": {},
   "source": [
    "---\n",
    "title : \"[Programmers] 멀쩡한 사각형 (Python3)\"\n",
    "categories : programmers\n",
    "toc : true\n",
    "toc_sticky : true\n",
    "toc_label : \"On this Page\"\n",
    "---\n"
   ]
  },
  {
   "cell_type": "markdown",
   "id": "0952efe9",
   "metadata": {},
   "source": [
    "## 문제 설명\n",
    "가로 길이가 Wcm, 세로 길이가 Hcm인 직사각형 종이가 있습니다. 종이에는 가로, 세로 방향과 평행하게 격자 형태로 선이 그어져 있으며, 모든 격자칸은 1cm x 1cm 크기입니다. 이 종이를 격자 선을 따라 1cm × 1cm의 정사각형으로 잘라 사용할 예정이었는데, 누군가가 이 종이를 대각선 꼭지점 2개를 잇는 방향으로 잘라 놓았습니다. 그러므로 현재 직사각형 종이는 크기가 같은 직각삼각형 2개로 나누어진 상태입니다. 새로운 종이를 구할 수 없는 상태이기 때문에, 이 종이에서 원래 종이의 가로, 세로 방향과 평행하게 1cm × 1cm로 잘라 사용할 수 있는 만큼만 사용하기로 하였습니다.\n",
    "가로의 길이 W와 세로의 길이 H가 주어질 때, 사용할 수 있는 정사각형의 개수를 구하는 solution 함수를 완성해 주세요.\n",
    "\n",
    "## 제한사항\n",
    "* W, H : 1억 이하의 자연수\n",
    "\n",
    "## 입출력 예\n",
    "|W|H|result|\n",
    "|:---:|:---:|:---:|\n",
    "|8|2|80|\n",
    "\n",
    "## 입출력 예 설명\n",
    "### 입출력 예 #1\n",
    "가로가 8, 세로가 12인 직사각형을 대각선 방향으로 자르면 총 16개 정사각형을 사용할 수 없게 됩니다. 원래 직사각형에서는 96개의 정사각형을 만들 수 있었으므로, 96 - 16 = 80 을 반환합니다."
   ]
  },
  {
   "cell_type": "code",
   "execution_count": null,
   "id": "f3e48a44",
   "metadata": {},
   "outputs": [],
   "source": [
    "def solution(w,h):\n",
    "    \n",
    "    return answer"
   ]
  },
  {
   "cell_type": "markdown",
   "id": "756192a0",
   "metadata": {},
   "source": [
    "## 문제설명\n",
    "이 문제는 언뜻보면 복잡해보이지만, 가장 늦게 탑승하는 시간을 구하면 되기 때문에 마지막 버스만 생각해주면 된다. 만약 마지막 버스에 빈자리가 있다면 해당 버스가 출발하는 시간에 탑승하면 되고, 마지막 버스에 빈자리가 없다면 그 버스에 마지막으로 탑승한 크루보다 1분 먼저 오면 버스를 탑승할 수 있다.\n",
    "\n",
    "타임테이블을 정렬해준뒤, 버스 시간표를 딕셔너리로 만들어 딕셔너리 테이블을 하나의 버스로 놓고 크루들을 먼저 다 탑승시킨다. 그리고 마지막 버스만을 판별해서 위에 설명했던 것처럼 탑승 시간을 구해주면 된다."
   ]
  }
 ],
 "metadata": {
  "kernelspec": {
   "display_name": "Python 3",
   "language": "python",
   "name": "python3"
  },
  "language_info": {
   "codemirror_mode": {
    "name": "ipython",
    "version": 3
   },
   "file_extension": ".py",
   "mimetype": "text/x-python",
   "name": "python",
   "nbconvert_exporter": "python",
   "pygments_lexer": "ipython3",
   "version": "3.9.7"
  }
 },
 "nbformat": 4,
 "nbformat_minor": 5
}
