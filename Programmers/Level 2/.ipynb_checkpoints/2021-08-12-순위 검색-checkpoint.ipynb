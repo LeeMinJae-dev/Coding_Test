{
 "cells": [
  {
   "cell_type": "markdown",
   "id": "6323824e",
   "metadata": {},
   "source": [
    "---\n",
    "title : \"[Programmers] 순위 검색 (Python3)\"\n",
    "categories : programmers\n",
    "toc : true\n",
    "toc_sticky : true\n",
    "toc_label : \"On this Page\"\n",
    "---\n",
    "## 문제 설명\n",
    "[본 문제는 정확성과 효율성 테스트 각각 점수가 있는 문제입니다.]\n",
    "카카오는 하반기 경력 개발자 공개채용을 진행 중에 있으며 현재 지원서 접수와 코딩테스트가 종료되었습니다. 이번 채용에서 지원자는 지원서 작성 시 아래와 같이 4가지 항목을 반드시 선택하도록 하였습니다.\n",
    "\n",
    "* 코딩테스트 참여 개발언어 항목에 cpp, java, python 중 하나를 선택해야 합니다.\n",
    "* 지원 직군 항목에 backend와 frontend 중 하나를 선택해야 합니다.\n",
    "* 지원 경력구분 항목에 junior와 senior 중 하나를 선택해야 합니다.\n",
    "* 선호하는 소울푸드로 chicken과 pizza 중 하나를 선택해야 합니다.\n",
    "\n",
    "인재영입팀에 근무하고 있는 니니즈는 코딩테스트 결과를 분석하여 채용에 참여한 개발팀들에 제공하기 위해 지원자들의 지원 조건을 선택하면 해당 조건에 맞는 지원자가 몇 명인 지 쉽게 알 수 있는 도구를 만들고 있습니다.\n",
    "\n",
    "예를 들어, 개발팀에서 궁금해하는 문의사항은 다음과 같은 형태가 될 수 있습니다.\n",
    "\n",
    ">코딩테스트에 java로 참여했으며, backend 직군을 선택했고, junior 경력이면서, 소울푸드로 pizza를 선택한 사람 중 코딩테스트 점수를 50점 이상 받은 지원자는 몇 명인가?\n",
    "\n",
    "물론 이 외에도 각 개발팀의 상황에 따라 아래와 같이 다양한 형태의 문의가 있을 수 있습니다.\n",
    "\n",
    "* 코딩테스트에 python으로 참여했으며, frontend 직군을 선택했고, senior 경력이면서, 소울푸드로 chicken을 선택한 사람 중 코딩테스트 점수를 100점 이상 받은 사람은 모두 몇 명인가?\n",
    "* 코딩테스트에 cpp로 참여했으며, senior 경력이면서, 소울푸드로 pizza를 선택한 사람 중 코딩테스트 점수를 100점 이상 받은 사람은 모두 몇 명인가?\n",
    "* backend 직군을 선택했고, senior 경력이면서 코딩테스트 점수를 200점 이상 받은 사람은 모두 몇 명인가?\n",
    "* 소울푸드로 chicken을 선택한 사람 중 코딩테스트 점수를 250점 이상 받은 사람은 모두 몇 명인가?\n",
    "* 코딩테스트 점수를 150점 이상 받은 사람은 모두 몇 명인가?\n",
    "\n",
    "즉, 개발팀에서 궁금해하는 내용은 다음과 같은 형태를 갖습니다.\n",
    "\n",
    "* [조건]을 만족하는 사람 중 코딩테스트 점수를 X점 이상 받은 사람은 모두 몇 명인가?\n",
    "\n",
    "## 문제\n",
    "지원자가 지원서에 입력한 4가지의 정보와 획득한 코딩테스트 점수를 하나의 문자열로 구성한 값의 배열 info, 개발팀이 궁금해하는 문의조건이 문자열 형태로 담긴 배열 query가 매개변수로 주어질 때,\n",
    "각 문의조건에 해당하는 사람들의 숫자를 순서대로 배열에 담아 return 하도록 solution 함수를 완성해 주세요.\n",
    "\n",
    "## 제한사항\n",
    "* info 배열의 크기는 1 이상 50,000 이하입니다.\n",
    "* info 배열 각 원소의 값은 지원자가 지원서에 입력한 4가지 값과 코딩테스트 점수를 합친 \"개발언어 직군 경력 소울푸드 점수\" 형식입니다.\n",
    " * 개발언어는 cpp, java, python 중 하나입니다.\n",
    " * 직군은 backend, frontend 중 하나입니다.\n",
    " * 경력은 junior, senior 중 하나입니다.\n",
    " * 소울푸드는 chicken, pizza 중 하나입니다.\n",
    " * 점수는 코딩테스트 점수를 의미하며, 1 이상 100,000 이하인 자연수입니다.\n",
    " * 각 단어는 공백문자(스페이스 바) 하나로 구분되어 있습니다.\n",
    "* query 배열의 크기는 1 이상 100,000 이하입니다.\n",
    "* query의 각 문자열은 \"[조건] X\" 형식입니다.\n",
    " * [조건]은 \"개발언어 and 직군 and 경력 and 소울푸드\" 형식의 문자열입니다.\n",
    " * 언어는 cpp, java, python, - 중 하나입니다.\n",
    " * 직군은 backend, frontend, - 중 하나입니다.\n",
    " * 경력은 junior, senior, - 중 하나입니다.\n",
    " * 소울푸드는 chicken, pizza, - 중 하나입니다.\n",
    " * '-' 표시는 해당 조건을 고려하지 않겠다는 의미입니다.\n",
    " * X는 코딩테스트 점수를 의미하며 조건을 만족하는 사람 중 X점 이상 받은 사람은 모두 몇 명인 지를 의미합니다.\n",
    " * 각 단어는 공백문자(스페이스 바) 하나로 구분되어 있습니다.\n",
    " * 예를 들면, \"cpp and - and senior and pizza 500\"은 \"cpp로 코딩테스트를 봤으며, 경력은 senior 이면서 소울푸드로 pizza를 선택한 지원자 중 코딩테스트 점수를 500점 이상 받은 사람은 모두 몇 명인가?\"를 의미합니다.\n",
    "[입출력 예]\n",
    "|info|\tquery|\tresult|\n",
    "|:---:|:---:|:---:|\n",
    "|[\"java backend junior pizza 150\",\"python frontend senior chicken 210\",\"python frontend senior chicken 150\",\"cpp backend senior pizza 260\",\"java backend junior chicken 80\",\"python backend senior chicken 50\"]\t|[\"java and backend and junior and pizza 100\",\"python and frontend and senior and chicken 200\",\"cpp and - and senior and pizza 250\",\"- and backend and senior and - 150\",\"- and - and - and chicken 100\",\"- and - and - and - 150\"]\t|[1,1,1,1,2,4]|\n",
    "\n",
    "## 입출력 예에 대한 설명\n",
    "지원자 정보를 표로 나타내면 다음과 같습니다.\n",
    "\n",
    "|언어|\t직군|\t경력|\t소울 푸드|\t점수|\n",
    "|:---:|:---:|:---:|:---:|:---:|\n",
    "|java|\tbackend|\tjunior|\tpizza|\t150|\n",
    "|python\t|frontend\t|senior\t|chicken|\t210|\n",
    "|python|\tfrontend|\tsenior|\tchicken|\t150||\n",
    "|cpp\t|backend|\tsenior\t|pizza\t|260|\n",
    "|java\t|backend|\tjunior\t|chicken|\t80|\n",
    "|python\t|backend\t|senior\t|chicken\t50|\n",
    "\n",
    "* \"java and backend and junior and pizza 100\" : java로 코딩테스트를 봤으며, backend 직군을 선택했고 junior 경력이면서 소울푸드로 pizza를 선택한 지원자 중 코딩테스트 점수를 100점 이상 받은 지원자는 1명 입니다.\n",
    "* \"python and frontend and senior and chicken 200\" : python으로 코딩테스트를 봤으며, frontend 직군을 선택했고, senior 경력이면서 소울 푸드로 chicken을 선택한 지원자 중 코딩테스트 점수를 200점 이상 받은 지원자는 1명 입니다.\n",
    "* \"cpp and - and senior and pizza 250\" : cpp로 코딩테스트를 봤으며, senior 경력이면서 소울푸드로 pizza를 선택한 지원자 중 코딩테스트 점수를 250점 이상 받은 지원자는 1명 입니다.\n",
    "* \"- and backend and senior and - 150\" : backend 직군을 선택했고, senior 경력인 지원자 중 코딩테스트 점수를 150점 이상 받은 지원자는 1명 입니다.\n",
    "* \"- and - and - and chicken 100\" : 소울푸드로 chicken을 선택한 지원자 중 코딩테스트 점수를 100점 이상을 받은 지원자는 2명 입니다.\n",
    "* \"- and - and - and - 150\" : 코딩테스트 점수를 150점 이상 받은 지원자는 4명 입니다.\n",
    "\n",
    "## 문제풀이\n",
    "이 문제만 잡고 거의 두시간을 풀었다...카카오 문제는 항상 풀때마다 유형도 새롭고 풀기도 까다로워서 공부하기 아주 좋은 문제들인 것 같다. 특히나 꼭 한가지의 개념을 정확히 알고 있어야 풀도록 나와서 그 개념을 모르면 시간초과가 계속 뜨거나 아예 풀 수가 없다.\n",
    "\n",
    "이 문제는 일단 딕셔너리에 넣어서 푼다는 발상까지는 떠올릴 수 있지만, 중요한 것은 이진탐색을 알고 있느냐에 대한 문제였다. 이진탐색을 사용하지 않고 리스트에 접근해서 크기를 비교하면 무조건 시간초과가 뜬다.\n",
    "\n",
    "어떤 리스트에서 특정 수보다 작거나 큰 수의 개수나 인덱스를 찾는 가장 빠른 방법은 이진탐색이다. 예를들어 a = [1,2,4,5] 에서 정렬된 순서를 유지하면서 3이 들어갈 수 있는 자리를 찾는경우, bisect 이진탐색을 사용하면 빠르게 찾을 수 있다."
   ]
  },
  {
   "cell_type": "code",
   "execution_count": 264,
   "id": "4e4bee21",
   "metadata": {},
   "outputs": [
    {
     "name": "stdout",
     "output_type": "stream",
     "text": [
      "2 2\n"
     ]
    }
   ],
   "source": [
    "a = [1,2,4,5]\n",
    "\n",
    "print(bisect.bisect_left(a,3),bisect.bisect_right(a,3))"
   ]
  },
  {
   "cell_type": "markdown",
   "id": "0f2828a7",
   "metadata": {},
   "source": [
    "위처럼 3과 a를 매개변수로 넣어주면 a에서 3이 들어갈 인덱스인 2를 출력해준다.\n",
    "\n",
    "이처럼 이진탐색은 순서에 맞는 위치를 찾는 방법이므로, 꼭 탐색전에 크기대로 정렬을 해주어야 메서드가 올바르게 동작한다.\n",
    "\n",
    "만약 3보다 큰 숫자들의 개수를 알고 싶다면 다음과 같이 하면 된다."
   ]
  },
  {
   "cell_type": "code",
   "execution_count": 265,
   "id": "cabcc7f9",
   "metadata": {},
   "outputs": [
    {
     "data": {
      "text/plain": [
       "2"
      ]
     },
     "execution_count": 265,
     "metadata": {},
     "output_type": "execute_result"
    }
   ],
   "source": [
    "len(a)-bisect.bisect_left(a,3)"
   ]
  },
  {
   "cell_type": "markdown",
   "id": "2f865315",
   "metadata": {},
   "source": [
    "그러므로 리스트에서 특정 요소가 들어갈 위치나, 특정요소보다 작은수, 큰수의 개수를 구할 때는 무조건 이진탐색을 이용하는 것이 시간복잡도가 가장 적게 문제를 풀 수 있다.\n",
    "\n",
    "## 코드"
   ]
  },
  {
   "cell_type": "code",
   "execution_count": 266,
   "id": "3e6e2fd1",
   "metadata": {},
   "outputs": [],
   "source": [
    "from collections import defaultdict\n",
    "from itertools import combinations\n",
    "import bisect\n",
    "def solution(info, query):\n",
    "    info_table = []\n",
    "    dic = defaultdict(list)\n",
    "    for i in info:\n",
    "        people = i.split()[:4]\n",
    "        score = int(i.split()[4])\n",
    "        for num in range(5):\n",
    "            for combi in combinations(people,num):\n",
    "                dic[''.join(combi)].append(score)\n",
    "    \n",
    "            \n",
    "    query_table = []\n",
    "    answer = []\n",
    "    \n",
    "    for value in dic.values():\n",
    "        value.sort()\n",
    "    for q in query:\n",
    "        key = q.split()\n",
    "        score = int(key.pop())\n",
    "        key = ''.join(key)\n",
    "        key = key.replace('and', '').replace(' ', '').replace('-', '')\n",
    "        answer.append(len(dic[key])-bisect.bisect_left(dic[key],score))\n",
    "    return answer"
   ]
  },
  {
   "cell_type": "code",
   "execution_count": 267,
   "id": "46ef2f6d",
   "metadata": {},
   "outputs": [
    {
     "data": {
      "text/plain": [
       "[1, 1, 1, 1, 2, 4]"
      ]
     },
     "execution_count": 267,
     "metadata": {},
     "output_type": "execute_result"
    }
   ],
   "source": [
    "solution([\"java backend junior pizza 150\",\"python frontend senior chicken 210\",\"python frontend senior chicken 150\",\"cpp backend senior pizza 260\",\"java backend junior chicken 80\",\"python backend senior chicken 50\"],[\"java and backend and junior and pizza 100\",\"python and frontend and senior and chicken 200\",\"cpp and - and senior and pizza 250\",\"- and backend and senior and - 150\",\"- and - and - and chicken 100\",\"- and - and - and - 150\"])"
   ]
  }
 ],
 "metadata": {
  "kernelspec": {
   "display_name": "Python 3",
   "language": "python",
   "name": "python3"
  },
  "language_info": {
   "codemirror_mode": {
    "name": "ipython",
    "version": 3
   },
   "file_extension": ".py",
   "mimetype": "text/x-python",
   "name": "python",
   "nbconvert_exporter": "python",
   "pygments_lexer": "ipython3",
   "version": "3.8.8"
  }
 },
 "nbformat": 4,
 "nbformat_minor": 5
}
