{
 "cells": [
  {
   "cell_type": "markdown",
   "id": "6662f8d8",
   "metadata": {},
   "source": [
    "---\n",
    "title: \"[Programmers] n^2 배열자르기\"\n",
    "toc : true\n",
    "toc_sticky : true\n",
    "toc_label : \"On this Page\"\n",
    "categories : programmers\n",
    "\n",
    "---\n",
    "## 문제 설명\n",
    "\n",
    "정수 n, left, right가 주어집니다. 다음 과정을 거쳐서 1차원 배열을 만들고자 합니다.\n",
    "1. n행 n열 크기의 비어있는 2차원 배열을 만듭니다.\n",
    "2. i = 1, 2, 3, ..., n에 대해서, 다음 과정을 반복합니다.\n",
    "3. 1행 1열부터 i행 i열까지의 영역 내의 모든 빈 칸을 숫자 i로 채웁니다.\n",
    "    * 1행, 2행, ..., n행을 잘라내어 모두 이어붙인 새로운 1차원 배열을 만듭니다.\n",
    "4. 새로운 1차원 배열을 arr이라 할 때, arr[left], arr[left+1], ..., arr[right]만 남기고 나머지는 지웁니다.\n",
    "\n",
    "정수 n, left, right가 매개변수로 주어집니다. 주어진 과정대로 만들어진 1차원 배열을 return 하도록 solution 함수를 완성해주세요.\n",
    "\n",
    "## 제한사항\n",
    "* 1 ≤ n ≤ 107    \n",
    "* 0 ≤ left ≤ right < n2\n",
    "* right - left < 105\n",
    "\n",
    "## 입출력 예\n",
    "|n\t|left|\tright|\tresult|\n",
    "|---|---|---|---|\n",
    "|3\t|2|\t5|\t[3,2,2,3]|\n",
    "|4|\t7|\t14|\t[4,3,3,3,4,4,4,4]|\n"
   ]
  },
  {
   "cell_type": "code",
   "execution_count": 68,
   "id": "82725375",
   "metadata": {},
   "outputs": [],
   "source": [
    "def solution(n, left, right):\n",
    "    answer = []\n",
    "\n",
    "    for i in range(left, right+1):\n",
    "        answer.append(max(divmod(i, n)) + 1)\n",
    "    return answer"
   ]
  },
  {
   "cell_type": "markdown",
   "id": "2783ad71",
   "metadata": {},
   "source": [
    "## 문제풀이\n",
    "맨처음에는 단순하게 이차원배열로 이중 for문으로 하나하나 방문하면서 해당 행,열에 맞는 값을 넣어 주었는데, 이러니까 자꾸 시간초과가 떠서 무조건 for문 하나로 풀려고 규칙을 찾아내서 풀었다. \n",
    "\n",
    "위와 같은 방법으로 행렬을 채우게 되면, 행의 값과 열의 값중에 더 큰 값을 갖는 값 + 1 이 해당  위치의 값이므로, 이차원배열을 divmod()로 몫과 나머지로 받아 그 중 더 큰 값에 +1 을 해서 행렬에 넣어주면된다.\n"
   ]
  }
 ],
 "metadata": {
  "kernelspec": {
   "display_name": "Python 3",
   "language": "python",
   "name": "python3"
  },
  "language_info": {
   "codemirror_mode": {
    "name": "ipython",
    "version": 3
   },
   "file_extension": ".py",
   "mimetype": "text/x-python",
   "name": "python",
   "nbconvert_exporter": "python",
   "pygments_lexer": "ipython3",
   "version": "3.8.8"
  }
 },
 "nbformat": 4,
 "nbformat_minor": 5
}
