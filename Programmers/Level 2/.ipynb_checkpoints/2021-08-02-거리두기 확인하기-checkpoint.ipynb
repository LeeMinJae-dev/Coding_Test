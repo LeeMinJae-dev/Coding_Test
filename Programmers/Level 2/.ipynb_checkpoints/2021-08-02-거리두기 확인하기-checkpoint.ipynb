{
 "cells": [
  {
   "cell_type": "markdown",
   "id": "6f32bcd3",
   "metadata": {},
   "source": [
    "---\n",
    "title : \"[Programmers] 거리두기 확인하기 (Python3)\"\n",
    "toc: true\n",
    "toc_sticky : true\n",
    "toc_lable : \"On this Page\"\n",
    "categories : programmers\n",
    "---\n",
    "## 문제 \n",
    "개발자를 희망하는 죠르디가 카카오에 면접을 보러 왔습니다.\n",
    "코로나 바이러스 감염 예방을 위해 응시자들은 거리를 둬서 대기를 해야하는데, \n",
    "개발 직군 면접인 만큼    \n",
    "아래와 같은 규칙으로 대기실에 거리를 두고 앉도록 안내하고 있습니다.\n",
    ">* 대기실은 5개이며, 각 대기실은 5x5 크기입니다.\n",
    ">* 거리두기를 위하여 응시자들 끼리는 맨해튼 거리1가 2 이하로 앉지 말아 주세요.\n",
    ">* 단 응시자가 앉아있는 자리 사이가 파티션으로 막혀 있을 경우에는 허용합니다.\n",
    "\n",
    "응시자가 앉아있는 자리(P)를 의미합니다.\t빈 테이블(O)을 의미합니다.\t파티션(X)을 의미합니다.\n",
    "\n",
    "예를들어,\n",
    "\n",
    "PXP   \n",
    "위 그림처럼 자리 사이에 파티션이 존재한다면 맨해튼 거리가 2여도 거리두기를 지킨 것입니다.\n",
    "\n",
    "PX   \n",
    "XP   \n",
    "위 그림처럼 파티션을 사이에 두고 앉은 경우도 거리두기를 지킨 것입니다.\t\n",
    "\n",
    "PX   \n",
    "OP   \n",
    "위 그림처럼 자리 사이가 맨해튼 거리 2이고 사이에 빈 테이블이 있는 경우는 거리두기를 지키지 않은 것입니다.\n",
    "\n",
    "\n",
    "5개의 대기실을 본 죠르디는 각 대기실에서 응시자들이 거리두기를 잘 기키고 있는지 알고 싶어졌습니다. 자리에 앉아있는 응시자들의 정보와 대기실 구조를 대기실별로 담은 2차원 문자열 배열 places가 매개변수로 주어집니다. 각 대기실별로 거리두기를 지키고 있으면 1을, 한 명이라도 지키지 않고 있으면 0을 배열에 담아 return 하도록 solution 함수를 완성해 주세요.\n",
    "\n",
    "## 제한사항\n",
    "* places의 행 길이(대기실 개수) = 5\n",
    " * places의 각 행은 하나의 대기실 구조를 나타냅니다.\n",
    "* places의 열 길이(대기실 세로 길이) = 5\n",
    "* places의 원소는 P,O,X로 이루어진 문자열입니다.\n",
    " * places 원소의 길이(대기실 가로 길이) = 5\n",
    " * P는 응시자가 앉아있는 자리를 의미합니다.\n",
    " * O는 빈 테이블을 의미합니다.\n",
    " * X는 파티션을 의미합니다.\n",
    "* 입력으로 주어지는 5개 대기실의 크기는 모두 5x5 입니다.\n",
    "* return 값 형식\n",
    " * 1차원 정수 배열에 5개의 원소를 담아서 return 합니다.\n",
    " * places에 담겨 있는 5개 대기실의 순서대로, 거리두기 준수 여부를 차례대로 배열에 담습니다.\n",
    " * 각 대기실 별로 모든 응시자가 거리두기를 지키고 있으면 1을, 한 명이라도 지키지 않고 있으면 0을 담습니다.\n",
    "\n",
    "## 입출력 예\n",
    "|places|\tresult|\n",
    "|:---:|:---:|\n",
    "|[[\"POOOP\", \"OXXOX\", \"OPXPX\", \"OOXOX\", \"POXXP\"], [\"POOPX\", \"OXPXP\", \"PXXXO\", \"OXXXO\", \"OOOPP\"], [\"PXOPX\", \"OXOXP\", \"OXPOX\", \"OXXOP\", \"PXPOX\"], [\"OOOXX\", \"XOOOX\", \"OOOXX\", \"OXOOX\", \"OOOOO\"], [\"PXPXP\", \"XPXPX\", \"PXPXP\", \"XPXPX\", \"PXPXP\"]]|\t[1, 0, 1, 1, 1]|\n",
    "\n",
    "## 문제풀이\n",
    "이 문제는 bfs를 이용해서 푸는 문제인데, 뭔가 너무 복잡하게 생각해서 오래 걸린 문제였다. 거리두기 문제가 아닌 바이러스를 퍼뜨리는 문제라고 생각하니, 쉽게 풀수 있었는데, p가 바이러스를 놓는위치라고 생각하고 거리가 2보다 커지거나, 파티션을 만나면 바이러스가 더 이상 못퍼진다고 생각하면 동일한 결과로 문제를 풀 수 있다.\n",
    "\n",
    "## 코드"
   ]
  },
  {
   "cell_type": "code",
   "execution_count": 114,
   "id": "e5bec9b4",
   "metadata": {},
   "outputs": [],
   "source": [
    "from collections import deque\n",
    "\n",
    "def solution(places):\n",
    "    def bfs(x,y):\n",
    "        dx = [-1,1,0,0]\n",
    "        dy = [0,0,-1,1]\n",
    "        q = deque()\n",
    "   \n",
    "        q.append([x,y])\n",
    "        while q:\n",
    "            nx,ny = q.popleft()\n",
    "            if visited[nx][ny] == 0:\n",
    "                visited[nx][ny] +=1\n",
    "            for i in range(4):\n",
    "                sx = nx+dx[i]\n",
    "                sy = ny+dy[i]\n",
    "                if 0 <= sx < 5 and 0 <= sy < 5 and visited[sx][sy] ==0:\n",
    "                    if room[sx][sy] ==  'X':\n",
    "                        continue\n",
    "                    if room[sx][sy] == 'P':\n",
    "                        visited[sx][sy] = 1\n",
    "                        distance.append(visited[nx][ny])\n",
    "                        q.append([sx,sy])\n",
    "                    else:\n",
    "                        visited[sx][sy] = visited[nx][ny] + 1\n",
    "                        q.append([sx,sy])\n",
    "        return visited\n",
    "    answer = []\n",
    "    for place in places:\n",
    "        \n",
    "        room = []\n",
    "        for pl in place:\n",
    "            room.append(list(pl))\n",
    "    \n",
    "        distance = []                   \n",
    "        visited = [[0 for i in range(5)]for i in range(5)]\n",
    "        for i in range(5):\n",
    "            for j in range(5):\n",
    "                if room[i][j] == \"P\":\n",
    "                    bfs(i,j)\n",
    "        #print(visited)\n",
    "        \n",
    "        if 1 in distance or 2 in distance:\n",
    "            answer.append(0)\n",
    "        else:\n",
    "            answer.append(1)\n",
    "                 \n",
    "                            \n",
    "    return answer"
   ]
  },
  {
   "cell_type": "code",
   "execution_count": 115,
   "id": "88634f05",
   "metadata": {},
   "outputs": [
    {
     "data": {
      "text/plain": [
       "[1, 0, 1, 1, 1]"
      ]
     },
     "execution_count": 115,
     "metadata": {},
     "output_type": "execute_result"
    }
   ],
   "source": [
    "solution([[\"POOOP\", \"OXXOX\", \"OPXPX\", \"OOXOX\", \"POXXP\"], [\"POOPX\", \"OXPXP\", \"PXXXO\", \"OXXXO\", \"OOOPP\"], [\"PXOPX\", \"OXOXP\", \"OXPOX\", \"OXXOP\", \"PXPOX\"], [\"OOOXX\", \"XOOOX\", \"OOOXX\", \"OXOOX\", \"OOOOO\"], [\"PXPXP\", \"XPXPX\", \"PXPXP\", \"XPXPX\", \"PXPXP\"]])"
   ]
  }
 ],
 "metadata": {
  "kernelspec": {
   "display_name": "Python 3",
   "language": "python",
   "name": "python3"
  },
  "language_info": {
   "codemirror_mode": {
    "name": "ipython",
    "version": 3
   },
   "file_extension": ".py",
   "mimetype": "text/x-python",
   "name": "python",
   "nbconvert_exporter": "python",
   "pygments_lexer": "ipython3",
   "version": "3.8.8"
  }
 },
 "nbformat": 4,
 "nbformat_minor": 5
}
