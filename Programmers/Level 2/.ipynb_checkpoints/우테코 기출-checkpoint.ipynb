{
 "cells": [
  {
   "cell_type": "markdown",
   "id": "af712443",
   "metadata": {},
   "source": [
    "## 문제 1\n",
    "계좌에 들어있는 돈 일부를 은행에서 출금하고자 합니다.            \n",
    "돈 담을 지갑이 최대한 가볍도록 큰 금액의 화폐 위주로 받습니다.          \n",
    "돈의 액수 money가 매개변수로 주어질 때, 오만원권, 만원권, 오천원권, 천원권, 오백원 동전, 백원 동전, 십원 동전, 일원 동전 각 몇 개로 변환되는지 금액이 금액이 큰 순서대로 배열에 담아 return 하도록 solution 메서드를 완성해주세요.\n",
    "\n",
    "## 제한사항 \n",
    "* money는 1 이상 1000000 이하인 자연수입니다.\n",
    "\n",
    "## 입출력 예\n",
    "|money|result|\n",
    "|:---:|:---:|\n",
    "|50237|[1,0,0,0,0,0,2,3,7]|\n",
    "|15000|[0,1,1,0,0,0,0,0,0]|\n",
    "\n",
    "## 입출력 예 설명\n",
    "입출력 예 #1\n",
    "50237원은 5만원권 1매, 100원짜리 동전 2개, 10원짜리 동전 3개, 1원짜리 동전 7개로 만들 수 있습니다.\n",
    "\n",
    "입출력 예 #2\n",
    "15000원은 만원권 1매 5천 원권 1매로 만들 수 있습니다.\n",
    "\n",
    "## 코드"
   ]
  },
  {
   "cell_type": "code",
   "execution_count": 45,
   "id": "eba8d25b",
   "metadata": {},
   "outputs": [],
   "source": [
    "def solution(money):\n",
    "    result = [0,0,0,0,0,0,0,0]\n",
    "    billCoin = [50000, 10000, 5000, 1000, 500, 100, 10, 1]\n",
    "    while money > 1:\n",
    "        for i, coin in enumerate(billCoin):\n",
    "            if money >= coin:    \n",
    "                \n",
    "                result[i] = money // coin\n",
    "                money = money%coin\n",
    "                       \n",
    "    return result"
   ]
  },
  {
   "cell_type": "code",
   "execution_count": 48,
   "id": "e036e26e",
   "metadata": {},
   "outputs": [
    {
     "data": {
      "text/plain": [
       "[1, 0, 0, 0, 0, 2, 3, 7]"
      ]
     },
     "execution_count": 48,
     "metadata": {},
     "output_type": "execute_result"
    }
   ],
   "source": [
    "solution(50237)"
   ]
  },
  {
   "cell_type": "code",
   "execution_count": 49,
   "id": "d2cad04a",
   "metadata": {},
   "outputs": [
    {
     "data": {
      "text/plain": [
       "[0, 1, 1, 0, 0, 0, 0, 0]"
      ]
     },
     "execution_count": 49,
     "metadata": {},
     "output_type": "execute_result"
    }
   ],
   "source": [
    "solution(15000)"
   ]
  },
  {
   "cell_type": "markdown",
   "id": "a236f1d9",
   "metadata": {},
   "source": [
    "## 문제 3\n",
    "어느 연못에 엄마 말씀을 좀처럼 듣지 않는 청개구리가 살고 있었습니다.\n",
    "청개구리는 엄마가 하는 말은 무엇이든 반대로 말하였습니다.\n",
    "\n",
    "엄마 말씀 word가 매개변수로 주어질 때, 아래 청개구리 사전을 참고해 반대로 변환하여 return 하도록\n",
    "solution 메서드를 완성해주세요\n",
    "\n",
    "A B C D E F G H I J K L M N O P Q R S T U V H W X Y Z            \n",
    "Z Y X W H V U T S R Q P O N M L K J I H G F E D C B A\n",
    "\n",
    "## 제한사항 \n",
    "* word 는 길이가 1이상 1000 이하인 문자열입니다.\n",
    "* 알파벳 외의 문자는 변환하지 않습니다.\n",
    "* 알파벳 대문자는 알파벳 대문자로, 알파벳 소문자는 알파벳 소문자로 변환합니다.\n",
    "\n",
    "\n",
    "## 입출력 예\n",
    "|word|result|\n",
    "|:---:|:---:|\n",
    "|I love you|R olev blf|\n",
    "\n",
    "\n",
    "## 코드"
   ]
  },
  {
   "cell_type": "code",
   "execution_count": 53,
   "id": "60bff390",
   "metadata": {},
   "outputs": [],
   "source": [
    "import re\n",
    "m = re.findall('[a-z]+', \"python!@#$\")\n",
    "\n",
    "def solution2(word):\n",
    "    alpha = ['A','B','C','D','E','F','G','H','I','J','K','L','M','N','O','P','Q','R','S','T','U','V','W','X','Y','Z']\n",
    "    reverseAlpha = []\n",
    "    for i in reversed(alpha):\n",
    "        reverseAlpha.append(i)\n",
    "       \n",
    "    for i in alpha[:26]:\n",
    "        alpha.append(i.lower())\n",
    "        \n",
    "    for i in reverseAlpha[:26]:\n",
    "        reverseAlpha.append(i.lower())\n",
    "    alpha.append(' ')\n",
    "    reverseAlpha.append(' ')\n",
    "    word = list(word)\n",
    "    \n",
    "    for index, w in enumerate(word):\n",
    "        if w not in alpha:\n",
    "            pass\n",
    "        else: \n",
    "            word[index] = reverseAlpha[alpha.index(w)]\n",
    "        \n",
    "    return \"\".join(word)\n",
    "    "
   ]
  },
  {
   "cell_type": "code",
   "execution_count": 55,
   "id": "e6edcc34",
   "metadata": {},
   "outputs": [
    {
     "data": {
      "text/plain": [
       "'R olev blf'"
      ]
     },
     "execution_count": 55,
     "metadata": {},
     "output_type": "execute_result"
    }
   ],
   "source": [
    "solution2(\"I love you\")"
   ]
  },
  {
   "cell_type": "markdown",
   "id": "e178be43",
   "metadata": {},
   "source": [
    "## 문제 4\n",
    "포비와 크롱이 페이지 번호가 1부터 시작되는 400 페이지의 책을 주웠습니다. 책을 살펴보니 왼쪽 페이지는 홀수, 오른쪽 페이지는 짝수 번호이고 모든페이지에는 번호가 적혀있었습니다. 책이 마음에든 포비와 크롱은 페이지 번호 게임을 통해 게임에서 이긴 사람이 책을 갖기로 합니다. 페이지 번호 게임의 규칙은 아래와 같습니다.\n",
    "1. 책을 임의로 펼칩니다.\n",
    "2. 왼쪽 페이지 번호의 각 자리 숫자를 모두 더하거나, 모두 곱해 가장 큰 수를 구합니다.\n",
    "3. 오른쪽 페이지 번호의 각 자리 숫자를 모두 더하거나, 모두 곱해 가장 큰 수를 구합니다.\n",
    "4. 2~3 과정에서 가장 큰 수를 본인의 점수로 합니다.\n",
    "5. 점수로 비교해 가장 높은 사람이 게임의 승자입니다.\n",
    "6. 시작 면이나 마지막 면이 나오도록 책을 펼치지 않습니다.\n",
    "\n",
    "포비와 크롱이 펼친 페이지가 들어있는 배열 pobi와 crong이 주어 질 때, 포비가 이긴다면 1, 크롱이 이긴다면 2, 무승부는 0, 예외사항은 -1로 return 하도록 solution을 완성해주세요.\n",
    "\n",
    "## 제한사항 \n",
    "* pobi와 crong의 길이는 2입니다.\n",
    "* pobi와 crong에는 [왼쪽 페이지 번호, 오른쪽 페이지 번호]가 순서대로 들어있습니다.\n",
    "\n",
    "\n",
    "\n",
    "## 입출력 예\n",
    "|pobi|crong|result|\n",
    "|:---:|:---:|:---:|\n",
    "|[97,98]|[197,198]|0|\n",
    "|[131,132]|[211,212]|1|\n",
    "|[99,102]|[211,212]|-1|\n",
    "\n",
    "포비의 점수는 72점, 크롱의 점수도 72점이므로 무승부 입니다.\n",
    "\n",
    "## 코드"
   ]
  },
  {
   "cell_type": "code",
   "execution_count": 77,
   "id": "5fde658f",
   "metadata": {},
   "outputs": [],
   "source": [
    "def solution(pobi, crong):\n",
    "    pobiScore = 0\n",
    "    crongScore = 0\n",
    "    if pobi[0]%2 == 1 and pobi[1]%2 == 0 and crong[0]%2 == 1 and crong[1]%2 == 0 and pobi[0]+1 == pobi[1] and crong[0]+1 == crong[1]:\n",
    "        \n",
    "        for player in [pobi, crong]: \n",
    "            left = list(str(player[0]))\n",
    "            right = list(str(player[1]))\n",
    "\n",
    "            for page in [left, right]:\n",
    "                hap = 0\n",
    "                gop = 1\n",
    "                for num in left:\n",
    "                    hap += int(num)\n",
    "                    gop *= int(num)\n",
    "                if player == pobi:\n",
    "                    pobiScore = max(hap, gop)\n",
    "                if player == crong:\n",
    "                    crongScore = max(hap, gop)\n",
    "        if pobiScore > crongScore:\n",
    "            return 1\n",
    "        if pobiScore < crongScore:\n",
    "            return 2\n",
    "        if pobiScore == crongScore:\n",
    "            return 0\n",
    "    else:\n",
    "        return -1"
   ]
  },
  {
   "cell_type": "code",
   "execution_count": 78,
   "id": "a4abb4cd",
   "metadata": {},
   "outputs": [
    {
     "data": {
      "text/plain": [
       "-1"
      ]
     },
     "execution_count": 78,
     "metadata": {},
     "output_type": "execute_result"
    }
   ],
   "source": [
    "solution([99,102], [211,212])"
   ]
  },
  {
   "cell_type": "markdown",
   "id": "29df6ce2",
   "metadata": {},
   "source": [
    "## 문제 5\n",
    "배달이가 좋아하는 369게임 (배달이는 아재입니다.)을 하고자 합니다.\n",
    "놀이법은 1부터 숫자를 하나씩 대면서, 3,6,9가 들어가는 숫자는 숫자를 말하는 대신 3,6,9의 개수만큼 손뼉을 쳐야합니다.\n",
    "\n",
    "숫자 number가 매개변수로 주어질 때, 1부터 number까지 손뼉을 몇 번 쳐야 하는지 횟수를 return 하도록 solution 메서드를 완성해주세요.\n",
    "\n",
    "## 제한사항 \n",
    "* number는 1이상 10,000 이하인 자연수입니다.\n",
    "\n",
    "## 입출력 예\n",
    "|number|result|\n",
    "|:---:|:---:|\n",
    "|13|4|\n",
    "|33|14|\n",
    "\n",
    "\n",
    "## 코드"
   ]
  },
  {
   "cell_type": "code",
   "execution_count": 87,
   "id": "4b6ddf0a",
   "metadata": {},
   "outputs": [],
   "source": [
    "def solution(number):\n",
    "    count = 0\n",
    "    for num in range(1,number+1):\n",
    "        numList = list(str(num))\n",
    "        three = numList.count('3')\n",
    "        six = numList.count('6')\n",
    "        nine = numList.count('9')\n",
    "        count += three + six + nine\n",
    "    return count"
   ]
  },
  {
   "cell_type": "code",
   "execution_count": 97,
   "id": "15d8f0d8",
   "metadata": {},
   "outputs": [
    {
     "data": {
      "text/plain": [
       "18"
      ]
     },
     "execution_count": 97,
     "metadata": {},
     "output_type": "execute_result"
    }
   ],
   "source": [
    "solution(36)"
   ]
  },
  {
   "cell_type": "markdown",
   "id": "a36a58c8",
   "metadata": {},
   "source": [
    "## 문제 6\n",
    "성공한 덕후로써 연예 기획사에 입사를 하게 된 배달이는 첫 프로젝트로 콘서트 티켓팅을 진행하게 되었습니다.      \n",
    "기존에는 팬으로서 참여했던 티켓팅을 운영자로서 참여하게 되어서 감회가 새로운 배달이었지만 한편으로 팬들의 마음을 누구보다 잘 알았기 때문에.    \n",
    "그들의 힘듦을 최소화 해주고 싶다는 책임감에 잠 못 이루었습니다.     \n",
    "결국 티켓팅 시뮬레이션을 통해 적절한 솔루션을 찾기 위해 테스트 시뮬레이션을 만들기로 하였습니다.\n",
    "\n",
    "총 티켓 수 totalTicket과 접속/취소 로그 배열 logs가 주어질 때, 아래의 시뮬레이션 설명을 참고하여 티켓팅에 성공한 유저의 아이디 목록을 추출하여 return 하도록 solution 메서드를 완성해주세요.\n",
    "\n",
    "시뮬레이션 설명\n",
    "\n",
    "* 접속 시도를 하면 request 로그가 남고 접속 후 1분 이내 접속을 종료하면 leave 로그가 남는다. (09:00:00에 request 후 09:00:59에 leave 시 구매 실패, 09:00:00에 request 후 09:01:00에 leave시 구매 성공)\n",
    "\n",
    "* 이미 한 유저가 접속한 상태라면 다른 유저들은 접속을 할 수 없으며 다시 접속을 시도해야 한다.\n",
    "* 티켓을 구매하기 위해서는 서버 접속 후 1분을 유지해야한다.\n",
    "* 티켓 구매를 성공한 유저는 접속은 가능하지만 다시 구매는 할 수 없다.\n",
    "\n",
    "## 제한사항 \n",
    "* number는 1이상 10,000 이하인 자연수입니다.\n",
    "\n",
    "## 입출력 예\n",
    "입력 logs = [            \n",
    "            \"woni request 09:12:29\",       \n",
    "            \"brown request 09:23:11\",        \n",
    "            \"brown leave 09:23:44\",        \n",
    "            \"jason request 09:33:51\",       \n",
    "            \"jun request 09:33:56\",      \n",
    "            \"cu request 09:34:02\"       \n",
    "            ]       \n",
    "출력        \n",
    "[      \n",
    "    \"jason\",       \n",
    "    \"woni\"      \n",
    "]      \n",
    "\n",
    "## 코드"
   ]
  },
  {
   "cell_type": "code",
   "execution_count": 172,
   "id": "8aaa311f",
   "metadata": {},
   "outputs": [],
   "source": [
    "%timeit\n",
    "def solution(logs):\n",
    "    login = []\n",
    "    answer = []\n",
    "    for log in logs:\n",
    "        print(log)\n",
    "        name, state, time = log.split()\n",
    "        seconds = int(time[0:2]) * 3600 + int(time[3:5]) * 60 + int(time[6:8])\n",
    "        \n",
    "        if login == []:\n",
    "            login.append([name,state,seconds])\n",
    "       \n",
    "        if len(login) == 1:\n",
    "            if state == \"request\":\n",
    "                if seconds - login[0][2] >= 60:\n",
    "                    answer.append(login.pop()[0])\n",
    "                    login.append([name,state,seconds])\n",
    "                else:\n",
    "                    pass\n",
    "            if state == \"leave\":\n",
    "                if seconds - login[0][2] >= 60:\n",
    "                    answer.append(login.pop()[0])\n",
    "                    if name not in answer:\n",
    "                        login.append([name,state,seconds])\n",
    "                else:\n",
    "                    login.pop()\n",
    "    if login != []:\n",
    "         answer.append(login.pop()[0])\n",
    "    answer.sort()              \n",
    "    return answer"
   ]
  },
  {
   "cell_type": "code",
   "execution_count": 177,
   "id": "a90bc9f6",
   "metadata": {},
   "outputs": [
    {
     "name": "stdout",
     "output_type": "stream",
     "text": [
      "woni request 09:12:29\n",
      "brown request 09:23:11\n",
      "brown leave 09:23:44\n",
      "brown request 09:33:00\n",
      "jason request 09:33:51\n",
      "jun request 09:33:56\n",
      "cu request 09:34:02\n",
      "CPU times: user 538 µs, sys: 339 µs, total: 877 µs\n",
      "Wall time: 724 µs\n"
     ]
    },
    {
     "data": {
      "text/plain": [
       "['brown', 'cu', 'woni']"
      ]
     },
     "execution_count": 177,
     "metadata": {},
     "output_type": "execute_result"
    }
   ],
   "source": [
    "%%time\n",
    "solution([\"woni request 09:12:29\",\n",
    "    \"brown request 09:23:11\",\n",
    "    \"brown leave 09:23:44\",\n",
    "    \"brown request 09:33:00\",\n",
    "    \"jason request 09:33:51\",\n",
    "    \"jun request 09:33:56\",\n",
    "    \"cu request 09:34:02\"\n",
    "    ])"
   ]
  },
  {
   "cell_type": "markdown",
   "id": "4c8434a9",
   "metadata": {},
   "source": [
    "## 문제 7\n",
    "암호문을 좋아하는 괴짜 개발자 브라운이 이번에는 중복 문자를 이용한 새로운 암호를 만들었습니다. 예를 들어 \"browoanoommnaon\"이라는 암호문은\n",
    "다음과 같은 순서로 해독할 수 있습니다.\n",
    "\n",
    "1. \"browoanoommnaon\"\n",
    "2. \"browoannaon\"\n",
    "3. \"browoaaon\"\n",
    "4. \"browoon\"\n",
    "5. \"brown\"\n",
    "\n",
    "임의의 문자열 cryptogram이 매개변수로 주어질 때, 연속하는 중복 문자들을 삭제한 결과를 return 하도록 solution을 작성하세요.\n",
    "\n",
    "\n",
    "## 제한사항 \n",
    "* cryptogram은 길이가 1 이상 1000 이하인 문자열입니다.\n",
    "* cryptogram은 알파멧 소문자로만 이루어져 있습니다.\n",
    "\n",
    "\n",
    "## 입출력 예\n",
    "|cryptogram|result|\n",
    "|:---:|:---:|\n",
    "|browoanoommnaon|brown|\n",
    "|zyelleyz|\"\"|\n",
    "\n",
    "## 코드"
   ]
  },
  {
   "cell_type": "code",
   "execution_count": 185,
   "id": "731954b5",
   "metadata": {},
   "outputs": [],
   "source": [
    "def solution(cryptogram):\n",
    "    cryp = list(cryptogram)\n",
    "    tempArray = []\n",
    "    tempArray.append(cryp[0])\n",
    "    for c in range(1,len(cryp)):\n",
    "        if cryp[c] == tempArray[-1]:\n",
    "            tempArray.pop()\n",
    "            pass\n",
    "        else:\n",
    "            tempArray.append(cryp[c])\n",
    "    return tempArray\n",
    "        \n",
    "        "
   ]
  },
  {
   "cell_type": "code",
   "execution_count": 186,
   "id": "c5693d07",
   "metadata": {},
   "outputs": [
    {
     "data": {
      "text/plain": [
       "[]"
      ]
     },
     "execution_count": 186,
     "metadata": {},
     "output_type": "execute_result"
    }
   ],
   "source": [
    "solution(\"zyelleyz\")"
   ]
  }
 ],
 "metadata": {
  "kernelspec": {
   "display_name": "Python 3",
   "language": "python",
   "name": "python3"
  },
  "language_info": {
   "codemirror_mode": {
    "name": "ipython",
    "version": 3
   },
   "file_extension": ".py",
   "mimetype": "text/x-python",
   "name": "python",
   "nbconvert_exporter": "python",
   "pygments_lexer": "ipython3",
   "version": "3.8.8"
  }
 },
 "nbformat": 4,
 "nbformat_minor": 5
}
