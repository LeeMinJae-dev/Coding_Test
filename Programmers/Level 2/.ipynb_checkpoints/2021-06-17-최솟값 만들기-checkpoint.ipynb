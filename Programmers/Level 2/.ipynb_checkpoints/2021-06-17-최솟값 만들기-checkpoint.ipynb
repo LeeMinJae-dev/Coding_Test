{
 "cells": [
  {
   "cell_type": "markdown",
   "id": "f8af545f",
   "metadata": {},
   "source": [
    "---\n",
    "title: \"[Programmers] 최솟값 만들기\"\n",
    "toc : true\n",
    "toc_sticky : true\n",
    "toc_label : \"On this Page\"\n",
    "categories : programmers\n",
    "\n",
    "---\n",
    "## 문제 설명\n",
    "길이가 같은 배열 A, B 두개가 있습니다. 각 배열은 자연수로 이루어져 있습니다. \n",
    "배열 A, B에서 각각 한 개의 숫자를 뽑아 두 수를 곱합니다. 이러한 과정을 배열의 길이만큼 반복하며, 두 수를 곱한 값을 누적하여 더합니다. 이때 최종적으로 누적된 값이 최소가 되도록 만드는 것이 목표입니다. (단, 각 배열에서 k번째 숫자를 뽑았다면 다음에 k번째 숫자는 다시 뽑을 수 없습니다.)\n",
    "* 예를 들어 A = [1, 4, 2] , B = [5, 4, 4] 라면\n",
    "A에서 첫번째 숫자인 1, B에서 첫번째 숫자인 5를 뽑아 곱하여 더합니다. (누적된 값 : 0 + 5(1x5) = 5)\n",
    "* A에서 두번째 숫자인 4, B에서 세번째 숫자인 4를 뽑아 곱하여 더합니다. (누적된 값 : 5 + 16(4x4) = 21)\n",
    "* A에서 세번째 숫자인 2, B에서 두번째 숫자인 4를 뽑아 곱하여 더합니다. (누적된 값 : 21 + 8(2x4) = 29)\n",
    "즉, 이 경우가 최소가 되므로 29를 return 합니다.\n",
    "\n",
    "배열 A, B가 주어질 때 최종적으로 누적된 최솟값을 return 하는 solution 함수를 완성해 주세요.\n",
    "\n",
    "## 제한사항\n",
    "    배열 A, B의 크기 : 1,000 이하의 자연수\n",
    "    배열 A, B의 원소의 크기 : 1,000 이하의 자연수\n",
    "\n",
    "## 입출력 예\n",
    "```\n",
    "A\t        B\t        answer\n",
    "[1, 4, 2]\t[5, 4, 4]\t29\n",
    "[1,2]\t    [3,4]\t    10\n",
    "```\n",
    "## 코드"
   ]
  },
  {
   "cell_type": "code",
   "execution_count": 3,
   "id": "947e9093",
   "metadata": {},
   "outputs": [],
   "source": [
    "A = [1,4,2]\n",
    "B = [5,4,4]"
   ]
  },
  {
   "cell_type": "code",
   "execution_count": 110,
   "id": "040b38f0",
   "metadata": {},
   "outputs": [],
   "source": [
    "def solution(A, B):\n",
    "    A.sort()\n",
    "    B.sort(reverse = True)\n",
    "    result = 0\n",
    "    for i,j in zip(A,B):\n",
    "        result +=(i*j)\n",
    "    return result\n",
    "        "
   ]
  },
  {
   "cell_type": "code",
   "execution_count": 111,
   "id": "69d93045",
   "metadata": {},
   "outputs": [
    {
     "data": {
      "text/plain": [
       "29"
      ]
     },
     "execution_count": 111,
     "metadata": {},
     "output_type": "execute_result"
    }
   ],
   "source": [
    "solution(A,B)"
   ]
  }
 ],
 "metadata": {
  "kernelspec": {
   "display_name": "Python 3",
   "language": "python",
   "name": "python3"
  },
  "language_info": {
   "codemirror_mode": {
    "name": "ipython",
    "version": 3
   },
   "file_extension": ".py",
   "mimetype": "text/x-python",
   "name": "python",
   "nbconvert_exporter": "python",
   "pygments_lexer": "ipython3",
   "version": "3.8.8"
  }
 },
 "nbformat": 4,
 "nbformat_minor": 5
}
