{
 "cells": [
  {
   "cell_type": "markdown",
   "id": "93f3eddf",
   "metadata": {},
   "source": [
    "---\n",
    "title : \"[Programmers] 영어 끝말잇기 (Python3)\"\n",
    "categories : programmers\n",
    "toc : true\n",
    "toc_sticky : ture\n",
    "toc_label : \"On this Page\"\n",
    "---\n",
    "## 문제 \n",
    "1부터 n까지 번호가 붙어있는 n명의 사람이 영어 끝말잇기를 하고 있습니다. 영어 끝말잇기는 다음과 같은 규칙으로 진행됩니다.\n",
    "1. 1번부터 번호 순서대로 한 사람씩 차례대로 단어를 말합니다.\n",
    "2. 마지막 사람이 단어를 말한 다음에는 다시 1번부터 시작합니다.\n",
    "3. 앞사람이 말한 단어의 마지막 문자로 시작하는 단어를 말해야 합니다.\n",
    "4. 이전에 등장했던 단어는 사용할 수 없습니다.\n",
    "5. 한 글자인 단어는 인정되지 않습니다.\n",
    "\n",
    "다음은 3명이 끝말잇기를 하는 상황을 나타냅니다.\n",
    "\n",
    "tank → kick → know → wheel → land → dream → mother → robot → tank\n",
    "\n",
    "위 끝말잇기는 다음과 같이 진행됩니다.\n",
    "\n",
    "* 1번 사람이 자신의 첫 번째 차례에 tank를 말합니다.\n",
    "* 2번 사람이 자신의 첫 번째 차례에 kick을 말합니다.\n",
    "* 3번 사람이 자신의 첫 번째 차례에 know를 말합니다.\n",
    "* 1번 사람이 자신의 두 번째 차례에 wheel을 말합니다.\n",
    "* (계속 진행)\n",
    "\n",
    "끝말잇기를 계속 진행해 나가다 보면, 3번 사람이 자신의 세 번째 차례에 말한 tank 라는 \n",
    "단어는 이전에 등장했던 단어이므로 탈락하게 됩니다.\n",
    "\n",
    "사람의 수 n과 사람들이 순서대로 말한 단어 words 가 매개변수로 주어질 때, 가장 먼저 탈락하는 사람의 번호와 그 사람이 자신의 몇 번째 차례에 탈락하는지를 구해서 return 하도록 solution 함수를 완성해주세요.\n",
    "\n",
    "## 제한 사항\n",
    "* 끝말잇기에 참여하는 사람의 수 n은 2 이상 10 이하의 자연수입니다.\n",
    "* words는 끝말잇기에 사용한 단어들이 순서대로 들어있는 배열이며, 길이는 n 이상 100 이하입니다.\n",
    "* 단어의 길이는 2 이상 50 이하입니다.\n",
    "* 모든 단어는 알파벳 소문자로만 이루어져 있습니다.\n",
    "* 끝말잇기에 사용되는 단어의 뜻(의미)은 신경 쓰지 않으셔도 됩니다.\n",
    "* 정답은 [ 번호, 차례 ] 형태로 return 해주세요.\n",
    "* 만약 주어진 단어들로 탈락자가 생기지 않는다면, [0, 0]을 return 해주세요.\n",
    "\n",
    "## 입출력 예\n",
    "|n|\twords|\tresult|\n",
    "|:---:|:---:|:---:|\n",
    "|3|\t[\"tank\", \"kick\", \"know\", \"wheel\", \"land\", \"dream\", \"mother\", \"robot\", \"tank\"]|\t[3,3]|\n",
    "|5\t|[\"hello\", \"observe\", \"effect\", \"take\", \"either\", \"recognize\", \"encourage\", \"ensure\", \"establish\", \"hang\", \"gather\", \"refer\", \"reference\", \"estimate\", \"executive\"]\t|[0,0]|\n",
    "|2\t|[\"hello\", \"one\", \"even\", \"never\", \"now\", \"world\", \"draw\"]\t|[1,3]|\n",
    "\n",
    "## 입출력 예 설명\n",
    "입출력 예 #1\n",
    "3명의 사람이 끝말잇기에 참여하고 있습니다.\n",
    "\n",
    "* 1번 사람 : tank, wheel, mother\n",
    "* 2번 사람 : kick, land, robot\n",
    "* 3번 사람 : know, dream, tank\n",
    "\n",
    "와 같은 순서로 말을 하게 되며, 3번 사람이 자신의 세 번째 차례에 말한 tank라는 단어가 1번 사람이 자신의 첫 번째 차례에 말한 tank와 같으므로 3번 사람이 자신의 세 번째 차례로 말을 할 때 처음 탈락자가 나오게 됩니다.\n",
    "\n",
    "입출력 예 #2\n",
    "5명의 사람이 끝말잇기에 참여하고 있습니다.\n",
    "\n",
    "* 1번 사람 : hello, recognize, gather\n",
    "* 2번 사람 : observe, encourage, refer\n",
    "* 3번 사람 : effect, ensure, reference\n",
    "* 4번 사람 : take, establish, estimate\n",
    "* 5번 사람 : either, hang, executive\n",
    "\n",
    "와 같은 순서로 말을 하게 되며, 이 경우는 주어진 단어로만으로는 탈락자가 발생하지 않습니다. 따라서 [0, 0]을 return하면 됩니다.\n",
    "\n",
    "입출력 예 #3\n",
    "2명의 사람이 끝말잇기에 참여하고 있습니다.\n",
    "\n",
    "* 1번 사람 : hello, even, now, draw\n",
    "* 2번 사람 : one, never, world\n",
    "\n",
    "와 같은 순서로 말을 하게 되며, 1번 사람이 자신의 세 번째 차례에 'r'로 시작하는 단어 대신, n으로 시작하는 now를 말했기 때문에 이때 처음 탈락자가 나오게 됩니다.\n",
    "\n",
    "## 문제풀이\n",
    "난이도가 2단계중에서 낮은 수준에 속하는 문제였다. 단순하게 이전 문자의 마지막과 다음문자의 첫 문자가 일치하는지 확인해주고, used리스트를 만들어서 이전에 사용된적 있는 단어인지 확인해주면 된다.\n",
    "\n",
    "## 코드"
   ]
  },
  {
   "cell_type": "code",
   "execution_count": 40,
   "id": "38db9061",
   "metadata": {},
   "outputs": [],
   "source": [
    "def solution(n, words):\n",
    "    used = []\n",
    "    last = words[0][0]\n",
    "    for i,word in enumerate(words):\n",
    "        if last != word[0] or word in used:\n",
    "            return [(i%n)+1,(i//n)+1]\n",
    "        used.append(word)   \n",
    "        last = word[-1]\n",
    "    return [0,0]    \n"
   ]
  },
  {
   "cell_type": "code",
   "execution_count": 42,
   "id": "4c7edbc9",
   "metadata": {},
   "outputs": [
    {
     "data": {
      "text/plain": [
       "[0, 0]"
      ]
     },
     "execution_count": 42,
     "metadata": {},
     "output_type": "execute_result"
    }
   ],
   "source": [
    "solution(5,[\"hello\", \"observe\", \"effect\", \"take\", \"either\", \"recognize\", \"encourage\", \"ensure\", \"establish\", \"hang\", \"gather\", \"refer\", \"reference\", \"estimate\", \"executive\"])"
   ]
  },
  {
   "cell_type": "markdown",
   "id": "07478056",
   "metadata": {},
   "source": [
    "## 노트\n",
    "좋은 풀이가있어서 하나 더 첨부한다.    \n",
    "나는 따로 used 리스트와 last라는 변수를 만들어서 사용된 문자를 담고, 문자의 끝문자를 저장했는데, 그렇게 하지않고 words[:p]로 지금 순서 이전의 리스트를 used로 사용하고, 이전문자의 끝말도 따로 변수에 저장하지 않고 words[p-1][-1]로 인덱싱을 사용하여 메모리 공간을 내가 푼 풀이보다 훨씬 아낀 좋은 풀이인 것 같다. 나도 어떻게 하면 더 코드와 메모리를 줄일 수 있을지 더 신중하게 생각하며 문제를 풀어야겠다."
   ]
  },
  {
   "cell_type": "code",
   "execution_count": 43,
   "id": "65520254",
   "metadata": {},
   "outputs": [],
   "source": [
    "def solution(n, words):\n",
    "    for p in range(1, len(words)):\n",
    "        if words[p][0] != words[p-1][-1] or words[p] in words[:p]: return [(p%n)+1, (p//n)+1]\n",
    "    else:\n",
    "        return [0,0]"
   ]
  }
 ],
 "metadata": {
  "kernelspec": {
   "display_name": "Python 3",
   "language": "python",
   "name": "python3"
  },
  "language_info": {
   "codemirror_mode": {
    "name": "ipython",
    "version": 3
   },
   "file_extension": ".py",
   "mimetype": "text/x-python",
   "name": "python",
   "nbconvert_exporter": "python",
   "pygments_lexer": "ipython3",
   "version": "3.8.8"
  }
 },
 "nbformat": 4,
 "nbformat_minor": 5
}
