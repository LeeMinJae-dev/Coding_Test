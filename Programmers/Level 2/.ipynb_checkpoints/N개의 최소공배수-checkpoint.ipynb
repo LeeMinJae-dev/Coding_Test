{
 "cells": [
  {
   "cell_type": "markdown",
   "id": "bced2d05",
   "metadata": {},
   "source": [
    "## 문제 설명\n",
    "두 수의 최소공배수(Least Common Multiple)란 입력된 두 수의 배수 중 공통이 되는 가장 작은 숫자를 의미합니다. 예를 들어 2와 7의 최소공배수는 14가 됩니다. 정의를 확장해서, n개의 수의 최소공배수는 n 개의 수들의 배수 중 공통이 되는 가장 작은 숫자가 됩니다. n개의 숫자를 담은 배열 arr이 입력되었을 때 이 수들의 최소공배수를 반환하는 함수, solution을 완성해 주세요.\n",
    "\n",
    "## 제한 사항\n",
    "    arr은 길이 1이상, 15이하인 배열입니다.\n",
    "    arr의 원소는 100 이하인 자연수입니다.\n",
    "\n",
    "## 입출력 예\n",
    "```\n",
    "arr\t        result\n",
    "[2,6,8,14]\t168\n",
    "[1,2,3]\t    6\n",
    "```\n"
   ]
  },
  {
   "cell_type": "code",
   "execution_count": 86,
   "id": "beeeb3e5",
   "metadata": {},
   "outputs": [],
   "source": [
    "arr = [1,2,3]"
   ]
  },
  {
   "cell_type": "code",
   "execution_count": 104,
   "id": "4d7b1621",
   "metadata": {},
   "outputs": [],
   "source": [
    "import pdb\n",
    "def solution(arr):\n",
    "    time = 1\n",
    "    num =0\n",
    "    \n",
    "    for i in range(0,len(arr)):\n",
    "        time *= arr[i]\n",
    "   \n",
    "    for i in range(1,time+1):\n",
    "        for j in arr:\n",
    "            if i%j == 0:\n",
    "                num+=1\n",
    "        if num == len(arr):\n",
    "            return i\n",
    "            break\n",
    "        else:\n",
    "            num = 0 \n",
    "       \n",
    "    "
   ]
  },
  {
   "cell_type": "code",
   "execution_count": 96,
   "id": "a7b23497",
   "metadata": {},
   "outputs": [
    {
     "data": {
      "text/plain": [
       "5"
      ]
     },
     "execution_count": 96,
     "metadata": {},
     "output_type": "execute_result"
    }
   ],
   "source": [
    "get_big(15, 20)"
   ]
  },
  {
   "cell_type": "code",
   "execution_count": 102,
   "id": "6bc6467f",
   "metadata": {},
   "outputs": [
    {
     "data": {
      "text/plain": [
       "0"
      ]
     },
     "execution_count": 102,
     "metadata": {},
     "output_type": "execute_result"
    }
   ],
   "source": [
    "6%3\n",
    "\n"
   ]
  },
  {
   "cell_type": "code",
   "execution_count": null,
   "id": "e0eeff1f",
   "metadata": {},
   "outputs": [],
   "source": []
  }
 ],
 "metadata": {
  "kernelspec": {
   "display_name": "Python 3",
   "language": "python",
   "name": "python3"
  },
  "language_info": {
   "codemirror_mode": {
    "name": "ipython",
    "version": 3
   },
   "file_extension": ".py",
   "mimetype": "text/x-python",
   "name": "python",
   "nbconvert_exporter": "python",
   "pygments_lexer": "ipython3",
   "version": "3.8.8"
  }
 },
 "nbformat": 4,
 "nbformat_minor": 5
}
