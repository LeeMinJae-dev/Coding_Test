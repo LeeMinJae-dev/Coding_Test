{
 "cells": [
  {
   "cell_type": "markdown",
   "id": "1ebf45e4",
   "metadata": {},
   "source": [
    "---\n",
    "title : \"[Programmers] 메뉴 리뉴얼 (Python3)\"\n",
    "toc : true\n",
    "toc_sticky : true\n",
    "toc_lable : \"On this Page\"\n",
    "categories : programmers\n",
    "---\n",
    "## 문제 \n",
    "레스토랑을 운영하던 스카피는 코로나19로 인한 불경기를 극복하고자 메뉴를 새로 구성하려고 고민하고 있습니다.     \n",
    "기존에는 단품으로만 제공하던 메뉴를 조합해서 코스요리 형태로 재구성해서 새로운 메뉴를 제공하기로 결정했습니다. 어떤 단품메뉴들을 조합해서 코스요리 메뉴로 구성하면 좋을 지 고민하던 \"스카피\"는 이전에 각 손님들이 주문할 때 가장 많이 함께 주문한 단품메뉴들을 코스요리 메뉴로 구성하기로 했습니다.      \n",
    "단, 코스요리 메뉴는 최소 2가지 이상의 단품메뉴로 구성하려고 합니다. 또한, 최소 2명 이상의 손님으로부터 주문된 단품메뉴 조합에 대해서만 코스요리 메뉴 후보에 포함하기로 했습니다.      \n",
    "예를 들어, 손님 6명이 주문한 단품메뉴들의 조합이 다음과 같다면,    \n",
    "(각 손님은 단품메뉴를 2개 이상 주문해야 하며, 각 단품메뉴는 A ~ Z의 알파벳 대문자로 표기합니다.)\n",
    "\n",
    "|손님 번호|주문한 단품메뉴 조합|\n",
    "|:---:|:---:|\n",
    "|1번 손님|A, B, C, F, G|\n",
    "|2번 손님|\tA, C|\n",
    "|3번 손님|\tC, D, E|\n",
    "|4번 손님|\tA, C, D, E|\n",
    "|5번 손님|\tB, C, F, G|\n",
    "|6번 손님|\tA, C, D, E, H|\n",
    "\n",
    "가장 많이 함께 주문된 단품메뉴 조합에 따라 \"스카피\"가 만들게 될 코스요리 메뉴 구성 후보는 다음과 같습니다.\n",
    "\n",
    "|코스 종류\t|메뉴 구성|\t설명|\n",
    "|:---:|:---:|:---:|\n",
    "|요리 2개 코스\t|A, C|\t1번, 2번, 4번, 6번 손님으로부터 총 4번 주문됐습니다.|\n",
    "|요리 3개 코스\t|C, D, E\t|3번, 4번, 6번 손님으로부터 총 3번 주문됐습니다.|\n",
    "|요리 4개 코스|\tB, C, F, G|\t1번, 5번 손님으로부터 총 2번 주문됐습니다.|\n",
    "|요리 4개 코스|\tA, C, D, E\t|4번, 6번 손님으로부터 총 2번 주문됐습니다.|\n",
    "\n",
    "각 손님들이 주문한 단품메뉴들이 문자열 형식으로 담긴 배열 orders, \"스카피\"가 추가하고 싶어하는 코스요리를 구성하는 단품메뉴들의 갯수가 담긴 배열 course가 매개변수로 주어질 때, \"스카피\"가 새로 추가하게 될 코스요리의 메뉴 구성을 문자열 형태로 배열에 담아 return 하도록 solution 함수를 완성해 주세요.\n",
    "\n",
    "## 제한사항\n",
    "* orders 배열의 크기는 2 이상 20 이하입니다.\n",
    "* orders 배열의 각 원소는 크기가 2 이상 10 이하인 문자열입니다.\n",
    " * 각 문자열은 알파벳 대문자로만 이루어져 있습니다.\n",
    " * 각 문자열에는 같은 알파벳이 중복해서 들어있지 않습니다.\n",
    "* course 배열의 크기는 1 이상 10 이하입니다.\n",
    " * course 배열의 각 원소는 2 이상 10 이하인 자연수가 오름차순으로 정렬되어 있습니다.\n",
    " * course 배열에는 같은 값이 중복해서 들어있지 않습니다.\n",
    "* 정답은 각 코스요리 메뉴의 구성을 문자열 형식으로 배열에 담아 사전 순으로 오름차순 정렬해서 return 해주세요.\n",
    " * 배열의 각 원소에 저장된 문자열 또한 알파벳 오름차순으로 정렬되어야 합니다.\n",
    " * 만약 가장 많이 함께 주문된 메뉴 구성이 여러 개라면, 모두 배열에 담아 return 하면 됩니다.\n",
    " * orders와 course 매개변수는 return 하는 배열의 길이가 1 이상이 되도록 주어집니다.\n",
    "\n",
    "## 입출력 예\n",
    "|orders|\tcourse|\tresult|\n",
    "|:---:|:---:|:---:|\n",
    "|[\"ABCFG\", \"AC\", \"CDE\", \"ACDE\", \"BCFG\", \"ACDEH\"]\t|[2,3,4]\t|[\"AC\", \"ACDE\", \"BCFG\", \"CDE\"]|\n",
    "|[\"ABCDE\", \"AB\", \"CD\", \"ADE\", \"XYZ\", \"XYZ\", \"ACD\"]|\t[2,3,5]\t|[\"ACD\", \"AD\", \"ADE\", \"CD\", \"XYZ\"]|\n",
    "|[\"XYZ\", \"XWY\", \"WXA\"]|\t[2,3,4]\t|[\"WX\", \"XY\"]|\n",
    "\n",
    "## 입출력 예에 대한 설명\n",
    "입출력 예 #1\n",
    "문제의 예시와 같습니다.\n",
    "\n",
    "입출력 예 #2\n",
    "AD가 세 번, CD가 세 번, ACD가 두 번, ADE가 두 번, XYZ 가 두 번 주문됐습니다.\n",
    "요리 5개를 주문한 손님이 1명 있지만, 최소 2명 이상의 손님에게서 주문된 구성만 코스요리 후보에 들어가므로, 요리 5개로 구성된 코스요리는 새로 추가하지 않습니다.\n",
    "\n",
    "입출력 예 #3\n",
    "WX가 두 번, XY가 두 번 주문됐습니다.\n",
    "3명의 손님 모두 단품메뉴를 3개씩 주문했지만, 최소 2명 이상의 손님에게서 주문된 구성만 코스요리 후보에 들어가므로, 요리 3개로 구성된 코스요리는 새로 추가하지 않습니다.\n",
    "또, 단품메뉴를 4개 이상 주문한 손님은 없으므로, 요리 4개로 구성된 코스요리 또한 새로 추가하지 않습니다.\n",
    "\n",
    "## 문제풀이\n",
    "카카오 문제들은 다 다른 문제들에서 풀어보지못한 유형으로 문제가 출제되는 것 같다. 문제를 정말 열심히 만드시는 듯 하다... 근데 이 문제는 솔직히 이해하기 너무 어렵게 써놔서 문제를 세번씩 풀었다. 내가 이해력이 떨어지는건가?? \n",
    "\n",
    "이 문제는 메뉴 자체들을 주문한 수를 세는게 아니라 각각의 손님들이 주문한 음식들을 하나의 코스를 시킨것으로 간주하고 거기서 조합을 모두 출력하여 각 course변수에 있는 숫자들의 조합별로 최대로 많이 나온 조합자체를 코스로 세야한다. \n",
    "\n",
    "## 코드"
   ]
  },
  {
   "cell_type": "code",
   "execution_count": 290,
   "id": "5a4218db",
   "metadata": {},
   "outputs": [],
   "source": [
    "from collections import defaultdict\n",
    "import operator\n",
    "from itertools import combinations\n",
    "\n",
    "def solution(orders, course):\n",
    "    result = []\n",
    "    menudic = defaultdict()\n",
    "    for num in course:\n",
    "        for order in orders:\n",
    "            menus = list(order)\n",
    "            combis = combinations(menus, num)\n",
    "            \n",
    "            for combi in combis:\n",
    "                combi = sorted(list(combi))\n",
    "                if \"\".join(combi) in menudic:\n",
    "                    menudic[\"\".join(combi)]+=1\n",
    "                else:\n",
    "                    menudic[\"\".join(combi)]=1\n",
    "    menu_candidate = []\n",
    "    print(menudic)\n",
    "    for num in course:\n",
    "        count = []\n",
    "        for i in menudic.items():\n",
    "            if len(i[0]) == num and i[1]>=2:\n",
    "                count.append(i)\n",
    "\n",
    "        for i in count:\n",
    "            if i[1] == max(count, key = lambda x: x[1])[1]:\n",
    "                result.append(i[0])\n",
    "                             \n",
    "                \n",
    "    return sorted(result)"
   ]
  },
  {
   "cell_type": "code",
   "execution_count": 291,
   "id": "5ea658ac",
   "metadata": {},
   "outputs": [
    {
     "name": "stdout",
     "output_type": "stream",
     "text": [
      "defaultdict(None, {'XY': 2, 'XZ': 1, 'YZ': 1, 'WX': 2, 'WY': 1, 'AW': 1, 'AX': 1, 'XYZ': 1, 'WXY': 1, 'AWX': 1})\n"
     ]
    },
    {
     "data": {
      "text/plain": [
       "['WX', 'XY']"
      ]
     },
     "execution_count": 291,
     "metadata": {},
     "output_type": "execute_result"
    }
   ],
   "source": [
    "solution([\"XYZ\", \"XWY\", \"WXA\"], [2, 3, 4])"
   ]
  },
  {
   "cell_type": "markdown",
   "id": "3dc7f266",
   "metadata": {},
   "source": [
    "## 노트\n",
    "역시나 나보다 훨씬 간단하게 푼 코드가 있어서 첨부한다."
   ]
  },
  {
   "cell_type": "code",
   "execution_count": 292,
   "id": "c68007b2",
   "metadata": {},
   "outputs": [],
   "source": [
    "import collections\n",
    "import itertools\n",
    "\n",
    "def solution(orders, course):\n",
    "    result = []\n",
    "\n",
    "    for course_size in course:\n",
    "        order_combinations = []\n",
    "        for order in orders:\n",
    "            order_combinations += itertools.combinations(sorted(order), course_size)\n",
    "\n",
    "        most_ordered = collections.Counter(order_combinations).most_common()\n",
    "        result += [ k for k, v in most_ordered if v > 1 and v == most_ordered[0][1] ]\n",
    "\n",
    "    return [ ''.join(v) for v in sorted(result) ]"
   ]
  },
  {
   "cell_type": "code",
   "execution_count": 293,
   "id": "e0e1ba97",
   "metadata": {},
   "outputs": [
    {
     "data": {
      "text/plain": [
       "['WX', 'XY']"
      ]
     },
     "execution_count": 293,
     "metadata": {},
     "output_type": "execute_result"
    }
   ],
   "source": [
    "solution([\"XYZ\", \"XWY\", \"WXA\"], [2, 3, 4])"
   ]
  },
  {
   "cell_type": "markdown",
   "id": "f53c1d0d",
   "metadata": {},
   "source": [
    "이 코드는 Counter()와 most_common() 메서드를 통해서 더 간단하게 풀었다.\n",
    "두 메서드다 사용해본 적이 있는 메서드인데, 까먹어서 사용을 못했다. 파이썬 딕셔너리 사용하는 문제를 좀 더 많이 풀어봐야겠다.\n",
    "\n",
    "Counter() 메서드는 리스트 요소의 개수를 세어 딕셔너리로 반환해주는 메서드이고, Counter().most_common()은 이렇게 반환한 딕셔너리를 개수가 많은 요소순으로 정렬하여 튜플리스트 값으로 반환해주는 메서드이다."
   ]
  }
 ],
 "metadata": {
  "kernelspec": {
   "display_name": "Python 3",
   "language": "python",
   "name": "python3"
  },
  "language_info": {
   "codemirror_mode": {
    "name": "ipython",
    "version": 3
   },
   "file_extension": ".py",
   "mimetype": "text/x-python",
   "name": "python",
   "nbconvert_exporter": "python",
   "pygments_lexer": "ipython3",
   "version": "3.8.8"
  }
 },
 "nbformat": 4,
 "nbformat_minor": 5
}
