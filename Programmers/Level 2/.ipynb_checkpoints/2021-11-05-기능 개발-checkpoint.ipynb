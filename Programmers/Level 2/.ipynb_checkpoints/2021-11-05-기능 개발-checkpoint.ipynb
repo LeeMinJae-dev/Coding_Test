{
 "cells": [
  {
   "cell_type": "markdown",
   "id": "648eefe1",
   "metadata": {},
   "source": [
    "---\n",
    "title: \"[Programmers] 기능개발 (Python3)\"\n",
    "toc : true\n",
    "toc_sticky : true\n",
    "toc_label : \"On this Page\"\n",
    "categories : programmers\n",
    "\n",
    "---\n",
    "## 문제 설명\n",
    "프로그래머스 팀에서는 기능 개선 작업을 수행 중입니다. 각 기능은 진도가 100%일 때 서비스에 반영할 수 있습니다.\n",
    "또, 각 기능의 개발속도는 모두 다르기 때문에 뒤에 있는 기능이 앞에 있는 기능보다 먼저 개발될 수 있고, 이때 뒤에 있는 기능은 앞에 있는 기능이 배포될 때 함께 배포됩니다.\n",
    "먼저 배포되어야 하는 순서대로 작업의 진도가 적힌 정수 배열 progresses와 각 작업의 개발 속도가 적힌 정수 배열 speeds가 주어질 때 각 배포마다 몇 개의 기능이 배포되는지를 return 하도록 solution 함수를 완성하세요.\n",
    "\n",
    "\n",
    "## 제한사항\n",
    "    작업의 개수(progresses, speeds배열의 길이)는 100개 이하입니다.\n",
    "    작업 진도는 100 미만의 자연수입니다.\n",
    "    작업 속도는 100 이하의 자연수입니다.\n",
    "    배포는 하루에 한 번만 할 수 있으며, 하루의 끝에 이루어진다고 가정합니다. 예를 들어 진도율이 95%인 작업의 개발 속도가 하루에 4%라면 배포는 2일 뒤에 이루어집니다.\n",
    "\n",
    "\n",
    "## 입출력 예\n",
    "|progresses\t|speeds|\treturn|\n",
    "|:---:|:---:|:---:|\n",
    "|[93, 30, 55]\t|[1, 1, 1, 1, 1, 1]\t|[1, 3, 2]|\n",
    "\n",
    "\n",
    "## 입출력 예 설명\n",
    "입출력 예 #1\n",
    "첫 번째 기능은 93% 완료되어 있고 하루에 1%씩 작업이 가능하므로 7일간 작업 후 배포가 가능합니다.\n",
    "두 번째 기능은 30%가 완료되어 있고 하루에 30%씩 작업이 가능하므로 3일간 작업 후 배포가 가능합니다. 하지만 이전 첫 번째 기능이 아직 완성된 상태가 아니기 때문에 첫 번째 기능이 배포되는 7일째 배포됩니다.\n",
    "세 번째 기능은 55%가 완료되어 있고 하루에 5%씩 작업이 가능하므로 9일간 작업 후 배포가 가능합니다.\n",
    "따라서 7일째에 2개의 기능, 9일째에 1개의 기능이 배포됩니다.\n",
    "입출력 예 #2\n",
    "모든 기능이 하루에 1%씩 작업이 가능하므로, 작업이 끝나기까지 남은 일수는 각각 5일, 10일, 1일, 1일, 20일, 1일입니다. 어떤 기능이 먼저 완성되었더라도 앞에 있는 모든 기능이 완성되지 않으면 배포가 불가능합니다.\n",
    "따라서 5일째에 1개의 기능, 10일째에 3개의 기능, 20일째에 2개의 기능이 배포됩니다.\n",
    "\n",
    "\n",
    "## 코드"
   ]
  },
  {
   "cell_type": "code",
   "execution_count": 20,
   "id": "8f355742",
   "metadata": {},
   "outputs": [],
   "source": [
    "from collections import deque\n",
    "\n",
    "def solution(progresses,speeds):\n",
    "    day = 0\n",
    "    count = 0\n",
    "    answer = []\n",
    "    while progresses:\n",
    "        if progresses[0] + (day * speeds[0]) >= 100:\n",
    "            progresses.pop(0)\n",
    "            speeds.pop(0)\n",
    "            count+=1\n",
    "        else:\n",
    "            if count > 0:\n",
    "                answer.append(count)\n",
    "                count = 0\n",
    "            day+=1\n",
    "    if count > 0:\n",
    "            answer.append(count)\n",
    "            \n",
    "    print(answer)"
   ]
  },
  {
   "cell_type": "markdown",
   "id": "5d59214e",
   "metadata": {},
   "source": [
    "## 문제풀이\n",
    "처음에는 모든 기능을 하나씩 꺼내서 speeds와 꺼내 더한 뒤 계산하며 일일히 했는데,\n",
    "그러다보니까 구현도 어렵고 복잡해져서, day만 늘려가며 한번에 더했다.\n",
    "\n",
    "progress가 빌때까지 아래의 코드를 무한반복한다.      \n",
    "     만약 progresses의 첫번째 기능이 100퍼센트 이상 개발되었다면,      \n",
    "         progresses의 첫번째 값을 pop()하고      \n",
    "         speeds의 첫번째 값을 pop()한다       \n",
    "         그리고 기능이 하나 개발 완료되었으므로 count +=1 해준다.        \n",
    "     그렇지 않은경우      \n",
    "         만약 count가 0보다 크면,        \n",
    "             기능개발이 완료된 것이므로 answer 리스트에 count를 append해준다.      \n",
    "             count는 0으로 초기화 한다.      \n",
    "무한반복이 종료됐을때, count가 0보다 크다면         \n",
    "    answer 리스트에 count를 append해준다.      "
   ]
  }
 ],
 "metadata": {
  "kernelspec": {
   "display_name": "Python 3",
   "language": "python",
   "name": "python3"
  },
  "language_info": {
   "codemirror_mode": {
    "name": "ipython",
    "version": 3
   },
   "file_extension": ".py",
   "mimetype": "text/x-python",
   "name": "python",
   "nbconvert_exporter": "python",
   "pygments_lexer": "ipython3",
   "version": "3.8.8"
  }
 },
 "nbformat": 4,
 "nbformat_minor": 5
}
