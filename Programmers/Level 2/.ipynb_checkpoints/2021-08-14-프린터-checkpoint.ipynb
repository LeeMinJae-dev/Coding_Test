{
 "cells": [
  {
   "cell_type": "markdown",
   "id": "55cefe4e",
   "metadata": {},
   "source": [
    "---\n",
    "title: \"[Programmers] 프린터 (Python3)\"\n",
    "toc : true\n",
    "toc_sticky : true\n",
    "toc_label : \"On this Page\"\n",
    "categories : programmers\n",
    "\n",
    "---\n",
    "## 문제 설명\n",
    "일반적인 프린터는 인쇄 요청이 들어온 순서대로 인쇄합니다. 그렇기 때문에 중요한 문서가 나중에 인쇄될 수 있습니다. 이런 문제를 보완하기 위해 중요도가 높은 문서를 먼저 인쇄하는 프린터를 개발했습니다. 이 새롭게 개발한 프린터는 아래와 같은 방식으로 인쇄 작업을 수행합니다.\n",
    "\n",
    "1. 인쇄 대기목록의 가장 앞에 있는 문서(J)를 대기목록에서 꺼냅니다.\n",
    "2. 나머지 인쇄 대기목록에서 J보다 중요도가 높은 문서가 한 개라도 존재하면 J를 대기목록의 가장 마지막에 넣습니다.\n",
    "3. 그렇지 않으면 J를 인쇄합니다.\n",
    "\n",
    "예를 들어, 4개의 문서(A, B, C, D)가 순서대로 인쇄 대기목록에 있고 중요도가 2 1 3 2 라면 C D A B 순으로 인쇄하게 됩니다.\n",
    "\n",
    "내가 인쇄를 요청한 문서가 몇 번째로 인쇄되는지 알고 싶습니다. 위의 예에서 C는 1번째로, A는 3번째로 인쇄됩니다.\n",
    "\n",
    "현재 대기목록에 있는 문서의 중요도가 순서대로 담긴 배열 priorities와 내가 인쇄를 요청한 문서가 현재 대기목록의 어떤 위치에 있는지를 알려주는 location이 매개변수로 주어질 때, 내가 인쇄를 요청한 문서가 몇 번째로 인쇄되는지 return 하도록 solution 함수를 작성해주세요.\n",
    "\n",
    "## 제한사항\n",
    "현재 대기목록에는 1개 이상 100개 이하의 문서가 있습니다.\n",
    "인쇄 작업의 중요도는 1~9로 표현하며 숫자가 클수록 중요하다는 뜻입니다.\n",
    "location은 0 이상 (현재 대기목록에 있는 작업 수 - 1) 이하의 값을 가지며 대기목록의 가장 앞에 있으면 0, 두 번째에 있으면 1로 표현합니다.\n",
    "\n",
    "## 입출력 예\n",
    "|priorities|\tlocation|\treturn|\n",
    "|:---:|:---:|:---:|\n",
    "|[2, 1, 3, 2]\t|2\t|1|\n",
    "|[1, 1, 9, 1, 1, 1]|\t0|\t5|\n",
    "\n",
    "## 입출력 예 설명\n",
    "예제 #1   \n",
    "문제에 나온 예와 같습니다.\n",
    "\n",
    "예제 #2   \n",
    "6개의 문서(A, B, C, D, E, F)가 인쇄 대기목록에 있고 중요도가 1 1 9 1 1 1 이므로 C D E F A B 순으로 인쇄합니다.\n",
    "\n",
    "## 문제 풀이\n",
    "아주 기초적은 스택/큐 문제이다. 이것도 2단계라기엔 난이도가...\n",
    "문제 그대로 만들어주면 풀 수 있다.\n",
    "\n",
    "살짝 까다로운것은 숫자가 중복될 수 있어서 내가 원하는 location의 숫자가 출력됐을때 그 숫자가 원래 내가 원하던 자료인지인데, -로 마킹해주어서 풀었다.\n",
    "\n",
    "## 코드"
   ]
  },
  {
   "cell_type": "code",
   "execution_count": 13,
   "id": "a49851aa",
   "metadata": {},
   "outputs": [],
   "source": [
    "from collections import deque\n",
    "\n",
    "def solution(priorities, location):\n",
    "    priorities[location] = -priorities[location]\n",
    "    pri = deque(priorities)\n",
    "\n",
    "    count =0\n",
    "    while 1:\n",
    "        p = pri.popleft()\n",
    "        for i in pri:\n",
    "           \n",
    "            if abs(i) > abs(p):\n",
    "                pri.append(p)\n",
    "                break\n",
    "        else:\n",
    "            if p < 0:\n",
    "                count+=1\n",
    "                return count \n",
    "                break\n",
    "            count+=1\n",
    "    \n",
    "    return answer"
   ]
  },
  {
   "cell_type": "code",
   "execution_count": 14,
   "id": "1ecacb9c",
   "metadata": {},
   "outputs": [
    {
     "data": {
      "text/plain": [
       "1"
      ]
     },
     "execution_count": 14,
     "metadata": {},
     "output_type": "execute_result"
    }
   ],
   "source": [
    "solution([2,1,3,2],2)"
   ]
  },
  {
   "cell_type": "markdown",
   "id": "b5e0aafe",
   "metadata": {},
   "source": [
    "## 노트\n",
    "처음 본 라이브러리로 푼 코드가 있어서 첨부한다."
   ]
  },
  {
   "cell_type": "code",
   "execution_count": 15,
   "id": "678fe587",
   "metadata": {},
   "outputs": [],
   "source": [
    "def solution(priorities, location):\n",
    "    queue =  [(i,p) for i,p in enumerate(priorities)]\n",
    "    answer = 0\n",
    "    while True:\n",
    "        cur = queue.pop(0)\n",
    "        if any(cur[1] < q[1] for q in queue):\n",
    "            queue.append(cur)\n",
    "        else:\n",
    "            answer += 1\n",
    "            if cur[0] == location:\n",
    "                return answer"
   ]
  },
  {
   "cell_type": "markdown",
   "id": "983fb3a7",
   "metadata": {},
   "source": [
    "any는 요소중에 단 하나라도 참이면 True를 반환하는 함수이다. 여기서는 queue 안에 있는 요소를 하나씩 빼가면서 하나라도 출력예정 프린트보다 중요도가 큰게 있으면 True를 리턴하는데에 사용했다.\n",
    "\n",
    "반대되는 함수로는 all이 있는데, all은 모두 참이어야만 True를 반환한다."
   ]
  }
 ],
 "metadata": {
  "kernelspec": {
   "display_name": "Python 3",
   "language": "python",
   "name": "python3"
  },
  "language_info": {
   "codemirror_mode": {
    "name": "ipython",
    "version": 3
   },
   "file_extension": ".py",
   "mimetype": "text/x-python",
   "name": "python",
   "nbconvert_exporter": "python",
   "pygments_lexer": "ipython3",
   "version": "3.8.8"
  }
 },
 "nbformat": 4,
 "nbformat_minor": 5
}
