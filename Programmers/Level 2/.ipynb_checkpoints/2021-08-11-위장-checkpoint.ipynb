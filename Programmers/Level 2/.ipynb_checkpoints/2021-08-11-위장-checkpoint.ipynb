{
 "cells": [
  {
   "cell_type": "markdown",
   "id": "ac492c24",
   "metadata": {},
   "source": [
    "---\n",
    "title : \"[Programmers] 위장 (Python3)\"\n",
    "categories : programmers\n",
    "toc : true\n",
    "toc_sticky : ture\n",
    "toc_label : \"On this Page\"\n",
    "---\n",
    "## 문제 \n",
    "스파이들은 매일 다른 옷을 조합하여 입어 자신을 위장합니다.\n",
    "예를 들어 스파이가 가진 옷이 아래와 같고 오늘 스파이가 동그란 안경, 긴 코트, 파란색 티셔츠를 입었다면 다음날은 청바지를 추가로 입거나 동그란 안경 대신 검정 선글라스를 착용하거나 해야 합니다.\n",
    "\n",
    "|종류|\t이름|\n",
    "|:---:|:---:|\n",
    "|얼굴|\t동그란 안경, 검정 선글라스|\n",
    "|상의\t|파란색 티셔츠|\n",
    "|하의\t|청바지|\n",
    "|겉옷|\t긴 코트|\n",
    "\n",
    "스파이가 가진 의상들이 담긴 2차원 배열 clothes가 주어질 때 서로 다른 옷의 조합의 수를 return 하도록 solution 함수를 작성해주세요.\n",
    "\n",
    "## 제한사항\n",
    "* clothes의 각 행은 [의상의 이름, 의상의 종류]로 이루어져 있습니다.\n",
    "* 스파이가 가진 의상의 수는 1개 이상 30개 이하입니다.\n",
    "* 같은 이름을 가진 의상은 존재하지 않습니다.\n",
    "* clothes의 모든 원소는 문자열로 이루어져 있습니다.\n",
    "* 모든 문자열의 길이는 1 이상 20 이하인 자연수이고 알파벳 소문자 또는 '_' 로만 이루어져 있습니다.\n",
    "* 스파이는 하루에 최소 한 개의 의상은 입습니다.\n",
    "\n",
    "## 입출력 예\n",
    "|clothes|\treturn|\n",
    "|:---:|:---:|\n",
    "|[[\"yellowhat\", \"headgear\"], [\"bluesunglasses\", \"eyewear\"], [\"green_turban\", \"headgear\"]]\t|5|\n",
    "|[[\"crowmask\", \"face\"], [\"bluesunglasses\", \"face\"], [\"smoky_makeup\", \"face\"]]|\t3|\n",
    "\n",
    "## 입출력 예 설명\n",
    "예제 #1\n",
    "headgear에 해당하는 의상이 yellow_hat, green_turban이고 eyewear에 해당하는 의상이 blue_sunglasses이므로 아래와 같이 5개의 조합이 가능합니다.\n",
    "1. yellow_hat\n",
    "2. blue_sunglasses\n",
    "3. green_turban\n",
    "4. yellow_hat + blue_sunglasses\n",
    "5. green_turban + blue_sunglasses\n",
    "\n",
    "예제 #2\n",
    "face에 해당하는 의상이 crow_mask, blue_sunglasses, smoky_makeup이므로 아래와 같이 3개의 조합이 가능합니다.\n",
    "1. crow_mask\n",
    "2. blue_sunglasses\n",
    "3. smoky_makeup\n",
    "\n",
    "## 문제 풀이\n",
    "처음에는 딕셔너리에 리스트로 종류에 따른 옷을 넣어서 그걸 또 조합으로 빼서 모든 경우의 수를 하나씩 더해가며 답을 구했는데, 모두 통과되는듯 싶더니 테스트 케이스 1번에서 계속 시간초과가 떴다. 다시 문제를 놓고 간단한 조합문제로 생각해보니까, 각각의 옷종류에 안입은 경우를 하나씩 추가해서 위의 예제 1로 예를 들면 headgear = [안입음, yellow_hat, grren_turban], eyewear = [안입음, blue_sunglasses] 으로 두면 두 종류이니까 3*2 = 6으로 모든 경우의 수를 구할 수 가 있었다. 여기서 아무것도 안입은 경우의 수 1을 빼주면 답이된다.\n",
    "\n",
    "## 코드"
   ]
  },
  {
   "cell_type": "code",
   "execution_count": 78,
   "id": "658e74d6",
   "metadata": {},
   "outputs": [],
   "source": [
    "def solution(clothes):\n",
    "    dic = {}\n",
    "    answer = 1\n",
    "    \n",
    "    for cloth in clothes:\n",
    "        if cloth[1] in dic:\n",
    "            dic[cloth[1]]+=1\n",
    "        else:\n",
    "            dic[cloth[1]]= 1\n",
    "    for i in dic.values():\n",
    "        answer *= (i+1)\n",
    "    return answer-1"
   ]
  },
  {
   "cell_type": "code",
   "execution_count": 79,
   "id": "64101f9d",
   "metadata": {},
   "outputs": [
    {
     "data": {
      "text/plain": [
       "5"
      ]
     },
     "execution_count": 79,
     "metadata": {},
     "output_type": "execute_result"
    }
   ],
   "source": [
    "solution([[\"yellowhat\", \"headgear\"], [\"bluesunglasses\", \"eyewear\"], [\"green_turban\", \"headgear\"]]\t)"
   ]
  },
  {
   "cell_type": "markdown",
   "id": "599eb6e4",
   "metadata": {},
   "source": [
    "## 노트\n",
    "라이브러리를 이용해 예쁘게 푼 코드가 있어서 첨부한다.   \n",
    "reduce라는 처음 써보는 메서드도 있었다."
   ]
  },
  {
   "cell_type": "code",
   "execution_count": 82,
   "id": "742bc752",
   "metadata": {},
   "outputs": [],
   "source": [
    "def solution(clothes):\n",
    "    from collections import Counter\n",
    "    from functools import reduce\n",
    "    cnt = Counter([kind for name, kind in clothes])\n",
    "    answer = reduce(lambda x, y: x*(y+1), cnt.values(), 1) - 1\n",
    "    return answer"
   ]
  },
  {
   "cell_type": "markdown",
   "id": "a2191e71",
   "metadata": {},
   "source": [
    "개수를 세려면 무조건 Counter를 써주는게 편하다. Counter를 잘쓰자\n",
    "\n",
    "reduce 함수는 functools 라이브러리를 통해서 import한다."
   ]
  },
  {
   "cell_type": "code",
   "execution_count": 83,
   "id": "5766a215",
   "metadata": {},
   "outputs": [],
   "source": [
    "from functools import reduce"
   ]
  },
  {
   "cell_type": "markdown",
   "id": "29fd811e",
   "metadata": {},
   "source": [
    "reduce() 함수는 여러개의 데이터를 대상으로 주로 누적 집계를 내기 위해서 사용한다.   \n",
    "reduce(집계 함수, 순회 가능한 데이터 [, 초기값])   \n",
    "\n",
    "예를들어 유저 5명의 데이터를 임의로 생성해보자.   \n"
   ]
  },
  {
   "cell_type": "code",
   "execution_count": 84,
   "id": "d874b4d9",
   "metadata": {},
   "outputs": [],
   "source": [
    "users = [{'mail': 'gregorythomas@gmail.com', 'name': 'Brett Holland', 'sex': 'M', 'age': 73},\n",
    "{'mail': 'hintoncynthia@hotmail.com', 'name': 'Madison Martinez', 'sex': 'F', 'age': 29},\n",
    "{'mail': 'wwagner@gmail.com', 'name': 'Michael Jenkins', 'sex': 'M', 'age': 51},\n",
    "{'mail': 'daniel79@gmail.com', 'name': 'Karen Rodriguez', 'sex': 'F', 'age': 32},\n",
    "{'mail': 'ujackson@gmail.com', 'name': 'Amber Rhodes', 'sex': 'F', 'age': 42}]"
   ]
  },
  {
   "cell_type": "markdown",
   "id": "76180ae0",
   "metadata": {},
   "source": [
    "이 데이터에서 reduce 함수를 사용해 유저들의 나이 합을 구해보자.    "
   ]
  },
  {
   "cell_type": "code",
   "execution_count": 104,
   "id": "07681a49",
   "metadata": {},
   "outputs": [
    {
     "data": {
      "text/plain": [
       "227"
      ]
     },
     "execution_count": 104,
     "metadata": {},
     "output_type": "execute_result"
    }
   ],
   "source": [
    "reduce(lambda acc, cur : acc+cur[\"age\"], users,0)"
   ]
  },
  {
   "cell_type": "markdown",
   "id": "2e3aaca8",
   "metadata": {},
   "source": [
    "reduce의 첫번째 파라미터는 함수가 들어가게 된다. 람다식이 들어올수도 있고, 정의 해놓은 함수일 수도 있다. 두번째 파라미터는 집계할 리스트, 세번재는 초기값을 받는다.\n",
    "\n",
    "이번에는 유저 이메일만을 모아 목록으로 만들어보자."
   ]
  },
  {
   "cell_type": "code",
   "execution_count": 101,
   "id": "49a90eaf",
   "metadata": {},
   "outputs": [
    {
     "data": {
      "text/plain": [
       "['gregorythomas@gmail.com',\n",
       " 'hintoncynthia@hotmail.com',\n",
       " 'wwagner@gmail.com',\n",
       " 'daniel79@gmail.com',\n",
       " 'ujackson@gmail.com']"
      ]
     },
     "execution_count": 101,
     "metadata": {},
     "output_type": "execute_result"
    }
   ],
   "source": [
    "reduce(lambda acc, cur: acc +[cur[\"mail\"]],users,[])"
   ]
  },
  {
   "cell_type": "markdown",
   "id": "889f9a9d",
   "metadata": {},
   "source": [
    "마찬가지로 첫번째 파라미터에 함수를 받고, acc의 초깃값을 []로 해준뒤, [cur[\"mail\"]]을 순차적으로 더해준다.\n",
    "\n",
    "이렇게 reduce를 사용하면 간편하게 딕셔너리나 리스트의 값을 집계할 수 있다. 정말 유용한 라이브러리인 것 같으니 꼭 생각해주자.\n",
    "\n",
    "딕셔너리하면 Counter, reduce 생각하기"
   ]
  }
 ],
 "metadata": {
  "kernelspec": {
   "display_name": "Python 3",
   "language": "python",
   "name": "python3"
  },
  "language_info": {
   "codemirror_mode": {
    "name": "ipython",
    "version": 3
   },
   "file_extension": ".py",
   "mimetype": "text/x-python",
   "name": "python",
   "nbconvert_exporter": "python",
   "pygments_lexer": "ipython3",
   "version": "3.8.8"
  }
 },
 "nbformat": 4,
 "nbformat_minor": 5
}
