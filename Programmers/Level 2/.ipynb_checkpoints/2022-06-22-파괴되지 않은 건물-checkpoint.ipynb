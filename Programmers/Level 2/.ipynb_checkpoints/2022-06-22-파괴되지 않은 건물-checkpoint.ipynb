{
 "cells": [
  {
   "cell_type": "markdown",
   "id": "c68561a9",
   "metadata": {},
   "source": [
    "---\n",
    "title : \"[Programmers] 입국심사 (Python3)\"\n",
    "categories : programmers\n",
    "toc : true\n",
    "toc_sticky : true\n",
    "toc_label : \"On this Page\"\n",
    "---\n"
   ]
  },
  {
   "cell_type": "markdown",
   "id": "59648d54",
   "metadata": {},
   "source": [
    "## 문제 설명\n",
    "n명이 입국심사를 위해 줄을 서서 기다리고 있습니다. 각 입국심사대에 있는 심사관마다 심사하는데 걸리는 시간은 다릅니다.\n",
    "\n",
    "처음에 모든 심사대는 비어있습니다. 한 심사대에서는 동시에 한 명만 심사를 할 수 있습니다. 가장 앞에 서 있는 사람은 비어 있는 심사대로 가서 심사를 받을 수 있습니다. 하지만 더 빨리 끝나는 심사대가 있으면 기다렸다가 그곳으로 가서 심사를 받을 수도 있습니다.\n",
    "\n",
    "모든 사람이 심사를 받는데 걸리는 시간을 최소로 하고 싶습니다.\n",
    "\n",
    "입국심사를 기다리는 사람 수 n, 각 심사관이 한 명을 심사하는데 걸리는 시간이 담긴 배열 times가 매개변수로 주어질 때, 모든 사람이 심사를 받는데 걸리는 시간의 최솟값을 return 하도록 solution 함수를 작성해주세요.\n",
    "\n",
    "\n",
    "## 제한사항\n",
    "* 입국심사를 기다리는 사람은 1명 이상 1,000,000,000명 이하입니다.\n",
    "* 각 심사관이 한 명을 심사하는데 걸리는 시간은 1분 이상 1,000,000,000분 이하입니다.\n",
    "* 심사관은 1명 이상 100,000명 이하입니다.\n",
    "\n",
    "\n",
    "## 입출력 예\n",
    "\n",
    "|n|times|return|\n",
    "|:---:|:---:|:---:|\n",
    "|6|[7,10]|28|\n",
    "\n",
    "## 입출력 예 설명\n",
    "가장 첫 두 사람은 바로 심사를 받으러 갑니다.\n",
    "\n",
    "7분이 되었을 때, 첫 번째 심사대가 비고 3번째 사람이 심사를 받습니다.\n",
    "\n",
    "10분이 되었을 때, 두 번째 심사대가 비고 4번째 사람이 심사를 받습니다.\n",
    "\n",
    "14분이 되었을 때, 첫 번째 심사대가 비고 5번째 사람이 심사를 받습니다.\n",
    "\n",
    "20분이 되었을 때, 두 번째 심사대가 비지만 6번째 사람이 그곳에서 심사를 받지 않고 1분을 더 기다린 후에 첫 번째 심사대에서 심사를 받으면 28분에 모든 사람의 심사가 끝납니다."
   ]
  },
  {
   "cell_type": "code",
   "execution_count": 5,
   "id": "16b893ec",
   "metadata": {},
   "outputs": [
    {
     "ename": "SyntaxError",
     "evalue": "unexpected EOF while parsing (2439082304.py, line 30)",
     "output_type": "error",
     "traceback": [
      "\u001b[0;36m  Input \u001b[0;32mIn [5]\u001b[0;36m\u001b[0m\n\u001b[0;31m    \u001b[0m\n\u001b[0m    ^\u001b[0m\n\u001b[0;31mSyntaxError\u001b[0m\u001b[0;31m:\u001b[0m unexpected EOF while parsing\n"
     ]
    }
   ],
   "source": [
    "def solution(n, times):\n",
    "    time = 0\n",
    "    deskCount = len(times)\n",
    "    task = []\n",
    "    \n",
    "    for i in times:\n",
    "        task.append((0, i))\n",
    "    print(task)\n",
    "    \n",
    "    while True:\n",
    "        if n == 0:\n",
    "            break\n",
    "        for i in task:\n",
    "            add = []\n",
    "            if i[0] == 0:\n",
    "                for index,j in enumerate(task):\n",
    "                    add.append((j[0] + j[1], index))\n",
    "                    add = sorted(add)\n",
    "                    desk_index = add[0][1]\n",
    "                    task[desk_index][0] += task[desk_index[1] \n",
    "            \n",
    "            \n",
    "                \n",
    "    \n",
    "    \n",
    "    \n",
    "    \n",
    "    \n",
    "    \n",
    "    "
   ]
  },
  {
   "cell_type": "code",
   "execution_count": 6,
   "id": "ee840763",
   "metadata": {},
   "outputs": [
    {
     "ename": "NameError",
     "evalue": "name 'solution' is not defined",
     "output_type": "error",
     "traceback": [
      "\u001b[0;31m---------------------------------------------------------------------------\u001b[0m",
      "\u001b[0;31mNameError\u001b[0m                                 Traceback (most recent call last)",
      "Input \u001b[0;32mIn [6]\u001b[0m, in \u001b[0;36m<cell line: 1>\u001b[0;34m()\u001b[0m\n\u001b[0;32m----> 1\u001b[0m \u001b[38;5;28mprint\u001b[39m(\u001b[43msolution\u001b[49m(\u001b[38;5;241m6\u001b[39m, [\u001b[38;5;241m7\u001b[39m,\u001b[38;5;241m10\u001b[39m]))\n",
      "\u001b[0;31mNameError\u001b[0m: name 'solution' is not defined"
     ]
    }
   ],
   "source": [
    "print(solution(6, [7,10]))\n",
    "\n",
    "\n"
   ]
  },
  {
   "cell_type": "markdown",
   "id": "97397572",
   "metadata": {},
   "source": [
    "맨 처음에는 다익스트라로 풀려고 했는데, 하나씩 더해가면서 BFS만 사용해도, 어차피 출발과 도착 지점이 정해져있기 때문에 답을 구할 수 있을 것 같아서 BFS를 적용 시켰다. 가장 기본적인 BFS 문제인 것 같다."
   ]
  }
 ],
 "metadata": {
  "kernelspec": {
   "display_name": "Python 3",
   "language": "python",
   "name": "python3"
  },
  "language_info": {
   "codemirror_mode": {
    "name": "ipython",
    "version": 3
   },
   "file_extension": ".py",
   "mimetype": "text/x-python",
   "name": "python",
   "nbconvert_exporter": "python",
   "pygments_lexer": "ipython3",
   "version": "3.9.7"
  }
 },
 "nbformat": 4,
 "nbformat_minor": 5
}
