{
 "cells": [
  {
   "cell_type": "code",
   "execution_count": 5,
   "id": "7cda2bf9",
   "metadata": {},
   "outputs": [],
   "source": [
    "public static void main(String[] args){\n",
    "    System.out.println(\"hello\");\n",
    "}"
   ]
  },
  {
   "cell_type": "code",
   "execution_count": 11,
   "id": "b3f5fcc9",
   "metadata": {},
   "outputs": [
    {
     "ename": "CompilationException",
     "evalue": "",
     "output_type": "error",
     "traceback": [
      "\u001b[1m\u001b[30m|   \u001b[1m\u001b[30m    public int[] solution(int[] [\u001b[0m\u001b[1m\u001b[30m\u001b[41m\u001b[0m\u001b[1m\u001b[30m2,1,3,4,1]) {\u001b[0m",
      "\u001b[1m\u001b[31m']' expected\u001b[0m",
      ""
     ]
    }
   ],
   "source": [
    "import java.util.*;\n",
    "\n",
    "class Solution {\n",
    "    public int[] solution(int[] numbers) {\n",
    "        int[] answer = {};\n",
    "        HashSet<Integer> hSet = new HashSet<Integer>();\n",
    "        //중복이 없고 오름차순이라 set 사용\n",
    "        for(int i=0; i<numbers.length; i++) {\n",
    "            for(int j=0; j<numbers.length; j++) {\n",
    "                if(i!=j) {\n",
    "                  hSet.add(numbers[i]+numbers[j]);\n",
    "                }\n",
    "            }\n",
    "        }\n",
    "        Iterator iterator = hSet.iterator();\n",
    "        answer = new int[hSet.size()];\n",
    "        for(int i=0; i<hSet.size(); i++) {\n",
    "          answer[i] = (int)iterator.next();\n",
    "        }\n",
    "        //정수 배열을 반환해야하므로 해쉬셋을 정수배열로 변환\n",
    "        return answer;\n",
    "    }\n",
    "}"
   ]
  },
  {
   "cell_type": "code",
   "execution_count": 13,
   "id": "12345218",
   "metadata": {},
   "outputs": [],
   "source": [
    "import java.util.*;\n",
    "\n",
    "class Solution {\n",
    "    public int[] solution(int[] numbers) {\n",
    "        int[] answer = {};\n",
    "        HashSet<Integer> hSet = new HashSet<Integer>();\n",
    "        //중복이 없고 오름차순이라 set 사용\n",
    "        for(int i=0; i<numbers.length; i++) {\n",
    "            for(int j=0; j<numbers.length; j++) {\n",
    "                if(i!=j) {\n",
    "                  hSet.add(numbers[i]+numbers[j]);\n",
    "                }\n",
    "            }\n",
    "        }\n",
    "        Iterator iterator = hSet.iterator();\n",
    "        answer = new int[hSet.size()];\n",
    "        for(int i=0; i<hSet.size(); i++) {\n",
    "          answer[i] = (int)iterator.next();\n",
    "        }\n",
    "        //정수 배열을 반환해야하므로 해쉬셋을 정수배열로 변환\n",
    "        return answer;\n",
    "    }\n",
    "}"
   ]
  },
  {
   "cell_type": "code",
   "execution_count": null,
   "id": "5bd68ad8",
   "metadata": {},
   "outputs": [],
   "source": []
  }
 ],
 "metadata": {
  "kernelspec": {
   "display_name": "Java",
   "language": "java",
   "name": "java"
  },
  "language_info": {
   "codemirror_mode": "java",
   "file_extension": ".jshell",
   "mimetype": "text/x-java-source",
   "name": "Java",
   "pygments_lexer": "java",
   "version": "16.0.1+9"
  }
 },
 "nbformat": 4,
 "nbformat_minor": 5
}
