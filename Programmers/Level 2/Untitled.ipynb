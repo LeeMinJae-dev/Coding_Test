{
 "cells": [
  {
   "cell_type": "code",
   "execution_count": 2,
   "id": "daa051b9",
   "metadata": {},
   "outputs": [
    {
     "data": {
      "text/plain": [
       "[2, 6, 10, 14, 18]"
      ]
     },
     "execution_count": 2,
     "metadata": {},
     "output_type": "execute_result"
    }
   ],
   "source": [
    "[n*2 for n in range(1, 10+1) if n%2 != 0]"
   ]
  },
  {
   "cell_type": "code",
   "execution_count": 16,
   "id": "ff6a952e",
   "metadata": {},
   "outputs": [],
   "source": [
    "def get_netural_number():\n",
    "        yield 1\n",
    "        yield 'string'\n",
    "        yield True"
   ]
  },
  {
   "cell_type": "code",
   "execution_count": 17,
   "id": "9333f8d7",
   "metadata": {},
   "outputs": [
    {
     "data": {
      "text/plain": [
       "<generator object get_netural_number at 0x10a63f970>"
      ]
     },
     "execution_count": 17,
     "metadata": {},
     "output_type": "execute_result"
    }
   ],
   "source": [
    "get_netural_number()"
   ]
  },
  {
   "cell_type": "code",
   "execution_count": 25,
   "id": "7e2e2e87",
   "metadata": {},
   "outputs": [],
   "source": [
    "idx = 1"
   ]
  },
  {
   "cell_type": "code",
   "execution_count": 26,
   "id": "cd8547cd",
   "metadata": {},
   "outputs": [],
   "source": [
    "fruit = \"Apple\""
   ]
  },
  {
   "cell_type": "code",
   "execution_count": 30,
   "id": "507e5331",
   "metadata": {},
   "outputs": [
    {
     "name": "stdout",
     "output_type": "stream",
     "text": [
      "2:Apple\n"
     ]
    }
   ],
   "source": [
    "print(f'{idx+1}:{fruit}')"
   ]
  },
  {
   "cell_type": "code",
   "execution_count": 31,
   "id": "704cd21e",
   "metadata": {},
   "outputs": [],
   "source": [
    "import pprint"
   ]
  },
  {
   "cell_type": "code",
   "execution_count": 47,
   "id": "a3fc4d25",
   "metadata": {},
   "outputs": [
    {
     "name": "stdout",
     "output_type": "stream",
     "text": [
      "{'__module__': '__main__',\n",
      " '__qualname__': 'MyClass',\n",
      " 'method_a': <function MyClass.method_a at 0x10a66b550>,\n",
      " 'method_b': <function MyClass.method_b at 0x10af51160>}\n"
     ]
    }
   ],
   "source": [
    "class MyClass(object):\n",
    "    def method_b(self):\n",
    "        pass\n",
    "    def method_a(self):\n",
    "        print(\"method A\")\n",
    "    pprint.pprint(locals())"
   ]
  },
  {
   "cell_type": "code",
   "execution_count": 64,
   "id": "53720b0f",
   "metadata": {},
   "outputs": [],
   "source": [
    "a = {'name':'minjae', 'phone':'01059137109'}"
   ]
  },
  {
   "cell_type": "code",
   "execution_count": 77,
   "id": "f20e6ac6",
   "metadata": {},
   "outputs": [],
   "source": [
    "import collections"
   ]
  },
  {
   "cell_type": "code",
   "execution_count": 68,
   "id": "4c7cd405",
   "metadata": {},
   "outputs": [],
   "source": [
    "b = collections.defaultdict(int)"
   ]
  },
  {
   "cell_type": "code",
   "execution_count": 72,
   "id": "b5dff5fa",
   "metadata": {},
   "outputs": [],
   "source": [
    "b = [1,2,3,4,5,6]"
   ]
  },
  {
   "cell_type": "code",
   "execution_count": 81,
   "id": "b8208f82",
   "metadata": {},
   "outputs": [],
   "source": [
    "b = collections.Counter(a)"
   ]
  },
  {
   "cell_type": "code",
   "execution_count": 82,
   "id": "c2728960",
   "metadata": {},
   "outputs": [
    {
     "data": {
      "text/plain": [
       "[('name', 'minjae'), ('phone', '01059137109')]"
      ]
     },
     "execution_count": 82,
     "metadata": {},
     "output_type": "execute_result"
    }
   ],
   "source": [
    "b.most_common(2)"
   ]
  },
  {
   "cell_type": "code",
   "execution_count": null,
   "id": "c8a201fd",
   "metadata": {},
   "outputs": [],
   "source": []
  }
 ],
 "metadata": {
  "kernelspec": {
   "display_name": "Python 3",
   "language": "python",
   "name": "python3"
  },
  "language_info": {
   "codemirror_mode": {
    "name": "ipython",
    "version": 3
   },
   "file_extension": ".py",
   "mimetype": "text/x-python",
   "name": "python",
   "nbconvert_exporter": "python",
   "pygments_lexer": "ipython3",
   "version": "3.8.8"
  }
 },
 "nbformat": 4,
 "nbformat_minor": 5
}
