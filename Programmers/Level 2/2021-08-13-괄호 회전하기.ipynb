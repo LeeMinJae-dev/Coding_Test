{
 "cells": [
  {
   "cell_type": "markdown",
   "id": "4b4e2c7b",
   "metadata": {},
   "source": [
    "---\n",
    "title : \"[Programmers] 괄호 회전하기 (Python3)\"\n",
    "categories : programmers\n",
    "toc : true\n",
    "toc_sticky : true\n",
    "toc_label : \"On this Page\"\n",
    "---\n",
    "## 문제 설명\n",
    "다음 규칙을 지키는 문자열을 올바른 괄호 문자열이라고 정의합니다.\n",
    "* (), [], {} 는 모두 올바른 괄호 문자열입니다.\n",
    "* 만약 A가 올바른 괄호 문자열이라면, (A), [A], {A} 도 올바른 괄호 문자열입니다. 예를 들어, [] 가 올바른 괄호 문자열이므로, ([]) 도 올바른 괄호 문자열입니다.\n",
    "* 만약 A, B가 올바른 괄호 문자열이라면, AB 도 올바른 괄호 문자열입니다. 예를 들어, {} 와 ([]) 가 올바른 괄호 문자열이므로, {}([]) 도 올바른 괄호 문자열입니다.\n",
    "\n",
    "대괄호, 중괄호, 그리고 소괄호로 이루어진 문자열 s가 매개변수로 주어집니다. 이 s를 왼쪽으로 x (0 ≤ x < (s의 길이)) 칸만큼 회전시켰을 때 s가 올바른 괄호 문자열이 되게 하는 x의 개수를 return 하도록 solution 함수를 완성해주세요.\n",
    "\n",
    "## 제한사항\n",
    "* s의 길이는 1 이상 1,000 이하입니다.\n",
    "\n",
    "## 입출력 예\n",
    "|s\t|result|\n",
    "|:---:|:---:|\n",
    "|\"[](){}\"|\t3|\n",
    "|\"}]()[{\"|\t2|\n",
    "|\"[)(]\"|\t0|\n",
    "|\"}}}\"|\t0|\n",
    "\n",
    "## 입출력 예 설명\n",
    "입출력 예 #1\n",
    "* 다음 표는 \"[](){}\" 를 회전시킨 모습을 나타낸 것입니다.\n",
    "|x\t|s를 왼쪽으로 x칸만큼 회전\t|올바른 괄호 문자열?|\n",
    "|:---:|:---:|:---:|\n",
    "|0\t|\"[](){}\"|\tO|\n",
    "|1|\t\"](){}[\"|\tX|\n",
    "|2\t|\"(){}[]\"|\tO|\n",
    "|3\t|\"){}[](\"|\tX|\n",
    "|4\t|\"{}[]()\"|\tO|\n",
    "|5\t|\"}[](){\"|\tX|\n",
    "\n",
    "* 올바른 괄호 문자열이 되는 x가 3개이므로, 3을 return 해야 합니다.\n",
    "\n",
    "입출력 예 #2\n",
    "* 다음 표는 \"}]()[{\" 를 회전시킨 모습을 나타낸 것입니다.\n",
    "\n",
    "|x|\ts를 왼쪽으로 x칸만큼 회전\t올바른 괄호 문자열?|\n",
    "|0\t|\"}]()[{\"\t|X|\n",
    "|1|\"]()[{}\"|\tX|\n",
    "|2\t|\"()[{}]\"|\tO|\n",
    "|3\t|\")[{}](\"|\tX|\n",
    "|4\t|\"[{}]()\"|\tO|\n",
    "|5\t|\"{}]()[\"|\tX|\n",
    "\n",
    "* 올바른 괄호 문자열이 되는 x가 2개이므로, 2를 return 해야 합니다.\n",
    "\n",
    "입출력 예 #3    \n",
    "* s를 어떻게 회전하더라도 올바른 괄호 문자열을 만들 수 없으므로, 0을 return 해야 합니다.\n",
    "\n",
    "입출력 예 #4    \n",
    "* s를 어떻게 회전하더라도 올바른 괄호 문자열을 만들 수 없으므로, 0을 return 해야 합니다.\n",
    "\n",
    "## 문제풀이\n",
    "괄호문제는 스택으로 풀었던 적이 있는데 또 까먹어서 괄호별로 딕셔너리를 만들어 숫자로 괄호가 닫혔는지 안닫혔는지 확인하다가 시간이 오래걸렸다.\n",
    "\n",
    "자꾸 풀었던 알고리즘을 까먹는 것 같아서, 내일부터는 순차적으로 돌아가며 매일 다른 유형을 풀도록 해야겠다.\n",
    "\n",
    "괄호가 만약 오른쪽으로 열린 괄호라면 스택에 넣어주고, 왼쪽으로 열린 괄호면 스택의 -1인덱스와 같은 지 확인해준뒤 같으면 stack.pop(), 다르면 append() 해주면 된다.\n",
    "모든 반복문이 끝난 후 스택이 비어있으면 올바른 괄호이므로 answer+=1을 해준다.\n",
    "\n",
    "## 코드"
   ]
  },
  {
   "cell_type": "code",
   "execution_count": 154,
   "id": "325202b2",
   "metadata": {},
   "outputs": [],
   "source": [
    "from collections import deque\n",
    "def solution(s):\n",
    "    q = deque(s)\n",
    "    answer = 0\n",
    "    if len(s) == 1:\n",
    "        return 0\n",
    "    \n",
    "    left = ['[','{','(']\n",
    "    asci = {']':2,'}':2, ')':1}\n",
    "    for i in range(len(s)):\n",
    "        stack = []\n",
    "        for j in q:\n",
    "            if j in left:\n",
    "                stack.append(j)\n",
    "            else:\n",
    "                if stack and stack[-1] == chr(ord(j)-asci[j]):\n",
    "                    stack.pop()\n",
    "                else:\n",
    "                    stack.append(j)\n",
    "        q.append(q.popleft())\n",
    "        if not stack:\n",
    "            answer+=1\n",
    "                \n",
    "    return answer"
   ]
  },
  {
   "cell_type": "code",
   "execution_count": 153,
   "id": "dc710f88",
   "metadata": {},
   "outputs": [
    {
     "data": {
      "text/plain": [
       "3"
      ]
     },
     "execution_count": 153,
     "metadata": {},
     "output_type": "execute_result"
    }
   ],
   "source": [
    "solution(\"[](){}\")"
   ]
  }
 ],
 "metadata": {
  "kernelspec": {
   "display_name": "Python 3",
   "language": "python",
   "name": "python3"
  },
  "language_info": {
   "codemirror_mode": {
    "name": "ipython",
    "version": 3
   },
   "file_extension": ".py",
   "mimetype": "text/x-python",
   "name": "python",
   "nbconvert_exporter": "python",
   "pygments_lexer": "ipython3",
   "version": "3.9.7"
  }
 },
 "nbformat": 4,
 "nbformat_minor": 5
}
