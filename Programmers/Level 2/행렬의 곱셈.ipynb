{
 "cells": [
  {
   "cell_type": "markdown",
   "id": "00943909",
   "metadata": {},
   "source": [
    "## 문제 설명\n",
    "2차원 행렬 arr1과 arr2를 입력받아, arr1에 arr2를 곱한 결과를 반환하는 함수, solution을 완성해주세요.\n",
    "\n",
    "## 제한 조건\n",
    "행렬 arr1, arr2의 행과 열의 길이는 2 이상 100 이하입니다.\n",
    "행렬 arr1, arr2의 원소는 -10 이상 20 이하인 자연수입니다.\n",
    "곱할 수 있는 배열만 주어집니다.\n",
    "\n",
    "## 입출력 예\n",
    "```\n",
    "arr1\t                   \t        \n",
    "[[1, 4], [3, 2], [4, 1]]\t   \n",
    "[[2, 3, 2], [4, 2, 4], [3, 1, 4]]\n",
    "\n",
    "arr2\n",
    "[[3, 3], [3, 3]]\n",
    "[[5, 4, 3], [2, 4, 1], [3, 1, 1]]\n",
    "\n",
    "return\n",
    "[[15, 15], [15, 15], [15, 15]]\n",
    "[[22, 22, 11], [36, 28, 18], [29, 20, 14]]\n",
    "```\n"
   ]
  },
  {
   "cell_type": "code",
   "execution_count": 139,
   "id": "89707605",
   "metadata": {},
   "outputs": [],
   "source": [
    "arr1 = [[1, 4]]  \n",
    "arr2 = [[3],\n",
    "        [3]]\n"
   ]
  },
  {
   "cell_type": "code",
   "execution_count": 154,
   "id": "d487be2d",
   "metadata": {},
   "outputs": [],
   "source": [
    "def solution(arr1, arr2):\n",
    "    \n",
    "    result = []\n",
    "    for x1 in range(len(arr1)):\n",
    "        su2 = []\n",
    "        for y2 in range(len(arr2[0])):\n",
    "            su = []\n",
    "            for y1 in range(len(arr1[0])):\n",
    "                su.append(arr1[x1][y1]*arr2[y1][y2])\n",
    "                print(su)\n",
    "            su2.append(sum(su))\n",
    "    \n",
    "        result.append(su2)\n",
    "            \n",
    "    return result"
   ]
  },
  {
   "cell_type": "code",
   "execution_count": 155,
   "id": "f64610ed",
   "metadata": {},
   "outputs": [
    {
     "name": "stdout",
     "output_type": "stream",
     "text": [
      "[3]\n",
      "[3, 12]\n"
     ]
    },
    {
     "data": {
      "text/plain": [
       "[[15]]"
      ]
     },
     "execution_count": 155,
     "metadata": {},
     "output_type": "execute_result"
    }
   ],
   "source": [
    "solution(arr1, arr2)"
   ]
  },
  {
   "cell_type": "code",
   "execution_count": 11,
   "id": "002cf062",
   "metadata": {},
   "outputs": [],
   "source": [
    "a = [1,2]\n",
    "b = [3,4]\n"
   ]
  },
  {
   "cell_type": "code",
   "execution_count": 12,
   "id": "cde55728",
   "metadata": {},
   "outputs": [
    {
     "ename": "TypeError",
     "evalue": "can't multiply sequence by non-int of type 'list'",
     "output_type": "error",
     "traceback": [
      "\u001b[0;31m---------------------------------------------------------------------------\u001b[0m",
      "\u001b[0;31mTypeError\u001b[0m                                 Traceback (most recent call last)",
      "\u001b[0;32m<ipython-input-12-8ce765dcfa30>\u001b[0m in \u001b[0;36m<module>\u001b[0;34m\u001b[0m\n\u001b[0;32m----> 1\u001b[0;31m \u001b[0ma\u001b[0m\u001b[0;34m*\u001b[0m\u001b[0mb\u001b[0m\u001b[0;34m\u001b[0m\u001b[0;34m\u001b[0m\u001b[0m\n\u001b[0m",
      "\u001b[0;31mTypeError\u001b[0m: can't multiply sequence by non-int of type 'list'"
     ]
    }
   ],
   "source": [
    "a*b"
   ]
  },
  {
   "cell_type": "code",
   "execution_count": null,
   "id": "77988252",
   "metadata": {},
   "outputs": [],
   "source": []
  }
 ],
 "metadata": {
  "kernelspec": {
   "display_name": "Python 3",
   "language": "python",
   "name": "python3"
  },
  "language_info": {
   "codemirror_mode": {
    "name": "ipython",
    "version": 3
   },
   "file_extension": ".py",
   "mimetype": "text/x-python",
   "name": "python",
   "nbconvert_exporter": "python",
   "pygments_lexer": "ipython3",
   "version": "3.8.8"
  }
 },
 "nbformat": 4,
 "nbformat_minor": 5
}
