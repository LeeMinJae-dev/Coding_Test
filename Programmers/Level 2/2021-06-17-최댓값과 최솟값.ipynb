{
 "cells": [
  {
   "cell_type": "markdown",
   "id": "2ed1808e",
   "metadata": {},
   "source": [
    "---\n",
    "title: \"[Programmers] 최댓값과 최솟값\"\n",
    "toc : true\n",
    "toc_sticky : true\n",
    "toc_label : \"On this Page\"\n",
    "categories : programmers\n",
    "\n",
    "---\n",
    "## 문제 설명\n",
    "문자열 s에는 공백으로 구분된 숫자들이 저장되어 있습니다. str에 나타나는 숫자 중 최소값과 최대값을 찾아 이를 \"(최소값) (최대값)\"형태의 문자열을 반환하는 함수, solution을 완성하세요.\n",
    "예를들어 s가 \"1 2 3 4\"라면 \"1 4\"를 리턴하고, \"-1 -2 -3 -4\"라면 \"-4 -1\"을 리턴하면 됩니다.\n",
    "\n",
    "## 제한 조건\n",
    "s에는 둘 이상의 정수가 공백으로 구분되어 있습니다.\n",
    "\n",
    "## 입출력 예\n",
    "```\n",
    "s                return\n",
    "\"1 2 3 4\"\t     \"1 4\"\n",
    "\"-1 -2 -3 -4\"\t \"-4 -1\"\n",
    "\"-1 -1\"        \t \"-1 -1\"\n",
    "```\n",
    "## 코드"
   ]
  },
  {
   "cell_type": "code",
   "execution_count": 40,
   "id": "fe935c9a",
   "metadata": {},
   "outputs": [],
   "source": [
    "s = \"1 2 3 4\""
   ]
  },
  {
   "cell_type": "code",
   "execution_count": 57,
   "id": "3eb1eeaf",
   "metadata": {},
   "outputs": [],
   "source": [
    "def solution(s):\n",
    "    a = []\n",
    "    for i in s.split():\n",
    "        a.append(int(i))\n",
    "    \n",
    "    return \" \".join([str(min(a)),str(max(a))])"
   ]
  },
  {
   "cell_type": "code",
   "execution_count": 58,
   "id": "bed14975",
   "metadata": {},
   "outputs": [
    {
     "data": {
      "text/plain": [
       "'1 4'"
      ]
     },
     "execution_count": 58,
     "metadata": {},
     "output_type": "execute_result"
    }
   ],
   "source": [
    "solution(s)"
   ]
  }
 ],
 "metadata": {
  "kernelspec": {
   "display_name": "Python 3",
   "language": "python",
   "name": "python3"
  },
  "language_info": {
   "codemirror_mode": {
    "name": "ipython",
    "version": 3
   },
   "file_extension": ".py",
   "mimetype": "text/x-python",
   "name": "python",
   "nbconvert_exporter": "python",
   "pygments_lexer": "ipython3",
   "version": "3.9.7"
  }
 },
 "nbformat": 4,
 "nbformat_minor": 5
}
