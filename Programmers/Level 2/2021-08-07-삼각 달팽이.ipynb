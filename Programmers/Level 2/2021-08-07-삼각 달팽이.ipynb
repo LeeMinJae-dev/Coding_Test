{
 "cells": [
  {
   "cell_type": "markdown",
   "id": "295996c3",
   "metadata": {},
   "source": [
    "---\n",
    "title : \"[Programmers] 삼각 달팽이 (Python3)\"\n",
    "toc : true\n",
    "toc_lable : \"On this Page\"\n",
    "toc_sticky : true\n",
    "categories : programmers\n",
    "---\n",
    "## 문제 설명\n",
    "정수 n이 매개변수로 주어집니다. 다음 그림과 같이 밑변의 길이와 높이가 n인 삼각형에서 맨 위 꼭짓점부터 반시계 방향으로 달팽이 채우기를 진행한 후, 첫 행부터 마지막 행까지 모두 순서대로 합친 새로운 배열을 return 하도록 solution 함수를 완성해주세요.\n",
    "\n",
    "![examples.png] (/assets/images/algorithm/programmers/삼각 달팽이/examples.png)\n",
    "\n",
    "## 제한사항\n",
    "n은 1 이상 1,000 이하입니다.\n",
    "\n",
    "## 입출력 예\n",
    "|n|\tresult|\n",
    "|:---:|:---:|\n",
    "|4\t|[1,2,9,3,10,8,4,5,6,7]|\n",
    "|5\t|[1,2,12,3,13,11,4,14,15,10,5,6,7,8,9]|\n",
    "|6|\t[1,2,15,3,16,14,4,17,21,13,5,18,19,20,12,6,7,8,9,10,11]|\n",
    "\n",
    "## 입출력 예 설명\n",
    "입출력 예 #1    \n",
    "문제 예시와 같습니다.   \n",
    "입출력 예 #2   \n",
    "문제 예시와 같습니다.   \n",
    "입출력 예 #3   \n",
    "문제 예시와 같습니다.   \n",
    "\n",
    "## 문제풀이\n",
    "솔직히 지금 풀었던 것 중에 제일 어려웠다... 어렵다기보다는 발상이 안떠올라서 아예 풀지를 못하고 고민만 한시간 가까이 했다. 풀이를 봐도 솔직히 어떻게 이 풀이를 떠올렸는지 모르겠다. 코딩으로 구현하기 굉장히 헷갈리는 문제여서 아예 발상조차 잘 떠오르지가 않아서 그냥 해답을 보고 풀었다. 해답을 봐도 패턴이 직관적으로 떠올리기가 어려운 패턴이라 문제자체가 난이도가 좀 있는 것 같다. \n",
    "\n",
    "이 문제를 풀때 중요한건 이 도형이 삼각형임을 떠올리는 것이다. n*n 이차원 배열을 만들어 대각으로 반만 사용하여 삼각형을 구현한 후, 이 삼각형이 오른쪽에 빗변이 있는 직각 삼각형이라고 생각해준다. 꺾이는 부분의 숫자를 보면 n에서 1씩 감소하면서 꺾이는 것을 알 수 있다. 예를 들어 n = 4인 삼각형은 4칸 이동 후 방향이 바뀌고, 다음은 3칸 이동 후 방향이 바뀌고, 2칸이동이 바뀌고... 하는 식이다.\n",
    "\n",
    "세 변이 있으므로 문제에서 말하는 달팽이 식으로 칸을 채우면 순서대로 아래, 오른쪽, 위를 반복하며 채우게 된다.이 중 위로가는 것은 삼각형의 빗변을 타고가는 셈이므로 x-=1, y-=1이고 나머지 아래는 x+=1, 오른쪽은 y+=1이라 해주면 된다. 세가지 방향이므로, %를 이용해 0,1,2가 반복되어 나타나도록 한 뒤 0일때는 아래로, 1일때는 오른쪽으로, 2일때는 위로 이동하게 해주면 된다.\n",
    "\n",
    "## 코드"
   ]
  },
  {
   "cell_type": "code",
   "execution_count": 36,
   "id": "07f451fa",
   "metadata": {},
   "outputs": [],
   "source": [
    "def solution(n):\n",
    "    snail = [[0 for i in range(n)] for i in range(n)]\n",
    "    x = -1\n",
    "    y = 0\n",
    "    num = 1\n",
    "    for i in range(n):\n",
    "        for _ in range(i,n):\n",
    "            if i%3 == 0:\n",
    "                x+=1\n",
    "            elif i%3 == 1:\n",
    "                y+=1\n",
    "            elif i%3 == 2:\n",
    "                x-=1\n",
    "                y-=1\n",
    "            snail[x][y] = num\n",
    "            num+=1\n",
    "    result = []\n",
    "    for i in snail:\n",
    "        for j in i:\n",
    "            if j !=0:\n",
    "                result.append(j)\n",
    "    return result"
   ]
  },
  {
   "cell_type": "code",
   "execution_count": 37,
   "id": "cbcc0962",
   "metadata": {},
   "outputs": [
    {
     "data": {
      "text/plain": [
       "[1, 2, 9, 3, 10, 8, 4, 5, 6, 7]"
      ]
     },
     "execution_count": 37,
     "metadata": {},
     "output_type": "execute_result"
    }
   ],
   "source": [
    "solution(4)"
   ]
  }
 ],
 "metadata": {
  "kernelspec": {
   "display_name": "Python 3",
   "language": "python",
   "name": "python3"
  },
  "language_info": {
   "codemirror_mode": {
    "name": "ipython",
    "version": 3
   },
   "file_extension": ".py",
   "mimetype": "text/x-python",
   "name": "python",
   "nbconvert_exporter": "python",
   "pygments_lexer": "ipython3",
   "version": "3.8.8"
  }
 },
 "nbformat": 4,
 "nbformat_minor": 5
}
