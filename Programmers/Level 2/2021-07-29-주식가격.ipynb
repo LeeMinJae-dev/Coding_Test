{
 "cells": [
  {
   "cell_type": "markdown",
   "id": "3c24f798",
   "metadata": {},
   "source": [
    "---\n",
    "title:\"[Programmers] 주식가격\"\n",
    "toc: true\n",
    "toc_sticky: true\n",
    "toc_lable: true\n",
    "categories:programmers\n",
    "---\n",
    "## 문제 \n",
    "초 단위로 기록된 주식가격이 담긴 배열 prices가 매개변수로 주어질 때, 가격이 떨어지지 않은 기간은 몇 초인지를 return 하도록 solution 함수를 완성하세요.\n",
    "\n",
    "## 제한사항\n",
    "prices의 각 가격은 1 이상 10,000 이하인 자연수입니다.    \n",
    "prices의 길이는 2 이상 100,000 이하입니다.     \n",
    "\n",
    "## 입출력 예\n",
    "|prices|\treturn|\n",
    "|:---:|:---:|\n",
    "|[1, 2, 3, 2, 3]|\t[4, 3, 1, 1, 0]|\n",
    "\n",
    "## 입출력 예 설명\n",
    "1초 시점의 ₩1은 끝까지 가격이 떨어지지 않았습니다.   \n",
    "2초 시점의 ₩2은 끝까지 가격이 떨어지지 않았습니다.   \n",
    "3초 시점의 ₩3은 1초뒤에 가격이 떨어집니다. 따라서 1초간 가격이 떨어지지 않은 것으로 봅니다.   \n",
    "4초 시점의 ₩2은 1초간 가격이 떨어지지 않았습니다.   \n",
    "5초 시점의 ₩3은 0초간 가격이 떨어지지 않았습니다.   \n",
    "※ 공지 - 2019년 2월 28일 지문이 리뉴얼되었습니다.  \n",
    "\n",
    "## 문제 풀이\n",
    "이 문제는 브루트포스로 풀어도 통과가 뜨긴 하지만, 그래도 더 빠른 동작을 위해서는 스택을 사용해서 풀어야 한다. 결국 가격이 떨어지지 않은 기간은 가격이 떨어지게되는 가격의 인덱스에서 해당 인덱스를 뺀 값이기 때문에, 가격을 스택에 쌓아주다가 다음 가격이 더 크면 스택에 쌓고, 다음 가격이 더 작으면 pop해준다.\n",
    "## 코드"
   ]
  },
  {
   "cell_type": "code",
   "execution_count": 26,
   "id": "514aa964",
   "metadata": {},
   "outputs": [],
   "source": [
    "def solution(prices):\n",
    "    answer = [0]*len(prices)\n",
    "    stack = []\n",
    "    for i,price in enumerate(prices):\n",
    "        while stack and price < prices[stack[-1]]:\n",
    "            j = stack.pop()\n",
    "            answer[j] = i - j\n",
    "            print(stack)\n",
    "        stack.append(i)\n",
    "        print(stack)\n",
    "    while stack:\n",
    "        j = stack.pop()\n",
    "        answer[j] = len(prices)-1-j\n",
    "        \n",
    "        \n",
    "    return answer"
   ]
  },
  {
   "cell_type": "code",
   "execution_count": 27,
   "id": "7777308b",
   "metadata": {},
   "outputs": [
    {
     "name": "stdout",
     "output_type": "stream",
     "text": [
      "[0]\n",
      "[0, 1]\n",
      "[0, 1, 2]\n",
      "[0, 1]\n",
      "[0, 1, 3]\n",
      "[0, 1, 3, 4]\n"
     ]
    },
    {
     "data": {
      "text/plain": [
       "[4, 3, 1, 1, 0]"
      ]
     },
     "execution_count": 27,
     "metadata": {},
     "output_type": "execute_result"
    }
   ],
   "source": [
    "solution([1, 2, 3, 2, 3])"
   ]
  }
 ],
 "metadata": {
  "kernelspec": {
   "display_name": "Python 3",
   "language": "python",
   "name": "python3"
  },
  "language_info": {
   "codemirror_mode": {
    "name": "ipython",
    "version": 3
   },
   "file_extension": ".py",
   "mimetype": "text/x-python",
   "name": "python",
   "nbconvert_exporter": "python",
   "pygments_lexer": "ipython3",
   "version": "3.8.8"
  }
 },
 "nbformat": 4,
 "nbformat_minor": 5
}
