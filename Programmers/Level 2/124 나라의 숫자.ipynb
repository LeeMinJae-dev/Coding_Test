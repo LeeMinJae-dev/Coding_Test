{
 "cells": [
  {
   "cell_type": "markdown",
   "id": "a430b1a4",
   "metadata": {},
   "source": [
    "## 문제설명\n",
    "124 나라가 있습니다. 124 나라에서는 10진법이 아닌 다음과 같은 자신들만의 규칙으로 수를 표현합니다.\n",
    "\n",
    "    1.124 나라에는 자연수만 존재합니다.\n",
    "    2.124 나라에는 모든 수를 표현할 때 1, 2, 4만 사용합니다.\n",
    "    \n",
    "예를 들어서 124 나라에서 사용하는 숫자는 다음과 같이 변환됩니다.\n",
    "\n",
    "    10진법\t124 나라\t10진법\t124 나라\n",
    "    1\t     1\t      6\t       14\n",
    "    2\t     2\t      7\t       21\n",
    "    3\t     4\t      8\t       22\n",
    "    4\t     11\t      9\t       24\n",
    "    5\t     12\t      10\t   41\n",
    "자연수 n이 매개변수로 주어질 때, n을 124 나라에서 사용하는 숫자로 바꾼 값을 return 하도록 solution 함수를 완성해 주세요.\n",
    "\n",
    "## 제한사항\n",
    "n은 500,000,000이하의 자연수 입니다.\n",
    "\n",
    "## 입출력 예\n",
    "\n",
    "    n\tresult\n",
    "    1\t1\n",
    "    2\t2\n",
    "    3\t4\n",
    "    4\t11\n"
   ]
  },
  {
   "cell_type": "code",
   "execution_count": 371,
   "id": "0f32acba",
   "metadata": {},
   "outputs": [],
   "source": [
    "def convert(n):\n",
    "    num = []\n",
    "    if n == 0:\n",
    "        return [0]\n",
    "    while n>0:\n",
    "        if n%3 == 0:\n",
    "            num.append(int(n%3))\n",
    "            n = n/3\n",
    "        else:\n",
    "            num.append(int(n%3))\n",
    "            n = n//3\n",
    "\n",
    "    return list(reversed(num))\n",
    "\n",
    "def solution(n):\n",
    "        answer = ''\n",
    "        while n>0:\n",
    "            n -= 1\n",
    "            answer = '124'[n%3] +answer\n",
    "            n = n//3\n",
    "        return answer\n",
    "        "
   ]
  },
  {
   "cell_type": "code",
   "execution_count": 372,
   "id": "9a39c88c",
   "metadata": {},
   "outputs": [
    {
     "data": {
      "text/plain": [
       "'4'"
      ]
     },
     "execution_count": 372,
     "metadata": {},
     "output_type": "execute_result"
    }
   ],
   "source": [
    "solution(4-1)"
   ]
  },
  {
   "cell_type": "code",
   "execution_count": 357,
   "id": "10324c26",
   "metadata": {},
   "outputs": [
    {
     "data": {
      "text/plain": [
       "[1, 0]"
      ]
     },
     "execution_count": 357,
     "metadata": {},
     "output_type": "execute_result"
    }
   ],
   "source": [
    "convert(4-1)"
   ]
  },
  {
   "cell_type": "code",
   "execution_count": 109,
   "id": "6eba610a",
   "metadata": {},
   "outputs": [
    {
     "data": {
      "text/plain": [
       "1"
      ]
     },
     "execution_count": 109,
     "metadata": {},
     "output_type": "execute_result"
    }
   ],
   "source": [
    "4//3"
   ]
  },
  {
   "cell_type": "code",
   "execution_count": 360,
   "id": "a853ff39",
   "metadata": {},
   "outputs": [],
   "source": [
    "def solution(n):\n",
    "    answer = ''\n",
    "    while n > 0:\n",
    "        n -= 1\n",
    "        answer = '124'[n%3] + answer\n",
    "        n //= 3\n",
    "    return answer\n",
    "\n"
   ]
  },
  {
   "cell_type": "code",
   "execution_count": 363,
   "id": "779def5e",
   "metadata": {},
   "outputs": [
    {
     "data": {
      "text/plain": [
       "'11'"
      ]
     },
     "execution_count": 363,
     "metadata": {},
     "output_type": "execute_result"
    }
   ],
   "source": [
    "solution(4)"
   ]
  },
  {
   "cell_type": "code",
   "execution_count": null,
   "id": "e0ad4dd8",
   "metadata": {},
   "outputs": [],
   "source": [
    "n = n//3"
   ]
  }
 ],
 "metadata": {
  "kernelspec": {
   "display_name": "Python 3",
   "language": "python",
   "name": "python3"
  },
  "language_info": {
   "codemirror_mode": {
    "name": "ipython",
    "version": 3
   },
   "file_extension": ".py",
   "mimetype": "text/x-python",
   "name": "python",
   "nbconvert_exporter": "python",
   "pygments_lexer": "ipython3",
   "version": "3.8.8"
  }
 },
 "nbformat": 4,
 "nbformat_minor": 5
}
