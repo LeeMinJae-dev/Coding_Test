{
 "cells": [
  {
   "cell_type": "markdown",
   "id": "3dfd1117",
   "metadata": {},
   "source": [
    "문제 1"
   ]
  },
  {
   "cell_type": "code",
   "execution_count": 24,
   "id": "bc9f309d",
   "metadata": {},
   "outputs": [],
   "source": [
    "def solution(survey, choices):\n",
    "    token_1 = {\"R\":0, \"T\":0}\n",
    "    token_2 = {\"C\":0, \"F\":0}\n",
    "    token_3 = {\"J\":0, \"M\":0}\n",
    "    token_4 = {\"A\":0, \"N\":0}\n",
    "    score = [token_1, token_2, token_3, token_4]\n",
    "    \n",
    "    for sur, cho in zip(survey, choices):\n",
    "        cho = cho - 4\n",
    "        if cho < 0:\n",
    "            for token in score:\n",
    "                if sur[0] in token:\n",
    "                    token[sur[0]] += abs(cho)\n",
    "                    break\n",
    "        elif cho > 0:\n",
    "            for token in score:\n",
    "                if sur[1] in token:\n",
    "                    token[sur[1]] += abs(cho)\n",
    "                    break\n",
    "    answer = \"\"\n",
    "    for cat in score:\n",
    "        types = list(cat.items())\n",
    "        types = sorted(types, key = lambda x: (-x[1], x[0]))\n",
    "        answer += types[0][0]\n",
    "    \n",
    "    return answer \n"
   ]
  },
  {
   "cell_type": "code",
   "execution_count": 25,
   "id": "07c16819",
   "metadata": {},
   "outputs": [
    {
     "data": {
      "text/plain": [
       "'TCMA'"
      ]
     },
     "execution_count": 25,
     "metadata": {},
     "output_type": "execute_result"
    }
   ],
   "source": [
    "solution([\"AN\", \"CF\", \"MJ\", \"RT\", \"NA\"], [5,3,2,7,5])"
   ]
  },
  {
   "cell_type": "markdown",
   "id": "d05a691a",
   "metadata": {},
   "source": [
    "문제 2"
   ]
  },
  {
   "cell_type": "code",
   "execution_count": 20,
   "id": "eb033bdd",
   "metadata": {},
   "outputs": [],
   "source": [
    "from collections import deque\n",
    "from itertools import permutations\n",
    "def solution(queue1, queue2):\n",
    "    queue1_sum = sum(queue1)\n",
    "    queue2_sum = sum(queue2)\n",
    "    all_sum = queue1_sum + queue2_sum \n",
    "    target = all_sum/2\n",
    "    \n",
    "    queue1 = deque(queue1)\n",
    "    queue2 = deque(queue2)\n",
    "    \n",
    "    answer = 0\n",
    "    \n",
    "    all_queue = queue1 + queue2\n",
    "    queue1_copy = queue1.copy()\n",
    "    queue2_copy = queue2.copy()\n",
    "    trying = 0\n",
    "    trying_limit = len(all_queue)\n",
    "    while True:\n",
    "\n",
    "        if trying > trying_limit + 2:\n",
    "            return -1\n",
    "        if queue1_sum < queue2_sum:\n",
    "            num = queue2.popleft()\n",
    "            queue1.append(num)\n",
    "            queue2_sum -= num\n",
    "            queue1_sum += num\n",
    "            answer += 1\n",
    "        elif queue1_sum > queue2_sum:\n",
    "            num = queue1.popleft()\n",
    "            queue2.append(num)\n",
    "            queue1_sum -= num\n",
    "            queue2_sum += num\n",
    "            answer += 1\n",
    "        else:\n",
    "            break\n",
    "        trying += 1 \n",
    "    return answer"
   ]
  },
  {
   "cell_type": "code",
   "execution_count": 21,
   "id": "46f0e0cd",
   "metadata": {},
   "outputs": [
    {
     "name": "stdout",
     "output_type": "stream",
     "text": [
      "2\n",
      "7\n",
      "-1\n"
     ]
    }
   ],
   "source": [
    "test_case = [[[3,2,7,2], [4,6,5,1]], [[1,2,1,2], [1,10,1,2]], [[1,1], [1,5]]]\n",
    "\n",
    "for case in test_case:\n",
    "    print(solution(case[0], case[1]))"
   ]
  },
  {
   "cell_type": "code",
   "execution_count": 87,
   "id": "1bf0f5ad",
   "metadata": {},
   "outputs": [],
   "source": [
    "def coin_change(n, coins):\n",
    "    parts = [1]+[0]*n\n",
    "    for c in coins:\n",
    "        for i, x in enumerate(range(c, n+1)):\n",
    "            parts[x] += parts[i]\n",
    "    return parts[n]"
   ]
  },
  {
   "cell_type": "code",
   "execution_count": 86,
   "id": "ef64a05c",
   "metadata": {},
   "outputs": [
    {
     "data": {
      "text/plain": [
       "[1, 1, 2, 3, 5]"
      ]
     },
     "execution_count": 86,
     "metadata": {},
     "output_type": "execute_result"
    }
   ],
   "source": [
    "coin_change(4, {})"
   ]
  },
  {
   "cell_type": "markdown",
   "id": "bf792954",
   "metadata": {},
   "source": [
    "문제 3"
   ]
  },
  {
   "cell_type": "code",
   "execution_count": 11,
   "id": "c8fae021",
   "metadata": {},
   "outputs": [],
   "source": [
    "def solution(alp, cop, problems):\n",
    "    problems = sorted(problems, key = lambda x: (x[0] + x[1]))\n",
    "     \n",
    "    for problem in problems:\n",
    "        alp_req = problem[0]\n",
    "        cop_req = problem[1]\n",
    "        alp_rwd = problem[2]\n",
    "        cop_rwd = problem[3]\n",
    "        cost = problem[4]\n",
    "        \n",
    "        alp_eff = alp_rwd / cost\n",
    "        cop_eff = cop_rwd / cost\n",
    "        all_eff = alp_eff + cop_eff\n",
    "        \n",
    "        problem.append(alp_eff)\n",
    "        problem.append(cop_eff)\n",
    "        problem.append(all_eff)\n",
    "        \n",
    "    target_alp = problems[-1][0]\n",
    "    target_cop = problems[-1][1]\n",
    "    \n",
    "    print(target_alp, target_cop)\n",
    "    \n",
    "    target_num = 0\n",
    "    \n",
    "    while True:\n",
    "        forward_alp = problems[target_num][5]\n",
    "        forward_cop = problems[target_num][6]\n",
    "           \n",
    "        for problem in problems:\n",
    "            alp_req = problem[0]\n",
    "            cop_req = problem[1]\n",
    "            alp_rwd = problem[2]\n",
    "            cop_rwd = problem[3]\n",
    "            alp_eff = problem[4]\n",
    "            cop_eff = problem[5]\n",
    "            all_eff = problem[6]\n",
    "        \n",
    "            \n",
    "        \n",
    "        "
   ]
  },
  {
   "cell_type": "code",
   "execution_count": 12,
   "id": "76150f76",
   "metadata": {},
   "outputs": [
    {
     "name": "stdout",
     "output_type": "stream",
     "text": [
      "case\n",
      "20 20\n",
      "None\n",
      "case\n",
      "4 11\n",
      "None\n"
     ]
    }
   ],
   "source": [
    "\n",
    "test_case = [[10, 10, [[10,15,2,1,2],[20,20,3,3,4]]], [0, 0, [[0,0,2,1,2],[4,5,3,1,2],[4,11,4,0,2],[10,4,0,4,2]]]]\n",
    "\n",
    "for case in test_case:\n",
    "    print(\"case\")\n",
    "    print(solution(case[0], case[1], case[2]))"
   ]
  },
  {
   "cell_type": "markdown",
   "id": "3a64d781",
   "metadata": {},
   "source": [
    "문제 4"
   ]
  },
  {
   "cell_type": "markdown",
   "id": "487e78c7",
   "metadata": {},
   "source": [
    "문제 5"
   ]
  },
  {
   "cell_type": "code",
   "execution_count": 106,
   "id": "3b5e8e85",
   "metadata": {},
   "outputs": [],
   "source": [
    "from collections import deque\n",
    "def solution(rc, operations):\n",
    "    for oper in operations:\n",
    "        if oper == \"ShiftRow\":\n",
    "            rc = shift_row(rc)\n",
    "        else:\n",
    "            rc = rotate(rc)\n",
    "    return rc\n",
    "\n",
    "def shift_row(rc):\n",
    "    rc = deque(rc)\n",
    "    rc.appendleft(rc.pop())\n",
    "    return list(rc)\n",
    "\n",
    "def rotate(matrix):\n",
    "    i1 = 1\n",
    "    j1 = 1\n",
    "    i2 = len(matrix)\n",
    "    j2 = len(matrix[0])\n",
    "\n",
    "    for j in range(j1, j2+1):\n",
    "        yield (i1, j)\n",
    "\n",
    "    for i in range(i1+1, i2+1):\n",
    "        yield (i, j)\n",
    "\n",
    "    for j in range(j2-1, j1-1, -1):\n",
    "        yield (i, j)\n",
    "\n",
    "    for i in range(i2-1, i1, -1):\n",
    "        yield (i, j)\n",
    "\n",
    "    return matrix \n",
    "    "
   ]
  },
  {
   "cell_type": "code",
   "execution_count": 107,
   "id": "1de8f4c4",
   "metadata": {},
   "outputs": [
    {
     "data": {
      "text/plain": [
       "<generator object rotate at 0x7f79a8e2e190>"
      ]
     },
     "execution_count": 107,
     "metadata": {},
     "output_type": "execute_result"
    }
   ],
   "source": [
    "rotate([[1, 2, 3], \n",
    "        [4, 5, 6], \n",
    "        [7, 8, 9]])"
   ]
  },
  {
   "cell_type": "code",
   "execution_count": 104,
   "id": "6f181299",
   "metadata": {},
   "outputs": [],
   "source": [
    "def rotation(b, i):\n",
    "    l = []\n",
    "    r,c = i[0]-1,i[1]-1\n",
    "    while b:\n",
    "        l.append(b[r][c])\n",
    "        if r == i[0]-1 and c < i[3]-1:\n",
    "            c += 1\n",
    "        elif r < i[2]-1 and c == i[3]-1:\n",
    "            r += 1\n",
    "        elif r == i[2]-1 and c > i[1]-1:\n",
    "            c -= 1\n",
    "        elif r > i[0]-1 and c == i[1]-1:\n",
    "            r -= 1\n",
    "        if r == i[0]-1 and c == i[1]-1:\n",
    "            break\n",
    "    m = min(l)\n",
    "    p = l.pop()\n",
    "    l.insert(0,p)\n",
    "    while b:\n",
    "        b[r][c] = l.pop(0)\n",
    "        if r == i[0]-1 and c < i[3]-1:\n",
    "            c += 1\n",
    "        elif r < i[2]-1 and c == i[3]-1:\n",
    "            r += 1\n",
    "        elif r == i[2]-1 and c > i[1]-1:\n",
    "            c -= 1\n",
    "        elif r > i[0]-1 and c == i[1]-1:\n",
    "            r -= 1\n",
    "        if r == i[0]-1 and c == i[1]-1:\n",
    "            break\n",
    "    return m"
   ]
  },
  {
   "cell_type": "code",
   "execution_count": 105,
   "id": "df1947fe",
   "metadata": {},
   "outputs": [
    {
     "name": "stdout",
     "output_type": "stream",
     "text": [
      "[[7, 8, 9], [1, 2, 3], [4, 5, 6]]\n",
      "[[3, 3, 7], [8, 4, 9], [8, 6, 3]]\n",
      "[[5, 6, 7, 8], [9, 10, 11, 12], [1, 2, 3, 4]]\n"
     ]
    }
   ],
   "source": [
    "test_case = [[[[1, 2, 3], [4, 5, 6], [7, 8, 9]], [\"Rotate\", \"ShiftRow\"]],[[[8, 6, 3], [3, 3, 7], [8, 4, 9]], [\"Rotate\", \"ShiftRow\", \"ShiftRow\"]],[[[1, 2, 3, 4], [5, 6, 7, 8], [9, 10, 11, 12]], [\"ShiftRow\", \"Rotate\", \"ShiftRow\", \"Rotate\"]]]\n",
    "\n",
    "for case in test_case:\n",
    "    print(solution(case[0], case[1]))"
   ]
  },
  {
   "cell_type": "code",
   "execution_count": null,
   "id": "2178d941",
   "metadata": {},
   "outputs": [],
   "source": []
  }
 ],
 "metadata": {
  "kernelspec": {
   "display_name": "Python 3",
   "language": "python",
   "name": "python3"
  },
  "language_info": {
   "codemirror_mode": {
    "name": "ipython",
    "version": 3
   },
   "file_extension": ".py",
   "mimetype": "text/x-python",
   "name": "python",
   "nbconvert_exporter": "python",
   "pygments_lexer": "ipython3",
   "version": "3.9.7"
  }
 },
 "nbformat": 4,
 "nbformat_minor": 5
}
