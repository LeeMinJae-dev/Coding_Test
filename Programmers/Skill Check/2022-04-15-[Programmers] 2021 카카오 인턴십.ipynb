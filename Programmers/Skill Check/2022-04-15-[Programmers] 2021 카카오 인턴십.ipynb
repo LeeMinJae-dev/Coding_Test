{
 "cells": [
  {
   "cell_type": "markdown",
   "id": "15a4bc91",
   "metadata": {},
   "source": [
    "1번문제\n",
    "https://programmers.co.kr/learn/courses/30/lessons/81301"
   ]
  },
  {
   "cell_type": "markdown",
   "id": "448f8390",
   "metadata": {},
   "source": [
    "0\tzero\n",
    "1\tone\n",
    "2\ttwo\n",
    "3\tthree\n",
    "4\tfour\n",
    "5\tfive\n",
    "6\tsix\n",
    "7\tseven\n",
    "8\teight\n",
    "9\tnine"
   ]
  },
  {
   "cell_type": "code",
   "execution_count": 32,
   "id": "ce04cd19",
   "metadata": {},
   "outputs": [],
   "source": [
    "def solution(s):\n",
    "    number_list = {\"zero\" : 0 , \"one\" : 1 , \"two\" : 2 , \"three\" : 3 , \"four\" : 4 , \"five\" : 5,\n",
    "                   \"six\" : 6 ,  \"seven\" : 7 , \"eight\" : 8 , \"nine\" : 9 }\n",
    "    answer = \"\"\n",
    "    number = \"\"\n",
    "    for word in s:\n",
    "        if word.isdigit():\n",
    "            answer += word\n",
    "        else:\n",
    "            number += word\n",
    "            if number in number_list:\n",
    "                answer += str(number_list[number])\n",
    "                number = \"\"\n",
    "  \n",
    "    return int(answer)"
   ]
  },
  {
   "cell_type": "code",
   "execution_count": 31,
   "id": "7e154ee7",
   "metadata": {},
   "outputs": [
    {
     "name": "stdout",
     "output_type": "stream",
     "text": [
      "1478\n",
      "234567\n",
      "234567\n",
      "123\n"
     ]
    }
   ],
   "source": [
    "test_case = [\"one4seveneight\", \"23four5six7\", \"2three45sixseven\", \"123\"]\n",
    "\n",
    "for case in test_case:\n",
    "    print(solution(case))"
   ]
  },
  {
   "cell_type": "markdown",
   "id": "6cc444b6",
   "metadata": {},
   "source": [
    "2번 문제 https://programmers.co.kr/learn/courses/30/lessons/81302"
   ]
  },
  {
   "cell_type": "markdown",
   "id": "23a6c510",
   "metadata": {},
   "source": [
    "## 요약\n",
    "두 테이블 T1, T2가 행렬 (r1, c1), (r2, c2)에 각각 위치하고 있다면, T1, T2 사이의 맨해튼 거리는 |r1 - r2| + |c1 - c2| 입니다. ↩"
   ]
  },
  {
   "cell_type": "code",
   "execution_count": 192,
   "id": "335d50ba",
   "metadata": {},
   "outputs": [],
   "source": [
    "def solution(place):\n",
    "    answer = []\n",
    "    for room in place:\n",
    "        answer.append(check_mahaton(room))\n",
    "    return answer\n",
    "\n",
    "\n"
   ]
  },
  {
   "cell_type": "code",
   "execution_count": 193,
   "id": "a2213f66",
   "metadata": {},
   "outputs": [],
   "source": [
    "def check_mahaton(room):\n",
    "    for i, column in enumerate(room):\n",
    "        for j, desk in enumerate(column):\n",
    "            if desk == \"P\":\n",
    "                if not dfs(room, i, j):\n",
    "                    return 0\n",
    "    return 1\n",
    "\n",
    "                \n",
    "\n",
    "                \n",
    "#         for desk in column:"
   ]
  },
  {
   "cell_type": "code",
   "execution_count": 194,
   "id": "6f61ddf1",
   "metadata": {},
   "outputs": [],
   "source": [
    "def dfs(room, i, j):\n",
    "    dx = [-1,1,0,0]\n",
    "    dy = [0, 0, -1,1]\n",
    "    \n",
    "    person = 0\n",
    "    \n",
    "    for k in range(0,4):\n",
    "        nx = i + dx[k]\n",
    "        ny = j + dy[k]\n",
    "    \n",
    "        if nx < 0 or nx > 4 or ny < 0 or ny > 4:\n",
    "            continue\n",
    "        else:\n",
    "            if room[nx][ny] == \"X\":\n",
    "                continue\n",
    "            if room[nx][ny] == \"O\":\n",
    "                if not dfs_O(room, nx, ny, i, j):\n",
    "                    return False\n",
    "            if room[nx][ny] == \"P\":\n",
    "                return False\n",
    "    return True\n",
    "                \n",
    "    \n",
    "    "
   ]
  },
  {
   "cell_type": "code",
   "execution_count": 195,
   "id": "f620d227",
   "metadata": {},
   "outputs": [],
   "source": [
    "def dfs_O(room, i, j, origin_i, origin_j):\n",
    "    dx = [-1,1,0,0]\n",
    "    dy = [0, 0, -1,1]\n",
    "    \n",
    "    person = 0\n",
    "    \n",
    "    for k in range(0,4):\n",
    "        nx = i + dx[k]\n",
    "        ny = j + dy[k]\n",
    "    \n",
    "        if nx < 0 or nx > 4 or ny < 0 or ny > 4 or (nx == origin_i and ny == origin_j):\n",
    "            continue\n",
    "        else:\n",
    "            if room[nx][ny] == \"X\":\n",
    "                continue\n",
    "            if room[nx][ny] == \"O\":\n",
    "                continue\n",
    "            if room[nx][ny] == \"P\":\n",
    "                return False\n",
    "                \n",
    "    return True"
   ]
  },
  {
   "cell_type": "code",
   "execution_count": 196,
   "id": "f237e0c6",
   "metadata": {},
   "outputs": [],
   "source": [
    "test_case = [[\"POOOP\", \"OXXOX\", \"OPXPX\", \"OOXOX\", \"POXXP\"], [\"POOPX\", \"OXPXP\", \"PXXXO\", \"OXXXO\", \"OOOPP\"], [\"PXOPX\", \"OXOXP\", \"OXPOX\", \"OXXOP\", \"PXPOX\"], [\"OOOXX\", \"XOOOX\", \"OOOXX\", \"OXOOX\", \"OOOOO\"], [\"PXPXP\", \"XPXPX\", \"PXPXP\", \"XPXPX\", \"PXPXP\"]]"
   ]
  },
  {
   "cell_type": "code",
   "execution_count": 197,
   "id": "1e9acc01",
   "metadata": {
    "scrolled": true
   },
   "outputs": [
    {
     "data": {
      "text/plain": [
       "[1, 0, 1, 1, 1]"
      ]
     },
     "execution_count": 197,
     "metadata": {},
     "output_type": "execute_result"
    }
   ],
   "source": [
    "solution(test_case)"
   ]
  },
  {
   "cell_type": "markdown",
   "id": "5b3a8de9",
   "metadata": {},
   "source": [
    "3번 문제 https://programmers.co.kr/learn/courses/30/lessons/81303"
   ]
  },
  {
   "cell_type": "markdown",
   "id": "fc20e7fb",
   "metadata": {},
   "source": [
    "* \"U X\": 현재 선택된 행에서 X칸 위에 있는 행을 선택합니다.\n",
    "* \"D X\": 현재 선택된 행에서 X칸 아래에 있는 행을 선택합니다.\n",
    "* \"C\" : 현재 선택된 행을 삭제한 후, 바로 아래 행을 선택합니다. 단, 삭제된 행이 가장 마지막 행인 경우 바로 윗 행을 선택합니다.\n",
    "* \"Z\" : 가장 최근에 삭제된 행을 원래대로 복구합니다. 단, 현재 선택된 행은 바뀌지 않습니다.\n"
   ]
  },
  {
   "cell_type": "code",
   "execution_count": 74,
   "id": "ee886a13",
   "metadata": {},
   "outputs": [],
   "source": [
    "class Node(object):\n",
    "    def __init__(self, data, next = None):\n",
    "        self.data = data\n",
    "        self.next = next\n",
    "\n",
    "class SList(object):\n",
    "    def __init__(self):\n",
    "        self.head = Node(None)\n",
    "        self.size = 0\n",
    "        \n",
    "    def listSize(self):\n",
    "        return self.size\n",
    "    \n",
    "    def is_empty(self):\n",
    "        if self.size != 0:\n",
    "            return False\n",
    "        else:\n",
    "            return True\n",
    "        \n",
    "    def selectNode(self, idx):\n",
    "        if idx >= self.size:\n",
    "            print(\"Index Error\")\n",
    "            return None\n",
    "        if idx == 0:\n",
    "            return self.head\n",
    "        else:\n",
    "            target = self.head\n",
    "            for cnt in range(idx):\n",
    "                target = target.next\n",
    "            return target\n",
    "        \n",
    "    def appendleft(self, value):\n",
    "        if self.is_empty():\n",
    "            self.head = Node(value)\n",
    "        else:\n",
    "            self.head = Node(value, self.head)\n",
    "        self.size += 1\n",
    "    \n",
    "    def append(self, value):\n",
    "        if self.is_empty():\n",
    "            self.head = Node(value)\n",
    "            self.size += 1\n",
    "        else:\n",
    "            target = self.head\n",
    "            while target.next != None:\n",
    "                target = target.next\n",
    "            newtail = Node(value)\n",
    "            target.next = newtail\n",
    "            self.size += 1\n",
    "        \n",
    "    def insert(self, value, idx):\n",
    "        if self.is_empty():\n",
    "            self.head = Node(value)\n",
    "            self.size += 1\n",
    "        elif idx == 0:\n",
    "            self.head = Node(value, self.head)\n",
    "            self.size += 1\n",
    "        else:\n",
    "            target = self.selectNode(idx-1)\n",
    "            if target == None:\n",
    "                return\n",
    "            newNode = Node(value)\n",
    "            tmp = target.next\n",
    "            target.next = newNode\n",
    "            newNode.next = tmp\n",
    "            self.size += 1\n",
    "        \n",
    "    def delete(self, idx):\n",
    "        if self.is_empty():\n",
    "            print('Underflow: Empty Linked List Error')\n",
    "            return\n",
    "        elif idx >= self.size:\n",
    "            print('Overflow: Index Error')\n",
    "            return\n",
    "        elif idx == 0:\n",
    "            target = self.head\n",
    "            temp = self.head\n",
    "            \n",
    "            self.head = target.next\n",
    "            del(target)\n",
    "            self.size -= 1\n",
    "            return (idx, temp.data)\n",
    "        else:\n",
    "            target = self.selectNode(idx-1)\n",
    "            deltarget = target.next\n",
    "            temp = target.next\n",
    "            \n",
    "            target.next = target.next.next\n",
    "            del(deltarget)\n",
    "            self.size -= 1\n",
    "            \n",
    "            return (idx, temp.data)\n",
    "            \n",
    "    def printlist(self):\n",
    "        target = self.head\n",
    "        all_list = []\n",
    "        while target:\n",
    "            if target.next != None:\n",
    "                all_list.append(target.data)\n",
    "                target = target.next\n",
    "            else:\n",
    "                all_list.append(target.data)\n",
    "                target = target.next\n",
    "        return all_list"
   ]
  },
  {
   "cell_type": "code",
   "execution_count": 64,
   "id": "61866497",
   "metadata": {},
   "outputs": [
    {
     "name": "stdout",
     "output_type": "stream",
     "text": [
      "1\n"
     ]
    },
    {
     "data": {
      "text/plain": [
       "[0, 1, 2]"
      ]
     },
     "execution_count": 64,
     "metadata": {},
     "output_type": "execute_result"
    }
   ],
   "source": [
    "slist = SList()\n",
    "slist.append(0)\n",
    "slist.append(1)\n",
    "slist.append(2)\n",
    "print(slist.delete(1))\n",
    "\n",
    "slist.insert(1,1)\n",
    "slist.printlist()"
   ]
  },
  {
   "cell_type": "code",
   "execution_count": 78,
   "id": "ae54f954",
   "metadata": {},
   "outputs": [],
   "source": [
    "def solution(n, k, cmd):\n",
    "    \n",
    "    return answer       "
   ]
  },
  {
   "cell_type": "code",
   "execution_count": 79,
   "id": "e4ce9dda",
   "metadata": {},
   "outputs": [
    {
     "data": {
      "text/plain": [
       "'OOXOXOOO'"
      ]
     },
     "execution_count": 79,
     "metadata": {},
     "output_type": "execute_result"
    }
   ],
   "source": [
    "solution(8, 2, [\"D 2\",\"C\",\"U 3\",\"C\",\"D 4\",\"C\",\"U 2\",\"Z\",\"Z\",\"U 1\",\"C\"])"
   ]
  },
  {
   "cell_type": "code",
   "execution_count": 138,
   "id": "66aad4e3",
   "metadata": {},
   "outputs": [],
   "source": [
    "def solution(n, k, cmd):\n",
    "    answer = ''\n",
    "\n",
    "    linked_list = {i: [i - 1, i + 1] for i in range(1, n+1)} #n=8일때 1~8까지\n",
    "    answer = [\"O\" for i in range(1,n+1)]\n",
    "    stack = []\n",
    "\n",
    "    k += 1\n",
    "\n",
    "    for c in cmd:\n",
    "        if c[0] == \"D\":\n",
    "            for _ in range(int(c[2:])):\n",
    "                k = linked_list[k][1]\n",
    "            \n",
    "        if c[0] == \"U\":\n",
    "             for _ in range(int(c[2:])):\n",
    "                k = linked_list[k][0]\n",
    "            \n",
    "        if c[0] == \"C\":\n",
    "            prev, next = linked_list[k]\n",
    "            answer[k-1] = \"X\"\n",
    "            stack.append([prev, next, k])\n",
    "            \n",
    "            if next == n+1:\n",
    "                k = linked_list[k][0]\n",
    "            else:\n",
    "                k = linked_list[k][1]\n",
    "                \n",
    "            if prev == 0:\n",
    "                linked_list[next][0] = prev\n",
    "            \n",
    "            elif next == n+1:\n",
    "                linked_list[prev][1] = next\n",
    "                \n",
    "            else:\n",
    "                linked_list[prev][1] = next \n",
    "                linked_list[next][0] = prev\n",
    "        \n",
    "        if c[0] == \"Z\":\n",
    "            prev, next, now = stack.pop()\n",
    "            answer[now-1] = \"O\"\n",
    "            if prev == 0:\n",
    "                linked_list[next][0] = now\n",
    "            \n",
    "            elif next == n+1:\n",
    "                linked_list[prev][1] = now\n",
    "            \n",
    "            else:\n",
    "                linked_list[prev][1] = now\n",
    "                linked_list[next][0] = now\n",
    "            \n",
    "        \n",
    "    return \"\".join(answer)"
   ]
  },
  {
   "cell_type": "code",
   "execution_count": 139,
   "id": "611cb91f",
   "metadata": {
    "scrolled": true
   },
   "outputs": [
    {
     "data": {
      "text/plain": [
       "'OOOOXOOO'"
      ]
     },
     "execution_count": 139,
     "metadata": {},
     "output_type": "execute_result"
    }
   ],
   "source": [
    "solution(8, 2, [\"D 2\",\"C\",\"U 3\",\"C\",\"D 4\",\"C\",\"U 2\",\"Z\",\"Z\"])"
   ]
  },
  {
   "cell_type": "code",
   "execution_count": 82,
   "id": "f0bb65d4",
   "metadata": {},
   "outputs": [],
   "source": [
    "def solution(n, k, cmd):\n",
    "    answer = ''\n",
    "\n",
    "    linked_list = {i: [i - 1, i + 1] for i in range(1, n+1)} #n=8일때 1~8까지\n",
    "    OX = [\"O\" for i in range(1,n+1)]\n",
    "    stack = []\n",
    "\n",
    "    k += 1\n",
    "\n",
    "    for c in cmd:\n",
    "        if c[0] == 'D':\n",
    "            for _ in range(int(c[2:])):\n",
    "                k = linked_list[k][1]\n",
    "        elif c[0] == 'U':\n",
    "            for _ in range(int(c[2:])):\n",
    "                k = linked_list[k][0]\n",
    "        elif c[0] == 'C':\n",
    "            prev, next = linked_list[k]\n",
    "            stack.append([prev, next, k])\n",
    "            OX[k-1] = \"X\"\n",
    "\n",
    "            if next == n+1:\n",
    "                k = linked_list[k][0]\n",
    "            else:\n",
    "                k = linked_list[k][1]\n",
    "\n",
    "            if prev == 0:\n",
    "                linked_list[next][0] = prev\n",
    "            elif next == n+1:\n",
    "                linked_list[prev][1] = next\n",
    "            else:\n",
    "                linked_list[prev][1] = next\n",
    "                linked_list[next][0] = prev\n",
    "\n",
    "        elif c[0] == 'Z':\n",
    "            prev, next, now = stack.pop()\n",
    "            OX[now-1] = \"O\"\n",
    "\n",
    "            if prev == 0:\n",
    "                linked_list[next][0] = now\n",
    "            elif next == n+1:\n",
    "                linked_list[prev][1] = now\n",
    "            else:\n",
    "                linked_list[prev][1] = now\n",
    "                linked_list[next][0] = now\n",
    "\n",
    "    return \"\".join(OX)\n"
   ]
  },
  {
   "cell_type": "code",
   "execution_count": 630,
   "id": "8e291b5f",
   "metadata": {},
   "outputs": [],
   "source": [
    "from queue import deque\n",
    "import copy\n",
    "def select(selectd, parameter, number):\n",
    "    if parameter == \"U\":\n",
    "        return selectd - number\n",
    "    if parameter == \"D\":\n",
    "        return selectd + number\n",
    "    \n",
    "def solution(n, k, cmd):\n",
    "    data = dict()\n",
    "    for i in range(0, n):\n",
    "        data[i] = i\n",
    "\n",
    "    original_data = copy.deepcopy(data)\n",
    "    \n",
    "    remove_record = deque()\n",
    "    \n",
    "    answer = \"\"\n",
    "    \n",
    "    selectNum = int(k)\n",
    "    \n",
    "    for command in cmd:\n",
    "        if len(command) > 1:\n",
    "            parameter, number = command.split()\n",
    "            number = int(number)\n",
    "        else:\n",
    "            parameter = command\n",
    "        # 커맨드로 부터 파라미터와 숫자 받는기능\n",
    "\n",
    "        if parameter == \"D\" or parameter == \"U\":\n",
    "                selectNum = select(selectNum, parameter, number)\n",
    "                \n",
    "                print(parameter, number, \"select\", selectNum)\n",
    "        # 행 선택 기능\n",
    "        \n",
    "        elif parameter == \"C\":\n",
    "            print(\"delete\", selectNum)\n",
    "            remove_record.append(data[selectNum])\n",
    "            \n",
    "            if data[selectNum] == list(data)[-1]:\n",
    "                new_data = list(data.items())\n",
    "                del new_data[selectNum]\n",
    "                data = dict(new_data)\n",
    "                \n",
    "                selectNum -= 1\n",
    "            else:\n",
    "                new_data = list(data.items())\n",
    "                del new_data[selectNum]\n",
    "                print(new_data)\n",
    "                data = dict(new_data)\n",
    "            print(\"selectNum\", selectNum)\n",
    "        \n",
    "        elif parameter == \"Z\":\n",
    "            recovery_number = remove_record[-1]\n",
    "            del remove_record[-1]\n",
    "            if data[selectNum] > recovery_number:\n",
    "                selectNum += 1\n",
    "            data[recovery_number] = recovery_number\n",
    "            data = dict(sorted(data.items()))\n",
    "            print(\"recovery\", recovery_number)\n",
    "        print(data)\n",
    "    \n",
    "    for i in original_data:\n",
    "        if i in data:\n",
    "            answer += \"O\"\n",
    "        else:\n",
    "            answer += \"X\"\n",
    "        \n",
    "    return answer"
   ]
  },
  {
   "cell_type": "markdown",
   "id": "918bdc19",
   "metadata": {},
   "source": [
    "4번 문제 https://programmers.co.kr/learn/courses/30/lessons/81304"
   ]
  },
  {
   "cell_type": "code",
   "execution_count": null,
   "id": "1ea7cc2a",
   "metadata": {},
   "outputs": [],
   "source": []
  },
  {
   "cell_type": "markdown",
   "id": "7f19ea64",
   "metadata": {},
   "source": [
    "5번 문제 https://programmers.co.kr/learn/courses/30/lessons/81305"
   ]
  },
  {
   "cell_type": "code",
   "execution_count": null,
   "id": "1ebad0db",
   "metadata": {},
   "outputs": [],
   "source": []
  }
 ],
 "metadata": {
  "kernelspec": {
   "display_name": "Python 3",
   "language": "python",
   "name": "python3"
  },
  "language_info": {
   "codemirror_mode": {
    "name": "ipython",
    "version": 3
   },
   "file_extension": ".py",
   "mimetype": "text/x-python",
   "name": "python",
   "nbconvert_exporter": "python",
   "pygments_lexer": "ipython3",
   "version": "3.9.7"
  }
 },
 "nbformat": 4,
 "nbformat_minor": 5
}
