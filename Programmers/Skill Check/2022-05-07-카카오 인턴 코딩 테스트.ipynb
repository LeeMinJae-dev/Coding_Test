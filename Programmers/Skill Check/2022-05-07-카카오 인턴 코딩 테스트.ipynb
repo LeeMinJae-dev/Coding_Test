{
 "cells": [
  {
   "cell_type": "markdown",
   "id": "a40fc64f",
   "metadata": {},
   "source": [
    "문제 1"
   ]
  },
  {
   "cell_type": "code",
   "execution_count": 24,
   "id": "fcdaa327",
   "metadata": {},
   "outputs": [],
   "source": [
    "def solution(survey, choices):\n",
    "    token_1 = {\"R\":0, \"T\":0}\n",
    "    token_2 = {\"C\":0, \"F\":0}\n",
    "    token_3 = {\"J\":0, \"M\":0}\n",
    "    token_4 = {\"A\":0, \"N\":0}\n",
    "    score = [token_1, token_2, token_3, token_4]\n",
    "    \n",
    "    for sur, cho in zip(survey, choices):\n",
    "        cho = cho - 4\n",
    "        if cho < 0:\n",
    "            for token in score:\n",
    "                if sur[0] in token:\n",
    "                    token[sur[0]] += abs(cho)\n",
    "                    break\n",
    "        elif cho > 0:\n",
    "            for token in score:\n",
    "                if sur[1] in token:\n",
    "                    token[sur[1]] += abs(cho)\n",
    "                    break\n",
    "    answer = \"\"\n",
    "    for cat in score:\n",
    "        types = list(cat.items())\n",
    "        types = sorted(types, key = lambda x: (-x[1], x[0]))\n",
    "        answer += types[0][0]\n",
    "    \n",
    "    return answer \n"
   ]
  },
  {
   "cell_type": "code",
   "execution_count": 25,
   "id": "7cd80375",
   "metadata": {},
   "outputs": [
    {
     "data": {
      "text/plain": [
       "'TCMA'"
      ]
     },
     "execution_count": 25,
     "metadata": {},
     "output_type": "execute_result"
    }
   ],
   "source": [
    "solution([\"AN\", \"CF\", \"MJ\", \"RT\", \"NA\"], [5,3,2,7,5])"
   ]
  },
  {
   "cell_type": "markdown",
   "id": "47cc29be",
   "metadata": {},
   "source": [
    "문제 2"
   ]
  },
  {
   "cell_type": "code",
   "execution_count": 20,
   "id": "9d4a87f9",
   "metadata": {},
   "outputs": [],
   "source": [
    "from collections import deque\n",
    "from itertools import permutations\n",
    "def solution(queue1, queue2):\n",
    "    queue1_sum = sum(queue1)\n",
    "    queue2_sum = sum(queue2)\n",
    "    all_sum = queue1_sum + queue2_sum \n",
    "    target = all_sum/2\n",
    "    \n",
    "    queue1 = deque(queue1)\n",
    "    queue2 = deque(queue2)\n",
    "    \n",
    "    answer = 0\n",
    "    \n",
    "    all_queue = queue1 + queue2\n",
    "    queue1_copy = queue1.copy()\n",
    "    queue2_copy = queue2.copy()\n",
    "    trying = 0\n",
    "    trying_limit = len(all_queue)\n",
    "    while True:\n",
    "\n",
    "        if trying > trying_limit + 2:\n",
    "            return -1\n",
    "        if queue1_sum < queue2_sum:\n",
    "            num = queue2.popleft()\n",
    "            queue1.append(num)\n",
    "            queue2_sum -= num\n",
    "            queue1_sum += num\n",
    "            answer += 1\n",
    "        elif queue1_sum > queue2_sum:\n",
    "            num = queue1.popleft()\n",
    "            queue2.append(num)\n",
    "            queue1_sum -= num\n",
    "            queue2_sum += num\n",
    "            answer += 1\n",
    "        else:\n",
    "            break\n",
    "        trying += 1 \n",
    "    return answer"
   ]
  },
  {
   "cell_type": "code",
   "execution_count": 21,
   "id": "03ef6a62",
   "metadata": {},
   "outputs": [
    {
     "name": "stdout",
     "output_type": "stream",
     "text": [
      "2\n",
      "7\n",
      "-1\n"
     ]
    }
   ],
   "source": [
    "test_case = [[[3,2,7,2], [4,6,5,1]], [[1,2,1,2], [1,10,1,2]], [[1,1], [1,5]]]\n",
    "\n",
    "for case in test_case:\n",
    "    print(solution(case[0], case[1]))"
   ]
  },
  {
   "cell_type": "code",
   "execution_count": 87,
   "id": "807cddc3",
   "metadata": {},
   "outputs": [],
   "source": [
    "def coin_change(n, coins):\n",
    "    parts = [1]+[0]*n\n",
    "    for c in coins:\n",
    "        for i, x in enumerate(range(c, n+1)):\n",
    "            parts[x] += parts[i]\n",
    "    return parts[n]"
   ]
  },
  {
   "cell_type": "code",
   "execution_count": 86,
   "id": "3ffe57dc",
   "metadata": {},
   "outputs": [
    {
     "data": {
      "text/plain": [
       "[1, 1, 2, 3, 5]"
      ]
     },
     "execution_count": 86,
     "metadata": {},
     "output_type": "execute_result"
    }
   ],
   "source": [
    "coin_change(4, {})"
   ]
  },
  {
   "cell_type": "markdown",
   "id": "e23dd799",
   "metadata": {},
   "source": [
    "문제 3"
   ]
  },
  {
   "cell_type": "code",
   "execution_count": 11,
   "id": "fbeb53cb",
   "metadata": {},
   "outputs": [],
   "source": [
    "def solution(alp, cop, problems):\n",
    "    problems = sorted(problems, key = lambda x: (x[0] + x[1]))\n",
    "     \n",
    "    for problem in problems:\n",
    "        alp_req = problem[0]\n",
    "        cop_req = problem[1]\n",
    "        alp_rwd = problem[2]\n",
    "        cop_rwd = problem[3]\n",
    "        cost = problem[4]\n",
    "        \n",
    "        alp_eff = alp_rwd / cost\n",
    "        cop_eff = cop_rwd / cost\n",
    "        all_eff = alp_eff + cop_eff\n",
    "        \n",
    "        problem.append(alp_eff)\n",
    "        problem.append(cop_eff)\n",
    "        problem.append(all_eff)\n",
    "        \n",
    "    target_alp = problems[-1][0]\n",
    "    target_cop = problems[-1][1]\n",
    "    \n",
    "    print(target_alp, target_cop)\n",
    "    \n",
    "    target_num = 0\n",
    "    \n",
    "    while True:\n",
    "        forward_alp = problems[target_num][5]\n",
    "        forward_cop = problems[target_num][6]\n",
    "           \n",
    "        for problem in problems:\n",
    "            alp_req = problem[0]\n",
    "            cop_req = problem[1]\n",
    "            alp_rwd = problem[2]\n",
    "            cop_rwd = problem[3]\n",
    "            alp_eff = problem[4]\n",
    "            cop_eff = problem[5]\n",
    "            all_eff = problem[6]\n",
    "        \n",
    "            \n",
    "        \n",
    "        "
   ]
  },
  {
   "cell_type": "code",
   "execution_count": 12,
   "id": "3cce714d",
   "metadata": {},
   "outputs": [
    {
     "name": "stdout",
     "output_type": "stream",
     "text": [
      "case\n",
      "20 20\n",
      "None\n",
      "case\n",
      "4 11\n",
      "None\n"
     ]
    }
   ],
   "source": [
    "\n",
    "test_case = [[10, 10, [[10,15,2,1,2],[20,20,3,3,4]]], [0, 0, [[0,0,2,1,2],[4,5,3,1,2],[4,11,4,0,2],[10,4,0,4,2]]]]\n",
    "\n",
    "for case in test_case:\n",
    "    print(\"case\")\n",
    "    print(solution(case[0], case[1], case[2]))"
   ]
  },
  {
   "cell_type": "markdown",
   "id": "ad844593",
   "metadata": {},
   "source": [
    "문제 4"
   ]
  },
  {
   "cell_type": "markdown",
   "id": "eb5328be",
   "metadata": {},
   "source": [
    "문제 5"
   ]
  },
  {
   "cell_type": "code",
   "execution_count": 106,
   "id": "2cfe986b",
   "metadata": {},
   "outputs": [],
   "source": [
    "from collections import deque\n",
    "def solution(rc, operations):\n",
    "    for oper in operations:\n",
    "        if oper == \"ShiftRow\":\n",
    "            rc = shift_row(rc)\n",
    "        else:\n",
    "            rc = rotate(rc)\n",
    "    return rc\n",
    "\n",
    "def shift_row(rc):\n",
    "    rc = deque(rc)\n",
    "    rc.appendleft(rc.pop())\n",
    "    return list(rc)\n",
    "\n",
    "def rotate(matrix):\n",
    "    i1 = 1\n",
    "    j1 = 1\n",
    "    i2 = len(matrix)\n",
    "    j2 = len(matrix[0])\n",
    "\n",
    "    for j in range(j1, j2+1):\n",
    "        yield (i1, j)\n",
    "\n",
    "    for i in range(i1+1, i2+1):\n",
    "        yield (i, j)\n",
    "\n",
    "    for j in range(j2-1, j1-1, -1):\n",
    "        yield (i, j)\n",
    "\n",
    "    for i in range(i2-1, i1, -1):\n",
    "        yield (i, j)\n",
    "\n",
    "    return matrix \n",
    "    "
   ]
  },
  {
   "cell_type": "code",
   "execution_count": 107,
   "id": "b38b368e",
   "metadata": {},
   "outputs": [
    {
     "data": {
      "text/plain": [
       "<generator object rotate at 0x7f79a8e2e190>"
      ]
     },
     "execution_count": 107,
     "metadata": {},
     "output_type": "execute_result"
    }
   ],
   "source": [
    "rotate([[1, 2, 3], \n",
    "        [4, 5, 6], \n",
    "        [7, 8, 9]])"
   ]
  },
  {
   "cell_type": "code",
   "execution_count": 104,
   "id": "98cc775d",
   "metadata": {},
   "outputs": [],
   "source": [
    "def rotation(b, i):\n",
    "    l = []\n",
    "    r,c = i[0]-1,i[1]-1\n",
    "    while b:\n",
    "        l.append(b[r][c])\n",
    "        if r == i[0]-1 and c < i[3]-1:\n",
    "            c += 1\n",
    "        elif r < i[2]-1 and c == i[3]-1:\n",
    "            r += 1\n",
    "        elif r == i[2]-1 and c > i[1]-1:\n",
    "            c -= 1\n",
    "        elif r > i[0]-1 and c == i[1]-1:\n",
    "            r -= 1\n",
    "        if r == i[0]-1 and c == i[1]-1:\n",
    "            break\n",
    "    m = min(l)\n",
    "    p = l.pop()\n",
    "    l.insert(0,p)\n",
    "    while b:\n",
    "        b[r][c] = l.pop(0)\n",
    "        if r == i[0]-1 and c < i[3]-1:\n",
    "            c += 1\n",
    "        elif r < i[2]-1 and c == i[3]-1:\n",
    "            r += 1\n",
    "        elif r == i[2]-1 and c > i[1]-1:\n",
    "            c -= 1\n",
    "        elif r > i[0]-1 and c == i[1]-1:\n",
    "            r -= 1\n",
    "        if r == i[0]-1 and c == i[1]-1:\n",
    "            break\n",
    "    return m"
   ]
  },
  {
   "cell_type": "code",
   "execution_count": 105,
   "id": "28465bf7",
   "metadata": {},
   "outputs": [
    {
     "name": "stdout",
     "output_type": "stream",
     "text": [
      "[[7, 8, 9], [1, 2, 3], [4, 5, 6]]\n",
      "[[3, 3, 7], [8, 4, 9], [8, 6, 3]]\n",
      "[[5, 6, 7, 8], [9, 10, 11, 12], [1, 2, 3, 4]]\n"
     ]
    }
   ],
   "source": [
    "test_case = [[[[1, 2, 3], [4, 5, 6], [7, 8, 9]], [\"Rotate\", \"ShiftRow\"]],[[[8, 6, 3], [3, 3, 7], [8, 4, 9]], [\"Rotate\", \"ShiftRow\", \"ShiftRow\"]],[[[1, 2, 3, 4], [5, 6, 7, 8], [9, 10, 11, 12]], [\"ShiftRow\", \"Rotate\", \"ShiftRow\", \"Rotate\"]]]\n",
    "\n",
    "for case in test_case:\n",
    "    print(solution(case[0], case[1]))"
   ]
  },
  {
   "cell_type": "code",
   "execution_count": 1,
   "id": "a7debbad",
   "metadata": {},
   "outputs": [
    {
     "ename": "KeyboardInterrupt",
     "evalue": "",
     "output_type": "error",
     "traceback": [
      "\u001b[0;31m---------------------------------------------------------------------------\u001b[0m",
      "\u001b[0;31mKeyboardInterrupt\u001b[0m                         Traceback (most recent call last)",
      "Input \u001b[0;32mIn [1]\u001b[0m, in \u001b[0;36m<cell line: 1>\u001b[0;34m()\u001b[0m\n\u001b[0;32m----> 1\u001b[0m \u001b[38;5;28;01mimport\u001b[39;00m \u001b[38;5;21;01mpandas\u001b[39;00m \u001b[38;5;28;01mas\u001b[39;00m \u001b[38;5;21;01mpd\u001b[39;00m\n\u001b[1;32m      2\u001b[0m data \u001b[38;5;241m=\u001b[39m pd\u001b[38;5;241m.\u001b[39mread_csv(\u001b[38;5;124m\"\u001b[39m\u001b[38;5;124mAL11.csv\u001b[39m\u001b[38;5;124m\"\u001b[39m)\n\u001b[1;32m      3\u001b[0m data \u001b[38;5;241m=\u001b[39m data[\u001b[38;5;241m2\u001b[39m:]\u001b[38;5;241m.\u001b[39mreset_index(drop\u001b[38;5;241m=\u001b[39m\u001b[38;5;28;01mTrue\u001b[39;00m)\n",
      "File \u001b[0;32m~/opt/anaconda3/lib/python3.9/site-packages/pandas/__init__.py:22\u001b[0m, in \u001b[0;36m<module>\u001b[0;34m\u001b[0m\n\u001b[1;32m     19\u001b[0m \u001b[38;5;28;01mdel\u001b[39;00m hard_dependencies, dependency, missing_dependencies\n\u001b[1;32m     21\u001b[0m \u001b[38;5;66;03m# numpy compat\u001b[39;00m\n\u001b[0;32m---> 22\u001b[0m \u001b[38;5;28;01mfrom\u001b[39;00m \u001b[38;5;21;01mpandas\u001b[39;00m\u001b[38;5;21;01m.\u001b[39;00m\u001b[38;5;21;01mcompat\u001b[39;00m \u001b[38;5;28;01mimport\u001b[39;00m is_numpy_dev \u001b[38;5;28;01mas\u001b[39;00m _is_numpy_dev\n\u001b[1;32m     24\u001b[0m \u001b[38;5;28;01mtry\u001b[39;00m:\n\u001b[1;32m     25\u001b[0m     \u001b[38;5;28;01mfrom\u001b[39;00m \u001b[38;5;21;01mpandas\u001b[39;00m\u001b[38;5;21;01m.\u001b[39;00m\u001b[38;5;21;01m_libs\u001b[39;00m \u001b[38;5;28;01mimport\u001b[39;00m hashtable \u001b[38;5;28;01mas\u001b[39;00m _hashtable, lib \u001b[38;5;28;01mas\u001b[39;00m _lib, tslib \u001b[38;5;28;01mas\u001b[39;00m _tslib\n",
      "File \u001b[0;32m~/opt/anaconda3/lib/python3.9/site-packages/pandas/compat/__init__.py:15\u001b[0m, in \u001b[0;36m<module>\u001b[0;34m\u001b[0m\n\u001b[1;32m     12\u001b[0m \u001b[38;5;28;01mimport\u001b[39;00m \u001b[38;5;21;01msys\u001b[39;00m\n\u001b[1;32m     14\u001b[0m \u001b[38;5;28;01mfrom\u001b[39;00m \u001b[38;5;21;01mpandas\u001b[39;00m\u001b[38;5;21;01m.\u001b[39;00m\u001b[38;5;21;01m_typing\u001b[39;00m \u001b[38;5;28;01mimport\u001b[39;00m F\n\u001b[0;32m---> 15\u001b[0m \u001b[38;5;28;01mfrom\u001b[39;00m \u001b[38;5;21;01mpandas\u001b[39;00m\u001b[38;5;21;01m.\u001b[39;00m\u001b[38;5;21;01mcompat\u001b[39;00m\u001b[38;5;21;01m.\u001b[39;00m\u001b[38;5;21;01mnumpy\u001b[39;00m \u001b[38;5;28;01mimport\u001b[39;00m (\n\u001b[1;32m     16\u001b[0m     is_numpy_dev,\n\u001b[1;32m     17\u001b[0m     np_version_under1p19,\n\u001b[1;32m     18\u001b[0m     np_version_under1p20,\n\u001b[1;32m     19\u001b[0m )\n\u001b[1;32m     20\u001b[0m \u001b[38;5;28;01mfrom\u001b[39;00m \u001b[38;5;21;01mpandas\u001b[39;00m\u001b[38;5;21;01m.\u001b[39;00m\u001b[38;5;21;01mcompat\u001b[39;00m\u001b[38;5;21;01m.\u001b[39;00m\u001b[38;5;21;01mpyarrow\u001b[39;00m \u001b[38;5;28;01mimport\u001b[39;00m (\n\u001b[1;32m     21\u001b[0m     pa_version_under1p01,\n\u001b[1;32m     22\u001b[0m     pa_version_under2p0,\n\u001b[1;32m     23\u001b[0m     pa_version_under3p0,\n\u001b[1;32m     24\u001b[0m     pa_version_under4p0,\n\u001b[1;32m     25\u001b[0m )\n\u001b[1;32m     27\u001b[0m PY39 \u001b[38;5;241m=\u001b[39m sys\u001b[38;5;241m.\u001b[39mversion_info \u001b[38;5;241m>\u001b[39m\u001b[38;5;241m=\u001b[39m (\u001b[38;5;241m3\u001b[39m, \u001b[38;5;241m9\u001b[39m)\n",
      "File \u001b[0;32m~/opt/anaconda3/lib/python3.9/site-packages/pandas/compat/numpy/__init__.py:4\u001b[0m, in \u001b[0;36m<module>\u001b[0;34m\u001b[0m\n\u001b[1;32m      1\u001b[0m \u001b[38;5;124;03m\"\"\" support numpy compatibility across versions \"\"\"\u001b[39;00m\n\u001b[1;32m      2\u001b[0m \u001b[38;5;28;01mimport\u001b[39;00m \u001b[38;5;21;01mnumpy\u001b[39;00m \u001b[38;5;28;01mas\u001b[39;00m \u001b[38;5;21;01mnp\u001b[39;00m\n\u001b[0;32m----> 4\u001b[0m \u001b[38;5;28;01mfrom\u001b[39;00m \u001b[38;5;21;01mpandas\u001b[39;00m\u001b[38;5;21;01m.\u001b[39;00m\u001b[38;5;21;01mutil\u001b[39;00m\u001b[38;5;21;01m.\u001b[39;00m\u001b[38;5;21;01mversion\u001b[39;00m \u001b[38;5;28;01mimport\u001b[39;00m Version\n\u001b[1;32m      6\u001b[0m \u001b[38;5;66;03m# numpy versioning\u001b[39;00m\n\u001b[1;32m      7\u001b[0m _np_version \u001b[38;5;241m=\u001b[39m np\u001b[38;5;241m.\u001b[39m__version__\n",
      "File \u001b[0;32m~/opt/anaconda3/lib/python3.9/site-packages/pandas/util/__init__.py:7\u001b[0m, in \u001b[0;36m<module>\u001b[0;34m\u001b[0m\n\u001b[1;32m      1\u001b[0m \u001b[38;5;28;01mfrom\u001b[39;00m \u001b[38;5;21;01mpandas\u001b[39;00m\u001b[38;5;21;01m.\u001b[39;00m\u001b[38;5;21;01mutil\u001b[39;00m\u001b[38;5;21;01m.\u001b[39;00m\u001b[38;5;21;01m_decorators\u001b[39;00m \u001b[38;5;28;01mimport\u001b[39;00m (  \u001b[38;5;66;03m# noqa:F401\u001b[39;00m\n\u001b[1;32m      2\u001b[0m     Appender,\n\u001b[1;32m      3\u001b[0m     Substitution,\n\u001b[1;32m      4\u001b[0m     cache_readonly,\n\u001b[1;32m      5\u001b[0m )\n\u001b[0;32m----> 7\u001b[0m \u001b[38;5;28;01mfrom\u001b[39;00m \u001b[38;5;21;01mpandas\u001b[39;00m\u001b[38;5;21;01m.\u001b[39;00m\u001b[38;5;21;01mcore\u001b[39;00m\u001b[38;5;21;01m.\u001b[39;00m\u001b[38;5;21;01mutil\u001b[39;00m\u001b[38;5;21;01m.\u001b[39;00m\u001b[38;5;21;01mhashing\u001b[39;00m \u001b[38;5;28;01mimport\u001b[39;00m (  \u001b[38;5;66;03m# noqa:F401\u001b[39;00m\n\u001b[1;32m      8\u001b[0m     hash_array,\n\u001b[1;32m      9\u001b[0m     hash_pandas_object,\n\u001b[1;32m     10\u001b[0m )\n\u001b[1;32m     13\u001b[0m \u001b[38;5;28;01mdef\u001b[39;00m \u001b[38;5;21m__getattr__\u001b[39m(name):\n\u001b[1;32m     14\u001b[0m     \u001b[38;5;28;01mif\u001b[39;00m name \u001b[38;5;241m==\u001b[39m \u001b[38;5;124m\"\u001b[39m\u001b[38;5;124mtesting\u001b[39m\u001b[38;5;124m\"\u001b[39m:\n",
      "File \u001b[0;32m~/opt/anaconda3/lib/python3.9/site-packages/pandas/core/util/hashing.py:18\u001b[0m, in \u001b[0;36m<module>\u001b[0;34m\u001b[0m\n\u001b[1;32m     15\u001b[0m \u001b[38;5;28;01mimport\u001b[39;00m \u001b[38;5;21;01mnumpy\u001b[39;00m \u001b[38;5;28;01mas\u001b[39;00m \u001b[38;5;21;01mnp\u001b[39;00m\n\u001b[1;32m     17\u001b[0m \u001b[38;5;28;01mfrom\u001b[39;00m \u001b[38;5;21;01mpandas\u001b[39;00m\u001b[38;5;21;01m.\u001b[39;00m\u001b[38;5;21;01m_libs\u001b[39;00m \u001b[38;5;28;01mimport\u001b[39;00m lib\n\u001b[0;32m---> 18\u001b[0m \u001b[38;5;28;01mfrom\u001b[39;00m \u001b[38;5;21;01mpandas\u001b[39;00m\u001b[38;5;21;01m.\u001b[39;00m\u001b[38;5;21;01m_libs\u001b[39;00m\u001b[38;5;21;01m.\u001b[39;00m\u001b[38;5;21;01mhashing\u001b[39;00m \u001b[38;5;28;01mimport\u001b[39;00m hash_object_array\n\u001b[1;32m     19\u001b[0m \u001b[38;5;28;01mfrom\u001b[39;00m \u001b[38;5;21;01mpandas\u001b[39;00m\u001b[38;5;21;01m.\u001b[39;00m\u001b[38;5;21;01m_typing\u001b[39;00m \u001b[38;5;28;01mimport\u001b[39;00m ArrayLike\n\u001b[1;32m     21\u001b[0m \u001b[38;5;28;01mfrom\u001b[39;00m \u001b[38;5;21;01mpandas\u001b[39;00m\u001b[38;5;21;01m.\u001b[39;00m\u001b[38;5;21;01mcore\u001b[39;00m\u001b[38;5;21;01m.\u001b[39;00m\u001b[38;5;21;01mdtypes\u001b[39;00m\u001b[38;5;21;01m.\u001b[39;00m\u001b[38;5;21;01mcommon\u001b[39;00m \u001b[38;5;28;01mimport\u001b[39;00m (\n\u001b[1;32m     22\u001b[0m     is_categorical_dtype,\n\u001b[1;32m     23\u001b[0m     is_list_like,\n\u001b[1;32m     24\u001b[0m )\n",
      "File \u001b[0;32m<frozen importlib._bootstrap>:398\u001b[0m, in \u001b[0;36mparent\u001b[0;34m(self)\u001b[0m\n",
      "\u001b[0;31mKeyboardInterrupt\u001b[0m: "
     ]
    }
   ],
   "source": [
    "import pandas as pd\n",
    "\n",
    "aa= pd.DataFrame(index=range(0,len(data)),columns={'a1', 'a2'})\n",
    "\n",
    "for i in range(len(data)):\n",
    "    aa.a1[i] = \"aa\" \n",
    "    aa.a2[i] = data[\"# Version 1.00\"][i].split(\";\")[1]"
   ]
  },
  {
   "cell_type": "code",
   "execution_count": null,
   "id": "216cd28e",
   "metadata": {},
   "outputs": [],
   "source": []
  }
 ],
 "metadata": {
  "kernelspec": {
   "display_name": "Python 3",
   "language": "python",
   "name": "python3"
  },
  "language_info": {
   "codemirror_mode": {
    "name": "ipython",
    "version": 3
   },
   "file_extension": ".py",
   "mimetype": "text/x-python",
   "name": "python",
   "nbconvert_exporter": "python",
   "pygments_lexer": "ipython3",
   "version": "3.9.7"
  }
 },
 "nbformat": 4,
 "nbformat_minor": 5
}
