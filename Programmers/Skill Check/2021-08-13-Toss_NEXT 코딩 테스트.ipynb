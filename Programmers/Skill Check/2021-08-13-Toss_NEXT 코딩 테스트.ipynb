{
 "cells": [
  {
   "cell_type": "markdown",
   "id": "02b7e645",
   "metadata": {},
   "source": [
    "문제 설명\n",
    "\n",
    "부가가치세 계산기\n",
    "회계팀에서 개발팀에게 월간 부가가치세 자료를 요청하였습니다. 개발팀은 매월 구매영수증에 대한 부가가치세(VAT)를 계산하는 프로그램을 개발해야 하기에 회계팀과 회의를 아래와 같이 진행하였습니다.\n",
    "개발팀 : 그럼 부가가치세는 어떻게 계산해요?\n",
    "회계팀 : 부가가치세는요, 과세의 대상이 되는 과세금액에서 10%만큼 산정해주시면 됩니다. 참고로 소수점(이하) 첫째자리에서 올림 처리합니다.\n",
    "개발팀 : 과세 금액은 어떻게 산정하면 될까요?\n",
    "회계팀 : 공급가액에서 비과세 금액을 빼주시면 됩니다. 비과세 금액은 말 그대로 부가가치세가 부과되지 않는 금액을 의미해요.\n",
    "개발팀 : 공급가액과 계산된 부가가치세를 합하면 주문금액과 동일한게 맞나요?\n",
    "회계팀 : 공급가액에 부가가치세를 더한 금액은 공급대가라고도 표현하는데, 보통 봉사료가 없다면 공급대가는 주문금액과 같아요. 하지만 숙박업 등 봉사료가 존재하는 업종의 경우에는 주문금액에서 봉사료를 제한 금액이 공급대가가 됩니다.\n",
    "개발팀 : 공급대가에서 비과세금액을 뺀 남은 금액이 1원이면, 부가가치세는 어떻게 되나요?\n",
    "회계팀 : 그 경우는 예외적으로 부가가치세를 0원으로 처리해 주세요.\n",
    "개발팀 : 자세한 설명 감사합니다!\n",
    "개발팀은 매출전표(거래를 증빙하는 표)로 부터 주문 금액, 비과세 금액, 그리고 봉사료를 알 수 있다고 가정하겠습니다. 이 정보를 바탕으로 부가가치세를 계산하는 함수를 구현해 주세요.\n",
    "입력 예시\n",
    "solution(orderAmount, taxFreeAmount, serviceFee) 함수의 인자는 아래와 같이 전달됩니다.\n",
    "주문금액 : orderAmount (0 <= orderAmount <= 10000000)\n",
    "비과세금액 : taxFreeAmount (0 <= taxFreeAmount <= 10000000)\n",
    "봉사료 : serviceFee (0 <= serviceFee <= 10000000)\n",
    "그리고 비과세금액과 봉사료의 합은 주문금액을 넘지 않습니다(taxFreeAmount + serviceFee <= orderAmount).\n",
    "출력 예시\n",
    "주문금액(orderAmount) / 비과세금액(taxFreeAmount) / 봉사료(serviceFee)에 따른 부가가치세 금액(answer)을 반환합니다.\n",
    "\n"
   ]
  },
  {
   "cell_type": "code",
   "execution_count": 63,
   "id": "67017989",
   "metadata": {},
   "outputs": [],
   "source": [
    "import math\n",
    "def solution(orderAmount, taxFreeAmount, serviceFee):\n",
    "\n",
    "    tax = math.ceil((orderAmount-taxFreeAmount-serviceFee)*0.1)\n",
    "    order = tax + orderAmount \n",
    "    \n",
    "    if serviceFee > 0:\n",
    "        order -= serviceFee\n",
    "        if order - taxFreeAmount == 1:\n",
    "                return 0 \n",
    "    \n",
    "    if orderAmount - taxFreeAmount == 1:\n",
    "        return 0\n",
    "    \n",
    "    return tax"
   ]
  },
  {
   "cell_type": "code",
   "execution_count": 64,
   "id": "609419c9",
   "metadata": {},
   "outputs": [
    {
     "data": {
      "text/plain": [
       "0"
      ]
     },
     "execution_count": 64,
     "metadata": {},
     "output_type": "execute_result"
    }
   ],
   "source": [
    "solution(100,99,0)"
   ]
  },
  {
   "cell_type": "markdown",
   "id": "c79f6f85",
   "metadata": {},
   "source": [
    "문제 설명\n",
    "\n",
    "나만의 L4 만들기\n",
    "여러 대의 서버로 부하를 분산하는 로드밸런서를 만들고자 합니다. 해당 로드밸런서는 기본적으로는 라운드 로빈 방식으로 요청을 서버로 분배합니다. 다만 요청의 sticky 옵션이 true인 경우 이전에 분배된 서버로 요청이 분배되어야 합니다. 이러한 동작을 수행하는 함수를 구현해보세요.\n",
    "라운드 로빈 방식 : 1번 서버부터 시작, 1, 2, ... N, 그리고 다시 1, 2, ... 순서입니다.\n",
    "예시1\n",
    "2개의 서버에 라운드 로빈 방식으로 요청을 분배한다면 아래와 같이 동작해야 합니다.\n",
    "int servers = 2;\n",
    "boolean sticky = false;\n",
    "List requests = Arrays.asList(1,2,3,4);\n",
    "\n",
    "List result = solution(servers, sticky, requests);\n",
    "\n",
    "println(result); // [1,3], [2,4]\n",
    "출력 결과인 [1,3], [2,4]가 의미하는 바는 1번 서버에 1번과 3번 요청이 전달되었으며, 2번 서버에 2번과 4번 요청이 전달되었다는 의미입니다.\n",
    "예시2\n",
    "2개의 서버에 sticky 옵션을 true로 요청한 경우에는 아래와 같이 동작해야 합니다.\n",
    "int servers = 2;\n",
    "boolean sticky = true;\n",
    "List requests = Arrays.asList(1,1,2,2);\n",
    "\n",
    "List result = solution(servers, sticky, requests);\n",
    "\n",
    "println(result); // [1,1], [2,2]\n",
    "출력 결과인 [1,1], [2,2]가 의미하는 바는 첫 번째 서버에 1번 요청이 2개 전달되었으며, 두 번째 서버에 2번 요청이 2개 전달되었다는 의미입니다.\n",
    "예시3\n",
    "약간 더 복잡한 사례를 살펴보겠습니다. 2개의 서버에 sticky 옵션을 true로 요청한 경우에는 아래와 같이 동작해야 합니다.\n",
    "int servers = 2;\n",
    "boolean sticky = true;\n",
    "List requests = Arrays.asList(1,2,2,3,4,1);\n",
    "\n",
    "List result = solution(servers, sticky, requests);\n",
    "\n",
    "println(result); // [1,3,1], [2,2,4]\n",
    "출력 결과인 [1,3,1], [2,2,4]가 의미하는 바는 첫 번째 서버에 1번, 3번, 1번 요청이 전달되었으며, 두 번째 서버에 2번, 2번, 4번 요청이 전달되었다는 의미입니다."
   ]
  },
  {
   "cell_type": "code",
   "execution_count": 96,
   "id": "509e5b0e",
   "metadata": {},
   "outputs": [],
   "source": [
    "from collections import defaultdict\n",
    "def solution(servers, sticky, requests):\n",
    "    server_list = [[]for i in range(servers)]\n",
    "    sticky_list = defaultdict()\n",
    "    i = 0\n",
    "    for req in requests:\n",
    "        if sticky and req in sticky_list:\n",
    "            server_list[sticky_list[req]].append(req)\n",
    "        else:   \n",
    "            server_list[i%servers].append(req)\n",
    "            sticky_list[req] = i%servers\n",
    "            i+=1\n",
    "    return server_list"
   ]
  },
  {
   "cell_type": "code",
   "execution_count": 97,
   "id": "b02baa77",
   "metadata": {},
   "outputs": [
    {
     "data": {
      "text/plain": [
       "[[1, 3, 1], [2, 2, 4]]"
      ]
     },
     "execution_count": 97,
     "metadata": {},
     "output_type": "execute_result"
    }
   ],
   "source": [
    "solution(2, True, [1,2,2,3,4,1])"
   ]
  },
  {
   "cell_type": "markdown",
   "id": "8f09c0c4",
   "metadata": {},
   "source": [
    "문제 설명\n",
    "\n",
    "가짜 영수증 찾기\n",
    "누군가가 가짜 영수증을 제출하고 있습니다. 김토스는 재무팀을 돕기 위해 가짜 영수증을 찾아내는 시스템을 만들고 싶습니다.\n",
    "가짜 영수증을 찾아내는 방법은 간단합니다. 가짜 영수증에는 금액이 옳지 않게 적혀있습니다. 옳은 금액은 다음의 조건을 모두 만족합니다.\n",
    "옳은 금액은 0~9 사이의 숫자 또는 구분자(,)로만 구성되어야 한다. 예를 들면 1만원이나 10,000원, +300은 0~9 사이의 숫자 또는 구분자(,)가 아닌 문자가 포함되어 있으므로 옳지 않은 금액이다.\n",
    "금액이 0원인 경우를 제외하고는 가장 왼쪽 숫자가 0일 수 없다. 예를 들면, 0은 옳은 금액이지만, 0100은 옳지 않다.\n",
    "금액은 세자리 구분자(,)를 포함하고 있거나, 또는 전혀 포함하고 있지 않다. 예를 들면, 구분자를 전혀 포함하지 않은 금액 39900도 옳은 금액이다.\n",
    "세자리 구분자는 가장 오른쪽 숫자로부터 시작해 왼쪽 방향으로 매 3개의 숫자마다 1개의 구분자(,)가 등장하는 형태이다. 예를 들면, 25,000,123은 옳은 금액이고, 24,999,99는 옳지 않은 금액이다.\n",
    "가장 왼쪽 끝이나 오른쪽 끝에는 구분자를 두지 않는다. 예를 들면, 10,000,과 ,999,000은 모두 옳지 않다.\n",
    "영수증에 적혀있는 금액을 보고 가짜 영수증인지 진짜 영수증인지 판단하는 시스템을 만들어주세요.\n",
    "입력 예시\n",
    "solution(amountText) 함수의 인자는 아래와 같이 전달됩니다.\n",
    "영수증에 적혀있는 금액 : amountText (1 <= 'amountText의 길이' <= 1000)\n",
    "출력 예시\n",
    "주어진 amountText가 옳은 금액이면 true, 옳지 않은 금액이면 false를 반환합니다."
   ]
  },
  {
   "cell_type": "code",
   "execution_count": 273,
   "id": "93269a16",
   "metadata": {},
   "outputs": [],
   "source": [
    "\n",
    "def solution(amountText):\n",
    "    if amountText == '0':\n",
    "        return True\n",
    "    if amountText[0] == '0' or amountText[0] == ',' or amountText[len(amountText)-1] == ',':\n",
    "            return False\n",
    "    for i,text in enumerate(list(amountText)):\n",
    "  \n",
    "        if text != ',':\n",
    "            if text.isdigit() == False:\n",
    "                return False\n",
    "        if text == ',':\n",
    "            for j,txt in enumerate(list(amountText)):\n",
    "                print(j)\n",
    "                if (len(amountText)-j)%4 == 0:\n",
    "                    if txt != ',':\n",
    "                        return False\n",
    "        \n",
    "                return False\n",
    "    else:   \n",
    "        return True"
   ]
  },
  {
   "cell_type": "code",
   "execution_count": 274,
   "id": "d21e0e99",
   "metadata": {},
   "outputs": [
    {
     "name": "stdout",
     "output_type": "stream",
     "text": [
      "0\n"
     ]
    },
    {
     "data": {
      "text/plain": [
       "False"
      ]
     },
     "execution_count": 274,
     "metadata": {},
     "output_type": "execute_result"
    }
   ],
   "source": [
    "def solution(amountText):\n",
    "\n",
    "    if amountText[0] == '0' or amountText[0] == ',' or amountText[len(amountText)-1]==',':\n",
    "            return False\n",
    "    for i,text in enumerate(list(amountText)):\n",
    "\n",
    "        if text != ',':\n",
    "            if text.isdigit() == False:\n",
    "\n",
    "                return False\n",
    "        if text == ',':\n",
    "            if (len(amountText)-i)%4 != 0:\n",
    "                return False\n",
    "        if text.isdigit() == True:\n",
    "            if (len(amountText)-i)%4 == 0:\n",
    "                return False\n",
    "    else:   \n",
    "        return True"
   ]
  },
  {
   "cell_type": "code",
   "execution_count": 272,
   "id": "edc49970",
   "metadata": {},
   "outputs": [
    {
     "data": {
      "text/plain": [
       "2"
      ]
     },
     "execution_count": 272,
     "metadata": {},
     "output_type": "execute_result"
    }
   ],
   "source": [
    "6%4"
   ]
  },
  {
   "cell_type": "code",
   "execution_count": 134,
   "id": "7b2e83f7",
   "metadata": {},
   "outputs": [],
   "source": [
    "a = \"5,000\""
   ]
  },
  {
   "cell_type": "code",
   "execution_count": 187,
   "id": "beea6ea4",
   "metadata": {},
   "outputs": [
    {
     "data": {
      "text/plain": [
       "5"
      ]
     },
     "execution_count": 187,
     "metadata": {},
     "output_type": "execute_result"
    }
   ],
   "source": [
    "len(a)"
   ]
  },
  {
   "cell_type": "markdown",
   "id": "c8e8cd58",
   "metadata": {},
   "source": [
    "문제 설명\n",
    "\n",
    "유용한 금융 정보\n",
    "2021 토스 NEXT 개발자로 입사하게된 김토스는 유저들을 위해 홈 화면에 유용한 금융 정보를 보여주기로 했습니다.\n",
    "유용한 정보라도 너무 자주 보여주면 유저들에게 불편함을 줄 수 있어, 빈도를 조절하여 적절히 노출하려 합니다.\n",
    "다음과 같은 방법으로 노출을 결정하는 코드를 작성해 주세요.\n",
    "유용한 금융정보는 하루에 여러 번 노출 될 수 있습니다.\n",
    "M일 동안 N회 노출이 되었거나 유저가 거부하면, 더 이상 노출하지 않으며, 다음날부터 M일까지 유용한 금융 정보를 노출하지 않습니다.\n",
    "입력 및 출력\n",
    "첫 줄에는 M N이 입력되고, M N을 출력합니다.\n",
    "0 < M < 10000\n",
    "0 < N < 100000\n",
    "두 번째 줄부터는 각 이벤트에 따른 명령이 주어지고, 명령에 따라 결과를 출력합니다.\n",
    "명령\t출력\t설명\n",
    "SHOW\t1 또는 0\t노출을 시도합니다. 노출되었으면 1 그렇지 않으면 0\n",
    "NEGATIVE\t0\t노출을 거부합니다.\n",
    "NEXT\t-\t다음날로 날짜를 변경합니다.\n",
    "EXIT\tBYE\tBYE 를 출력하고 종료합니다.\n",
    "만약 규격에 맞지 않는 줄 입력이 들어오는 경우, 이 줄은 무시하고 ERROR 를 출력합니다. \n",
    "다음 입력을 계속 처리할 수 있다면 계속 처리하고, 그렇지 않다면 종료합니다.\n",
    "데이터 포맷\n",
    "입력은 여러줄의 문자열로, 각 줄의 앞뒤 공백은 없으며, \n",
    "출력 마지막에는 줄변경 문자열이 들어가지 않습니다.\n",
    "줄구분 문자열은 \\n을 사용합니다.\n",
    "만약 입력이 아래와 같다면\n",
    "1 3 \n",
    "SHOW\n",
    "NEXT\n",
    "EXIT\n",
    "문자열 1 3\\nSHOW\\nNEXT\\nEXIT으로 들어 오며,\n",
    "출력이 아래와 같다면\n",
    "1 3\n",
    "1\n",
    "-\n",
    "BYE\n",
    "문자열 1 3\\n1\\n-\\nBYE을 반환해야 합니다.\n",
    "입출력 예시\n",
    "예시 0\n",
    "INPUT\tOUTPUT\n",
    "1 2\t1 2\n",
    "SHOW\t1\n",
    "SHOW\t1\n",
    "NEXT\t-\n",
    "SHOW\t0\n",
    "NEXT\t-\n",
    "SHOW\t1\n",
    "NEXT\t-\n",
    "SHOW\t1\n",
    "EXIT\tBYE\n",
    "예시 1\n",
    "INPUT\tOUTPUT\n",
    "2 2\t2 2\n",
    "SHOW\t1\n",
    "SHOW\t1\n",
    "NEXT\t-\n",
    "SHOW\t0\n",
    "NEXT\t-\n",
    "SHOW\t0\n",
    "NEXT\t-\n",
    "SHOW\t1\n",
    "EXIT\tBYE\n",
    "예시 2\n",
    "INPUT\tOUTPUT\n",
    "2 3\t2 3\n",
    "SHOW\t1\n",
    "SHOW\t1\n",
    "NEXT\t-\n",
    "SHOW\t1\n",
    "SHOW\t0\n",
    "NEXT\t-\n",
    "SHOW\t0\n",
    "NEXT\t-\n",
    "SHOW\t0\n",
    "SHOW\t0\n",
    "NEXT\t-\n",
    "SHOW\t1\n",
    "EXIT\tBYE\n",
    "예시 3\n",
    "INPUT\tOUTPUT\n",
    "2 3\t2 3\n",
    "SHOW\t1\n",
    "NEGATIVE\t0\n",
    "SHOW\t0\n",
    "NEXT\t-\n",
    "SHOW\t0\n",
    "SHOW\t0\n",
    "NEXT\t-\n",
    "SHOW\t0\n",
    "NEXT\t-\n",
    "SHOW\t1\n",
    "SHOW\t1\n",
    "NEXT\t-\n",
    "SHOW\t1\n",
    "SHOW\t0\n",
    "EXIT\tBYE\n",
    "예시 4\n",
    "INPUT\tOUTPUT\n",
    "1 3\t1 3\n",
    "SHOW\t1\n",
    "HELLO\tERROR\n",
    "EXIT\tBYE"
   ]
  },
  {
   "cell_type": "code",
   "execution_count": 205,
   "id": "bd0009c7",
   "metadata": {},
   "outputs": [
    {
     "name": "stdout",
     "output_type": "stream",
     "text": [
      "1 3\n"
     ]
    },
    {
     "ename": "NameError",
     "evalue": "name 'task' is not defined",
     "output_type": "error",
     "traceback": [
      "\u001b[0;31m---------------------------------------------------------------------------\u001b[0m",
      "\u001b[0;31mNameError\u001b[0m                                 Traceback (most recent call last)",
      "\u001b[0;32m<ipython-input-205-0f0a8e91068c>\u001b[0m in \u001b[0;36m<module>\u001b[0;34m\u001b[0m\n\u001b[1;32m      3\u001b[0m \u001b[0manswer\u001b[0m \u001b[0;34m+=\u001b[0m \u001b[0mM\u001b[0m\u001b[0;34m+\u001b[0m\u001b[0;34m' '\u001b[0m\u001b[0;34m+\u001b[0m\u001b[0mN\u001b[0m\u001b[0;34m+\u001b[0m\u001b[0;34m'\\n'\u001b[0m\u001b[0;34m\u001b[0m\u001b[0;34m\u001b[0m\u001b[0m\n\u001b[1;32m      4\u001b[0m \u001b[0;34m\u001b[0m\u001b[0m\n\u001b[0;32m----> 5\u001b[0;31m \u001b[0;32mwhile\u001b[0m \u001b[0mtask\u001b[0m \u001b[0;34m!=\u001b[0m \u001b[0mERROR\u001b[0m\u001b[0;34m:\u001b[0m\u001b[0;34m\u001b[0m\u001b[0;34m\u001b[0m\u001b[0m\n\u001b[0m\u001b[1;32m      6\u001b[0m     \u001b[0mtask\u001b[0m \u001b[0;34m=\u001b[0m \u001b[0minput\u001b[0m\u001b[0;34m(\u001b[0m\u001b[0;34m)\u001b[0m\u001b[0;34m\u001b[0m\u001b[0;34m\u001b[0m\u001b[0m\n\u001b[1;32m      7\u001b[0m     \u001b[0;32mif\u001b[0m \u001b[0mtask\u001b[0m \u001b[0;34m==\u001b[0m \u001b[0;34m'SHOW'\u001b[0m\u001b[0;34m:\u001b[0m\u001b[0;34m\u001b[0m\u001b[0;34m\u001b[0m\u001b[0m\n",
      "\u001b[0;31mNameError\u001b[0m: name 'task' is not defined"
     ]
    }
   ],
   "source": [
    "answer = ''\n",
    "M,N = map(str,input().split())\n",
    "answer += M+' '+N+'\\n'\n",
    "\n",
    "while 1:\n",
    "    task = input()\n",
    "    if task == 'SHOW':\n",
    "        if \n",
    "    elif task == \n",
    "\n",
    "print(answer)"
   ]
  },
  {
   "cell_type": "markdown",
   "id": "da47522c",
   "metadata": {},
   "source": [
    "문제 설명\n",
    "\n",
    "과일 게임\n",
    "무더운 여름 김토스는 친구들과 계곡으로 여행을 가게 되었습니다. 계곡을 눈앞에 두고 게임을 놓칠 수 없었던 김토스는 게임을 제안하게 됩니다.\n",
    "N개의 과일이 있을 때, 연속된 K개의 과일을 골라 K개 중 가장 무거운 과일의 무게를 점수로 해서 가장 높은 점수가 나온 사람이 계곡에 입수하는 게임입니다.\n",
    "김토스는 게임을 하기 전 N개의 과일의 무게가 주어질 때, 나올 수 있는 모든 점수를 구하고 싶습니다.\n",
    "입력 예시\n",
    "solution(fruitWeights, k) 함수의 인자는 아래와 같이 전달됩니다.\n",
    "N개의 과일의 무게 W[i]를 담고 있는 배열 : fruitWeights (1 <= N <= 500000, 1 <= W[i] <= 2,147,483,647)\n",
    "상수 K : k (1 <= K <= N)\n",
    "출력 예시\n",
    "주어진 N개의 과일의 무게 목록(fruitWeights)과 k 값을 바탕으로 나올 수 있는 모든 점수를 중복되지 않게 내림차순으로 정렬해 반환합니다.\n",
    "예시\n",
    "입력\n",
    "fruitWeights: [30 40 10 20 30]\n",
    "k: 3\n",
    "출력\n",
    "[40 30]\n",
    "설명\n",
    "'연속된 K개의 과일'의 경우의 수는 [30 40 10], [10 20 30], [40 10 20]이 존재하며, 각각의 경우에 대해 40점, 30점, 40점이 나올 수 있습니다. 따라서 solution(fruitWeights, k)는 [40, 30]을 반환합니다.\n",
    "참고사항\n",
    "시간복잡도에 유의하여 함수를 구현해주세요."
   ]
  },
  {
   "cell_type": "code",
   "execution_count": 249,
   "id": "53181a00",
   "metadata": {},
   "outputs": [],
   "source": [
    "\n",
    "def solution(fruitWeights, k):\n",
    "    answer = []\n",
    "    return count(fruitWeights,k, answer)\n",
    "\n",
    "def count(fruitWeights, k, answer):\n",
    "    if len(fruitWeights) >= k: \n",
    "        if max(fruitWeights[:k]) not in answer:\n",
    "            answer.append(max(fruitWeights[:k]))\n",
    "        count(fruitWeights[1:],k, answer)\n",
    "    answer.sort(reverse = True)    \n",
    "    return answer"
   ]
  },
  {
   "cell_type": "code",
   "execution_count": 250,
   "id": "c0dd501e",
   "metadata": {},
   "outputs": [
    {
     "data": {
      "text/plain": [
       "[40, 30]"
      ]
     },
     "execution_count": 250,
     "metadata": {},
     "output_type": "execute_result"
    }
   ],
   "source": [
    "solution([30,40,10,20,30],3)"
   ]
  },
  {
   "cell_type": "code",
   "execution_count": 235,
   "id": "a1ef5353",
   "metadata": {},
   "outputs": [],
   "source": [
    "a = [1,2,3,4]"
   ]
  },
  {
   "cell_type": "code",
   "execution_count": 251,
   "id": "cfc3824c",
   "metadata": {},
   "outputs": [
    {
     "data": {
      "text/plain": [
       "[1, 2, 3]"
      ]
     },
     "execution_count": 251,
     "metadata": {},
     "output_type": "execute_result"
    }
   ],
   "source": [
    "a[:3]"
   ]
  },
  {
   "cell_type": "markdown",
   "id": "893873b8",
   "metadata": {},
   "source": [
    "문제 설명\n",
    "\n",
    "계단을 오르는 방법\n",
    "김토스가 N개의 계단을 오르려고 합니다. 김토스는 한번에 1~3개의 계단을 이동할 수 있습니다.\n",
    "N개의 계단을 올라가는 방법이 총 몇 가지가 있는지 계산하는 함수를 구현해주세요.\n",
    "입력 예시\n",
    "solution(numOfStairs) 함수의 인자는 아래와 같이 전달됩니다.\n",
    "계단의 수 N : numOfStairs (1 <= N <= 70)\n",
    "출력 예시\n",
    "주어진 계단의 수 N(numOfStairs)로부터, 계단을 오를 수 있는 방법의 수를 반환합니다.\n",
    "예시\n",
    "계단이 1개라면, 오를 수 있는 방법은 한 번에 1계단을 올라서 총 1가지이다.\n",
    "[1]\n",
    "계단이 2개라면, 오를 수 있는 방법은 한 번에 1계단씩 2번 오르거나, 한 번에 2계단을 올라서 총 2가지이다.\n",
    "[1, 1], [2]\n",
    "계단이 3개라면, 오를 수 있는 방법은 총 4가지이다.\n",
    "[1, 1, 1], [1, 2], [2, 1], [3]\n",
    "계단이 4개라면, 오를 수 있는 방법은 총 7가지이다.\n",
    "[1, 1, 1, 1], [1, 2, 1], [2, 1, 1], [1, 1, 2], [2, 2], [1, 3], [3, 1]"
   ]
  },
  {
   "cell_type": "markdown",
   "id": "6905405e",
   "metadata": {},
   "source": [
    "## 서술형 1\n",
    "소셜서비스 알림\n",
    "김토스는 트위터와 같은 소셜 네트워크 서비스를 개발하고 있습니다.\n",
    "김토스는 최근 사용자가 글을 작성하면 사용자의 모든 팔로워에게 즉시 알림을 발송하는 기능을 만들었습니다.\n",
    "그런데 김토스가 개발한 시스템에서는 1명의 팔로워에게 알림을 발송하는데에 1밀리세컨드의 시간이 소요되어, 팔로워가 100만 명인 사용자 '슈퍼스타'는 글을 올릴 때마다 매번 1,000초를 하염없이 기다려야만 '작성 완료!' 화면을 볼 수 있다는 사실을 알게 되었습니다.\n",
    "당신은 개발자 김토스를 도와 '슈퍼스타'를 비롯한 많은 사용자들이 오랫동안 기다리지 않고, 가능한 즉시 '작성 완료!' 화면을 보는 유려한 경험을 하도록 만들고 싶습니다.\n",
    "이를 만족하기 위해 소셜 네트워크 서비스의 서버 아키텍처를 어떻게 설계하고 구현할지, 아키텍처에 활용할 수 있는 오픈소스 기술이 있다면 이를 포함하여 구체적으로 서술해주세요.\n",
    "\n",
    "## 서술형 2\n",
    "주차장 설계\n",
    "당신에게 주차장 시스템을 만들어 달라는 요청이 들어왔습니다. 주차장 시스템의 설계 조건은 다음과 같습니다.\n",
    "주차장은 여러 층에 존재합니다. 층마다 주차 가능한 장소는 여러 줄이 있습니다.\n",
    "주차장에 주차 가능한 차량은 경차, 일반 차량, 버스입니다.\n",
    "주차공간은 차량의 크기에 맞게 구분되어 있습니다.\n",
    "경차는 아무 주차공간에나 주차할 수 있습니다.\n",
    "당신은 주차장 시스템을 객체지향적으로 설계하려고 합니다. 어떻게 설계하면 좋을까요?\n",
    "\n",
    "## 서술형 3\n",
    "쿠폰을 나누어주자\n",
    "이커머스 시스템을 개발하는 당신은 다가오는 추석을 맞이해 반값 할인 쿠폰을 사용자에게 제공하려고 합니다. 사용자는 '쿠폰 받기' 버튼을 누르면 쿠폰을 받을 수 있습니다. 저렴하게 물건을 구매할 수 있는 절호의 기회이기 때문에 어떤 사용자들은 '쿠폰 받기' 버튼을 연속으로 클릭하는 등 부정한 방법으로 여러 장의 쿠폰을 획득하려는 시도를 할 수 있습니다. 릴리즈 전 사내 테스트 과정에서 어떤 사람들은 여러 장의 쿠폰을 받아간 정황을 확인했습니다.\n",
    "1) 당신은 이러한 부정한 시도에도 불구하고 한 사람에게 반드시 한 장의 반값 할인 쿠폰만 지급되도록 시스템을 개선해야 합니다. 어떠한 상황에 중복 지급이 발생할 수 있는지, 어떻게 개선할 수 있을지 설명해주세요. 쿠폰 데이터는 RDBMS로 관리 중이고, 쿠폰을 지급하는 서비스는 API 서버가 여러 대인 분산 환경이라고 가정합니다.\n",
    "2) 연말이 다가오고 당신은 내년 설날을 위한 프로모션을 준비 중입니다. 이번에는 프로모션의 구조를 바꾸어, 한 사람에게 1만원 할인 쿠폰을 최대 3장까지 지급하려고 합니다. 사용자는 '쿠폰 받기' 버튼을 여러번 눌러 여러 장의 쿠폰을 획득할 수 있지만, 4장 이상의 쿠폰은 획득할 수 없습니다. 변경된 프로모션 요구사항을 위해 시스템을 어떻게 개선할 수 있을까요?\n",
    "\n",
    "## 서술형 4\n",
    "한번만 메시지 처리하기\n",
    "메시지 큐 또는 구독형 패턴을 사용해 프로그램을 개발할 때를 생각해보면, 메시지 데이터를 처리하는 구독자 프로세스에 서비스에 필요한 비즈니스 로직이 구현되어 있습니다. 이러한 비즈니스 로직은 사용자에게 금원을 지급하거나, SMS를 발송하는 등 중복으로 수행되어서는 안 되는 종류의 작업일 수도 있습니다.\n",
    "발행자(프로듀서)로부터 메시지가 중복으로 발행되거나, 예상하지 못한 이유로 구독자 프로세스가 일시적으로 종료되는 상황이 있더라도, 결과적으로는 메시지를 단 한 번(최소 한 번, 그리고 최대 한 번)만 처리하고 싶습니다. 단 한 번만 메시지를 처리하기 위한 전략을 알려주세요.\n",
    "\n",
    "## 서술형 5\n",
    "데이터 캐싱\n",
    "사용자의 요청에 대한 응답 속도를 높이기 위해 캐시를 이용하는 경우가 있습니다.\n",
    "대표적으로, 데이터베이스에서 빈번하게 읽어야 하는 무거운 데이터는 캐싱을 통해 빠르게 응답할 수가 있습니다.\n",
    "어떻게 DB 데이터를 캐싱 하면 될까요?\n",
    "어느 경우에 데이터 정합성이 깨질 수 있을까요?\n",
    "다시 정합성을 맞추기 위해서는 어떻게 하면 좋을까요?"
   ]
  },
  {
   "cell_type": "markdown",
   "id": "ee94f13e",
   "metadata": {},
   "source": [
    "post\n",
    "algorithm\n",
    "- [Programmers] 더 맵게 (Python3)\n",
    "- [Programmers] 프린터 (Python3)\n",
    "- [Programmers] H-index (Python3)"
   ]
  }
 ],
 "metadata": {
  "kernelspec": {
   "display_name": "Python 3",
   "language": "python",
   "name": "python3"
  },
  "language_info": {
   "codemirror_mode": {
    "name": "ipython",
    "version": 3
   },
   "file_extension": ".py",
   "mimetype": "text/x-python",
   "name": "python",
   "nbconvert_exporter": "python",
   "pygments_lexer": "ipython3",
   "version": "3.8.8"
  }
 },
 "nbformat": 4,
 "nbformat_minor": 5
}
