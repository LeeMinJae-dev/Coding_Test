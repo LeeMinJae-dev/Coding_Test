{
 "cells": [
  {
   "cell_type": "markdown",
   "id": "745a5e16",
   "metadata": {},
   "source": [
    "---\n",
    "title : \"[Programmers] 셔틀버스 (Python3)\"\n",
    "categories : programmers\n",
    "toc : true\n",
    "toc_sticky : true\n",
    "toc_label : \"On this Page\"\n",
    "---\n",
    "## 문제설명\n",
    "셔틀버스\n",
    "\n",
    "카카오에서는 무료 셔틀버스를 운행하기 때문에 판교역에서 편하게 사무실로 올 수 있다. 카카오의 직원은 서로를 '크루'라고 부르는데, 아침마다 많은 크루들이 이 셔틀을 이용하여 출근한다.\n",
    "\n",
    "이 문제에서는 편의를 위해 셔틀은 다음과 같은 규칙으로 운행한다고 가정하자.\n",
    "\n",
    "셔틀은 09:00부터 총 n회 t분 간격으로 역에 도착하며, 하나의 셔틀에는 최대 m명의 승객이 탈 수 있다.\n",
    "셔틀은 도착했을 때 도착한 순간에 대기열에 선 크루까지 포함해서 대기 순서대로 태우고 바로 출발한다. 예를 들어 09:00에 도착한 셔틀은 자리가 있다면 09:00에 줄을 선 크루도 탈 수 있다.\n",
    "일찍 나와서 셔틀을 기다리는 것이 귀찮았던 콘은, 일주일간의 집요한 관찰 끝에 어떤 크루가 몇 시에 셔틀 대기열에 도착하는지 알아냈다. 콘이 셔틀을 타고 사무실로 갈 수 있는 도착 시각 중 제일 늦은 시각을 구하여라.\n",
    "\n",
    "단, 콘은 게으르기 때문에 같은 시각에 도착한 크루 중 대기열에서 제일 뒤에 선다. 또한, 모든 크루는 잠을 자야 하므로 23:59에 집에 돌아간다. 따라서 어떤 크루도 다음날 셔틀을 타는 일은 없다.\n",
    "\n",
    "## 입력 형식\n",
    "셔틀 운행 횟수 n, 셔틀 운행 간격 t, 한 셔틀에 탈 수 있는 최대 크루 수 m, 크루가 대기열에 도착하는 시각을 모은 배열 timetable이 입력으로 주어진다.\n",
    "\n",
    "* 0 ＜ n ≦ 10\n",
    "* 0 ＜ t ≦ 60\n",
    "* 0 ＜ m ≦ 45\n",
    "* timetable은 최소 길이 1이고 최대 길이 2000인 배열로, 하루 동안 크루가 대기열에 도착하는 시각이 HH:MM 형식으로 이루어져 있다.\n",
    "* 크루의 도착 시각 HH:MM은 00:01에서 23:59 사이이다.\n",
    "\n",
    "## 출력 형식\n",
    "콘이 무사히 셔틀을 타고 사무실로 갈 수 있는 제일 늦은 도착 시각을 출력한다. 도착 시각은 HH:MM 형식이며, 00:00에서 23:59 사이의 값이 될 수 있다.\n",
    "\n",
    "## 입출력 예제\n",
    "|n|t|m|timetable|answer|\n",
    "|:---:|:---:|:---:|:---:|:---:|\n",
    "|1|1|5|[\"08:00\", \"08:01\", \"08:02\", \"08:03\"]|\"09:00\"|\n",
    "|2|0|2|[\"09:10\", \"09:09\", \"08:00\"]|\"09:09\"|\n",
    "|2|1|2|[\"09:00\", \"09:00\", \"09:00\", \"09:00\"]|\"08:59\"|\n",
    "|1|1|5|[\"00:01\", \"00:01\", \"00:01\", \"00:01\", \"00:01\"]|\"00:00\"|\n",
    "|1|1|1|[\"23:59\"]|\"09:00\"|\n",
    "|10|60|45|[\"23:59\",\"23:59\", \"23:59\", \"23:59\", \"23:59\", \"23:59\", \"23:59\", \"23:59\", \"23:59\", \"23:59\", \"23:59\", \"23:59\", \"23:59\", \"23:59\", \"23:59\", \"23:59\"|\"18:00\"|"
   ]
  },
  {
   "cell_type": "code",
   "execution_count": 318,
   "id": "cecc9773",
   "metadata": {},
   "outputs": [],
   "source": [
    "from collections import deque\n",
    "\n",
    "def solution(n, t, m, timetable):\n",
    "    bus_arrive = [540]\n",
    "    timetable = deque(sorted(timetable)) \n",
    "                                            \n",
    "    for i in range(n-1):\n",
    "        bus_arrive.append(bus_arrive[-1] + t)\n",
    "    \n",
    "    buses = {}\n",
    "    \n",
    "    for i in bus_arrive:\n",
    "        buses[i] = []\n",
    "        \n",
    "    time = 0\n",
    "    for bus in buses:\n",
    "        if not timetable:\n",
    "            break\n",
    "        while len(buses[bus]) < m and time <= bus:\n",
    "            if not timetable:\n",
    "                break\n",
    "            else:\n",
    "                time = time_parser(timetable.popleft())\n",
    "                if time <= bus:\n",
    "                    buses[bus].append(time)\n",
    "                else:\n",
    "                    timetable.appendleft(time_re_parser(time))\n",
    "    \n",
    "    last_bus = is_empty_bus(buses, m)[-1]\n",
    "    \n",
    "    if len(last_bus[1]) == m:\n",
    "        return time_re_parser(last_bus[1][-1] - 1)\n",
    "    else:\n",
    "        return time_re_parser(last_bus[0])\n",
    "        \n",
    "                "
   ]
  },
  {
   "cell_type": "code",
   "execution_count": 319,
   "id": "a6a68105",
   "metadata": {},
   "outputs": [],
   "source": [
    "def time_parser(time):\n",
    "    return int(time[0:2]) * 60 + int(time[3:])\n",
    "\n",
    "def time_re_parser(time):\n",
    "    hour = str(time//60) \n",
    "    minute = str(time%60)\n",
    "    if len(hour) == 1:\n",
    "        hour = \"0\" + hour\n",
    "        \n",
    "    if len(minute) == 1:\n",
    "        minute = \"0\" + minute\n",
    "    return hour + \":\" + minute\n",
    "\n",
    "def is_empty_bus(buses, m): \n",
    "    return list(buses.items())"
   ]
  },
  {
   "cell_type": "code",
   "execution_count": 321,
   "id": "e86d620d",
   "metadata": {},
   "outputs": [
    {
     "name": "stdout",
     "output_type": "stream",
     "text": [
      "case\n",
      "09:00\n",
      "case\n",
      "09:09\n",
      "case\n",
      "08:59\n",
      "case\n",
      "00:00\n",
      "case\n",
      "09:00\n",
      "case\n",
      "18:00\n"
     ]
    }
   ],
   "source": [
    "test_case = [[1,1,5, [\"08:00\", \"08:01\", \"08:02\", \"08:03\"]], [2,10,2, [\"09:10\", \"09:09\", \"08:00\"]], [2,1,2,[\"09:00\", \"09:00\", \"09:00\", \"09:00\"]], [1,1,5,[\"00:01\", \"00:01\", \"00:01\", \"00:01\", \"00:01\"]], [1,1,1,\t[\"23:59\"]], [10, 60, 45, [\"23:59\",\"23:59\", \"23:59\", \"23:59\", \"23:59\", \"23:59\", \"23:59\", \"23:59\", \"23:59\", \"23:59\", \"23:59\", \"23:59\", \"23:59\", \"23:59\", \"23:59\", \"23:59\"]]]\n",
    "for case in test_case:\n",
    "    print(\"case\")\n",
    "    print(solution(case[0], case[1], case[2], case[3]))"
   ]
  },
  {
   "cell_type": "markdown",
   "id": "9169448a",
   "metadata": {},
   "source": [
    "## 문제설명\n",
    "이 문제는 언뜻보면 복잡해보이지만, 가장 늦게 탑승하는 시간을 구하면 되기 때문에 마지막 버스만 생각해주면 된다. 만약 마지막 버스에 빈자리가 있다면 해당 버스가 출발하는 시간에 탑승하면 되고, 마지막 버스에 빈자리가 없다면 그 버스에 마지막으로 탑승한 크루보다 1분 먼저 오면 버스를 탑승할 수 있다.\n",
    "\n",
    "타임테이블을 정렬해준뒤, 버스 시간표를 딕셔너리로 만들어 딕셔너리 테이블을 하나의 버스로 놓고 크루들을 먼저 다 탑승시킨다. 그리고 마지막 버스만을 판별해서 위에 설명했던 것처럼 탑승 시간을 구해주면 된다."
   ]
  }
 ],
 "metadata": {
  "kernelspec": {
   "display_name": "Python 3",
   "language": "python",
   "name": "python3"
  },
  "language_info": {
   "codemirror_mode": {
    "name": "ipython",
    "version": 3
   },
   "file_extension": ".py",
   "mimetype": "text/x-python",
   "name": "python",
   "nbconvert_exporter": "python",
   "pygments_lexer": "ipython3",
   "version": "3.9.7"
  }
 },
 "nbformat": 4,
 "nbformat_minor": 5
}
