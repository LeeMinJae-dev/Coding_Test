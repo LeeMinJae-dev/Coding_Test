{
 "cells": [
  {
   "cell_type": "markdown",
   "id": "e85cb40b",
   "metadata": {},
   "source": [
    "---\n",
    "title : \"[Programmers] 수식 최대화 (Python3)\"\n",
    "categories : programmers\n",
    "toc : true\n",
    "toc_sticky : true\n",
    "toc_label : \"On this Page\"\n",
    "---\n",
    "## 문제 설명\n",
    "IT 벤처 회사를 운영하고 있는 라이언은 매년 사내 해커톤 대회를 개최하여 우승자에게 상금을 지급하고 있습니다.\n",
    "이번 대회에서는 우승자에게 지급되는 상금을 이전 대회와는 다르게 다음과 같은 방식으로 결정하려고 합니다.\n",
    "해커톤 대회에 참가하는 모든 참가자들에게는 숫자들과 3가지의 연산문자(+, -, *) 만으로 이루어진 연산 수식이 전달되며, 참가자의 미션은 전달받은 수식에 포함된 연산자의 우선순위를 자유롭게 재정의하여 만들 수 있는 가장 큰 숫자를 제출하는 것입니다.\n",
    "\n",
    "단, 연산자의 우선순위를 새로 정의할 때, 같은 순위의 연산자는 없어야 합니다. \n",
    "\n",
    "즉, + > - > * 또는 - > * > + 등과 같이 연산자 우선순위를 정의할 수 있으나 +,* > - 또는 * > +,-처럼 2개 이상의 연산자가 동일한 순위를 가지도록 연산자 우선순위를 정의할 수는 없습니다. 수식에 포함된 연산자가 2개라면 정의할 수 있는 연산자 우선순위 조합은 2! = 2가지이며, 연산자가 3개라면 3! = 6가지 조합이 가능합니다.\n",
    "\n",
    "만약 계산된 결과가 음수라면 해당 숫자의 절댓값으로 변환하여 제출하며 제출한 숫자가 가장 큰 참가자를 우승자로 선정하며, 우승자가 제출한 숫자를 우승상금으로 지급하게 됩니다.\n",
    "\n",
    "예를 들어, 참가자 중 네오가 아래와 같은 수식을 전달받았다고 가정합니다.\n",
    "\n",
    "\"100-200*300-500+20\"\n",
    "\n",
    "일반적으로 수학 및 전산학에서 약속된 연산자 우선순위에 따르면 더하기와 빼기는 서로 동등하며 곱하기는 더하기, 빼기에 비해 우선순위가 높아 * > +,- 로 우선순위가 정의되어 있습니다.\n",
    "대회 규칙에 따라 + > - > * 또는 - > * > + 등과 같이 연산자 우선순위를 정의할 수 있으나 +,* > - 또는 * > +,- 처럼 2개 이상의 연산자가 동일한 순위를 가지도록 연산자 우선순위를 정의할 수는 없습니다.\n",
    "\n",
    "수식에 연산자가 3개 주어졌으므로 가능한 연산자 우선순위 조합은 3! = 6가지이며, 그 중 + > - > * 로 연산자 우선순위를 정한다면 결괏값은 22,000원이 됩니다.\n",
    "반면에 * > + > - 로 연산자 우선순위를 정한다면 수식의 결괏값은 -60,420 이지만, 규칙에 따라 우승 시 상금은 절댓값인 60,420원이 됩니다.\n",
    "\n",
    "참가자에게 주어진 연산 수식이 담긴 문자열 expression이 매개변수로 주어질 때, 우승 시 받을 수 있는 가장 큰 상금 금액을 return 하도록 solution 함수를 완성해주세요.\n",
    "\n",
    "## 제한사항\n",
    "* expression은 길이가 3 이상 100 이하인 문자열입니다.\n",
    "* expression은 공백문자, 괄호문자 없이 오로지 숫자와 3가지의 연산자(+, -, *) 만으로 이루어진 올바른 중위표기법(연산의 두 대상 사이에 연산기호를 사용하는 방식)으로 표현된 연산식입니다. 잘못된 연산식은 입력으로 주어지지 않습니다.\n",
    "    * 즉, \"402+-561*\"처럼 잘못된 수식은 올바른 중위표기법이 아니므로 주어지지 않습니다.\n",
    "* expression의 피연산자(operand)는 0 이상 999 이하의 숫자입니다.\n",
    "    * 즉, \"100-2145*458+12\"처럼 999를 초과하는 피연산자가 포함된 수식은 입력으로 주어지지 않습니다.\n",
    "    * \"-56+100\"처럼 피연산자가 음수인 수식도 입력으로 주어지지 않습니다.\n",
    "* expression은 적어도 1개 이상의 연산자를 포함하고 있습니다.\n",
    "* 연산자 우선순위를 어떻게 적용하더라도, expression의 중간 계산값과 최종 결괏값은 절댓값이 263 - 1 이하가 되도록 입력이 주어집니다.\n",
    "* 같은 연산자끼리는 앞에 있는 것의 우선순위가 더 높습니다.\n",
    "\n",
    "## 입출력 예\n",
    "|expression|\tresult|\n",
    "|:---:|:---:|\n",
    "|\"100-200*300-500+20\"|\t60420|\n",
    "|\"50*6-3*2\"\t|300|\n",
    "\n",
    "## 입출력 예에 대한 설명\n",
    "### 입출력 예 #1\n",
    "\\* > + > - 로 연산자 우선순위를 정했을 때, 가장 큰 절댓값을 얻을 수 있습니다.\n",
    "연산 순서는 아래와 같습니다.\n",
    "\n",
    "100-200*300-500+20\n",
    "\n",
    "= 100-(200*300)-500+20\n",
    "\n",
    "= 100-60000-(500+20)\n",
    "\n",
    "= (100-60000)-520\n",
    "\n",
    "= (-59900-520)\n",
    "\n",
    "= -60420\n",
    "\n",
    "따라서, 우승 시 받을 수 있는 상금은 |-60420| = 60420 입니다.\n",
    "\n",
    "### 입출력 예 #2\n",
    "\\- \\> \\* 로 연산자 우선순위를 정했을 때, 가장 큰 절댓값을 얻을 수 있습니다.\n",
    "\n",
    "연산 순서는 아래와 같습니다.(expression에서 + 연산자는 나타나지 않았으므로, 고려할 필요가 없습니다.)\n",
    "\n",
    "50*6-3*2\n",
    "\n",
    "= 50*(6-3)*2\n",
    "\n",
    "= (50*3)*2\n",
    "\n",
    "= 150*2\n",
    "\n",
    "= 300\n",
    "\n",
    "따라서, 우승 시 받을 수 있는 상금은 300 입니다."
   ]
  },
  {
   "cell_type": "markdown",
   "id": "23832ee3",
   "metadata": {},
   "source": [
    "## 요약\n",
    "* 같은 순위의 연산자는 존재하지 않는다.\n",
    "* 수식에 포함된 연산자가 n개라면 조합의 경우의 수는 n!이다.\n",
    "* 계산결과가 음수라면 해당 숫자를 절댓값으로 변환하여 제출한다.\n",
    "* 숫자가 가장 큰 참가자를 우승자로 선정하며, 우승자가 제출한 숫자가 상금이다.\n",
    "\n"
   ]
  },
  {
   "cell_type": "code",
   "execution_count": 76,
   "id": "12621091",
   "metadata": {},
   "outputs": [],
   "source": [
    "expression = \"100-200*300-500+20\""
   ]
  },
  {
   "cell_type": "code",
   "execution_count": 77,
   "id": "1c91ba1d",
   "metadata": {},
   "outputs": [],
   "source": [
    "from itertools import permutations"
   ]
  },
  {
   "cell_type": "code",
   "execution_count": 121,
   "id": "d31e6f10",
   "metadata": {},
   "outputs": [],
   "source": [
    "def check_operator(expression):\n",
    "    operators = [\"*\", \"+\", \"-\"]\n",
    "    \n",
    "    used_operators = []\n",
    "    \n",
    "    for operator in expression:\n",
    "        if operator in operators:\n",
    "            if operator not in used_operators:\n",
    "                used_operators.append(operator)\n",
    "    \n",
    "    return used_operators"
   ]
  },
  {
   "cell_type": "code",
   "execution_count": 122,
   "id": "dca73ee6",
   "metadata": {},
   "outputs": [],
   "source": [
    "def separate(expression):\n",
    "    seperate_expression = []\n",
    "    \n",
    "    word = \"\"\n",
    "    for i in expression:\n",
    "        if i.isdigit() == True:\n",
    "            word += i\n",
    "        else:\n",
    "            seperate_expression.append(word)\n",
    "            seperate_expression.append(i)\n",
    "            word = \"\"\n",
    "    seperate_expression.append(word)\n",
    "    return seperate_expression\n",
    "    "
   ]
  },
  {
   "cell_type": "code",
   "execution_count": 123,
   "id": "aac7c91f",
   "metadata": {},
   "outputs": [],
   "source": [
    "def calculate(case, separated_operator):\n",
    "    calculated_operator = []\n",
    "    is_calculated = False\n",
    "    \n",
    "    for operator in case:\n",
    "        for i,component in enumerate(separated_operator):\n",
    "            if component == operator:\n",
    "                \n",
    "                first = calculated_operator.pop()\n",
    "                second = separated_operator[i+1]\n",
    "                \n",
    "                answer = calculated_by_operator(operator,first, second)\n",
    "                calculated_operator.append(answer)\n",
    "                is_calculated = True\n",
    "            else:\n",
    "                if is_calculated == False:\n",
    "                    calculated_operator.append(component)\n",
    "                else:\n",
    "                    is_calculated = False\n",
    "                \n",
    "        separated_operator = calculated_operator\n",
    "        calculated_operator = []\n",
    "    return separated_operator"
   ]
  },
  {
   "cell_type": "code",
   "execution_count": 125,
   "id": "9e1b9e35",
   "metadata": {},
   "outputs": [],
   "source": [
    "def calculated_by_operator(operator, first, second):\n",
    "    first = int(first)\n",
    "    second = int(second)\n",
    "    if operator == \"-\":\n",
    "        return first - second\n",
    "    \n",
    "    if operator == \"*\":\n",
    "        return first * second\n",
    "    \n",
    "    if operator == \"+\":\n",
    "        return first + second"
   ]
  },
  {
   "cell_type": "code",
   "execution_count": 128,
   "id": "2f020295",
   "metadata": {},
   "outputs": [],
   "source": [
    "def solution(expression):\n",
    "    operators = check_operator(expression)\n",
    "    \n",
    "    operators_case = list(permutations(operators, len(operators)))\n",
    "    # 연산자 경우의 수 순열 \n",
    "    \n",
    "    answer = []\n",
    "    \n",
    "    separated_operator = separate(expression)\n",
    "    # 숫자와 연산자로 나누어 리스트로 변환\n",
    "    \n",
    "    for case in operators_case:\n",
    "        answer.append(abs(calculate(case, separated_operator)[0]))\n",
    "    \n",
    "    return max(answer)\n",
    "    "
   ]
  },
  {
   "cell_type": "code",
   "execution_count": 129,
   "id": "cef9a71e",
   "metadata": {},
   "outputs": [
    {
     "data": {
      "text/plain": [
       "60420"
      ]
     },
     "execution_count": 129,
     "metadata": {},
     "output_type": "execute_result"
    }
   ],
   "source": [
    "solution(expression)"
   ]
  },
  {
   "cell_type": "markdown",
   "id": "008e96eb",
   "metadata": {},
   "source": [
    "## 문제 풀이\n",
    "\n",
    "먼저 해당 수식에 연산자가 어떤게 있는지 리스트로 뽑아주는 check_operator() 함수를 만들고, 이를 받아 permutations를 사용해 연산자가 가질 수 있는 우선순위의 경우의 수를 출력해주었다. 이 경우의 수를 하나씩 집어넣어 해당 위선순위 순서대로 계산하는 calculate() 함수를 만들어 결과 값을 리스트에 하나로 모아둔뒤 max() 함수를 통해 가장 큰값을 출력하면 된다.\n",
    "\n",
    "문제를 풀고 프로그래머스로 가보니 너무 쉽게 푼 코드가 있어서 첨부해본다."
   ]
  },
  {
   "cell_type": "code",
   "execution_count": 130,
   "id": "3f9eebf6",
   "metadata": {},
   "outputs": [],
   "source": [
    "def solution(expression):\n",
    "    operations = [('+', '-', '*'),('+', '*', '-'),('-', '+', '*'),('-', '*', '+'),('*', '+', '-'),('*', '-', '+')]\n",
    "    answer = []\n",
    "    for op in operations:\n",
    "        a = op[0]\n",
    "        b = op[1]\n",
    "        temp_list = []\n",
    "        for e in expression.split(a):\n",
    "            temp = [f\"({i})\" for i in e.split(b)]\n",
    "            temp_list.append(f'({b.join(temp)})')\n",
    "        answer.append(abs(eval(a.join(temp_list))))\n",
    "    return max(answer)"
   ]
  },
  {
   "cell_type": "markdown",
   "id": "491fcea9",
   "metadata": {},
   "source": [
    "내가 짠 긴 코드를 이렇게 풀수가 있었다...\n",
    "\n",
    "이렇게까지 길이가 차이나는 것은 eval() 함수 때문인데, eval() 함수는 문자열로 들어온 명령을 실행해준다. expression을 정제할 필요 없이 그냥 eval에 넣기만 하면 실행되므로 코드가 확연히 줄어 들 수 밖에 없다. \n",
    "\n",
    "하지만 eval() 함수는 실제 업무에서는 절대 사용해서는 안되는 함수 중 하나인데, 만약 eval()은 수식 뿐만 아니라 그냥 문자열로 들어온 명령을 그대로 파이썬으로 실행하므로, 시스템의 정보를 불러오는 코드나 프로그램을 망치는 코드를 문자열로 이용자가 넣을 경우 보안에 크게 취약해질 수 있다고 한다. 그래도 코딩테스트에서는 맞추기만 하면 되는 경우가 대부분이니까 꼭 기억해놓도록 해야겠다. \n",
    "\n",
    "그리고 정규표현식을 사용했다면 훨씬 코드를 깔끔하게 줄일 수 있었을 것 같다. 정규표현식은 맨날 배우고 까먹고 반복인데, 정규표현식을 사용할 줄 알고 모르고가 데이터를 가공하는데에 큰 차이가 나므로 반드시 다시 코테 전에 한번 더 공부해봐야겠다."
   ]
  }
 ],
 "metadata": {
  "kernelspec": {
   "display_name": "Python 3",
   "language": "python",
   "name": "python3"
  },
  "language_info": {
   "codemirror_mode": {
    "name": "ipython",
    "version": 3
   },
   "file_extension": ".py",
   "mimetype": "text/x-python",
   "name": "python",
   "nbconvert_exporter": "python",
   "pygments_lexer": "ipython3",
   "version": "3.9.7"
  }
 },
 "nbformat": 4,
 "nbformat_minor": 5
}
