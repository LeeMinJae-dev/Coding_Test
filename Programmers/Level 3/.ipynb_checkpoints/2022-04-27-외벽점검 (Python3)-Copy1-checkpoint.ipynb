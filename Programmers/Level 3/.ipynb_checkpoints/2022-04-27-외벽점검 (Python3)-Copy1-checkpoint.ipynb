{
 "cells": [
  {
   "cell_type": "markdown",
   "id": "b67b513c",
   "metadata": {},
   "source": [
    "---\n",
    "title : \"[Programmers] 외벽점검 (Python3)\"\n",
    "categories : programmers\n",
    "toc : true\n",
    "toc_sticky : true\n",
    "toc_label : \"On this Page\"\n",
    "---\n"
   ]
  },
  {
   "cell_type": "markdown",
   "id": "d0abfa40",
   "metadata": {},
   "source": [
    "## 문제 설명\n",
    "\n",
    "레스토랑을 운영하고 있는 \"스카피\"는 레스토랑 내부가 너무 낡아 친구들과 함께 직접 리모델링 하기로 했습니다. 레스토랑이 있는 곳은 스노우타운으로 매우 추운 지역이어서 내부 공사를 하는 도중에 주기적으로 외벽의 상태를 점검해야 할 필요가 있습니다.\n",
    "레스토랑의 구조는 완전히 동그란 모양이고 외벽의 총 둘레는 n미터이며, 외벽의 몇몇 지점은 추위가 심할 경우 손상될 수도 있는 취약한 지점들이 있습니다. 따라서 내부 공사 도중에도 외벽의 취약 지점들이 손상되지 않았는 지, 주기적으로 친구들을 보내서 점검을 하기로 했습니다. 다만, 빠른 공사 진행을 위해 점검 시간을 1시간으로 제한했습니다. 친구들이 1시간 동안 이동할 수 있는 거리는 제각각이기 때문에, 최소한의 친구들을 투입해 취약 지점을 점검하고 나머지 친구들은 내부 공사를 돕도록 하려고 합니다. 편의 상 레스토랑의 정북 방향 지점을 0으로 나타내며, 취약 지점의 위치는 정북 방향 지점으로부터 시계 방향으로 떨어진 거리로 나타냅니다. 또, 친구들은 출발 지점부터 시계, 혹은 반시계 방향으로 외벽을 따라서만 이동합니다.\n",
    "외벽의 길이 n, 취약 지점의 위치가 담긴 배열 weak, 각 친구가 1시간 동안 이동할 수 있는 거리가 담긴 배열 dist가 매개변수로 주어질 때, 취약 지점을 점검하기 위해 보내야 하는 친구 수의 최소값을 return 하도록 solution 함수를 완성해주세요.\n",
    "\n",
    "## 제한사항\n",
    "* n은 1 이상 200 이하인 자연수입니다.\n",
    "* weak의 길이는 1 이상 15 이하입니다.\n",
    "    * 서로 다른 두 취약점의 위치가 같은 경우는 주어지지 않습니다.\n",
    "    * 취약 지점의 위치는 오름차순으로 정렬되어 주어집니다.\n",
    "    * weak의 원소는 0 이상 n - 1 이하인 정수입니다.\n",
    "* dist의 길이는 1 이상 8 이하입니다.\n",
    "    * dist의 원소는 1 이상 100 이하인 자연수입니다.\n",
    "* 친구들을 모두 투입해도 취약 지점을 전부 점검할 수 없는 경우에는 -1을 return 해주세요.\n",
    "\n",
    "## 입출력 예\n",
    "|n|weak|dist|result|\n",
    "|:---:|:---:|:---:|\n",
    "|12|[1, 5, 6, 10]|[1, 2, 3, 4]|2|\n",
    "|12|[1, 3, 4, 9, 10]|[3, 5, 7]|1|\n",
    "\n",
    "## 입출력 예에 대한 설명\n",
    "### 입출력 예 #1\n",
    "원형 레스토랑에서 외벽의 취약 지점의 위치는 다음과 같습니다.\n",
    "\n",
    "![image1](/images/algorithm/programmers/외벽점검/image1.PNG)\n",
    "\n",
    "친구들을 투입하는 예시 중 하나는 다음과 같습니다.\n",
    "* 4m를 이동할 수 있는 친구는 10m 지점에서 출발해 시계방향으로 돌아 1m 위치에 있는 취약 지점에서 외벽 점검을 마칩니다.\n",
    "* 2m를 이동할 수 있는 친구는 4.5m 지점에서 출발해 6.5m 지점에서 외벽 점검을 마칩니다.\n",
    "그 외에 여러 방법들이 있지만, 두 명보다 적은 친구를 투입하는 방법은 없습니다. 따라서 친구를 최소 두 명 투입해야 합니다.\n",
    "\n",
    "### 입출력 예 #2\n",
    "원형 레스토랑에서 외벽의 취약 지점의 위치는 다음과 같습니다.\n",
    "\n",
    "![image1](/images/algorithm/programmers/외벽점검/image2.PNG)\n",
    "\n",
    "* 7m를 이동할 수 있는 친구가 4m 지점에서 출발해 반시계 방향으로 점검을 돌면 모든 취약 지점을 점검할 수 있습니다. 따라서 친구를 최소 한 명 투입하면 됩니다.\n"
   ]
  },
  {
   "cell_type": "code",
   "execution_count": 28,
   "id": "4725ef40",
   "metadata": {},
   "outputs": [],
   "source": [
    "from itertools import combinations\n",
    "\n",
    "def solution(n, weak, dist):\n",
    "    print(list(permutations(dist)))    \n",
    "    \n",
    "        \n",
    "                "
   ]
  },
  {
   "cell_type": "code",
   "execution_count": 29,
   "id": "c268d0fc",
   "metadata": {},
   "outputs": [
    {
     "name": "stdout",
     "output_type": "stream",
     "text": [
      "(1, 5)\n",
      "(1, 6)\n",
      "(1, 10)\n",
      "(5, 1)\n",
      "(5, 6)\n",
      "(5, 10)\n",
      "(6, 1)\n",
      "(6, 5)\n",
      "(6, 10)\n",
      "(10, 1)\n",
      "(10, 5)\n",
      "(10, 6)\n"
     ]
    }
   ],
   "source": [
    "from itertools import combinations_with_replacement\n",
    "a = [1,5,6,10]\n",
    "\n",
    "for i in list(permutations(a, 2)):\n",
    "    print(i)"
   ]
  },
  {
   "cell_type": "code",
   "execution_count": 30,
   "id": "81d85c47",
   "metadata": {},
   "outputs": [
    {
     "name": "stdout",
     "output_type": "stream",
     "text": [
      "[(1, 2, 3, 4), (1, 2, 4, 3), (1, 3, 2, 4), (1, 3, 4, 2), (1, 4, 2, 3), (1, 4, 3, 2), (2, 1, 3, 4), (2, 1, 4, 3), (2, 3, 1, 4), (2, 3, 4, 1), (2, 4, 1, 3), (2, 4, 3, 1), (3, 1, 2, 4), (3, 1, 4, 2), (3, 2, 1, 4), (3, 2, 4, 1), (3, 4, 1, 2), (3, 4, 2, 1), (4, 1, 2, 3), (4, 1, 3, 2), (4, 2, 1, 3), (4, 2, 3, 1), (4, 3, 1, 2), (4, 3, 2, 1)]\n",
      "None\n",
      "[(3, 5, 7), (3, 7, 5), (5, 3, 7), (5, 7, 3), (7, 3, 5), (7, 5, 3)]\n",
      "None\n"
     ]
    }
   ],
   "source": [
    "test_case = [[12, [1,5,6,10], [1,2,3,4]],[12, [1,3,4,9,10], [3,5,7]] ]\n",
    "\n",
    "for case in test_case:\n",
    "    print(solution(case[0], case[1], case[2]))"
   ]
  },
  {
   "cell_type": "code",
   "execution_count": null,
   "id": "5c1fe9ce",
   "metadata": {},
   "outputs": [],
   "source": []
  },
  {
   "cell_type": "markdown",
   "id": "a66d65b5",
   "metadata": {},
   "source": [
    "## 문제설명\n",
    "이 문제는 언뜻보면 복잡해보이지만, 가장 늦게 탑승하는 시간을 구하면 되기 때문에 마지막 버스만 생각해주면 된다. 만약 마지막 버스에 빈자리가 있다면 해당 버스가 출발하는 시간에 탑승하면 되고, 마지막 버스에 빈자리가 없다면 그 버스에 마지막으로 탑승한 크루보다 1분 먼저 오면 버스를 탑승할 수 있다.\n",
    "\n",
    "타임테이블을 정렬해준뒤, 버스 시간표를 딕셔너리로 만들어 딕셔너리 테이블을 하나의 버스로 놓고 크루들을 먼저 다 탑승시킨다. 그리고 마지막 버스만을 판별해서 위에 설명했던 것처럼 탑승 시간을 구해주면 된다."
   ]
  }
 ],
 "metadata": {
  "kernelspec": {
   "display_name": "Python 3",
   "language": "python",
   "name": "python3"
  },
  "language_info": {
   "codemirror_mode": {
    "name": "ipython",
    "version": 3
   },
   "file_extension": ".py",
   "mimetype": "text/x-python",
   "name": "python",
   "nbconvert_exporter": "python",
   "pygments_lexer": "ipython3",
   "version": "3.9.7"
  }
 },
 "nbformat": 4,
 "nbformat_minor": 5
}
