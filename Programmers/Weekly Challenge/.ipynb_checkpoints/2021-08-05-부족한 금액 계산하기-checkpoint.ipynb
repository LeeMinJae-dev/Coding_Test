{
 "cells": [
  {
   "cell_type": "markdown",
   "id": "88cca17b",
   "metadata": {},
   "source": [
    "---\n",
    "title : \"[Programmers] Weekly Challenge 1주차 (Python3)\"\n",
    "categories : programmers\n",
    "toc : true\n",
    "toc_sticky : ture\n",
    "toc_label : \"On this Page\"\n",
    "---\n",
    "\n",
    "## 문제 설명\n",
    "새로 생긴 놀이기구는 인기가 매우 많아 줄이 끊이질 않습니다. 이 놀이기구의 원래 이용료는 price원 인데, 놀이기구를 N 번 째 이용한다면 원래 이용료의 N배를 받기로 하였습니다. 즉, 처음 이용료가 100이었다면 2번째에는 200, 3번째에는 300으로 요금이 인상됩니다.\n",
    "\n",
    "놀이기구를 count번 타게 되면 현재 자신이 가지고 있는 금액에서 얼마가 모자라는지를 return 하도록 solution 함수를 완성하세요.   \n",
    "\n",
    "단, 금액이 부족하지 않으면 0을 return 하세요.\n",
    "\n",
    "## 제한사항\n",
    "놀이기구의 이용료 price : 1 ≤ price ≤ 2,500, price는 자연수    \n",
    "처음 가지고 있던 금액 money : 1 ≤ money ≤ 1,000,000,000, money는 자연수 \n",
    "놀이기구의 이용 횟수 count : 1 ≤ count ≤ 2,500, count는 자연수   \n",
    "\n",
    "## 입출력 예\n",
    "|price|\tmoney|\tcount|\tresult|\n",
    "|:---:|:---:|:---:|:---:|\n",
    "|3\t|20|\t4|\t10|\n",
    "\n",
    "## 입출력 예 설명\n",
    "입출력 예 #1    \n",
    "\n",
    "이용금액이 3인 놀이기구를 4번 타고 싶은 고객이 현재 가진 금액이 20이라면, 총 필요한 놀이기구의 이용 금액은 30 (= 3+6+9+12) 이 되어 10만큼 부족하므로 10을 return 합니다.\n",
    "\n",
    "## 참고 사항\n",
    "미션 언어는 Java, JavaScript, Python3, C++ 만 해당 됩니다.\n",
    "같은 코드를 제출한 사람이 여럿이라면 코드를 가장 먼저 제출한 분께 상품을 드립니다.\n",
    "좋아요 수가 동일할 경우 코드를 가장 먼저 제출한 분께 상품을 드립니다.\n",
    "\n",
    "## 문제 풀이\n",
    "문제자체는 난이도 하중에 하인데, 중요한건 문제를 푸는것 보다 어떻게 하면 코드를 간결화하거나 신박하게 풀 수 있는지에 의의를 두고 진행하는 챌린지다 보니까 이 쉬운 문제를 보고 생각을 많이 했다. 파이썬인 만큼 한줄로 풀고 싶어서 lambda를 사용하여 나름 파이써닉 하게 풀이를 냈다. 근데 자꾸 테스트 케이스 하나가 오류가 떠서 극단적인 케이스 값을 넣으면서 시간을 더 썼는데, 다시보니까 금액이 안부족하면 0을 return 하라고 되어있었다... 너무 쉽다고 무시해서 문제를 제대로 안 읽었나... "
   ]
  },
  {
   "cell_type": "code",
   "execution_count": 90,
   "id": "34907ae2",
   "metadata": {},
   "outputs": [],
   "source": [
    "def solution(price, money, count):\n",
    "    return max(0,sum(list(map(lambda x: x*price,range(1,count+1))))-money)"
   ]
  },
  {
   "cell_type": "code",
   "execution_count": 92,
   "id": "a5f3b39a",
   "metadata": {},
   "outputs": [
    {
     "data": {
      "text/plain": [
       "10"
      ]
     },
     "execution_count": 92,
     "metadata": {},
     "output_type": "execute_result"
    }
   ],
   "source": [
    "solution(3,20,4)"
   ]
  },
  {
   "cell_type": "markdown",
   "id": "d7f30d07",
   "metadata": {},
   "source": [
    "## 노트 \n",
    "나름 한줄로 간결하게 풀었다고 생각했는데 역시나 더 간결하게 푼사람이 있었다.\n",
    "역시 이런거 보면 알고리즘은 수학이 중요한지도...   \n",
    "1부터 n까지의 총합은 어차피 시작이 무조건 1이고 n이 더해야할 숫자의 개수이므로 n*(n+1)/2라고 할 수 있다. 그러면 이 총합에다가 price를 곱해서 money를 빼주면 바로 이 문제를 풀이할 수 있다. 아마 이 사람이 상품 타갈 것 같긴한데, 다음주에 빠르게 문제 풀면 상품 받기 크게 어렵지 않을지도...?"
   ]
  },
  {
   "cell_type": "code",
   "execution_count": 93,
   "id": "4f9555e9",
   "metadata": {},
   "outputs": [],
   "source": [
    "def solution(price, money, count):\n",
    "    return max(0,price*(count+1)*count//2-money)\n"
   ]
  }
 ],
 "metadata": {
  "kernelspec": {
   "display_name": "Python 3",
   "language": "python",
   "name": "python3"
  },
  "language_info": {
   "codemirror_mode": {
    "name": "ipython",
    "version": 3
   },
   "file_extension": ".py",
   "mimetype": "text/x-python",
   "name": "python",
   "nbconvert_exporter": "python",
   "pygments_lexer": "ipython3",
   "version": "3.8.8"
  }
 },
 "nbformat": 4,
 "nbformat_minor": 5
}
