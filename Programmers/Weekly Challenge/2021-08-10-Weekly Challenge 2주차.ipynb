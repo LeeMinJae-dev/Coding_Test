{
 "cells": [
  {
   "cell_type": "markdown",
   "id": "28162311",
   "metadata": {},
   "source": [
    "---\n",
    "title : \"[Programmers] Weekly Challenge 2주차 (Python3)\"\n",
    "categories : programmers\n",
    "toc : true\n",
    "toc_sticky : ture\n",
    "toc_label : \"On this Page\"\n",
    "---\n",
    "## 문제 \n",
    "대학 교수인 당신은, 상호평가를 통하여 학생들이 제출한 과제물에 학점을 부여하려고 합니다. 아래는 0번부터 4번까지 번호가 매겨진 5명의 학생들이 자신과 다른 학생의 과제를 평가한 점수표입니다.\n",
    "\n",
    "|No.\t|0\t|1\t|2\t|3\t|4|\n",
    "|:---:|:---:|:---:|:---:|:---:|:---:|\n",
    "|0\t|100\t|90\t|98\t|88|\t65|    \n",
    "|1\t|50|\t45|\t99|\t85|\t77|    \n",
    "|2\t|47\t|88\t|95\t|80\t|67|   \n",
    "|3\t|61|\t57|\t100|\t80|\t65|    \n",
    "|4|\t24|\t90|\t94|\t75|\t65|     \n",
    "|평균|\t45.5|\t81.25|\t97.2|\t81.6|\t67.8|\n",
    "|학점\t|F\t|B\t|A\t|B\t|D|\n",
    "\n",
    "위의 점수표에서, i행 j열의 값은 i번 학생이 평가한 j번 학생의 과제 점수입니다.\n",
    "\n",
    "* 0번 학생이 평가한 점수는 0번 행에담긴 [100, 90, 98, 88, 65]입니다.\n",
    " * 0번 학생은 자기 자신에게 100점, 1번 학생에게 90점, 2번 학생에게 98점, 3번 학생에게 88점, 4번 학생에게 65점을 부여했습니다.\n",
    "* 2번 학생이 평가한 점수는 2번 행에담긴 [47, 88, 95, 80, 67]입니다.\n",
    " * 2번 학생은 0번 학생에게 47점, 1번 학생에게 88점, 자기 자신에게 95점, 3번 학생에게 80점, 4번 학생에게 67점을 부여했습니다.\n",
    "당신은 각 학생들이 받은 점수의 평균을 구하여, 기준에 따라 학점을 부여하려고 합니다.   \n",
    "만약, 학생들이 자기 자신을 평가한 점수가 유일한 최고점 또는 유일한 최저점이라면 그 점수는 제외하고 평균을 구합니다.\n",
    "\n",
    "* 0번 학생이 받은 점수는 0번 열에 담긴 [100, 50, 47, 61, 24]입니다. 자기 자신을 평가한 100점은 자신이 받은 점수 중에서 유일한 최고점이므로, 평균을 구할 때 제외합니다.\n",
    " * 0번 학생의 평균 점수는 (50+47+61+24) / 4 = 45.5입니다.\n",
    "* 4번 학생이 받은 점수는 4번 열에 담긴 [65, 77, 67, 65, 65]입니다. 자기 자신을 평가한 65점은 자신이 받은 점수 중에서 최저점이지만 같은 점수가 2개 더 있으므로, 유일한 최저점이 아닙니다. 따라서, 평균을 구할 때 제외하지 않습니다.\n",
    " * 4번 학생의 평균 점수는 (65+77+67+65+65) / 5 = 67.8입니다.\n",
    "\n",
    "제외할 점수는 제외하고 평균을 구한 후, 아래 기준에 따라 학점을 부여합니다.\n",
    "\n",
    "|평균|\t학점|\n",
    "|:---:|:---:|\n",
    "|90점 이상|\tA|\n",
    "|80점 이상 90점 미만|\tB|\n",
    "|70점 이상 80점 미만|\tC|\n",
    "|50점 이상 70점 미만|\tD|\n",
    "|50점 미만|\tF|\n",
    "\n",
    "학생들의 점수가 담긴 정수형 2차원 배열 scores가 매개변수로 주어집니다. 이때, 학생들의 학점을 구하여 하나의 문자열로 만들어서 return 하도록 solution 함수를 완성해주세요.\n",
    "\n",
    "## 제한사항\n",
    "* 2 ≤ scores의 행의 길이(학생 수) ≤ 10\n",
    "* scores의 열의 길이 = scores의 행의 길이\n",
    " * 즉, scores는 행과 열의 길이가 같은 2차원 배열입니다.\n",
    "* 0 ≤ scores의 원소 ≤ 100\n",
    "* return 값 형식\n",
    " * 0번 학생의 학점부터 차례대로 이어 붙인 하나의 문자열을 return 합니다.\n",
    "\n",
    "## 입출력 예\n",
    "|scores|\tresult|\n",
    "|:---:|:---:|\n",
    "|[[100,90,98,88,65],[50,45,99,85,77],[47,88,95,80,67],[61,57,100,80,65],[24,90,94,75,65]]|\t\"FBABD\"|\n",
    "|[[50,90],[50,87]]|\t\"DA\"|\n",
    "|[[70,49,90],[68,50,38],[73,31,100]]|\t\"CFD\"|\n",
    "\n",
    "## 입출력 예 설명\n",
    "입출력 예 #1\n",
    "문제 예시와 같습니다.\n",
    "\n",
    "입출력 예 #2   \n",
    "No.\t0\t1   \n",
    "0\t50\t90   \n",
    "1\t50\t87   \n",
    "평균\t50\t90   \n",
    "학점\tD\tA   \n",
    "\n",
    "1번 학생이 자기 자신을 평가한 87점은 [90, 87]에서 유일한 최저점이므로, 평균을 구할 때 제외합니다.\n",
    "\n",
    "입출력 예 #3\n",
    "No.\t0\t1\t2   \n",
    "0\t70\t49\t90   \n",
    "1\t68\t50\t38   \n",
    "2\t73\t31\t100   \n",
    "평균\t70.33…\t40\t64   \n",
    "학점\tC\tF\tD    \n",
    "\n",
    "1번 학생이 자기 자신을 평가한 50점은 [49, 50, 31]에서 유일한 최고점이므로, 평균을 구할 때 제외합니다.    \n",
    "2번 학생이 자기 자신을 평가한 100점은 [90, 38, 100]에서 유일한 최고점이므로, 평균을 구할 때 제외합니다.    \n",
    "\n",
    "## 문제풀이 \n",
    "역시나 코드를 줄이는게 관건인 위클리 챌린지인"
   ]
  },
  {
   "cell_type": "code",
   "execution_count": 37,
   "id": "a5fe2aba",
   "metadata": {},
   "outputs": [],
   "source": [
    "def solution(scores):\n",
    "    result = []\n",
    "    student = [[]for _ in range(len(scores))]\n",
    "    for i,score in enumerate(scores):\n",
    "        #print(score[i])\n",
    "        for k,j in enumerate(score):\n",
    "            student[k].append(j)\n",
    "    for i,stu in enumerate(student):\n",
    "        if stu[i] == max(stu) or stu[i] == min(stu):\n",
    "            stu.remove(stu[i])\n",
    "\n",
    "    print(student)\n",
    "    for i in student:\n",
    "        aver = sum(i)/len(i)\n",
    "        if 90<=aver:\n",
    "            result.append('A')\n",
    "        elif 80 <= aver <90:\n",
    "            result.append('B')\n",
    "        elif 70 <= aver <80:\n",
    "            result.append('C')    \n",
    "        elif 50 <= aver <70:\n",
    "            result.append('D')\n",
    "        else:\n",
    "            result.append('F')\n",
    "    return \"\".join(result)"
   ]
  },
  {
   "cell_type": "code",
   "execution_count": 38,
   "id": "bde02209",
   "metadata": {},
   "outputs": [
    {
     "name": "stdout",
     "output_type": "stream",
     "text": [
      "[[50, 47, 61, 24], [90, 88, 57, 90], [98, 99, 95, 100, 94], [88, 85, 80, 80, 75], [77, 67, 65, 65]]\n"
     ]
    },
    {
     "data": {
      "text/plain": [
       "'FBABD'"
      ]
     },
     "execution_count": 38,
     "metadata": {},
     "output_type": "execute_result"
    }
   ],
   "source": [
    "solution([[100,90,98,88,65],[50,45,99,85,77],[47,88,95,80,67],[61,57,100,80,65],[24,90,94,75,65]])"
   ]
  },
  {
   "cell_type": "code",
   "execution_count": null,
   "id": "b0475975",
   "metadata": {},
   "outputs": [],
   "source": []
  }
 ],
 "metadata": {
  "kernelspec": {
   "display_name": "Python 3",
   "language": "python",
   "name": "python3"
  },
  "language_info": {
   "codemirror_mode": {
    "name": "ipython",
    "version": 3
   },
   "file_extension": ".py",
   "mimetype": "text/x-python",
   "name": "python",
   "nbconvert_exporter": "python",
   "pygments_lexer": "ipython3",
   "version": "3.8.8"
  }
 },
 "nbformat": 4,
 "nbformat_minor": 5
}
