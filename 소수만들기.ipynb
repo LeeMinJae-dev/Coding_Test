{
 "cells": [
  {
   "cell_type": "code",
   "execution_count": 1,
   "id": "f2cbd5f4",
   "metadata": {},
   "outputs": [],
   "source": [
    "def solution(nums):\n",
    "    a=[]\n",
    "    answer = 0\n",
    "    for i in range(0, len(nums)-2):\n",
    "        for j in range(i+1, len(nums)-1):\n",
    "            for k in range(j+1, len(nums)):\n",
    "                num = (nums[i]+nums[j]+nums[k])\n",
    "                for h in range(2,num):\n",
    "                    a.append(num%h)\n",
    "                if(a.count(0) ==0):\n",
    "                    answer+= 1\n",
    "                    a.clear()\n",
    "                else:\n",
    "                    a.clear()\n",
    "                    \n",
    "    \n",
    "        \n",
    "    return answer"
   ]
  },
  {
   "cell_type": "code",
   "execution_count": null,
   "id": "1cfc306f",
   "metadata": {},
   "outputs": [],
   "source": []
  }
 ],
 "metadata": {
  "kernelspec": {
   "display_name": "Python 3",
   "language": "python",
   "name": "python3"
  },
  "language_info": {
   "codemirror_mode": {
    "name": "ipython",
    "version": 3
   },
   "file_extension": ".py",
   "mimetype": "text/x-python",
   "name": "python",
   "nbconvert_exporter": "python",
   "pygments_lexer": "ipython3",
   "version": "3.8.8"
  }
 },
 "nbformat": 4,
 "nbformat_minor": 5
}
