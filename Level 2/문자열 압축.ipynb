{
 "cells": [
  {
   "cell_type": "markdown",
   "id": "9e85ac13",
   "metadata": {},
   "source": [
    "## 문제 설명\n",
    "데이터 처리 전문가가 되고 싶은 \"어피치\"는 문자열을 압축하는 방법에 대해 공부를 하고 있습니다. 최근에 대량의 데이터 처리를 위한 간단한 비손실 압축 방법에 대해 공부를 하고 있는데, 문자열에서 같은 값이 연속해서 나타나는 것을 그 문자의 개수와 반복되는 값으로 표현하여 더 짧은 문자열로 줄여서 표현하는 알고리즘을 공부하고 있습니다.\n",
    "간단한 예로 \"aabbaccc\"의 경우 \"2a2ba3c\"(문자가 반복되지 않아 한번만 나타난 경우 1은 생략함)와 같이 표현할 수 있는데, 이러한 방식은 반복되는 문자가 적은 경우 압축률이 낮다는 단점이 있습니다. 예를 들면, \"abcabcdede\"와 같은 문자열은 전혀 압축되지 않습니다. \"어피치\"는 이러한 단점을 해결하기 위해 문자열을 1개 이상의 단위로 잘라서 압축하여 더 짧은 문자열로 표현할 수 있는지 방법을 찾아보려고 합니다.\n",
    "예를 들어, \"ababcdcdababcdcd\"의 경우 문자를 1개 단위로 자르면 전혀 압축되지 않지만, 2개 단위로 잘라서 압축한다면 \"2ab2cd2ab2cd\"로 표현할 수 있습니다. 다른 방법으로 8개 단위로 잘라서 압축한다면 \"2ababcdcd\"로 표현할 수 있으며, 이때가 가장 짧게 압축하여 표현할 수 있는 방법입니다.\n",
    "다른 예로, \"abcabcdede\"와 같은 경우, 문자를 2개 단위로 잘라서 압축하면 \"abcabc2de\"가 되지만, 3개 단위로 자른다면 \"2abcdede\"가 되어 3개 단위가 가장 짧은 압축 방법이 됩니다. 이때 3개 단위로 자르고 마지막에 남는 문자열은 그대로 붙여주면 됩니다.\n",
    "압축할 문자열 s가 매개변수로 주어질 때, 위에 설명한 방법으로 1개 이상 단위로 문자열을 잘라 압축하여 표현한 문자열 중 가장 짧은 것의 길이를 return 하도록 solution 함수를 완성해주세요.\n",
    "\n",
    "## 제한사항\n",
    "    s의 길이는 1 이상 1,000 이하입니다.\n",
    "    s는 알파벳 소문자로만 이루어져 있습니다.\n",
    "\n",
    "## 입출력 예\n",
    "```\n",
    "s\t                         result\n",
    "\"aabbaccc\"\t                 7\n",
    "\"ababcdcdababcdcd\"\t         9\n",
    "\"abcabcdede\"\t             8\n",
    "\"abcabcabcabcdededededede\"\t 14\n",
    "\"xababcdcdababcdcd\"\t         17\n",
    "```\n",
    "## 입출력 예에 대한 설명\n",
    "입출력 예 #1\n",
    "    문자열을 1개 단위로 잘라 압축했을 때 가장 짧습니다.\n",
    "\n",
    "입출력 예 #2\n",
    "    문자열을 8개 단위로 잘라 압축했을 때 가장 짧습니다.\n",
    "\n",
    "입출력 예 #3\n",
    "    문자열을 3개 단위로 잘라 압축했을 때 가장 짧습니다.\n",
    "\n",
    "입출력 예 #4\n",
    "    문자열을 2개 단위로 자르면 \"abcabcabcabc6de\" 가 됩니다.\n",
    "    문자열을 3개 단위로 자르면 \"4abcdededededede\" 가 됩니다.\n",
    "    문자열을 4개 단위로 자르면 \"abcabcabcabc3dede\" 가 됩니다.\n",
    "    문자열을 6개 단위로 자를 경우 \"2abcabc2dedede\"가 되며, \n",
    "    이때의 길이가 14로 가장 짧습니다.\n",
    "    \n",
    "입출력 예 #5\n",
    "    문자열은 제일 앞부터 정해진 길이만큼 잘라야 합니다.\n",
    "    따라서 주어진 문자열을 x / ababcdcd / ababcdcd 로 \n",
    "    자르는 것은 불가능 합니다.\n",
    "    이 경우 어떻게 문자열을 잘라도 압축되지 않으므로 가장 짧은 길이는 17이 됩니다.\n"
   ]
  },
  {
   "cell_type": "code",
   "execution_count": 496,
   "id": "007a57f9",
   "metadata": {},
   "outputs": [],
   "source": [
    "s = \"avcavcdede\""
   ]
  },
  {
   "cell_type": "code",
   "execution_count": 512,
   "id": "cab8ce53",
   "metadata": {},
   "outputs": [],
   "source": [
    "import re\n",
    "\n",
    "def solution(s):\n",
    "   \n",
    "    strlist = []\n",
    "    if len(s) == 1:\n",
    "        return 1\n",
    "    for i in range(1,len(s)//2+1):\n",
    "        result = \"\"\n",
    "                \n",
    "        temp = s[:i]\n",
    "        num = 1\n",
    "        for j in range(i,len(s),i):\n",
    "            if s[j:j+i] == temp:\n",
    "                num += 1\n",
    "\n",
    "            else:\n",
    "                if num == 1:\n",
    "                    num = \"\"\n",
    "                result += str(num)+temp\n",
    "                temp = s[j:j+i]\n",
    "                num = 1\n",
    "\n",
    "        if num == 1:\n",
    "            num = \"\"\n",
    "        result += str(num)+temp\n",
    "        strlist.append(len(result))\n",
    "        temp = \"\"\n",
    "      \n",
    "                \n",
    "            \n",
    "    \n",
    "        \n",
    "    return min(strlist)"
   ]
  },
  {
   "cell_type": "code",
   "execution_count": 513,
   "id": "cdbe7b37",
   "metadata": {},
   "outputs": [
    {
     "data": {
      "text/plain": [
       "['avcavcdede', 'avcavc2de', '2avcdede', 'avcavcdede', 'avcavcdede']"
      ]
     },
     "execution_count": 513,
     "metadata": {},
     "output_type": "execute_result"
    }
   ],
   "source": [
    "solution(s)"
   ]
  },
  {
   "cell_type": "code",
   "execution_count": 443,
   "id": "451e484e",
   "metadata": {},
   "outputs": [],
   "source": [
    "def solution2(s):\n",
    "    for i in range(len(s)):\n",
    "        a.append(a[0:len(s)%1])\n",
    "    "
   ]
  },
  {
   "cell_type": "code",
   "execution_count": 109,
   "id": "66db8613",
   "metadata": {},
   "outputs": [],
   "source": [
    "spl = re.findall('[a-z]{'+str(3)+'}',s)"
   ]
  },
  {
   "cell_type": "code",
   "execution_count": 115,
   "id": "1382793c",
   "metadata": {},
   "outputs": [
    {
     "ename": "TypeError",
     "evalue": "must be str or None, not int",
     "output_type": "error",
     "traceback": [
      "\u001b[0;31m---------------------------------------------------------------------------\u001b[0m",
      "\u001b[0;31mTypeError\u001b[0m                                 Traceback (most recent call last)",
      "\u001b[0;32m<ipython-input-115-ce426d35aaa7>\u001b[0m in \u001b[0;36m<module>\u001b[0;34m\u001b[0m\n\u001b[0;32m----> 1\u001b[0;31m \u001b[0;34m'absd'\u001b[0m\u001b[0;34m.\u001b[0m\u001b[0msplit\u001b[0m\u001b[0;34m(\u001b[0m\u001b[0;36m2\u001b[0m\u001b[0;34m)\u001b[0m\u001b[0;34m\u001b[0m\u001b[0;34m\u001b[0m\u001b[0m\n\u001b[0m",
      "\u001b[0;31mTypeError\u001b[0m: must be str or None, not int"
     ]
    }
   ],
   "source": [
    "'absd'.split(2)"
   ]
  },
  {
   "cell_type": "code",
   "execution_count": 211,
   "id": "0d2515cb",
   "metadata": {},
   "outputs": [
    {
     "data": {
      "text/plain": [
       "1"
      ]
     },
     "execution_count": 211,
     "metadata": {},
     "output_type": "execute_result"
    }
   ],
   "source": [
    "s = 'sear'\n",
    "s.count(s)\n"
   ]
  },
  {
   "cell_type": "code",
   "execution_count": 396,
   "id": "f38f15d2",
   "metadata": {},
   "outputs": [
    {
     "data": {
      "text/plain": [
       "['1', '2', '3', '4']"
      ]
     },
     "execution_count": 396,
     "metadata": {},
     "output_type": "execute_result"
    }
   ],
   "source": [
    "a = '1234'\n",
    "list(a)"
   ]
  },
  {
   "cell_type": "code",
   "execution_count": 508,
   "id": "550a5590",
   "metadata": {},
   "outputs": [],
   "source": [
    "def cut_str(s):\n",
    "    length =[]\n",
    "    result = \"\"\n",
    "    \n",
    "    if len(s)==1:  #문자열 길이가 1이면 결과는 무조건 1 \n",
    "         return 1\n",
    "    for cut in range(1, len(s)//2+1): \n",
    "        result = \"\"#1 부터 문자열의 절반까지 자르며 비교해야하기떄문에\n",
    "        temp = s[:cut]     #초기값 설정\n",
    "        num = 1\n",
    "        for i in range(cut, len(s), cut): #정해진 길이를 문자열 s의 길이까지 정해진 길이 스텝으로 반복\n",
    "            if s[i:i+cut] == temp:    #만약 다음으로 자른값과 같을경우\n",
    "                num+=1      #숫자 올려줌 (문자열 앞에 붙을 숫자)\n",
    "            else:       #다를 경우\n",
    "                if num == 1:  #숫자가 1 이면 문자열에 붙지 않으므로 없애줌\n",
    "                    num=\"\"\n",
    "                result += str(num)+temp   #결과값에 숫자와 temp에 저장된 값을 저장\n",
    "                temp = s[i:i+cut]   #temp값을 변경\n",
    "                num=1       #숫자 다시 초기화\n",
    "        if num == 1:  #else로 끝날을때만 저장이 되므로 반복\n",
    "            num=\"\"\n",
    "        result +=str(num)+temp\n",
    "        length.append(result)\n",
    "        temp=\"\"\n",
    "    return length #최소값을 반환"
   ]
  },
  {
   "cell_type": "code",
   "execution_count": 509,
   "id": "8b561201",
   "metadata": {},
   "outputs": [
    {
     "data": {
      "text/plain": [
       "['avcavcdede', 'avcavc2de', '2avcdede', 'avcavcdede', 'avcavcdede']"
      ]
     },
     "execution_count": 509,
     "metadata": {},
     "output_type": "execute_result"
    }
   ],
   "source": [
    "cut_str(s)"
   ]
  },
  {
   "cell_type": "code",
   "execution_count": null,
   "id": "93f65a30",
   "metadata": {},
   "outputs": [],
   "source": []
  }
 ],
 "metadata": {
  "kernelspec": {
   "display_name": "Python 3",
   "language": "python",
   "name": "python3"
  },
  "language_info": {
   "codemirror_mode": {
    "name": "ipython",
    "version": 3
   },
   "file_extension": ".py",
   "mimetype": "text/x-python",
   "name": "python",
   "nbconvert_exporter": "python",
   "pygments_lexer": "ipython3",
   "version": "3.8.8"
  }
 },
 "nbformat": 4,
 "nbformat_minor": 5
}
