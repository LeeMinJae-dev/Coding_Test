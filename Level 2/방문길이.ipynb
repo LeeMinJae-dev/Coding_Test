{
 "cells": [
  {
   "cell_type": "markdown",
   "id": "3d0be64f",
   "metadata": {},
   "source": [
    "문제 설명\n",
    "\n",
    "게임 캐릭터를 4가지 명령어를 통해 움직이려 합니다. 명령어는 다음과 같습니다.\n",
    "\n",
    "* U: 위쪽으로 한 칸 가기\n",
    "* D: 아래쪽으로 한 칸 가기\n",
    "* R: 오른쪽으로 한 칸 가기\n",
    "* L: 왼쪽으로 한 칸 가기\n",
    "\n",
    "캐릭터는 좌표평면의 (0, 0) 위치에서 시작합니다. 좌표평면의 경계는 왼쪽 위(-5, 5), 왼쪽 아래(-5, -5), 오른쪽 위(5, 5), 오른쪽 아래(5, -5)로 이루어져 있습니다.\n",
    "\n",
    "방문길이1_qpp9l3.png\n",
    "\n",
    "예를 들어, \"ULURRDLLU\"로 명령했다면\n",
    "\n",
    "방문길이2_lezmdo.png\n",
    "\n",
    "1번 명령어부터 7번 명령어까지 다음과 같이 움직입니다.\n",
    "\n",
    "방문길이3_sootjd.png\n",
    "\n",
    "8번 명령어부터 9번 명령어까지 다음과 같이 움직입니다.\n",
    "\n",
    "방문길이4_hlpiej.png\n",
    "\n",
    "이때, 우리는 게임 캐릭터가 지나간 길 중 캐릭터가 처음 걸어본 길의 길이를 구하려고 합니다. 예를 들어 위의 예시에서 게임 캐릭터가 움직인 길이는 9이지만, 캐릭터가 처음 걸어본 길의 길이는 7이 됩니다. (8, 9번 명령어에서 움직인 길은 2, 3번 명령어에서 이미 거쳐 간 길입니다)\n",
    "\n",
    "단, 좌표평면의 경계를 넘어가는 명령어는 무시합니다.\n",
    "\n",
    "예를 들어, \"LULLLLLLU\"로 명령했다면\n",
    "방문길이5_nitjwj.png\n",
    "\n",
    "* 1번 명령어부터 6번 명령어대로 움직인 후, 7, 8번 명령어는 무시합니다. 다시 9번 명령어대로 움직입니다.\n",
    "\n",
    "방문길이6_nzhumd.png\n",
    "\n",
    "이때 캐릭터가 처음 걸어본 길의 길이는 7이 됩니다.\n",
    "명령어가 매개변수 dirs로 주어질 때, 게임 캐릭터가 처음 걸어본 길의 길이를 구하여 return 하는 solution 함수를 완성해 주세요.\n",
    "\n",
    "## 제한사항\n",
    "dirs는 string형으로 주어지며, 'U', 'D', 'R', 'L' 이외에 문자는 주어지지 않습니다.\n",
    "dirs의 길이는 500 이하의 자연수입니다.\n",
    "\n",
    "## 입출력 예\n",
    "\n",
    "    dirs\t      answer\n",
    "    \"ULURRDLLU\"\t  7\n",
    "    \"LULLLLLLU\"\t  7\n",
    "    \n",
    "https://programmers.co.kr/learn/courses/30/lessons/49994?language=python3\n"
   ]
  },
  {
   "cell_type": "code",
   "execution_count": 252,
   "id": "02261ada",
   "metadata": {},
   "outputs": [],
   "source": [
    "dirs = \"LULLLLLLU\""
   ]
  },
  {
   "cell_type": "code",
   "execution_count": 271,
   "id": "bbdb6f4e",
   "metadata": {},
   "outputs": [],
   "source": [
    "def solution(dirs):\n",
    "    nx,ny,x,y = 0,0,0,0\n",
    "    result = set()\n",
    "    answer = 0\n",
    "    for i in dirs:\n",
    "        print(i)\n",
    "        if i == 'U':\n",
    "            if ny == 5:\n",
    "                continue\n",
    "            else:\n",
    "                ny+=1\n",
    "        if i == 'D':\n",
    "            if ny == -5:\n",
    "                continue\n",
    "            else:\n",
    "                ny-= 1\n",
    "        if i == 'R':\n",
    "            if nx == 5:\n",
    "                continue\n",
    "            else:\n",
    "                nx+=1\n",
    "        if i == 'L':\n",
    "            if nx == -5:\n",
    "                continue\n",
    "            else:\n",
    "                nx-=1\n",
    "        if (nx,ny,x,y) not in result:\n",
    "            result.add((nx,ny,x,y))\n",
    "            result.add((x,y,nx,ny))\n",
    "            \n",
    "            answer+=1\n",
    "            \n",
    "        x,y = nx, ny\n",
    "        \n",
    "    return answer\n",
    "    "
   ]
  },
  {
   "cell_type": "code",
   "execution_count": 272,
   "id": "a5480023",
   "metadata": {},
   "outputs": [
    {
     "name": "stdout",
     "output_type": "stream",
     "text": [
      "L\n",
      "(-1, 0, 0, 0)\n",
      "U\n",
      "(-1, 1, -1, 0)\n",
      "L\n",
      "(-2, 1, -1, 1)\n",
      "L\n",
      "(-3, 1, -2, 1)\n",
      "L\n",
      "(-4, 1, -3, 1)\n",
      "L\n",
      "(-5, 1, -4, 1)\n",
      "L\n",
      "L\n",
      "U\n",
      "(-5, 2, -5, 1)\n"
     ]
    },
    {
     "data": {
      "text/plain": [
       "7"
      ]
     },
     "execution_count": 272,
     "metadata": {},
     "output_type": "execute_result"
    }
   ],
   "source": [
    "solution(dirs)"
   ]
  },
  {
   "cell_type": "code",
   "execution_count": 225,
   "id": "fe641e80",
   "metadata": {},
   "outputs": [],
   "source": [
    "a = set()"
   ]
  },
  {
   "cell_type": "code",
   "execution_count": 227,
   "id": "9703d2b8",
   "metadata": {},
   "outputs": [],
   "source": [
    "a.add((1,2))\n",
    "a.add((3,4))"
   ]
  },
  {
   "cell_type": "code",
   "execution_count": 229,
   "id": "7e12c560",
   "metadata": {},
   "outputs": [
    {
     "name": "stdout",
     "output_type": "stream",
     "text": [
      "d\n",
      "i\n",
      "r\n",
      "d\n"
     ]
    }
   ],
   "source": [
    "for i in \"dird\":\n",
    "    print(i)"
   ]
  },
  {
   "cell_type": "code",
   "execution_count": null,
   "id": "61af2071",
   "metadata": {},
   "outputs": [],
   "source": []
  }
 ],
 "metadata": {
  "kernelspec": {
   "display_name": "Python 3",
   "language": "python",
   "name": "python3"
  },
  "language_info": {
   "codemirror_mode": {
    "name": "ipython",
    "version": 3
   },
   "file_extension": ".py",
   "mimetype": "text/x-python",
   "name": "python",
   "nbconvert_exporter": "python",
   "pygments_lexer": "ipython3",
   "version": "3.8.8"
  }
 },
 "nbformat": 4,
 "nbformat_minor": 5
}
