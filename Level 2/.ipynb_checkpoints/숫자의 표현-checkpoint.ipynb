{
 "cells": [
  {
   "cell_type": "markdown",
   "id": "901a1d3b",
   "metadata": {},
   "source": [
    "\n",
    "## 문제 설명\n",
    "Finn은 요즘 수학공부에 빠져 있습니다. 수학 공부를 하던 Finn은 자연수 n을 연속한 자연수들로 표현 하는 방법이 여러개라는 사실을 알게 되었습니다. 예를들어 15는 다음과 같이 4가지로 표현 할 수 있습니다.\n",
    "```\n",
    "    1 + 2 + 3 + 4 + 5 = 15\n",
    "    4 + 5 + 6 = 15\n",
    "    7 + 8 = 15\n",
    "    15 = 15\n",
    "```\n",
    "자연수 n이 매개변수로 주어질 때, 연속된 자연수들로 n을 표현하는 방법의 수를 return하는 solution를 완성해주세요.\n",
    "\n",
    "## 제한사항\n",
    "n은 10,000 이하의 자연수 입니다.\n",
    "\n",
    "## 입출력 예\n",
    "```\n",
    "n\tresult\n",
    "15\t4\n",
    "```\n",
    "## 입출력 예 설명\n",
    "입출력 예#1\n",
    "문제의 예시와 같습니다"
   ]
  },
  {
   "cell_type": "code",
   "execution_count": 26,
   "id": "a1b4eacd",
   "metadata": {},
   "outputs": [],
   "source": [
    "n = 30\n"
   ]
  },
  {
   "cell_type": "code",
   "execution_count": 38,
   "id": "84670fbd",
   "metadata": {},
   "outputs": [],
   "source": [
    "def solution(n):\n",
    "    answer = 0\n",
    "    for i in range(n+1):\n",
    "        result = 0\n",
    "        for j in range(i,n+1):\n",
    "            result += j\n",
    "            if result == n:\n",
    "                answer+=1\n",
    "                break\n",
    "            elif result > n:\n",
    "                break\n",
    "    return answer\n"
   ]
  },
  {
   "cell_type": "code",
   "execution_count": 39,
   "id": "866de859",
   "metadata": {},
   "outputs": [
    {
     "data": {
      "text/plain": [
       "4"
      ]
     },
     "execution_count": 39,
     "metadata": {},
     "output_type": "execute_result"
    }
   ],
   "source": [
    "solution(n)"
   ]
  },
  {
   "cell_type": "code",
   "execution_count": null,
   "id": "5f8f3032",
   "metadata": {},
   "outputs": [],
   "source": []
  }
 ],
 "metadata": {
  "kernelspec": {
   "display_name": "Python 3",
   "language": "python",
   "name": "python3"
  },
  "language_info": {
   "codemirror_mode": {
    "name": "ipython",
    "version": 3
   },
   "file_extension": ".py",
   "mimetype": "text/x-python",
   "name": "python",
   "nbconvert_exporter": "python",
   "pygments_lexer": "ipython3",
   "version": "3.8.8"
  }
 },
 "nbformat": 4,
 "nbformat_minor": 5
}
