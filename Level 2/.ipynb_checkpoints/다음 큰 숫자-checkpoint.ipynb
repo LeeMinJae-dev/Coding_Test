{
 "cells": [
  {
   "cell_type": "markdown",
   "id": "d158015d",
   "metadata": {},
   "source": [
    "## 문제 설명\n",
    "자연수 n이 주어졌을 때, n의 다음 큰 숫자는 다음과 같이 정의 합니다.\n",
    "\n",
    "    조건 1. n의 다음 큰 숫자는 n보다 큰 자연수 입니다.\n",
    "    조건 2. n의 다음 큰 숫자와 n은 2진수로 변환했을 때 1의 갯수가 같습니다.\n",
    "    조건 3. n의 다음 큰 숫자는 조건 1, 2를 만족하는 수 중 가장 작은 수 입니다.\n",
    "예를 들어서 78(1001110)의 다음 큰 숫자는 83(1010011)입니다.\n",
    "자연수 n이 매개변수로 주어질 때, n의 다음 큰 숫자를 return 하는 solution 함수를 완성해주세요.\n",
    "\n",
    "## 제한 사항\n",
    "n은 1,000,000 이하의 자연수 입니다.\n",
    "\n",
    "## 입출력 예\n",
    "```\n",
    "n\tresult\n",
    "78\t83\n",
    "15\t23\n",
    "```\n",
    "\n",
    "## 입출력 예 설명\n",
    "입출력 예#1\n",
    "문제 예시와 같습니다.\n",
    "\n",
    "입출력 예#2\n",
    "15(1111)의 다음 큰 숫자는 23(10111)입니다."
   ]
  },
  {
   "cell_type": "code",
   "execution_count": 1,
   "id": "2e86f14d",
   "metadata": {},
   "outputs": [],
   "source": [
    "n = 78"
   ]
  },
  {
   "cell_type": "code",
   "execution_count": 11,
   "id": "0220cc9e",
   "metadata": {},
   "outputs": [],
   "source": [
    "def solution(n):\n",
    "    for i in range(n+1,1000000):\n",
    "        if list(bin(n))[2:].count('1') == list(bin(i)).count('1'):\n",
    "            return i"
   ]
  },
  {
   "cell_type": "code",
   "execution_count": 12,
   "id": "08d287d4",
   "metadata": {},
   "outputs": [
    {
     "data": {
      "text/plain": [
       "83"
      ]
     },
     "execution_count": 12,
     "metadata": {},
     "output_type": "execute_result"
    }
   ],
   "source": [
    "solution(n)"
   ]
  },
  {
   "cell_type": "code",
   "execution_count": 10,
   "id": "95e118ad",
   "metadata": {},
   "outputs": [
    {
     "data": {
      "text/plain": [
       "4"
      ]
     },
     "execution_count": 10,
     "metadata": {},
     "output_type": "execute_result"
    }
   ],
   "source": [
    "list(bin(78))[2:].count('1')"
   ]
  },
  {
   "cell_type": "code",
   "execution_count": null,
   "id": "39b35218",
   "metadata": {},
   "outputs": [],
   "source": []
  }
 ],
 "metadata": {
  "kernelspec": {
   "display_name": "Python 3",
   "language": "python",
   "name": "python3"
  },
  "language_info": {
   "codemirror_mode": {
    "name": "ipython",
    "version": 3
   },
   "file_extension": ".py",
   "mimetype": "text/x-python",
   "name": "python",
   "nbconvert_exporter": "python",
   "pygments_lexer": "ipython3",
   "version": "3.8.8"
  }
 },
 "nbformat": 4,
 "nbformat_minor": 5
}
