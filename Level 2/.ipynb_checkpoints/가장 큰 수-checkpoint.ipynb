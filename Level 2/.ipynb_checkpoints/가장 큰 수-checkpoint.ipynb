{
 "cells": [
  {
   "cell_type": "markdown",
   "id": "e2ecd131",
   "metadata": {},
   "source": [
    "## 문제 설명\n",
    "\n",
    "0 또는 양의 정수가 주어졌을 때, 정수를 이어 붙여 만들 수 있는 가장 큰 수를 알아내 주세요.\n",
    "\n",
    "예를 들어, 주어진 정수가 [6, 10, 2]라면 [6102, 6210, 1062, 1026, 2610, 2106]를 만들 수 있고, 이중 가장 큰 수는 6210입니다.\n",
    "\n",
    "0 또는 양의 정수가 담긴 배열 numbers가 매개변수로 주어질 때, 순서를 재배치하여 만들 수 있는 가장 큰 수를 문자열로 바꾸어 return 하도록 solution 함수를 작성해주세요.\n",
    "\n",
    "## 제한 사항\n",
    "* numbers의 길이는 1 이상 100,000 이하입니다.\n",
    "* numbers의 원소는 0 이상 1,000 이하입니다.\n",
    "* 정답이 너무 클 수 있으니 문자열로 바꾸어 return 합니다.\n",
    "\n",
    "## 입출력 예\n",
    "numbers          \treturn\n",
    "[6, 10, 2]\t        \"6210\"\n",
    "[3, 30, 34, 5, 9]\t\"9534330\"\n"
   ]
  },
  {
   "cell_type": "code",
   "execution_count": 98,
   "id": "36d16b03",
   "metadata": {},
   "outputs": [],
   "source": [
    "numbers =[0,0,0,0,0]"
   ]
  },
  {
   "cell_type": "code",
   "execution_count": 109,
   "id": "a80cb0f5",
   "metadata": {},
   "outputs": [],
   "source": [
    "def solution(numbers):\n",
    "    n = []\n",
    "    for i in numbers:\n",
    "        n.append(str(i))\n",
    "    a = sorted(n, key = lambda x:x*3)\n",
    "    \n",
    "    return str(int(\"\".join(reversed(a))))"
   ]
  },
  {
   "cell_type": "code",
   "execution_count": 110,
   "id": "47691689",
   "metadata": {},
   "outputs": [
    {
     "data": {
      "text/plain": [
       "'0'"
      ]
     },
     "execution_count": 110,
     "metadata": {},
     "output_type": "execute_result"
    }
   ],
   "source": [
    "solution(numbers)"
   ]
  },
  {
   "cell_type": "code",
   "execution_count": null,
   "id": "cf7520ce",
   "metadata": {},
   "outputs": [],
   "source": [
    "def solution2(numbers):\n",
    "    n = []\n",
    "    for "
   ]
  }
 ],
 "metadata": {
  "kernelspec": {
   "display_name": "Python 3",
   "language": "python",
   "name": "python3"
  },
  "language_info": {
   "codemirror_mode": {
    "name": "ipython",
    "version": 3
   },
   "file_extension": ".py",
   "mimetype": "text/x-python",
   "name": "python",
   "nbconvert_exporter": "python",
   "pygments_lexer": "ipython3",
   "version": "3.8.8"
  }
 },
 "nbformat": 4,
 "nbformat_minor": 5
}
