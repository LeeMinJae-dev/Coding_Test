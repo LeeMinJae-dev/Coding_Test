{
 "cells": [
  {
   "cell_type": "markdown",
   "id": "b9c2d988",
   "metadata": {},
   "source": [
    "## 문제 설명\n",
    "1와 0로 채워진 표(board)가 있습니다. 표 1칸은 1 x 1 의 정사각형으로 이루어져 있습니다. 표에서 1로 이루어진 가장 큰 정사각형을 찾아 넓이를 return 하는 solution 함수를 완성해 주세요. (단, 정사각형이란 축에 평행한 정사각형을 말합니다.)\n",
    "\n",
    "    예를 들어\n",
    "    1\t2\t3\t4\n",
    "    0\t1\t1\t1\n",
    "    1\t1\t1\t1\n",
    "    1\t1\t1\t1\n",
    "    0\t0\t1\t0\n",
    "    가 있다면 가장 큰 정사각형은\n",
    "    1\t2\t3\t4\n",
    "    0\t1\t1\t1\n",
    "    1\t1\t1\t1\n",
    "    1\t1\t1\t1\n",
    "    0\t0\t1\t0\n",
    "    가 되며 넓이는 9가 되므로 9를 반환해 주면 됩니다.\n",
    "\n",
    "## 제한사항\n",
    "\n",
    "    표(board)는 2차원 배열로 주어집니다.\n",
    "    표(board)의 행(row)의 크기 : 1,000 이하의 자연수\n",
    "    표(board)의 열(column)의 크기 : 1,000 이하의 자연수\n",
    "    표(board)의 값은 1또는 0으로만 이루어져 있습니다.\n",
    "\n",
    "## 입출력 예\n",
    "    board\t                                    answer\n",
    "    [[0,1,1,1],[1,1,1,1],[1,1,1,1],[0,0,1,0]]\t9\n",
    "    [[0,0,1,1],[1,1,1,1]]\t                    4\n",
    "\n",
    "## 입출력 예 설명\n",
    "입출력 예 #1\n",
    "위의 예시와 같습니다.\n",
    "\n",
    "입출력 예 #2\n",
    "\n",
    "    | 0 | 0 | 1 | 1 |\n",
    "    | 1 | 1 | 1 | 1 | \n",
    "로 가장 큰 정사각형의 넓이는 4가 되므로 4를 return합니다."
   ]
  },
  {
   "cell_type": "code",
   "execution_count": 139,
   "id": "4eac67db",
   "metadata": {},
   "outputs": [],
   "source": [
    "board =[[1]]"
   ]
  },
  {
   "cell_type": "code",
   "execution_count": 144,
   "id": "a16818e4",
   "metadata": {},
   "outputs": [],
   "source": [
    "def solution(board):\n",
    "    a = []\n",
    "\n",
    "    for row in range(1,len(board)):\n",
    "        for column in range(1,len(board[0])):\n",
    "            if board[row][column] >= 1:\n",
    "                board[row][column] = min(board[row-1][column],board[row][column-1],board[row-1][column-1])+1 \n",
    "                a.append(board[row][column])\n",
    "            else:\n",
    "                a.append(board[row][column])\n",
    "    if len(a) == 0:\n",
    "        answer = 1\n",
    "    else:\n",
    "        answer = max(a)**2\n",
    "    \n",
    "    return answer"
   ]
  },
  {
   "cell_type": "code",
   "execution_count": 145,
   "id": "ba7e007f",
   "metadata": {},
   "outputs": [
    {
     "data": {
      "text/plain": [
       "1"
      ]
     },
     "execution_count": 145,
     "metadata": {},
     "output_type": "execute_result"
    }
   ],
   "source": [
    "solution(board)"
   ]
  },
  {
   "cell_type": "code",
   "execution_count": null,
   "id": "6c41769c",
   "metadata": {},
   "outputs": [],
   "source": []
  }
 ],
 "metadata": {
  "kernelspec": {
   "display_name": "Python 3",
   "language": "python",
   "name": "python3"
  },
  "language_info": {
   "codemirror_mode": {
    "name": "ipython",
    "version": 3
   },
   "file_extension": ".py",
   "mimetype": "text/x-python",
   "name": "python",
   "nbconvert_exporter": "python",
   "pygments_lexer": "ipython3",
   "version": "3.8.8"
  }
 },
 "nbformat": 4,
 "nbformat_minor": 5
}
