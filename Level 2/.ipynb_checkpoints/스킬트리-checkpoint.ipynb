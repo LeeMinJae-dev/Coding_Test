{
 "cells": [
  {
   "cell_type": "markdown",
   "id": "ef133da2",
   "metadata": {},
   "source": [
    "## 문제 설명\n",
    "선행 스킬이란 어떤 스킬을 배우기 전에 먼저 배워야 하는 스킬을 뜻합니다.\n",
    "\n",
    "예를 들어 선행 스킬 순서가 스파크 → 라이트닝 볼트 → 썬더일때, 썬더를 배우려면 먼저 라이트닝 볼트를 배워야 하고, 라이트닝 볼트를 배우려면 먼저 스파크를 배워야 합니다.\n",
    "위 순서에 없는 다른 스킬(힐링 등)은 순서에 상관없이 배울 수 있습니다. 따라서 스파크 → 힐링 → 라이트닝 볼트 → 썬더와 같은 스킬트리는 가능하지만, 썬더 → 스파크나 라이트닝 볼트 → 스파크 → 힐링 → 썬더와 같은 스킬트리는 불가능합니다.\n",
    "\n",
    "선행 스킬 순서 skill과 유저들이 만든 스킬트리1를 담은 배열 skill_trees가 매개변수로 주어질 때, 가능한 스킬트리 개수를 return 하는 solution 함수를 작성해주세요.\n",
    "\n",
    "## 제한 조건\n",
    "* 스킬은 알파벳 대문자로 표기하며, 모든 문자열은 알파벳 대문자로만 이루어져 있습니다.\n",
    "* 스킬 순서와 스킬트리는 문자열로 표기합니다.\n",
    "    * 예를 들어, C → B → D 라면 \"CBD\"로 표기합니다\n",
    "* 선행 스킬 순서 skill의 길이는 1 이상 26 이하이며, 스킬은 중복해 주어지지 않습니다.\n",
    "* skill_trees는 길이 1 이상 20 이하인 배열입니다.\n",
    "* skill_trees의 원소는 스킬을 나타내는 문자열입니다.\n",
    "    * skill_trees의 원소는 길이가 2 이상 26 이하인 문자열이며, 스킬이 중복해 주어지지 않습니다.\n",
    "\n",
    "## 입출력 예\n",
    "\n",
    "    skill\tskill_trees\t                      return\n",
    "    \"CBD\"\t[\"BACDE\", \"CBADF\", \"AECB\", \"BDA\"]\t2\n",
    "\n",
    "## 입출력 예 설명\n",
    "* BACDE\": B 스킬을 배우기 전에 C 스킬을 먼저 배워야 합니다. 불가능한 스킬트립니다.\n",
    "* \"CBADF\": 가능한 스킬트리입니다.\n",
    "* \"AECB\": 가능한 스킬트리입니다.\n",
    "* \"BDA\": B 스킬을 배우기 전에 C 스킬을 먼저 배워야 합니다. 불가능한 스킬트리입니다.\n"
   ]
  },
  {
   "cell_type": "code",
   "execution_count": 130,
   "id": "aa57a25b",
   "metadata": {},
   "outputs": [],
   "source": [
    "skill = \"CBD\"\n",
    "skill_trees = [\"BACDE\", \"CBADF\", \"AECB\", \"BDA\"]"
   ]
  },
  {
   "cell_type": "code",
   "execution_count": 145,
   "id": "72c266be",
   "metadata": {},
   "outputs": [],
   "source": [
    "def solution(skill, skill_trees):\n",
    "    result = 0\n",
    "    for i in skill_trees:\n",
    "        a = []\n",
    "        tf = True\n",
    "        \n",
    "        for j in range(len(i)):\n",
    "            if i[j] in skill:\n",
    "                a.append(i[j])\n",
    "                \n",
    "        for k in range(len(a)):\n",
    "            if a[k] != skill[k]:\n",
    "                tf = False\n",
    "        if tf == True:\n",
    "            result += 1\n",
    "    return result\n",
    "        \n",
    "    \n",
    "        "
   ]
  },
  {
   "cell_type": "code",
   "execution_count": 146,
   "id": "a00f5d7b",
   "metadata": {},
   "outputs": [
    {
     "data": {
      "text/plain": [
       "2"
      ]
     },
     "execution_count": 146,
     "metadata": {},
     "output_type": "execute_result"
    }
   ],
   "source": [
    "solution(skill,skill_trees)"
   ]
  },
  {
   "cell_type": "code",
   "execution_count": 14,
   "id": "dd3a58fd",
   "metadata": {},
   "outputs": [
    {
     "data": {
      "text/plain": [
       "0"
      ]
     },
     "execution_count": 14,
     "metadata": {},
     "output_type": "execute_result"
    }
   ],
   "source": [
    "skill.index('C')"
   ]
  },
  {
   "cell_type": "code",
   "execution_count": 107,
   "id": "f90640e7",
   "metadata": {},
   "outputs": [
    {
     "data": {
      "text/plain": [
       "3"
      ]
     },
     "execution_count": 107,
     "metadata": {},
     "output_type": "execute_result"
    }
   ],
   "source": [
    "b = [1,2,3]\n",
    "max(b)"
   ]
  },
  {
   "cell_type": "code",
   "execution_count": 157,
   "id": "05c5af17",
   "metadata": {},
   "outputs": [],
   "source": [
    "def solution2(skill, skill_trees):\n",
    "    answer = 0\n",
    "    \n",
    "    for skills in skill_trees:\n",
    "        skill_list = list(skill)\n",
    "        \n",
    "        for s in skills:\n",
    "            if s in skill:\n",
    "                if s != skill_list.pop(0):\n",
    "                    print(skill_list.copy())\n",
    "                    break\n",
    "        else:\n",
    "            answer +=1 \n",
    "    return answer"
   ]
  },
  {
   "cell_type": "code",
   "execution_count": 158,
   "id": "4ebc5675",
   "metadata": {},
   "outputs": [
    {
     "name": "stdout",
     "output_type": "stream",
     "text": [
      "['B', 'D']\n",
      "['B', 'D']\n"
     ]
    },
    {
     "data": {
      "text/plain": [
       "2"
      ]
     },
     "execution_count": 158,
     "metadata": {},
     "output_type": "execute_result"
    }
   ],
   "source": [
    "solution2(skill, skill_trees)"
   ]
  },
  {
   "cell_type": "code",
   "execution_count": null,
   "id": "2b9578b6",
   "metadata": {},
   "outputs": [],
   "source": [
    "skill = \"CBD\"\n",
    "skill_trees = [\"BACDE\", \"CBADF\", \"AECB\", \"BDA\"]"
   ]
  }
 ],
 "metadata": {
  "kernelspec": {
   "display_name": "Python 3",
   "language": "python",
   "name": "python3"
  },
  "language_info": {
   "codemirror_mode": {
    "name": "ipython",
    "version": 3
   },
   "file_extension": ".py",
   "mimetype": "text/x-python",
   "name": "python",
   "nbconvert_exporter": "python",
   "pygments_lexer": "ipython3",
   "version": "3.8.8"
  }
 },
 "nbformat": 4,
 "nbformat_minor": 5
}
