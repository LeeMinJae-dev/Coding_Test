{
 "cells": [
  {
   "cell_type": "markdown",
   "id": "d829cd44",
   "metadata": {},
   "source": [
    "## 문제 설명\n",
    "JadenCase란 모든 단어의 첫 문자가 대문자이고, 그 외의 알파벳은 소문자인 문자열입니다. 문자열 s가 주어졌을 때, s를 JadenCase로 바꾼 문자열을 리턴하는 함수, solution을 완성해주세요.\n",
    "\n",
    "## 제한 조건\n",
    "s는 길이 1 이상인 문자열입니다.\n",
    "s는 알파벳과 공백문자(\" \")로 이루어져 있습니다.\n",
    "첫 문자가 영문이 아닐때에는 이어지는 영문은 소문자로 씁니다. ( 첫번째 입출력 예 참고 )\n",
    "\n",
    "## 입출력 예\n",
    "```\n",
    "s\t                     return\n",
    "\"3people unFollowed me\"\t \"3people Unfollowed Me\"\n",
    "\"for the last week\"\t     \"For The Last Week\"\n",
    "```"
   ]
  },
  {
   "cell_type": "code",
   "execution_count": 89,
   "id": "a424f574",
   "metadata": {},
   "outputs": [],
   "source": [
    "s = \"my NAMe   4s    3injae\""
   ]
  },
  {
   "cell_type": "code",
   "execution_count": 90,
   "id": "fb2dcfea",
   "metadata": {},
   "outputs": [],
   "source": [
    "def solution(s):\n",
    "    s = s.lower().split()\n",
    "    result = []\n",
    "    for i in s:\n",
    "        i = list(i)\n",
    "        print(i)\n",
    "        i[0] = i[0].upper()\n",
    "        result.append(\"\".join(i))\n",
    "        \n",
    "    return \" \".join(result)\n",
    "    "
   ]
  },
  {
   "cell_type": "code",
   "execution_count": 93,
   "id": "912e60ec",
   "metadata": {},
   "outputs": [
    {
     "data": {
      "text/plain": [
       "'My Name   4s    3injae'"
      ]
     },
     "execution_count": 93,
     "metadata": {},
     "output_type": "execute_result"
    }
   ],
   "source": [
    "solution(s)"
   ]
  },
  {
   "cell_type": "code",
   "execution_count": 82,
   "id": "433f840e",
   "metadata": {},
   "outputs": [
    {
     "data": {
      "text/plain": [
       "['my', 'name', 'is', 'minjae']"
      ]
     },
     "execution_count": 82,
     "metadata": {},
     "output_type": "execute_result"
    }
   ],
   "source": [
    "s.lower().split()"
   ]
  },
  {
   "cell_type": "code",
   "execution_count": 92,
   "id": "834819d6",
   "metadata": {},
   "outputs": [],
   "source": [
    "def solution(s):\n",
    "    s = s.lower()\n",
    "    L=s.split(\" \")\n",
    "    answer = \"\"\n",
    "    for i in L:\n",
    "        i= i.capitalize()\n",
    "        answer+= i+\" \"\n",
    "    return answer[:-1]"
   ]
  },
  {
   "cell_type": "code",
   "execution_count": null,
   "id": "8df89c84",
   "metadata": {},
   "outputs": [],
   "source": []
  }
 ],
 "metadata": {
  "kernelspec": {
   "display_name": "Python 3",
   "language": "python",
   "name": "python3"
  },
  "language_info": {
   "codemirror_mode": {
    "name": "ipython",
    "version": 3
   },
   "file_extension": ".py",
   "mimetype": "text/x-python",
   "name": "python",
   "nbconvert_exporter": "python",
   "pygments_lexer": "ipython3",
   "version": "3.8.8"
  }
 },
 "nbformat": 4,
 "nbformat_minor": 5
}
