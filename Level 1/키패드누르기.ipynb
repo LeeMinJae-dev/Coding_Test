{
 "cells": [
  {
   "cell_type": "markdown",
   "id": "ecebb851",
   "metadata": {},
   "source": [
    "스마트폰 전화 키패드의 각 칸에 다음과 같이 숫자들이 적혀 있습니다.\n",
    "\n",
    "\n",
    "이 전화 키패드에서 왼손과 오른손의 엄지손가락만을 이용해서 숫자만을 입력하려고 합니다.\n",
    "맨 처음 왼손 엄지손가락은 * 키패드에 오른손 엄지손가락은 # 키패드 위치에서 시작하며, 엄지손가락을 사용하는 규칙은 다음과 같습니다.\n",
    "엄지손가락은 상하좌우 4가지 방향으로만 이동할 수 있으며 키패드 이동 한 칸은 거리로 1에 해당합니다.\n",
    "왼쪽 열의 3개의 숫자 1, 4, 7을 입력할 때는 왼손 엄지손가락을 사용합니다.\n",
    "오른쪽 열의 3개의 숫자 3, 6, 9를 입력할 때는 오른손 엄지손가락을 사용합니다.\n",
    "가운데 열의 4개의 숫자 2, 5, 8, 0을 입력할 때는 두 엄지손가락의 현재 키패드의 위치에서 더 가까운 엄지손가락을 사용합니다.\n",
    "4-1. 만약 두 엄지손가락의 거리가 같다면, 오른손잡이는 오른손 엄지손가락, 왼손잡이는 왼손 엄지손가락을 사용합니다.\n",
    "순서대로 누를 번호가 담긴 배열 numbers, 왼손잡이인지 오른손잡이인 지를 나타내는 문자열 hand가 매개변수로 주어질 때, 각 번호를 누른 엄지손가락이 왼손인 지 오른손인 지를 나타내는 연속된 문자열 형태로 return 하도록 solution 함수를 완성해주세요.\n",
    "\n",
    "[제한사항]\n",
    "numbers 배열의 크기는 1 이상 1,000 이하입니다.\n",
    "numbers 배열 원소의 값은 0 이상 9 이하인 정수입니다.\n",
    "hand는 \"left\" 또는 \"right\" 입니다.\n",
    "\"left\"는 왼손잡이, \"right\"는 오른손잡이를 의미합니다.\n",
    "왼손 엄지손가락을 사용한 경우는 L, 오른손 엄지손가락을 사용한 경우는 R을 순서대로 이어붙여 문자열 형태로 return 해주세요.\n",
    "\n",
    "\n",
    "입출력 예\n",
    "numbers\thand\tresult\n",
    "[1, 3, 4, 5, 8, 2, 1, 4, 5, 9, 5]\t\"right\"\t\"LRLLLRLLRRL\"\n",
    "[7, 0, 8, 2, 8, 3, 1, 5, 7, 6, 2]\t\"left\"\t\"LRLLRRLLLRR\"\n",
    "[1, 2, 3, 4, 5, 6, 7, 8, 9, 0]\t\"right\"\t\"LLRLLRLLRL\"\n",
    "\n",
    "\n",
    "입출력 예에 대한 설명\n",
    "\n",
    "입출력 예 #1\n",
    "순서대로 눌러야 할 번호가 [1, 3, 4, 5, 8, 2, 1, 4, 5, 9, 5]이고, 오른손잡이입니다.\n",
    "왼손 위치\t오른손 위치\t눌러야 할 숫자\t사용한 손\t설명\n",
    "*\t#\t1\tL\t1은 왼손으로 누릅니다.\n",
    "1\t#\t3\tR\t3은 오른손으로 누릅니다.\n",
    "1\t3\t4\tL\t4는 왼손으로 누릅니다.\n",
    "4\t3\t5\tL\t왼손 거리는 1, 오른손 거리는 2이므로 왼손으로 5를 누릅니다.\n",
    "5\t3\t8\tL\t왼손 거리는 1, 오른손 거리는 3이므로 왼손으로 8을 누릅니다.\n",
    "8\t3\t2\tR\t왼손 거리는 2, 오른손 거리는 1이므로 오른손으로 2를 누릅니다.\n",
    "8\t2\t1\tL\t1은 왼손으로 누릅니다.\n",
    "1\t2\t4\tL\t4는 왼손으로 누릅니다.\n",
    "4\t2\t5\tR\t왼손 거리와 오른손 거리가 1로 같으므로, 오른손으로 5를 누릅니다.\n",
    "4\t5\t9\tR\t9는 오른손으로 누릅니다.\n",
    "4\t9\t5\tL\t왼손 거리는 1, 오른손 거리는 2이므로 왼손으로 5를 누릅니다.\n",
    "5\t9\t-\t-\t\n",
    "따라서 \"LRLLLRLLRRL\"를 return 합니다.\n",
    "\n",
    "입출력 예 #2\n",
    "왼손잡이가 [7, 0, 8, 2, 8, 3, 1, 5, 7, 6, 2]를 순서대로 누르면 사용한 손은 \"LRLLRRLLLRR\"이 됩니다.\n",
    "\n",
    "입출력 예 #3\n",
    "오른손잡이가 [1, 2, 3, 4, 5, 6, 7, 8, 9, 0]를 순서대로 누르면 사용한 손은 \"LLRLLRLLRL\"이 됩니다.\n"
   ]
  },
  {
   "cell_type": "code",
   "execution_count": 418,
   "id": "bc81af8f",
   "metadata": {},
   "outputs": [],
   "source": [
    "import numpy as np\n",
    "def solution(numbers, hand):\n",
    "    left = [[3,0]]\n",
    "    right = [[3,2]]\n",
    "    wh = []\n",
    "    phone = [[1,2,3],\n",
    "             [4,5,6],\n",
    "             [7,8,9],\n",
    "             ['*',0,'#']] \n",
    "    for i in numbers:\n",
    "        for j in range(0,4):\n",
    "            if i in phone[j]:\n",
    "                k = phone[j].index(i)\n",
    "                if k == 0:\n",
    "                    left.append([j,k])\n",
    "                    wh.append('L')\n",
    "                    \n",
    "                    break\n",
    "                if k == 2: \n",
    "                    right.append([j,k])\n",
    "                    wh.append('R')\n",
    "                   \n",
    "                    break\n",
    "                else:\n",
    "                    if abs(right[-1][0]-j)+abs(right[-1][1]-k)>abs(left[-1][0]-j)+abs(left[-1][1]-k):\n",
    "                        left.append([j,k])\n",
    "                        wh.append('L')\n",
    "\n",
    "                        break\n",
    "                    if abs(right[-1][0]-j)+abs(right[-1][1]-k)<abs(left[-1][0]-j)+abs(left[-1][1]-k):\n",
    "                        right.append([j,k])\n",
    "                        wh.append('R')\n",
    "                       \n",
    "                        break\n",
    "                    else:\n",
    "                        if hand == 'right':\n",
    "                            right.append([j,k])\n",
    "                            wh.append('R')\n",
    "                        \n",
    "                            break\n",
    "                        else:\n",
    "                            left.append([j,k])\n",
    "                            wh.append('L')\n",
    "                       \n",
    "                            break\n",
    "                \n",
    "            else: pass             \n",
    "      \n",
    "        \n",
    "    \n",
    "    return \"\".join(wh) "
   ]
  },
  {
   "cell_type": "code",
   "execution_count": 419,
   "id": "ca09d483",
   "metadata": {},
   "outputs": [],
   "source": [
    "numbers =[1, 3, 4, 5, 8, 2, 1, 4, 5, 9, 5]\n",
    "hand = 'right'"
   ]
  },
  {
   "cell_type": "code",
   "execution_count": 420,
   "id": "aa2742e0",
   "metadata": {},
   "outputs": [
    {
     "ename": "SyntaxError",
     "evalue": "invalid syntax (<ipython-input-420-71072ed7e34c>, line 1)",
     "output_type": "error",
     "traceback": [
      "\u001b[0;36m  File \u001b[0;32m\"<ipython-input-420-71072ed7e34c>\"\u001b[0;36m, line \u001b[0;32m1\u001b[0m\n\u001b[0;31m    1,1 0,2 2,1\u001b[0m\n\u001b[0m        ^\u001b[0m\n\u001b[0;31mSyntaxError\u001b[0m\u001b[0;31m:\u001b[0m invalid syntax\n"
     ]
    }
   ],
   "source": [
    "1,1 0,2 2,1"
   ]
  },
  {
   "cell_type": "code",
   "execution_count": 421,
   "id": "609f3b76",
   "metadata": {},
   "outputs": [
    {
     "data": {
      "text/plain": [
       "'LRLLLRLLRRL'"
      ]
     },
     "execution_count": 421,
     "metadata": {},
     "output_type": "execute_result"
    }
   ],
   "source": [
    "solution(numbers, hand)"
   ]
  },
  {
   "cell_type": "code",
   "execution_count": 315,
   "id": "8e128159",
   "metadata": {},
   "outputs": [],
   "source": [
    "if numbers[0] in phone[1]:\n",
    "    print('in')\n",
    "phone = [[1,4,7,'*'],\n",
    "        [2,5,8,0],\n",
    "        [3,6,9,'#']]"
   ]
  },
  {
   "cell_type": "code",
   "execution_count": 316,
   "id": "8b8f2197",
   "metadata": {},
   "outputs": [],
   "source": [
    "phhone = [[1,2,3],\n",
    "         [4,5,6],\n",
    "          [7,8,9],\n",
    "         ['*',0,'#']]"
   ]
  },
  {
   "cell_type": "code",
   "execution_count": 150,
   "id": "00167ce1",
   "metadata": {},
   "outputs": [
    {
     "data": {
      "text/plain": [
       "8"
      ]
     },
     "execution_count": 150,
     "metadata": {},
     "output_type": "execute_result"
    }
   ],
   "source": [
    "phhone[2][1]"
   ]
  },
  {
   "cell_type": "code",
   "execution_count": 155,
   "id": "a8427b6b",
   "metadata": {},
   "outputs": [
    {
     "data": {
      "text/plain": [
       "2"
      ]
     },
     "execution_count": 155,
     "metadata": {},
     "output_type": "execute_result"
    }
   ],
   "source": [
    "right[-1][1]"
   ]
  },
  {
   "cell_type": "code",
   "execution_count": 276,
   "id": "784720c4",
   "metadata": {},
   "outputs": [
    {
     "name": "stdout",
     "output_type": "stream",
     "text": [
      "1 ['L'] left [[3, 0], [0, 0]]\n",
      "3 ['L', 'R'] right [[2, 2], [1, 2]]\n",
      "4 ['L', 'R', 'L'] left [[3, 0], [0, 0], [2, 0]]\n",
      "5 ['L', 'R', 'L', 'L'] abs left [[3, 0], [0, 0], [2, 0], [3, 1]]\n",
      "1 ['L', 'R', 'L', 'L', 'L'] left [[3, 0], [0, 0], [2, 0], [3, 1], [6, 0]]\n",
      "4 ['L', 'R', 'L', 'L', 'L', 'L'] left [[3, 0], [0, 0], [2, 0], [3, 1], [6, 0], [7, 0]]\n",
      "9 ['L', 'R', 'L', 'L', 'L', 'L', 'R'] right [[2, 2], [1, 2], [9, 2]]\n",
      "5 ['L', 'R', 'L', 'L', 'L', 'L', 'R', 'L'] abs left [[3, 0], [0, 0], [2, 0], [3, 1], [6, 0], [7, 0], [10, 1]]\n"
     ]
    }
   ],
   "source": [
    "    left = [[3,0]]\n",
    "    right = [[2,2]]\n",
    "    wh = []\n",
    "    phone = [[1,2,3],\n",
    "             [4,5,6],\n",
    "             [7,8,9],\n",
    "             ['*',0,'#']] \n",
    "    for i in range(0, len(numbers)):\n",
    "        for j in range(0,4):\n",
    "            if numbers[i] in phone[j]:\n",
    "                k = phone[j].index(numbers[i])\n",
    "                if k == 0:\n",
    "                    left.append([i,k])\n",
    "                    wh.append('L')\n",
    "                    print(numbers[i], wh, 'left', left)\n",
    "                    break\n",
    "                if k == 2: \n",
    "                    right.append([i,k])\n",
    "                    wh.append('R')\n",
    "                    print(numbers[i], wh, 'right', right)\n",
    "                else:\n",
    "                    if sum(right[-1])-sum([i,k])>sum(left[-1])-sum([i,k]):\n",
    "                        left.append([i,k])\n",
    "                        wh.append('L')\n",
    "                        print(numbers[i], wh, 'abs left', left)"
   ]
  },
  {
   "cell_type": "code",
   "execution_count": null,
   "id": "b7e67afd",
   "metadata": {},
   "outputs": [],
   "source": []
  }
 ],
 "metadata": {
  "kernelspec": {
   "display_name": "Python 3",
   "language": "python",
   "name": "python3"
  },
  "language_info": {
   "codemirror_mode": {
    "name": "ipython",
    "version": 3
   },
   "file_extension": ".py",
   "mimetype": "text/x-python",
   "name": "python",
   "nbconvert_exporter": "python",
   "pygments_lexer": "ipython3",
   "version": "3.8.8"
  }
 },
 "nbformat": 4,
 "nbformat_minor": 5
}
