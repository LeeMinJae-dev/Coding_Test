{
 "cells": [
  {
   "cell_type": "markdown",
   "id": "1967c945",
   "metadata": {},
   "source": [
    "## 문제 설명\n",
    "\n",
    "문자열 s의 길이가 4 혹은 6이고, 숫자로만 구성돼있는지 확인해주는 함수, solution을 완성하세요. 예를 들어 s가 \"a234\"이면 False를 리턴하고 \"1234\"라면 True를 리턴하면 됩니다.\n",
    "\n",
    "## 제한 사항\n",
    "s는 길이 1 이상, 길이 8 이하인 문자열입니다.\n",
    "\n",
    "## 입출력 예\n",
    "```\n",
    "   s\treturn\n",
    "\"a234\"\tfalse\n",
    "\"1234\"\ttrue\n",
    "```\n"
   ]
  },
  {
   "cell_type": "code",
   "execution_count": 97,
   "id": "65f00533",
   "metadata": {},
   "outputs": [],
   "source": [
    "import re\n",
    "def solution(s):\n",
    "    p = re.compile('[a-z]+')\n",
    "    m = p.search(s)\n",
    "    if m:\n",
    "        return False\n",
    "\n",
    "    else:\n",
    "        if (len(s) == 4 or len(s)==6):\n",
    "            return True\n",
    "                 \n",
    "        else:\n",
    "            return False\n",
    "     \n"
   ]
  },
  {
   "cell_type": "code",
   "execution_count": 98,
   "id": "c7162374",
   "metadata": {},
   "outputs": [],
   "source": [
    "s = \"\""
   ]
  },
  {
   "cell_type": "code",
   "execution_count": 99,
   "id": "ba484a92",
   "metadata": {},
   "outputs": [
    {
     "data": {
      "text/plain": [
       "False"
      ]
     },
     "execution_count": 99,
     "metadata": {},
     "output_type": "execute_result"
    }
   ],
   "source": [
    "solution(s)"
   ]
  },
  {
   "cell_type": "code",
   "execution_count": 84,
   "id": "fc198f74",
   "metadata": {},
   "outputs": [
    {
     "data": {
      "text/plain": [
       "0"
      ]
     },
     "execution_count": 84,
     "metadata": {},
     "output_type": "execute_result"
    }
   ],
   "source": [
    "len(s)"
   ]
  },
  {
   "cell_type": "code",
   "execution_count": null,
   "id": "bd64b5df",
   "metadata": {},
   "outputs": [],
   "source": []
  }
 ],
 "metadata": {
  "kernelspec": {
   "display_name": "Python 3",
   "language": "python",
   "name": "python3"
  },
  "language_info": {
   "codemirror_mode": {
    "name": "ipython",
    "version": 3
   },
   "file_extension": ".py",
   "mimetype": "text/x-python",
   "name": "python",
   "nbconvert_exporter": "python",
   "pygments_lexer": "ipython3",
   "version": "3.8.8"
  }
 },
 "nbformat": 4,
 "nbformat_minor": 5
}
