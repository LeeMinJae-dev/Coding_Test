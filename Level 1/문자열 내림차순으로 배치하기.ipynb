{
 "cells": [
  {
   "cell_type": "markdown",
   "id": "fc3db803",
   "metadata": {},
   "source": [
    "\n",
    "## 문제 설명\n",
    "\n",
    "문자열 s에 나타나는 문자를 큰것부터 작은 순으로 정렬해 새로운 문자열을 리턴하는 함수, solution을 완성해주세요.\n",
    "s는 영문 대소문자로만 구성되어 있으며, 대문자는 소문자보다 작은 것으로 간주합니다.\n",
    "\n",
    "## 제한 사항\n",
    "str은 길이 1 이상인 문자열입니다.\n",
    "\n",
    "## 입출력 예\n",
    "     s\t      return\n",
    "\"Zbcdefg\"\t\"gfedcbZ\"\n"
   ]
  },
  {
   "cell_type": "code",
   "execution_count": 43,
   "id": "a340ccb3",
   "metadata": {},
   "outputs": [],
   "source": [
    "def solution(s):\n",
    "    return \"\".join(sorted(s, reverse=True))"
   ]
  },
  {
   "cell_type": "code",
   "execution_count": 44,
   "id": "b274bf3d",
   "metadata": {},
   "outputs": [],
   "source": [
    "s = \"AbDcdefg\""
   ]
  },
  {
   "cell_type": "code",
   "execution_count": 45,
   "id": "50b378ca",
   "metadata": {},
   "outputs": [
    {
     "name": "stdout",
     "output_type": "stream",
     "text": [
      "['g', 'f', 'e', 'd', 'c', 'b', 'D', 'A']\n"
     ]
    },
    {
     "data": {
      "text/plain": [
       "'gfedcbAD'"
      ]
     },
     "execution_count": 45,
     "metadata": {},
     "output_type": "execute_result"
    }
   ],
   "source": [
    "solution(s)"
   ]
  },
  {
   "cell_type": "code",
   "execution_count": null,
   "id": "e741ff2b",
   "metadata": {},
   "outputs": [],
   "source": []
  }
 ],
 "metadata": {
  "kernelspec": {
   "display_name": "Python 3",
   "language": "python",
   "name": "python3"
  },
  "language_info": {
   "codemirror_mode": {
    "name": "ipython",
    "version": 3
   },
   "file_extension": ".py",
   "mimetype": "text/x-python",
   "name": "python",
   "nbconvert_exporter": "python",
   "pygments_lexer": "ipython3",
   "version": "3.8.8"
  }
 },
 "nbformat": 4,
 "nbformat_minor": 5
}
