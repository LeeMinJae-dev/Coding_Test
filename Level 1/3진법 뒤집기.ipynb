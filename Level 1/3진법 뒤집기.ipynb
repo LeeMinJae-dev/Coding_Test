{
 "cells": [
  {
   "cell_type": "markdown",
   "id": "580e4263",
   "metadata": {},
   "source": [
    "문제 설명\n",
    "\n",
    "자연수 n이 매개변수로 주어집니다. n을 3진법 상에서 앞뒤로 뒤집은 후, 이를 다시 10진법으로 표현한 수를 return 하도록 solution 함수를 완성해주세요.\n",
    "제한사항\n",
    "n은 1 이상 100,000,000 이하인 자연수입니다.\n",
    "\n",
    "\n",
    "입출력 예\n",
    "n\tresult\n",
    "45\t7\n",
    "125\t229\n",
    "\n",
    "\n",
    "입출력 예 설명\n",
    "\n",
    "입출력 예 #1\n",
    "답을 도출하는 과정은 다음과 같습니다.\n",
    "n (10진법)\tn (3진법)\t앞뒤 반전(3진법)\t10진법으로 표현\n",
    "45\t1200\t0021\t7\n",
    "따라서 7을 return 해야 합니다.\n",
    "\n",
    "입출력 예 #2\n",
    "답을 도출하는 과정은 다음과 같습니다.\n",
    "n (10진법)\tn (3진법)\t앞뒤 반전(3진법)\t10진법으로 표현\n",
    "125\t11122\t22111\t229\n",
    "따라서 229를 return 해야 합니다."
   ]
  },
  {
   "cell_type": "code",
   "execution_count": 76,
   "id": "1eaee1d1",
   "metadata": {},
   "outputs": [],
   "source": [
    "def solution(n):\n",
    "    a = []\n",
    "    num = 0\n",
    "    while n>0:\n",
    "        if n%3 == 0:\n",
    "            n = n/3\n",
    "            a.append(0)\n",
    "\n",
    "        if n%3 == 1:\n",
    "            n = (n-1)/3\n",
    "            a.append(1)\n",
    "\n",
    "        if n%3 == 2:\n",
    "            n = (n-2)/3\n",
    "            a.append(2)\n",
    "    for i in range(0,len(a)):\n",
    "        num += a[len(a)-1-i]*pow(3,i)\n",
    "    return num"
   ]
  },
  {
   "cell_type": "code",
   "execution_count": 77,
   "id": "1e76ee6a",
   "metadata": {},
   "outputs": [
    {
     "data": {
      "text/plain": [
       "7"
      ]
     },
     "execution_count": 77,
     "metadata": {},
     "output_type": "execute_result"
    }
   ],
   "source": [
    "n = 45\n",
    "solution(n)"
   ]
  },
  {
   "cell_type": "code",
   "execution_count": 92,
   "id": "f3609951",
   "metadata": {},
   "outputs": [
    {
     "data": {
      "text/plain": [
       "7"
      ]
     },
     "execution_count": 92,
     "metadata": {},
     "output_type": "execute_result"
    }
   ],
   "source": [
    "int('0021',3)"
   ]
  },
  {
   "cell_type": "markdown",
   "id": "232eef6f",
   "metadata": {},
   "source": [
    "n 진수 만드는 코드\n",
    "\n"
   ]
  },
  {
   "cell_type": "code",
   "execution_count": null,
   "id": "5b4c38ea",
   "metadata": {},
   "outputs": [],
   "source": [
    "tmp = ''\n",
    "    while i:\n",
    "        tmp += str(i % n)\n",
    "        i = i // n\n"
   ]
  },
  {
   "cell_type": "markdown",
   "id": "279ea1c1",
   "metadata": {},
   "source": [
    "n진수는 그냥 int를 이용해서 바로 10진수로 출력 가능하다.(tmp는 str이어야함.)"
   ]
  },
  {
   "cell_type": "code",
   "execution_count": null,
   "id": "19661228",
   "metadata": {},
   "outputs": [],
   "source": [
    "answer = int(tmp, 3)"
   ]
  }
 ],
 "metadata": {
  "kernelspec": {
   "display_name": "Python 3",
   "language": "python",
   "name": "python3"
  },
  "language_info": {
   "codemirror_mode": {
    "name": "ipython",
    "version": 3
   },
   "file_extension": ".py",
   "mimetype": "text/x-python",
   "name": "python",
   "nbconvert_exporter": "python",
   "pygments_lexer": "ipython3",
   "version": "3.8.8"
  }
 },
 "nbformat": 4,
 "nbformat_minor": 5
}
