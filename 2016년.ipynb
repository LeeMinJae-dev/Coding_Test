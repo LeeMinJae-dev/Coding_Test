{
 "cells": [
  {
   "cell_type": "markdown",
   "id": "ff6f38a5",
   "metadata": {},
   "source": [
    "문제 설명\n",
    "\n",
    "2016년 1월 1일은 금요일입니다. 2016년 a월 b일은 무슨 요일일까요? 두 수 a ,b를 입력받아 2016년 a월 b일이 무슨 요일인지 리턴하는 함수, solution을 완성하세요. 요일의 이름은 일요일부터 토요일까지 각각 SUN,MON,TUE,WED,THU,FRI,SAT\n",
    "입니다. 예를 들어 a=5, b=24라면 5월 24일은 화요일이므로 문자열 \"TUE\"를 반환하세요.\n",
    "\n",
    "\n",
    "제한 조건\n",
    "2016년은 윤년입니다.\n",
    "2016년 a월 b일은 실제로 있는 날입니다. \n",
    "(13월 26일이나 2월 45일같은 날짜는 주어지지 않습니다)\n",
    "\n",
    "\n",
    "입출력 예\n",
    "a\tb\tresult\n",
    "5\t24\t\"TUE\""
   ]
  },
  {
   "cell_type": "code",
   "execution_count": 9,
   "id": "9913b436",
   "metadata": {},
   "outputs": [
    {
     "data": {
      "text/plain": [
       "3"
      ]
     },
     "execution_count": 9,
     "metadata": {},
     "output_type": "execute_result"
    }
   ],
   "source": [
    "import datetime\n",
    "\n",
    "datetime.date(2016,a,b).weekday()"
   ]
  },
  {
   "cell_type": "code",
   "execution_count": 65,
   "id": "d9ec3e61",
   "metadata": {},
   "outputs": [],
   "source": [
    "import datetime\n",
    "def solution(a, b):\n",
    "    day = ['MON','TUE','WED','THU','FRI','SAT','SUN']\n",
    "    \n",
    "    return day[datetime.date(2016,a,b).weekday()]"
   ]
  },
  {
   "cell_type": "code",
   "execution_count": 66,
   "id": "aef4939a",
   "metadata": {},
   "outputs": [
    {
     "data": {
      "text/plain": [
       "'TUE'"
      ]
     },
     "execution_count": 66,
     "metadata": {},
     "output_type": "execute_result"
    }
   ],
   "source": [
    "solution(a,b)"
   ]
  },
  {
   "cell_type": "code",
   "execution_count": 47,
   "id": "4f236dc2",
   "metadata": {},
   "outputs": [],
   "source": [
    "a = 5\n",
    "b = 24"
   ]
  },
  {
   "cell_type": "code",
   "execution_count": 58,
   "id": "c9843e44",
   "metadata": {},
   "outputs": [
    {
     "data": {
      "text/plain": [
       "1"
      ]
     },
     "execution_count": 58,
     "metadata": {},
     "output_type": "execute_result"
    }
   ],
   "source": [
    "datetime.date(2016,a,b).weekday()"
   ]
  },
  {
   "cell_type": "code",
   "execution_count": null,
   "id": "0016ddcd",
   "metadata": {},
   "outputs": [],
   "source": []
  }
 ],
 "metadata": {
  "kernelspec": {
   "display_name": "Python 3",
   "language": "python",
   "name": "python3"
  },
  "language_info": {
   "codemirror_mode": {
    "name": "ipython",
    "version": 3
   },
   "file_extension": ".py",
   "mimetype": "text/x-python",
   "name": "python",
   "nbconvert_exporter": "python",
   "pygments_lexer": "ipython3",
   "version": "3.8.8"
  }
 },
 "nbformat": 4,
 "nbformat_minor": 5
}
